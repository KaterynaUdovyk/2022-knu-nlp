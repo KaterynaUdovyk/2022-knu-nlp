{
 "cells": [
  {
   "cell_type": "code",
   "execution_count": 1,
   "id": "6d7a5ca2",
   "metadata": {},
   "outputs": [],
   "source": [
    "import pandas as pd\n",
    "from nltk.corpus import stopwords\n",
    "from nltk.tokenize import word_tokenize\n",
    "from nltk.stem import PorterStemmer, WordNetLemmatizer\n",
    "\n",
    "import re, string\n",
    "import numpy as np\n",
    "\n",
    "import tensorflow as tf\n",
    "from tensorflow import keras\n",
    "from tensorflow.keras import layers\n",
    "\n",
    "import matplotlib.pyplot as plt"
   ]
  },
  {
   "cell_type": "code",
   "execution_count": 2,
   "id": "a7f32e4a",
   "metadata": {},
   "outputs": [],
   "source": [
    "# adding the training urls\n",
    "\n",
    "train_url = 'https://drive.google.com/file/d/1F1fDHnvDMEopHYaulMQYNy1SCpEenoFr/view?usp=sharing'\n",
    "train_url_ = 'https://drive.google.com/uc?id=' + train_url.split('/')[-2]"
   ]
  },
  {
   "cell_type": "code",
   "execution_count": 3,
   "id": "53ac2c34",
   "metadata": {},
   "outputs": [],
   "source": [
    "# adding the testing urls\n",
    "test_url = 'https://drive.google.com/file/d/1Jg3l_AmdkfEIIiLAuwlwyybpXYt93Vvp/view?usp=sharing'\n",
    "test_url_ = 'https://drive.google.com/uc?id=' + test_url.split('/')[-2]"
   ]
  },
  {
   "cell_type": "code",
   "execution_count": 4,
   "id": "de62e134",
   "metadata": {},
   "outputs": [
    {
     "name": "stdout",
     "output_type": "stream",
     "text": [
      "my training link: https://drive.google.com/uc?id=1F1fDHnvDMEopHYaulMQYNy1SCpEenoFr\n",
      "my testing link: https://drive.google.com/uc?id=1Jg3l_AmdkfEIIiLAuwlwyybpXYt93Vvp\n"
     ]
    }
   ],
   "source": [
    "print('my training link:', train_url_)\n",
    "print('my testing link:', test_url_)"
   ]
  },
  {
   "cell_type": "code",
   "execution_count": 5,
   "id": "1616a29c",
   "metadata": {},
   "outputs": [
    {
     "name": "stdout",
     "output_type": "stream",
     "text": [
      "            0                                                  1\n",
      "0  __label__0  study interventions are recombinant CD40-ligan...\n",
      "1  __label__0  study interventions are Liposomal doxorubicin ...\n",
      "2  __label__0  study interventions are BI 836909 . multiple m...\n",
      "3  __label__0  study interventions are Immunoglobulins . recu...\n",
      "4  __label__0  study interventions are Paclitaxel . stage ova...\n"
     ]
    }
   ],
   "source": [
    "# reading the files\n",
    "\n",
    "df_train = pd.read_csv(train_url_, header= None) # got the dataframe\n",
    "df_test = pd.read_csv(test_url_, header= None)\n",
    "print(df_train.head())"
   ]
  },
  {
   "cell_type": "code",
   "execution_count": 6,
   "id": "3e8fac99",
   "metadata": {},
   "outputs": [
    {
     "name": "stdout",
     "output_type": "stream",
     "text": [
      "<class 'pandas.core.series.Series'> \n",
      " 0    study interventions are recombinant CD40-ligan...\n",
      "1    study interventions are Liposomal doxorubicin ...\n",
      "2    study interventions are BI 836909 . multiple m...\n",
      "3    study interventions are Immunoglobulins . recu...\n",
      "4    study interventions are Paclitaxel . stage ova...\n",
      "Name: 1, dtype: object\n"
     ]
    }
   ],
   "source": [
    "# now we are workking with the second column (main data)\n",
    "\n",
    "train_data_set = df_train[1]\n",
    "test_data_set = df_test[1]\n",
    "\n",
    "print(type(train_data_set),'\\n', train_data_set[:5])"
   ]
  },
  {
   "cell_type": "code",
   "execution_count": 7,
   "id": "66695b2c",
   "metadata": {},
   "outputs": [
    {
     "name": "stdout",
     "output_type": "stream",
     "text": [
      "type,length of training labels: <class 'numpy.ndarray'> 9907 [0. 0. 0. ... 1. 1. 1.]\n"
     ]
    }
   ],
   "source": [
    "# working with labels\n",
    "\n",
    "train_label = []\n",
    "test_label = []\n",
    "\n",
    "# in order to the program to distinguish labels\n",
    "\n",
    "for label in list(df_train[0]):\n",
    "    if label == '__label__0':\n",
    "        train_label.append(0)\n",
    "    if label == '__label__1':\n",
    "        train_label.append(1)\n",
    "\n",
    "for label_test in list(df_test[0]):\n",
    "    if label_test == '__label__0':\n",
    "        test_label.append(0)\n",
    "    if label_test == '__label__1':\n",
    "        test_label.append(1)\n",
    "\n",
    "# print(type(train_label), len(train_label))\n",
    "# print(type(test_label))\n",
    "\n",
    "y_train = np.asarray(train_label).astype(\"float32\")\n",
    "y_test = np.asarray(test_label).astype(\"float32\")\n",
    "\n",
    "print('type,length of training labels:', type(y_train),len(y_train), y_train)"
   ]
  },
  {
   "cell_type": "code",
   "execution_count": 8,
   "id": "214cdd5d",
   "metadata": {},
   "outputs": [
    {
     "name": "stdout",
     "output_type": "stream",
     "text": [
      "<class 'pandas.core.series.Series'> \n",
      " 0    study interventions recombinant cd ligand mela...\n",
      "1    study interventions liposomal doxorubicin colo...\n",
      "2    study interventions bi multiple myeloma diagno...\n",
      "3    study interventions immunoglobulins recurrent ...\n",
      "4    study interventions paclitaxel stage ovarian c...\n",
      "Name: 1, dtype: object\n"
     ]
    }
   ],
   "source": [
    "# preprocessing text \n",
    "\n",
    "stop_words = stopwords.words(\"english\")\n",
    "\n",
    "def cleaning(data):\n",
    "    \n",
    "    filtered = re.sub(\"@\\S+\", \" \", data)  # remove mentions\n",
    "    filtered = re.sub(\"https*\\S+\", \" \", filtered) # remove url\n",
    "    filtered = re.sub(\"#\\S+\", \" \", filtered) # remove hashtags\n",
    "    filtered = re.sub(\"\\d\", \" \", filtered) # remove all numbers\n",
    "    filtered = re.sub('[%s]' % re.escape(string.punctuation), ' ', filtered)  # remove punctuation\n",
    "    filtered = re.sub('\\n', ' ', filtered) # remove new lines       \n",
    "    filtered = re.sub('\\s{2,}',' ', filtered) # remove extra spaces\n",
    "    \n",
    "    filtered = filtered.lower()\n",
    "    \n",
    "    filtered = ' '.join([word for word in filtered.split(' ') if word not in stop_words])\n",
    "    \n",
    "    return filtered\n",
    "\n",
    "cleaned_train = train_data_set.apply(cleaning)\n",
    "cleaned_test = test_data_set.apply(cleaning)\n",
    " \n",
    "print(type(cleaned_train), '\\n', cleaned_train[:5])"
   ]
  },
  {
   "cell_type": "code",
   "execution_count": 9,
   "id": "85d8ad1f",
   "metadata": {},
   "outputs": [],
   "source": [
    "train_in_string = ''\n",
    "for i in cleaned_train:\n",
    "    train_in_string += (' ' + i)\n",
    "    \n",
    "test_in_string = ''\n",
    "for j in cleaned_test:\n",
    "    test_in_string += (' ' + j)\n",
    "    \n",
    "all_data = train_in_string + test_in_string"
   ]
  },
  {
   "cell_type": "code",
   "execution_count": 10,
   "id": "6cb32666",
   "metadata": {},
   "outputs": [
    {
     "name": "stdout",
     "output_type": "stream",
     "text": [
      "x_train_data type: <class 'pandas.core.series.Series'>\n",
      "x_test_data type: <class 'pandas.core.series.Series'>\n"
     ]
    }
   ],
   "source": [
    "\n",
    "\n",
    "tokenization = word_tokenize(all_data)\n",
    "lemmatizer = WordNetLemmatizer()\n",
    "lemmatized_all_data = [lemmatizer.lemmatize(t) for t in tokenization]\n",
    "dictionary = list(set(lemmatized_all_data))\n",
    "\n",
    "# func is showing the dataframe of word indexes\n",
    "def lemmatization(data):\n",
    "\n",
    "    data = data.lower()\n",
    "    tokens = word_tokenize(data)\n",
    "    lemmatized = [lemmatizer.lemmatize(l) for l in tokens]\n",
    "    res = [dictionary.index(i) for i in lemmatized]\n",
    "    return res\n",
    "    \n",
    "\n",
    "x_train_data = cleaned_train.apply(lemmatization)\n",
    "x_test_data = cleaned_test.apply(lemmatization)\n",
    "\n",
    "print('x_train_data type:', type(x_train_data))\n",
    "print('x_test_data type:', type(x_test_data))\n",
    "\n",
    "# print(type(x_test_data), len(x_test_data))"
   ]
  },
  {
   "cell_type": "code",
   "execution_count": 11,
   "id": "a7e1875f",
   "metadata": {},
   "outputs": [],
   "source": [
    "#adding parameters\n",
    "\n",
    "max_seq_len = 80\n",
    "max_features = 30000"
   ]
  },
  {
   "cell_type": "code",
   "execution_count": 12,
   "id": "56682e32",
   "metadata": {},
   "outputs": [],
   "source": [
    "\n",
    "x_train = keras.preprocessing.sequence.pad_sequences(x_train_data, maxlen = max_seq_len)\n",
    "x_test = keras.preprocessing.sequence.pad_sequences(x_test_data, maxlen = max_seq_len)"
   ]
  },
  {
   "cell_type": "code",
   "execution_count": 13,
   "id": "2df08c40",
   "metadata": {},
   "outputs": [
    {
     "data": {
      "text/plain": [
       "(9907, 80)"
      ]
     },
     "execution_count": 13,
     "metadata": {},
     "output_type": "execute_result"
    }
   ],
   "source": [
    "x_train.shape"
   ]
  },
  {
   "cell_type": "code",
   "execution_count": 14,
   "id": "1665e7b7",
   "metadata": {},
   "outputs": [
    {
     "name": "stdout",
     "output_type": "stream",
     "text": [
      "<class 'numpy.ndarray'>\n"
     ]
    }
   ],
   "source": [
    "emb_dim = 128\n",
    "\n",
    "\n",
    "my_callbacks = [tf.keras.callbacks.EarlyStopping(patience=2)]\n",
    "\n",
    "model = keras.Sequential()\n",
    "model.add(layers.Embedding(max_features, emb_dim))\n",
    "model.add(layers.LSTM(128))\n",
    "model.add(layers.Dense(1, activation = 'sigmoid'))\n",
    "\n",
    "print(type(y_train))"
   ]
  },
  {
   "cell_type": "code",
   "execution_count": 15,
   "id": "ddf1d7f5",
   "metadata": {},
   "outputs": [
    {
     "name": "stdout",
     "output_type": "stream",
     "text": [
      "Epoch 1/20\n",
      "16/16 [==============================] - 8s 397ms/step - loss: 0.6635 - accuracy: 0.5989 - val_loss: 0.8557 - val_accuracy: 0.0293\n",
      "Epoch 2/20\n",
      "16/16 [==============================] - 6s 373ms/step - loss: 0.5651 - accuracy: 0.6967 - val_loss: 0.7502 - val_accuracy: 0.5873\n",
      "Epoch 3/20\n",
      "16/16 [==============================] - 7s 434ms/step - loss: 0.4552 - accuracy: 0.7905 - val_loss: 0.7327 - val_accuracy: 0.5974\n",
      "Epoch 4/20\n",
      "16/16 [==============================] - 10s 614ms/step - loss: 0.3872 - accuracy: 0.8453 - val_loss: 0.6619 - val_accuracy: 0.6766\n",
      "Epoch 5/20\n",
      "16/16 [==============================] - 6s 390ms/step - loss: 0.3270 - accuracy: 0.8676 - val_loss: 0.6259 - val_accuracy: 0.7225\n",
      "Epoch 6/20\n",
      "16/16 [==============================] - 6s 391ms/step - loss: 0.2800 - accuracy: 0.8864 - val_loss: 0.6976 - val_accuracy: 0.7129\n",
      "Epoch 7/20\n",
      "16/16 [==============================] - 6s 391ms/step - loss: 0.2423 - accuracy: 0.9051 - val_loss: 0.7541 - val_accuracy: 0.7134\n",
      "Epoch 8/20\n",
      "16/16 [==============================] - 6s 398ms/step - loss: 0.2153 - accuracy: 0.9180 - val_loss: 0.7049 - val_accuracy: 0.7497\n",
      "Epoch 9/20\n",
      "16/16 [==============================] - 6s 385ms/step - loss: 0.1936 - accuracy: 0.9288 - val_loss: 0.7489 - val_accuracy: 0.7513\n",
      "Epoch 10/20\n",
      "16/16 [==============================] - 6s 399ms/step - loss: 0.1770 - accuracy: 0.9402 - val_loss: 0.8610 - val_accuracy: 0.7210\n",
      "Epoch 11/20\n",
      "16/16 [==============================] - 6s 385ms/step - loss: 0.1629 - accuracy: 0.9440 - val_loss: 1.0020 - val_accuracy: 0.6968\n",
      "Epoch 12/20\n",
      "16/16 [==============================] - 6s 385ms/step - loss: 0.1502 - accuracy: 0.9484 - val_loss: 0.9414 - val_accuracy: 0.7286\n",
      "Epoch 13/20\n",
      "16/16 [==============================] - 6s 391ms/step - loss: 0.1412 - accuracy: 0.9526 - val_loss: 1.1456 - val_accuracy: 0.7175\n",
      "Epoch 14/20\n",
      "16/16 [==============================] - 7s 420ms/step - loss: 0.1315 - accuracy: 0.9546 - val_loss: 1.1315 - val_accuracy: 0.7154\n",
      "Epoch 15/20\n",
      "16/16 [==============================] - 6s 378ms/step - loss: 0.1241 - accuracy: 0.9568 - val_loss: 1.2206 - val_accuracy: 0.7033\n",
      "Epoch 16/20\n",
      "16/16 [==============================] - 6s 384ms/step - loss: 0.1143 - accuracy: 0.9606 - val_loss: 1.2666 - val_accuracy: 0.7205\n",
      "Epoch 17/20\n",
      "16/16 [==============================] - 6s 381ms/step - loss: 0.1096 - accuracy: 0.9609 - val_loss: 1.3719 - val_accuracy: 0.6897\n",
      "Epoch 18/20\n",
      "16/16 [==============================] - 6s 392ms/step - loss: 0.1081 - accuracy: 0.9620 - val_loss: 1.2888 - val_accuracy: 0.7250\n",
      "Epoch 19/20\n",
      "16/16 [==============================] - 6s 378ms/step - loss: 0.0969 - accuracy: 0.9676 - val_loss: 1.3296 - val_accuracy: 0.7119\n",
      "Epoch 20/20\n",
      "16/16 [==============================] - 6s 380ms/step - loss: 0.0906 - accuracy: 0.9692 - val_loss: 1.3473 - val_accuracy: 0.7326\n"
     ]
    }
   ],
   "source": [
    "\n",
    "model.compile(optimizer = \"adam\",\n",
    "              loss = \"binary_crossentropy\",\n",
    "              metrics = [\"accuracy\"])\n",
    "\n",
    "history = model.fit(x_train,\n",
    "                    y_train,\n",
    "                    epochs = 20,\n",
    "                    batch_size = 512,\n",
    "                    validation_split = 0.2, \n",
    "                    shuffle = True,\n",
    "                    verbose = 1)\n",
    "\n"
   ]
  },
  {
   "cell_type": "code",
   "execution_count": 16,
   "id": "b84bbf45",
   "metadata": {},
   "outputs": [
    {
     "name": "stdout",
     "output_type": "stream",
     "text": [
      "Model: \"sequential\"\n",
      "_________________________________________________________________\n",
      " Layer (type)                Output Shape              Param #   \n",
      "=================================================================\n",
      " embedding (Embedding)       (None, None, 128)         3840000   \n",
      "                                                                 \n",
      " lstm (LSTM)                 (None, 128)               131584    \n",
      "                                                                 \n",
      " dense (Dense)               (None, 1)                 129       \n",
      "                                                                 \n",
      "=================================================================\n",
      "Total params: 3,971,713\n",
      "Trainable params: 3,971,713\n",
      "Non-trainable params: 0\n",
      "_________________________________________________________________\n",
      "None\n"
     ]
    }
   ],
   "source": [
    "print(model.summary())"
   ]
  },
  {
   "cell_type": "code",
   "execution_count": 17,
   "id": "17944814",
   "metadata": {},
   "outputs": [
    {
     "name": "stdout",
     "output_type": "stream",
     "text": [
      "Test score: 0.40120431780815125\n",
      "Test accuracy: 0.8461538553237915\n"
     ]
    }
   ],
   "source": [
    "\n",
    "score = model.evaluate(x_test, y_test, verbose=0) \n",
    "print('Test score:', score[0]) \n",
    "print('Test accuracy:', score[1])\n"
   ]
  },
  {
   "cell_type": "code",
   "execution_count": 19,
   "id": "86c7b5a7",
   "metadata": {},
   "outputs": [
    {
     "data": {
      "text/plain": [
       "dict_keys(['loss', 'accuracy', 'val_loss', 'val_accuracy'])"
      ]
     },
     "execution_count": 19,
     "metadata": {},
     "output_type": "execute_result"
    }
   ],
   "source": [
    "history_dict = history.history\n",
    "history_dict.keys()"
   ]
  },
  {
   "cell_type": "code",
   "execution_count": 20,
   "id": "75bdf9ce",
   "metadata": {},
   "outputs": [
    {
     "data": {
      "image/png": "[encoded data removed]",
      "text/plain": [
       "<Figure size 432x288 with 1 Axes>"
      ]
     },
     "metadata": {
      "needs_background": "light"
     },
     "output_type": "display_data"
    }
   ],
   "source": [
    "\n",
    "\n",
    "history_dict = history.history\n",
    "loss_values = history_dict[\"loss\"]\n",
    "val_loss_values = history_dict[\"val_loss\"]\n",
    "epochs = range(1, len(loss_values) + 1)\n",
    "plt.plot(epochs, loss_values, \"bo\", label=\"Training loss\")\n",
    "plt.plot(epochs, val_loss_values, \"b\", label=\"Validation loss\")\n",
    "plt.title(\"Training and validation loss\")\n",
    "plt.xlabel(\"Epochs\")\n",
    "plt.ylabel(\"Loss\")\n",
    "plt.legend()\n",
    "plt.show()\n",
    "\n"
   ]
  },
  {
   "cell_type": "code",
   "execution_count": null,
   "id": "2bb53067",
   "metadata": {},
   "outputs": [],
   "source": []
  }
 ],
 "metadata": {
  "kernelspec": {
   "display_name": "Python 3 (ipykernel)",
   "language": "python",
   "name": "python3"
  },
  "language_info": {
   "codemirror_mode": {
    "name": "ipython",
    "version": 3
   },
   "file_extension": ".py",
   "mimetype": "text/x-python",
   "name": "python",
   "nbconvert_exporter": "python",
   "pygments_lexer": "ipython3",
   "version": "3.7.9"
  }
 },
 "nbformat": 4,
 "nbformat_minor": 5
}
