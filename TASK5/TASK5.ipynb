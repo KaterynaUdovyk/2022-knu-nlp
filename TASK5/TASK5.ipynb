{
  "nbformat": 4,
  "nbformat_minor": 0,
  "metadata": {
    "colab": {
      "name": "TASK5.ipynb",
      "provenance": [],
      "collapsed_sections": []
    },
    "kernelspec": {
      "name": "python3",
      "display_name": "Python 3"
    },
    "language_info": {
      "name": "python"
    }
  },
  "cells": [
    {
      "cell_type": "markdown",
      "source": [
        "## DOWNLOADING DATA FOR MACHINE TRANSLATION "
      ],
      "metadata": {
        "id": "P_8JRX5ETIts"
      }
    },
    {
      "cell_type": "code",
      "execution_count": 1,
      "metadata": {
        "colab": {
          "base_uri": "https://localhost:8080/"
        },
        "id": "ztTgoTuhMmQo",
        "outputId": "e53106cd-9e97-4654-d1ee-5bfbd81c5874"
      },
      "outputs": [
        {
          "output_type": "stream",
          "name": "stdout",
          "text": [
            "[nltk_data] Downloading package punkt to /root/nltk_data...\n",
            "[nltk_data]   Unzipping tokenizers/punkt.zip.\n",
            "Downloading data from https://raw.githubusercontent.com/srk-practicum/2022-knu-nlp/kachaikin_branch/ukr-eng/ukr.txt\n",
            "24158208/24155843 [==============================] - 0s 0us/step\n",
            "24166400/24155843 [==============================] - 0s 0us/step\n"
          ]
        }
      ],
      "source": [
        "\n",
        "import tensorflow as tf\n",
        "from tensorflow import keras\n",
        "import nltk\n",
        "nltk.download('punkt')\n",
        "\n",
        "text_file = keras.utils.get_file(\n",
        "    origin=\"https://raw.githubusercontent.com/srk-practicum/2022-knu-nlp/kachaikin_branch/ukr-eng/ukr.txt\", \n",
        "    extract=True,\n",
        ")\n",
        "with open(text_file) as f:\n",
        "    lines = f.read().split(\"\\n\")[:-1]\n",
        "lines\n",
        "lines_splited = []\n",
        "for i in lines:\n",
        "  lines_splited.append(i.split('\\t'))\n",
        "\n",
        "lines_splited\n",
        "text_pairs = [(i[0],'[start]'+i[1]+'[end]') for i in lines_splited]\n",
        "\n",
        "#That's part of code define, what vocab size we should take\n",
        "#eng_texts = [i[0] for i in lines_splited]\n",
        "#eng_texts_string = ' '\n",
        "#for i in eng_texts:\n",
        " # eng_texts_string+=' '+i\n",
        "#nltk.word_tokenize(eng_texts_string)\n",
        "#number_of_unique_eng_tokens = len(set(nltk.word_tokenize(eng_texts_string)))\n",
        "#number_of_unique_eng_tokens\n",
        "\n",
        "\n",
        "#ukr_texts = [i[0] for i in lines_splited]\n",
        "#ukr_texts_string = ' '\n",
        "#for i in ukr_texts:\n",
        " # ukr_texts_string+=' '+i\n",
        "#number_of_unique_ukr_tokens = len(set(nltk.word_tokenize(ukr_texts_string)))\n",
        "#number_of_unique_ukr_tokens"
      ]
    },
    {
      "cell_type": "markdown",
      "source": [
        "## Creating train, validation and test datasets"
      ],
      "metadata": {
        "id": "mryYb2iRe7rf"
      }
    },
    {
      "cell_type": "code",
      "source": [
        "import random\n",
        "random.shuffle(text_pairs)\n",
        "num_val_samples = int(0.15 * len(text_pairs))\n",
        "num_train_samples = len(text_pairs) - 2 * num_val_samples\n",
        "train_pairs = text_pairs[:num_train_samples]\n",
        "val_pairs = text_pairs[num_train_samples : num_train_samples + num_val_samples]\n",
        "test_pairs = text_pairs[num_train_samples + num_val_samples :]\n",
        "print(f\"{len(text_pairs)} total pairs\")\n",
        "print(f\"{len(train_pairs)} training pairs\")\n",
        "print(f\"{len(val_pairs)} validation pairs\")\n",
        "print(f\"{len(test_pairs)} test pairs\")\n"
      ],
      "metadata": {
        "colab": {
          "base_uri": "https://localhost:8080/"
        },
        "id": "NcoPETGweiP7",
        "outputId": "f6dc59ea-5ed0-4130-9bef-e4678d9c080f"
      },
      "execution_count": 2,
      "outputs": [
        {
          "output_type": "stream",
          "name": "stdout",
          "text": [
            "154461 total pairs\n",
            "108123 training pairs\n",
            "23169 validation pairs\n",
            "23169 test pairs\n"
          ]
        }
      ]
    },
    {
      "cell_type": "markdown",
      "source": [
        "## Vectorization of texts"
      ],
      "metadata": {
        "id": "XvWUXur9gCn1"
      }
    },
    {
      "cell_type": "code",
      "source": [
        "import string\n",
        "import re\n",
        "from tensorflow.keras.layers import TextVectorization\n",
        "\n",
        "strip_chars = string.punctuation\n",
        "strip_chars = strip_chars.replace(\"[\", \"\")\n",
        "strip_chars = strip_chars.replace(\"]\", \"\")\n",
        "\n",
        "vocab_size = 12000\n",
        "sequence_length = 10\n",
        "batch_size = 1024\n",
        "\n",
        "\n",
        "def custom_standardization(input_string):\n",
        "    lowercase = tf.strings.lower(input_string)\n",
        "    return tf.strings.regex_replace(lowercase, \"[%s]\" % re.escape(strip_chars), \"\")\n",
        "\n",
        "\n",
        "eng_vectorization = TextVectorization(\n",
        "    max_tokens=vocab_size, output_mode=\"int\", output_sequence_length=sequence_length,\n",
        ")\n",
        "ukr_vectorization = TextVectorization(\n",
        "    max_tokens=vocab_size,\n",
        "    output_mode=\"int\",\n",
        "    output_sequence_length=sequence_length + 1,\n",
        "    standardize=custom_standardization,\n",
        ")\n",
        "train_eng_texts = [pair[0] for pair in train_pairs]\n",
        "train_ukr_texts = [pair[1] for pair in train_pairs]\n",
        "eng_vectorization.adapt(train_eng_texts)\n",
        "ukr_vectorization.adapt(train_ukr_texts)\n",
        "\n",
        "\n",
        "def format_dataset(eng, ukr):\n",
        "    eng = eng_vectorization(eng)\n",
        "    ukr = ukr_vectorization(ukr)\n",
        "    return ({\"encoder_inputs\": eng, \"decoder_inputs\": ukr[:, :-1],}, ukr[:, 1:])\n",
        "\n",
        "\n",
        "def make_dataset(pairs):\n",
        "    eng_texts, ukr_texts = zip(*pairs)\n",
        "    eng_texts = list(eng_texts)\n",
        "    ukr_texts = list(ukr_texts)\n",
        "    dataset = tf.data.Dataset.from_tensor_slices((eng_texts, ukr_texts))\n",
        "    dataset = dataset.batch(batch_size)\n",
        "    dataset = dataset.map(format_dataset)\n",
        "    return dataset.shuffle(2048).prefetch(16).cache()\n",
        "\n",
        "\n",
        "train_ds = make_dataset(train_pairs)\n",
        "val_ds = make_dataset(val_pairs)\n",
        "\n",
        "\n",
        "for inputs, targets in train_ds.take(1):\n",
        "    print(f'inputs[\"encoder_inputs\"].shape: {inputs[\"encoder_inputs\"].shape}')\n",
        "    print(f'inputs[\"decoder_inputs\"].shape: {inputs[\"decoder_inputs\"].shape}')\n",
        "    print(f\"targets.shape: {targets.shape}\")"
      ],
      "metadata": {
        "colab": {
          "base_uri": "https://localhost:8080/"
        },
        "id": "O20EaFXxgwze",
        "outputId": "2bbb99ce-6626-43d4-cc01-c3f914e2d0f2"
      },
      "execution_count": 3,
      "outputs": [
        {
          "output_type": "stream",
          "name": "stdout",
          "text": [
            "inputs[\"encoder_inputs\"].shape: (1024, 10)\n",
            "inputs[\"decoder_inputs\"].shape: (1024, 10)\n",
            "targets.shape: (1024, 10)\n"
          ]
        }
      ]
    },
    {
      "cell_type": "code",
      "source": [
        "from tensorflow import keras\n",
        "from keras import layers\n",
        "class TransformerEncoder(layers.Layer):\n",
        "    def __init__(self, embed_dim, dense_dim, num_heads, **kwargs):\n",
        "        super(TransformerEncoder, self).__init__(**kwargs)\n",
        "        self.embed_dim = embed_dim\n",
        "        self.dense_dim = dense_dim\n",
        "        self.num_heads = num_heads\n",
        "        self.attention = layers.MultiHeadAttention(\n",
        "            num_heads=num_heads, key_dim=embed_dim\n",
        "        )\n",
        "        self.dense_proj = keras.Sequential(\n",
        "            [layers.Dense(dense_dim, activation=\"relu\"), layers.Dense(embed_dim),]\n",
        "        )\n",
        "        self.layernorm_1 = layers.LayerNormalization()\n",
        "        self.layernorm_2 = layers.LayerNormalization()\n",
        "        self.supports_masking = True\n",
        "\n",
        "    def call(self, inputs, mask=None):\n",
        "        if mask is not None:\n",
        "            padding_mask = tf.cast(mask[:, tf.newaxis, tf.newaxis, :], dtype=\"int32\")\n",
        "        attention_output = self.attention(\n",
        "            query=inputs, value=inputs, key=inputs, attention_mask=padding_mask\n",
        "        )\n",
        "        proj_input = self.layernorm_1(inputs + attention_output)\n",
        "        proj_output = self.dense_proj(proj_input)\n",
        "        return self.layernorm_2(proj_input + proj_output)\n",
        "\n",
        "\n",
        "class PositionalEmbedding(layers.Layer):\n",
        "    def __init__(self, sequence_length, vocab_size, embed_dim, **kwargs):\n",
        "        super(PositionalEmbedding, self).__init__(**kwargs)\n",
        "        self.token_embeddings = layers.Embedding(\n",
        "            input_dim=vocab_size, output_dim=embed_dim\n",
        "        )\n",
        "        self.position_embeddings = layers.Embedding(\n",
        "            input_dim=sequence_length, output_dim=embed_dim\n",
        "        )\n",
        "        self.sequence_length = sequence_length\n",
        "        self.vocab_size = vocab_size\n",
        "        self.embed_dim = embed_dim\n",
        "\n",
        "    def call(self, inputs):\n",
        "        length = tf.shape(inputs)[-1]\n",
        "        positions = tf.range(start=0, limit=length, delta=1)\n",
        "        embedded_tokens = self.token_embeddings(inputs)\n",
        "        embedded_positions = self.position_embeddings(positions)\n",
        "        return embedded_tokens + embedded_positions\n",
        "\n",
        "    def compute_mask(self, inputs, mask=None):\n",
        "        return tf.math.not_equal(inputs, 0)\n",
        "\n",
        "\n",
        "class TransformerDecoder(layers.Layer):\n",
        "    def __init__(self, embed_dim, latent_dim, num_heads, **kwargs):\n",
        "        super(TransformerDecoder, self).__init__(**kwargs)\n",
        "        self.embed_dim = embed_dim\n",
        "        self.latent_dim = latent_dim\n",
        "        self.num_heads = num_heads\n",
        "        self.attention_1 = layers.MultiHeadAttention(\n",
        "            num_heads=num_heads, key_dim=embed_dim\n",
        "        )\n",
        "        self.attention_2 = layers.MultiHeadAttention(\n",
        "            num_heads=num_heads, key_dim=embed_dim\n",
        "        )\n",
        "        self.dense_proj = keras.Sequential(\n",
        "            [layers.Dense(latent_dim, activation=\"relu\"), layers.Dense(embed_dim),]\n",
        "        )\n",
        "        self.layernorm_1 = layers.LayerNormalization()\n",
        "        self.layernorm_2 = layers.LayerNormalization()\n",
        "        self.layernorm_3 = layers.LayerNormalization()\n",
        "        self.supports_masking = True\n",
        "\n",
        "    def call(self, inputs, encoder_outputs, mask=None):\n",
        "        causal_mask = self.get_causal_attention_mask(inputs)\n",
        "        if mask is not None:\n",
        "            padding_mask = tf.cast(mask[:, tf.newaxis, :], dtype=\"int32\")\n",
        "            padding_mask = tf.minimum(padding_mask, causal_mask)\n",
        "\n",
        "        attention_output_1 = self.attention_1(\n",
        "            query=inputs, value=inputs, key=inputs, attention_mask=causal_mask\n",
        "        )\n",
        "        out_1 = self.layernorm_1(inputs + attention_output_1)\n",
        "\n",
        "        attention_output_2 = self.attention_2(\n",
        "            query=out_1,\n",
        "            value=encoder_outputs,\n",
        "            key=encoder_outputs,\n",
        "            attention_mask=padding_mask,\n",
        "        )\n",
        "        out_2 = self.layernorm_2(out_1 + attention_output_2)\n",
        "\n",
        "        proj_output = self.dense_proj(out_2)\n",
        "        return self.layernorm_3(out_2 + proj_output)\n",
        "\n",
        "    def get_causal_attention_mask(self, inputs):\n",
        "        input_shape = tf.shape(inputs)\n",
        "        batch_size, sequence_length = input_shape[0], input_shape[1]\n",
        "        i = tf.range(sequence_length)[:, tf.newaxis]\n",
        "        j = tf.range(sequence_length)\n",
        "        mask = tf.cast(i >= j, dtype=\"int32\")\n",
        "        mask = tf.reshape(mask, (1, input_shape[1], input_shape[1]))\n",
        "        mult = tf.concat(\n",
        "            [tf.expand_dims(batch_size, -1), tf.constant([1, 1], dtype=tf.int32)],\n",
        "            axis=0,\n",
        "        )\n",
        "        return tf.tile(mask, mult)\n",
        "\n",
        "\n",
        "embed_dim = 256\n",
        "latent_dim = 2048\n",
        "num_heads = 8\n",
        "encoder_inputs = keras.Input(shape=(None,), dtype=\"int64\", name=\"encoder_inputs\")\n",
        "x = PositionalEmbedding(sequence_length, vocab_size, embed_dim)(encoder_inputs)\n",
        "encoder_outputs = TransformerEncoder(embed_dim, latent_dim, num_heads)(x)\n",
        "encoder = keras.Model(encoder_inputs, encoder_outputs)\n",
        "\n",
        "decoder_inputs = keras.Input(shape=(None,), dtype=\"int64\", name=\"decoder_inputs\")\n",
        "encoded_seq_inputs = keras.Input(shape=(None, embed_dim), name=\"decoder_state_inputs\")\n",
        "x = PositionalEmbedding(sequence_length, vocab_size, embed_dim)(decoder_inputs)\n",
        "x = TransformerDecoder(embed_dim, latent_dim, num_heads)(x, encoded_seq_inputs)\n",
        "x = layers.Dropout(0.5)(x)\n",
        "decoder_outputs = layers.Dense(vocab_size, activation=\"softmax\")(x)\n",
        "decoder = keras.Model([decoder_inputs, encoded_seq_inputs], decoder_outputs)\n",
        "\n",
        "decoder_outputs = decoder([decoder_inputs, encoder_outputs])\n",
        "transformer = keras.Model(\n",
        "    [encoder_inputs, decoder_inputs], decoder_outputs, name=\"transformer\"\n",
        ")\n",
        "\n",
        "\n",
        "epochs = 10\n",
        "\n",
        "transformer.summary()\n",
        "transformer.compile(\n",
        "    \"adam\", loss=\"sparse_categorical_crossentropy\", metrics=[\"accuracy\"]\n",
        ")\n",
        "transformer.fit(train_ds, epochs=epochs, validation_data=val_ds)\n",
        "\n",
        "transformer.save_weights('my_machine_translator.h5')"
      ],
      "metadata": {
        "colab": {
          "base_uri": "https://localhost:8080/"
        },
        "id": "8tjEKALIkFeW",
        "outputId": "59e4cefe-1798-49e8-b7f4-c91785fec994"
      },
      "execution_count": 4,
      "outputs": [
        {
          "output_type": "stream",
          "name": "stdout",
          "text": [
            "Model: \"transformer\"\n",
            "__________________________________________________________________________________________________\n",
            " Layer (type)                   Output Shape         Param #     Connected to                     \n",
            "==================================================================================================\n",
            " encoder_inputs (InputLayer)    [(None, None)]       0           []                               \n",
            "                                                                                                  \n",
            " positional_embedding (Position  (None, None, 256)   3074560     ['encoder_inputs[0][0]']         \n",
            " alEmbedding)                                                                                     \n",
            "                                                                                                  \n",
            " decoder_inputs (InputLayer)    [(None, None)]       0           []                               \n",
            "                                                                                                  \n",
            " transformer_encoder (Transform  (None, None, 256)   3155456     ['positional_embedding[0][0]']   \n",
            " erEncoder)                                                                                       \n",
            "                                                                                                  \n",
            " model_1 (Functional)           (None, None, 12000)  11418080    ['decoder_inputs[0][0]',         \n",
            "                                                                  'transformer_encoder[0][0]']    \n",
            "                                                                                                  \n",
            "==================================================================================================\n",
            "Total params: 17,648,096\n",
            "Trainable params: 17,648,096\n",
            "Non-trainable params: 0\n",
            "__________________________________________________________________________________________________\n",
            "Epoch 1/10\n",
            "106/106 [==============================] - 2011s 19s/step - loss: 2.7095 - accuracy: 0.2620 - val_loss: 2.1868 - val_accuracy: 0.3472\n",
            "Epoch 2/10\n",
            "106/106 [==============================] - 2028s 19s/step - loss: 1.9557 - accuracy: 0.3937 - val_loss: 1.6140 - val_accuracy: 0.4649\n",
            "Epoch 3/10\n",
            "106/106 [==============================] - 2008s 19s/step - loss: 1.4673 - accuracy: 0.4965 - val_loss: 1.2475 - val_accuracy: 0.5490\n",
            "Epoch 4/10\n",
            "106/106 [==============================] - 2017s 19s/step - loss: 1.1291 - accuracy: 0.5748 - val_loss: 1.0164 - val_accuracy: 0.6030\n",
            "Epoch 5/10\n",
            "106/106 [==============================] - 2043s 19s/step - loss: 0.9007 - accuracy: 0.6310 - val_loss: 0.8786 - val_accuracy: 0.6408\n",
            "Epoch 6/10\n",
            "106/106 [==============================] - 2021s 19s/step - loss: 0.7410 - accuracy: 0.6742 - val_loss: 0.7869 - val_accuracy: 0.6651\n",
            "Epoch 7/10\n",
            "106/106 [==============================] - 2016s 19s/step - loss: 0.6256 - accuracy: 0.7075 - val_loss: 0.7315 - val_accuracy: 0.6774\n",
            "Epoch 8/10\n",
            "106/106 [==============================] - 2015s 19s/step - loss: 0.5429 - accuracy: 0.7339 - val_loss: 0.7059 - val_accuracy: 0.6883\n",
            "Epoch 9/10\n",
            "106/106 [==============================] - 2022s 19s/step - loss: 0.4803 - accuracy: 0.7553 - val_loss: 0.7025 - val_accuracy: 0.6932\n",
            "Epoch 10/10\n",
            "106/106 [==============================] - 2020s 19s/step - loss: 0.4355 - accuracy: 0.7709 - val_loss: 0.6790 - val_accuracy: 0.7009\n"
          ]
        }
      ]
    },
    {
      "cell_type": "markdown",
      "source": [
        "# DECODING TEXT"
      ],
      "metadata": {
        "id": "oessOnCQnnLh"
      }
    },
    {
      "cell_type": "code",
      "source": [
        "import numpy as np\n",
        "ukr_vocab = ukr_vectorization.get_vocabulary()\n",
        "ukr_index_lookup = dict(zip(range(len(ukr_vocab)), ukr_vocab))\n",
        "max_decoded_sentence_length = 10\n",
        "\n",
        "\n",
        "def decode_sequence(input_sentence):\n",
        "    tokenized_input_sentence = eng_vectorization([input_sentence])\n",
        "    decoded_sentence = \"[start]\"\n",
        "    for i in range(max_decoded_sentence_length):\n",
        "        tokenized_target_sentence = ukr_vectorization([decoded_sentence])[:, :-1]\n",
        "        predictions = transformer([tokenized_input_sentence, tokenized_target_sentence])\n",
        "\n",
        "        sampled_token_index = np.argmax(predictions[0, i, :])\n",
        "        sampled_token = ukr_index_lookup[sampled_token_index]\n",
        "        decoded_sentence += \" \" + sampled_token\n",
        "\n",
        "        if sampled_token == \"[end]\":\n",
        "            break\n",
        "    return decoded_sentence\n",
        "\n",
        "\n",
        "test_eng_texts = [pair[0] for pair in test_pairs]\n",
        "for _ in range(30):\n",
        "    input_sentence = random.choice(test_eng_texts)\n",
        "    translated = decode_sequence(input_sentence)\n",
        "    print([input_sentence,translated])"
      ],
      "metadata": {
        "colab": {
          "base_uri": "https://localhost:8080/"
        },
        "id": "y2gLao8fn7ci",
        "outputId": "af027511-77b3-4aa6-8d0f-5008730fd17c"
      },
      "execution_count": 9,
      "outputs": [
        {
          "output_type": "stream",
          "name": "stdout",
          "text": [
            "[\"I won't study French tomorrow.\", '[start] завтра не [UNK]  додому[end]     ']\n",
            "['How could that happen?', '[start] що це могло трапитися[end]      ']\n",
            "[\"Tom said he didn't have any problem with that.\", '[start] сказав що у нього немає жодних проблем[end]  з з']\n",
            "['Are you taking any medications?', '[start] ліки [UNK]        ']\n",
            "['Frogs are afraid of snakes.', '[start] бояться собак[end]        ']\n",
            "['Is she your mother?', '[start] тобі мати[end]        ']\n",
            "[\"Tell Tom that I'm not ready.\", '[start] Том не готовий[end]       ']\n",
            "['Does Tom have any sons?', '[start] має два сина[end]       ']\n",
            "[\"What's your third wish?\", '[start] за вашу [UNK]       ']\n",
            "[\"Tom said that he isn't thirty yet.\", '[start] що він ще не може тридцять років[end]  по ']\n",
            "['The hunter aimed at the bird, but missed.', '[start] [UNK] в [UNK] а не [UNK]    ']\n",
            "['I got terrible grades this term.', '[start] риби світло у цьому [UNK]     ']\n",
            "['Tom waited outside.', '[start] на вулиці долар[end]       ']\n",
            "['Tom has been expecting Mary.', '[start] Том очікував Мері[end]       ']\n",
            "['Tom says Mary speaks French.', '[start] каже що Мері говорить французькою[end]     ']\n",
            "[\"It's a bottle.\", '[start]  пляшку[end]        ']\n",
            "['Tom has a lot of debts.', '[start] у Тома [UNK]       ']\n",
            "[\"You're uninsured.\", '[start]          ']\n",
            "['He witnessed the murder.', '[start] був свідком себе у вбивстві[end]     ']\n",
            "[\"You've got to apologize.\", '[start] з [UNK]        ']\n",
            "['Are you trying to get me fired?', '[start] що мене звільнять[end]      Тома[end] ']\n",
            "['What do you want for Christmas?', '[start] ти хочеш на Різдво[end]      ']\n",
            "['Wikipedia is the best encyclopedia on the Internet.', '[start] [UNK] [UNK] [UNK]  в     міста[end]']\n",
            "['Tom and Mary were buried in Australia.', '[start] з Мері [UNK] в Австралії[end]    в в']\n",
            "[\"I think he won't accept the proposal.\", '[start] він не [UNK] на пропозицію[end]    цієї ']\n",
            "['Tom has a new truck.', '[start] у Тома є новий підхід[end]     ']\n",
            "[\"I don't know that word.\", '[start] я цього не знаю[end]      ']\n",
            "[\"Don't speak to him like that.\", '[start] з ним не подобається[end]    це[end]  ']\n",
            "['Do you want to work for us?', '[start] на тебе є для нас робота[end]    ']\n",
            "['I used to drive a truck.', '[start] колись [UNK] машину[end]      машини[end] ']\n"
          ]
        }
      ]
    }
  ]
}