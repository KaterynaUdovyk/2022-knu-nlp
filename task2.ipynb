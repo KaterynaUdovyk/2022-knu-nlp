{
 "cells": [
  {
   "cell_type": "code",
   "execution_count": 1,
   "id": "f90fe199",
   "metadata": {},
   "outputs": [],
   "source": [
    "from nltk.tokenize import word_tokenize\n",
    "from nltk.corpus import stopwords\n",
    "from nltk.stem import PorterStemmer, WordNetLemmatizer\n",
    "import re\n",
    "from wordcloud import WordCloud\n",
    "import matplotlib.pyplot as plt\n",
    "import pandas as pd\n",
    "import numpy as np\n",
    "import tensorflow as tf\n",
    "from tensorflow import keras\n",
    "from tensorflow.keras import layers"
   ]
  },
  {
   "cell_type": "code",
   "execution_count": 2,
   "id": "743580a7",
   "metadata": {},
   "outputs": [],
   "source": [
    "data_train = pd.read_csv(\"train.csv\")\n",
    "data_test = pd.read_csv(\"test.csv\")"
   ]
  },
  {
   "cell_type": "code",
   "execution_count": 3,
   "id": "451696a7",
   "metadata": {},
   "outputs": [],
   "source": [
    "def clear_text(text):\n",
    "    text = str(text)\n",
    "    text = text.lower()\n",
    "    text = re.sub(r'[^ a-z]', '', text)\n",
    "    while text.find('  ') != -1:\n",
    "        text = text.replace('  ', ' ')\n",
    "    return text"
   ]
  },
  {
   "cell_type": "code",
   "execution_count": 4,
   "id": "a7b0787c",
   "metadata": {},
   "outputs": [],
   "source": [
    "data_train['clean_text']= data_train['Text'].apply(lambda x:clear_text(x))\n",
    "data_test['clean_text']= data_test['Text'].apply(lambda x:clear_text(x))"
   ]
  },
  {
   "cell_type": "code",
   "execution_count": 5,
   "id": "0122a9ed",
   "metadata": {},
   "outputs": [],
   "source": [
    "data_train['clean_text'] = data_train['clean_text'].apply(lambda x:word_tokenize(x))\n",
    "data_test['clean_text'] = data_test['clean_text'].apply(lambda x:word_tokenize(x))"
   ]
  },
  {
   "cell_type": "code",
   "execution_count": 6,
   "id": "3134a48a",
   "metadata": {},
   "outputs": [],
   "source": [
    "def remove_stop_words(text):\n",
    "    stop_words = stopwords.words('english')\n",
    "    filtered_text = []\n",
    "    for w in text:\n",
    "        if w not in stop_words:\n",
    "            filtered_text.append(w)\n",
    "    return filtered_text"
   ]
  },
  {
   "cell_type": "code",
   "execution_count": 7,
   "id": "add62f18",
   "metadata": {},
   "outputs": [],
   "source": [
    "data_train['clean_text'] = data_train['clean_text'].apply(lambda x:remove_stop_words(x))\n",
    "data_test['clean_text'] = data_test['clean_text'].apply(lambda x:remove_stop_words(x))"
   ]
  },
  {
   "cell_type": "code",
   "execution_count": 8,
   "id": "75049b52",
   "metadata": {},
   "outputs": [],
   "source": [
    "wordnet_lemmatizer = WordNetLemmatizer()\n",
    "\n",
    "def lemmatizer(text):\n",
    "    return [wordnet_lemmatizer.lemmatize(w) for w in text]\n",
    "\n",
    "data_train['clean_text'] = data_train['clean_text'].apply(lambda x:lemmatizer(x))\n",
    "data_test['clean_text'] = data_test['clean_text'].apply(lambda x:lemmatizer(x))"
   ]
  },
  {
   "cell_type": "code",
   "execution_count": 9,
   "id": "6cff6d11",
   "metadata": {},
   "outputs": [],
   "source": [
    "def to_text(data):\n",
    "    text = []\n",
    "    for i in data:\n",
    "        for word in i:\n",
    "            text.append(word)\n",
    "    return text\n",
    "\n",
    "text = to_text(data_train['clean_text'])\n",
    "text += to_text(data_test['clean_text'])\n",
    "text.sort()\n",
    "dictionary = []\n",
    "for i in text:\n",
    "    if i not in dictionary:\n",
    "        dictionary.append(i)\n"
   ]
  },
  {
   "cell_type": "code",
   "execution_count": 10,
   "id": "fb350a7c",
   "metadata": {},
   "outputs": [],
   "source": [
    "def convert_to_numbers(text):\n",
    "    res = []\n",
    "    for word in text:\n",
    "        res.append(dictionary.index(word))\n",
    "    return res\n",
    "\n",
    "def convert_to_text(numbers):\n",
    "    res = []\n",
    "    for num in numbers:\n",
    "        res.append(dictionary[num])\n",
    "    return res"
   ]
  },
  {
   "cell_type": "code",
   "execution_count": 11,
   "id": "5148f61d",
   "metadata": {},
   "outputs": [],
   "source": [
    "data_train['numbers'] = data_train['clean_text'].apply(lambda x:convert_to_numbers(x))\n",
    "data_test['numbers'] = data_test['clean_text'].apply(lambda x:convert_to_numbers(x))\n"
   ]
  },
  {
   "cell_type": "code",
   "execution_count": 12,
   "id": "6b738932",
   "metadata": {},
   "outputs": [],
   "source": [
    "#good: happy, love, surprise\n",
    "#bad: sadness, anger, fear\n",
    "\n",
    "def t_or_f(emotion):\n",
    "    if emotion == 'happy' or emotion == 'love' or emotion == 'surprise':\n",
    "        return 1        \n",
    "    else:        #elif emotioin == 'sadness' or 'anger' or 'fear': return 0\n",
    "        return 0\n",
    "    \n",
    "data_train['Emotion_in_digit'] = data_train['Emotion'].apply(lambda x:t_or_f(x))\n",
    "data_test['Emotion_in_digit'] = data_test['Emotion'].apply(lambda x:t_or_f(x))\n",
    "\n",
    "# data_train[['Emotion','Emotion_in_digit']]"
   ]
  },
  {
   "cell_type": "code",
   "execution_count": 13,
   "id": "f14eba46",
   "metadata": {},
   "outputs": [],
   "source": [
    "data_train = data_train[['Emotion_in_digit', 'numbers']]\n",
    "data_test = data_test[['Emotion_in_digit', 'numbers']]"
   ]
  },
  {
   "cell_type": "code",
   "execution_count": 14,
   "id": "6b00804b",
   "metadata": {},
   "outputs": [],
   "source": [
    "def vectorize_sequences(sequences, dimension=30000):\n",
    "    results = np.zeros((len(sequences), dimension))\n",
    "    for i, sequence in enumerate(sequences):\n",
    "        for j in sequence:\n",
    "            results[i, j] = 1.\n",
    "    return results\n",
    "\n"
   ]
  },
  {
   "cell_type": "code",
   "execution_count": 15,
   "id": "7cea881f",
   "metadata": {},
   "outputs": [],
   "source": [
    "x_train = vectorize_sequences(data_train['numbers'])\n",
    "x_test = vectorize_sequences(data_test['numbers'])"
   ]
  },
  {
   "cell_type": "markdown",
   "id": "1480f434",
   "metadata": {},
   "source": [
    "# Model"
   ]
  },
  {
   "cell_type": "code",
   "execution_count": 16,
   "id": "d16fe6be",
   "metadata": {},
   "outputs": [],
   "source": [
    "y_train = np.asarray(data_train['Emotion_in_digit']).astype(\"float32\")\n",
    "y_test = np.asarray(data_test['Emotion_in_digit']).astype(\"float32\")"
   ]
  },
  {
   "cell_type": "code",
   "execution_count": null,
   "id": "deee7823",
   "metadata": {},
   "outputs": [],
   "source": []
  },
  {
   "cell_type": "code",
   "execution_count": 17,
   "id": "ed7912fa",
   "metadata": {},
   "outputs": [
    {
     "name": "stdout",
     "output_type": "stream",
     "text": [
      "Epoch 1/20\n",
      "25/25 - 4s - loss: 0.6417 - accuracy: 0.8145 - val_loss: 0.5872 - val_accuracy: 0.8975 - 4s/epoch - 177ms/step\n",
      "Epoch 2/20\n",
      "25/25 - 2s - loss: 0.5301 - accuracy: 0.9379 - val_loss: 0.5059 - val_accuracy: 0.9228 - 2s/epoch - 67ms/step\n",
      "Epoch 3/20\n",
      "25/25 - 2s - loss: 0.4374 - accuracy: 0.9529 - val_loss: 0.4351 - val_accuracy: 0.9334 - 2s/epoch - 74ms/step\n",
      "Epoch 4/20\n",
      "25/25 - 2s - loss: 0.3575 - accuracy: 0.9634 - val_loss: 0.3733 - val_accuracy: 0.9397 - 2s/epoch - 80ms/step\n",
      "Epoch 5/20\n",
      "25/25 - 2s - loss: 0.2903 - accuracy: 0.9690 - val_loss: 0.3211 - val_accuracy: 0.9422 - 2s/epoch - 68ms/step\n",
      "Epoch 6/20\n",
      "25/25 - 2s - loss: 0.2350 - accuracy: 0.9738 - val_loss: 0.2767 - val_accuracy: 0.9472 - 2s/epoch - 70ms/step\n",
      "Epoch 7/20\n",
      "25/25 - 2s - loss: 0.1904 - accuracy: 0.9765 - val_loss: 0.2417 - val_accuracy: 0.9497 - 2s/epoch - 71ms/step\n",
      "Epoch 8/20\n",
      "25/25 - 2s - loss: 0.1551 - accuracy: 0.9796 - val_loss: 0.2137 - val_accuracy: 0.9500 - 2s/epoch - 64ms/step\n",
      "Epoch 9/20\n",
      "25/25 - 2s - loss: 0.1270 - accuracy: 0.9833 - val_loss: 0.1918 - val_accuracy: 0.9509 - 2s/epoch - 67ms/step\n",
      "Epoch 10/20\n",
      "25/25 - 2s - loss: 0.1051 - accuracy: 0.9841 - val_loss: 0.1754 - val_accuracy: 0.9519 - 2s/epoch - 68ms/step\n",
      "Epoch 11/20\n",
      "25/25 - 2s - loss: 0.0875 - accuracy: 0.9859 - val_loss: 0.1625 - val_accuracy: 0.9538 - 2s/epoch - 64ms/step\n",
      "Epoch 12/20\n",
      "25/25 - 2s - loss: 0.0742 - accuracy: 0.9873 - val_loss: 0.1540 - val_accuracy: 0.9528 - 2s/epoch - 69ms/step\n",
      "Epoch 13/20\n",
      "25/25 - 2s - loss: 0.0633 - accuracy: 0.9889 - val_loss: 0.1478 - val_accuracy: 0.9534 - 2s/epoch - 72ms/step\n",
      "Epoch 14/20\n",
      "25/25 - 2s - loss: 0.0546 - accuracy: 0.9900 - val_loss: 0.1449 - val_accuracy: 0.9525 - 2s/epoch - 69ms/step\n",
      "Epoch 15/20\n",
      "25/25 - 2s - loss: 0.0477 - accuracy: 0.9909 - val_loss: 0.1420 - val_accuracy: 0.9538 - 2s/epoch - 70ms/step\n",
      "Epoch 16/20\n",
      "25/25 - 2s - loss: 0.0419 - accuracy: 0.9916 - val_loss: 0.1409 - val_accuracy: 0.9544 - 2s/epoch - 65ms/step\n",
      "Epoch 17/20\n",
      "25/25 - 2s - loss: 0.0371 - accuracy: 0.9922 - val_loss: 0.1418 - val_accuracy: 0.9522 - 2s/epoch - 65ms/step\n",
      "Epoch 18/20\n",
      "25/25 - 2s - loss: 0.0331 - accuracy: 0.9930 - val_loss: 0.1441 - val_accuracy: 0.9522 - 2s/epoch - 67ms/step\n",
      "Epoch 19/20\n",
      "25/25 - 2s - loss: 0.0298 - accuracy: 0.9940 - val_loss: 0.1465 - val_accuracy: 0.9516 - 2s/epoch - 65ms/step\n",
      "Epoch 20/20\n",
      "25/25 - 2s - loss: 0.0269 - accuracy: 0.9945 - val_loss: 0.1493 - val_accuracy: 0.9519 - 2s/epoch - 61ms/step\n"
     ]
    }
   ],
   "source": [
    "model = keras.Sequential([\n",
    "    layers.Dense(32, activation=\"relu\"),\n",
    "    layers.Dense(1, activation=\"sigmoid\")\n",
    "])\n",
    "\n",
    "model.compile(optimizer=\"rmsprop\",\n",
    "              loss=\"binary_crossentropy\",\n",
    "              metrics=[\"accuracy\"])\n",
    "\n",
    "history = model.fit(x_train,\n",
    "                    y_train,\n",
    "                    epochs=20,\n",
    "                    batch_size=512,\n",
    "                    validation_split=0.2,\n",
    "                    shuffle = True,\n",
    "                    verbose = 2)"
   ]
  },
  {
   "cell_type": "code",
   "execution_count": 18,
   "id": "49801bff",
   "metadata": {},
   "outputs": [
    {
     "name": "stdout",
     "output_type": "stream",
     "text": [
      "Model: \"sequential\"\n",
      "_________________________________________________________________\n",
      " Layer (type)                Output Shape              Param #   \n",
      "=================================================================\n",
      " dense (Dense)               (None, 32)                960032    \n",
      "                                                                 \n",
      " dense_1 (Dense)             (None, 1)                 33        \n",
      "                                                                 \n",
      "=================================================================\n",
      "Total params: 960,065\n",
      "Trainable params: 960,065\n",
      "Non-trainable params: 0\n",
      "_________________________________________________________________\n",
      "None\n"
     ]
    }
   ],
   "source": [
    "print(model.summary())"
   ]
  },
  {
   "cell_type": "code",
   "execution_count": 19,
   "id": "f3bdabf0",
   "metadata": {},
   "outputs": [
    {
     "data": {
      "image/png": "[encoded data removed]",
      "text/plain": [
       "<Figure size 432x288 with 1 Axes>"
      ]
     },
     "metadata": {
      "needs_background": "light"
     },
     "output_type": "display_data"
    }
   ],
   "source": [
    "history_dict = history.history\n",
    "loss_values = history_dict[\"loss\"]\n",
    "val_loss_values = history_dict[\"val_loss\"]\n",
    "epochs = range(1, len(loss_values) + 1)\n",
    "plt.plot(epochs, loss_values, \"bo\", label=\"Training loss\")\n",
    "plt.plot(epochs, val_loss_values, \"b\", label=\"Validation loss\")\n",
    "plt.title(\"Training and validation loss\")\n",
    "plt.xlabel(\"Epochs\")\n",
    "plt.ylabel(\"Loss\")\n",
    "plt.legend()\n",
    "plt.show()"
   ]
  },
  {
   "cell_type": "code",
   "execution_count": 20,
   "id": "46ec1fd1",
   "metadata": {},
   "outputs": [
    {
     "name": "stdout",
     "output_type": "stream",
     "text": [
      "Test score: 0.3205293118953705\n",
      "Test accuracy: 0.883171558380127\n"
     ]
    }
   ],
   "source": [
    "score = model.evaluate(x_test, y_test, verbose=0) \n",
    "print('Test score:', score[0]) \n",
    "print('Test accuracy:', score[1])"
   ]
  },
  {
   "cell_type": "code",
   "execution_count": null,
   "id": "7ffc02bf",
   "metadata": {},
   "outputs": [],
   "source": []
  },
  {
   "cell_type": "code",
   "execution_count": null,
   "id": "47454bad",
   "metadata": {},
   "outputs": [],
   "source": []
  }
 ],
 "metadata": {
  "kernelspec": {
   "display_name": "Python 3 (ipykernel)",
   "language": "python",
   "name": "python3"
  },
  "language_info": {
   "codemirror_mode": {
    "name": "ipython",
    "version": 3
   },
   "file_extension": ".py",
   "mimetype": "text/x-python",
   "name": "python",
   "nbconvert_exporter": "python",
   "pygments_lexer": "ipython3",
   "version": "3.9.7"
  }
 },
 "nbformat": 4,
 "nbformat_minor": 5
}
