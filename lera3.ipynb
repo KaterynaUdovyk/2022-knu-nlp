{
 "cells": [
  {
   "cell_type": "code",
   "execution_count": 1,
   "id": "91279cf4",
   "metadata": {
    "execution": {
     "iopub.execute_input": "2022-01-31T09:44:45.716885Z",
     "iopub.status.busy": "2022-01-31T09:44:45.715674Z",
     "iopub.status.idle": "2022-01-31T09:44:52.495528Z",
     "shell.execute_reply": "2022-01-31T09:44:52.494804Z",
     "shell.execute_reply.started": "2022-01-31T09:34:40.513879Z"
    },
    "papermill": {
     "duration": 6.805272,
     "end_time": "2022-01-31T09:44:52.495724",
     "exception": false,
     "start_time": "2022-01-31T09:44:45.690452",
     "status": "completed"
    },
    "tags": []
   },
   "outputs": [],
   "source": [
    "from nltk.tokenize import word_tokenize\n",
    "from nltk.corpus import stopwords\n",
    "from nltk.stem import WordNetLemmatizer\n",
    "from collections import Counter\n",
    "import pandas as pd\n",
    "import re\n",
    "import string\n",
    "import matplotlib.pyplot as plt\n",
    "from sklearn.model_selection import train_test_split\n",
    "import tensorflow as tf\n",
    "from tensorflow import keras\n",
    "from tensorflow.keras import layers\n",
    "import numpy as np"
   ]
  },
  {
   "cell_type": "code",
   "execution_count": 2,
   "id": "18c45597",
   "metadata": {
    "execution": {
     "iopub.execute_input": "2022-01-31T09:44:52.541741Z",
     "iopub.status.busy": "2022-01-31T09:44:52.541075Z",
     "iopub.status.idle": "2022-01-31T09:44:52.587770Z",
     "shell.execute_reply": "2022-01-31T09:44:52.588288Z",
     "shell.execute_reply.started": "2022-01-31T09:34:40.523974Z"
    },
    "papermill": {
     "duration": 0.072258,
     "end_time": "2022-01-31T09:44:52.588487",
     "exception": false,
     "start_time": "2022-01-31T09:44:52.516229",
     "status": "completed"
    },
    "tags": []
   },
   "outputs": [
    {
     "data": {
      "text/html": [
       "<div>\n",
       "<style scoped>\n",
       "    .dataframe tbody tr th:only-of-type {\n",
       "        vertical-align: middle;\n",
       "    }\n",
       "\n",
       "    .dataframe tbody tr th {\n",
       "        vertical-align: top;\n",
       "    }\n",
       "\n",
       "    .dataframe thead th {\n",
       "        text-align: right;\n",
       "    }\n",
       "</style>\n",
       "<table border=\"1\" class=\"dataframe\">\n",
       "  <thead>\n",
       "    <tr style=\"text-align: right;\">\n",
       "      <th></th>\n",
       "      <th>Category</th>\n",
       "      <th>Message</th>\n",
       "    </tr>\n",
       "  </thead>\n",
       "  <tbody>\n",
       "    <tr>\n",
       "      <th>0</th>\n",
       "      <td>ham</td>\n",
       "      <td>Go until jurong point, crazy.. Available only ...</td>\n",
       "    </tr>\n",
       "    <tr>\n",
       "      <th>1</th>\n",
       "      <td>ham</td>\n",
       "      <td>Ok lar... Joking wif u oni...</td>\n",
       "    </tr>\n",
       "    <tr>\n",
       "      <th>2</th>\n",
       "      <td>spam</td>\n",
       "      <td>Free entry in 2 a wkly comp to win FA Cup fina...</td>\n",
       "    </tr>\n",
       "    <tr>\n",
       "      <th>3</th>\n",
       "      <td>ham</td>\n",
       "      <td>U dun say so early hor... U c already then say...</td>\n",
       "    </tr>\n",
       "    <tr>\n",
       "      <th>4</th>\n",
       "      <td>ham</td>\n",
       "      <td>Nah I don't think he goes to usf, he lives aro...</td>\n",
       "    </tr>\n",
       "  </tbody>\n",
       "</table>\n",
       "</div>"
      ],
      "text/plain": [
       "  Category                                            Message\n",
       "0      ham  Go until jurong point, crazy.. Available only ...\n",
       "1      ham                      Ok lar... Joking wif u oni...\n",
       "2     spam  Free entry in 2 a wkly comp to win FA Cup fina...\n",
       "3      ham  U dun say so early hor... U c already then say...\n",
       "4      ham  Nah I don't think he goes to usf, he lives aro..."
      ]
     },
     "execution_count": 2,
     "metadata": {},
     "output_type": "execute_result"
    }
   ],
   "source": [
    "spam_path = \"../input/spam-text-message-classification/SPAM text message 20170820 - Data.csv\"\n",
    "df = pd.read_csv(spam_path)\n",
    "df.head()"
   ]
  },
  {
   "cell_type": "code",
   "execution_count": 3,
   "id": "f6703e0d",
   "metadata": {
    "execution": {
     "iopub.execute_input": "2022-01-31T09:44:52.633459Z",
     "iopub.status.busy": "2022-01-31T09:44:52.632794Z",
     "iopub.status.idle": "2022-01-31T09:44:52.641746Z",
     "shell.execute_reply": "2022-01-31T09:44:52.642360Z",
     "shell.execute_reply.started": "2022-01-31T09:34:40.603529Z"
    },
    "papermill": {
     "duration": 0.032973,
     "end_time": "2022-01-31T09:44:52.642573",
     "exception": false,
     "start_time": "2022-01-31T09:44:52.609600",
     "status": "completed"
    },
    "tags": []
   },
   "outputs": [
    {
     "data": {
      "text/plain": [
       "(0    Go until jurong point, crazy.. Available only ...\n",
       " 1                        Ok lar... Joking wif u oni...\n",
       " 2    Free entry in 2 a wkly comp to win FA Cup fina...\n",
       " Name: Message, dtype: object,\n",
       " 0     ham\n",
       " 1     ham\n",
       " 2    spam\n",
       " Name: Category, dtype: object)"
      ]
     },
     "execution_count": 3,
     "metadata": {},
     "output_type": "execute_result"
    }
   ],
   "source": [
    "X = df.Message\n",
    "Y = df.Category\n",
    "X.head(3), Y.head(3)"
   ]
  },
  {
   "cell_type": "code",
   "execution_count": 4,
   "id": "f5f2024d",
   "metadata": {
    "execution": {
     "iopub.execute_input": "2022-01-31T09:44:52.687057Z",
     "iopub.status.busy": "2022-01-31T09:44:52.686449Z",
     "iopub.status.idle": "2022-01-31T09:44:52.692887Z",
     "shell.execute_reply": "2022-01-31T09:44:52.693447Z",
     "shell.execute_reply.started": "2022-01-31T09:34:40.617820Z"
    },
    "papermill": {
     "duration": 0.030226,
     "end_time": "2022-01-31T09:44:52.693623",
     "exception": false,
     "start_time": "2022-01-31T09:44:52.663397",
     "status": "completed"
    },
    "tags": []
   },
   "outputs": [],
   "source": [
    "whole_text = ''\n",
    "for i in X:\n",
    "    whole_text += i + ' '"
   ]
  },
  {
   "cell_type": "code",
   "execution_count": 5,
   "id": "a901b366",
   "metadata": {
    "execution": {
     "iopub.execute_input": "2022-01-31T09:44:52.744411Z",
     "iopub.status.busy": "2022-01-31T09:44:52.743729Z",
     "iopub.status.idle": "2022-01-31T09:44:52.750983Z",
     "shell.execute_reply": "2022-01-31T09:44:52.750498Z",
     "shell.execute_reply.started": "2022-01-31T09:34:40.634070Z"
    },
    "papermill": {
     "duration": 0.036412,
     "end_time": "2022-01-31T09:44:52.751118",
     "exception": false,
     "start_time": "2022-01-31T09:44:52.714706",
     "status": "completed"
    },
    "tags": []
   },
   "outputs": [],
   "source": [
    "stop_words = stopwords.words(\"english\")\n",
    "def clean_text(text):\n",
    "    text = text.lower()           # converting to lowercase\n",
    "    text = re.sub(\"@\\S+\", \" \", text)  \n",
    "    text = re.sub(\"https*\\S+\", \" \", text)      #\\S - не пробел \n",
    "    text = re.sub(\"www\\S+\", \" \", text)\n",
    "    text = re.sub(\"#\\S+\", \" \", text)\n",
    "    text = re.sub(\"\\d\", \" \", text)        # remove all numbers\n",
    "    text = re.sub('[%s]' % re.escape(string.punctuation), ' ', text)     # remove punctuations\n",
    "    text = re.sub('\\n', ' ', text)        \n",
    "    text = re.sub('\\s{2,}',' ', text)        # remove extra spaces\n",
    "    text = ' '.join([word for word in text.split(' ') if word not in stop_words])\n",
    "    return text"
   ]
  },
  {
   "cell_type": "code",
   "execution_count": 6,
   "id": "d9b1da43",
   "metadata": {
    "execution": {
     "iopub.execute_input": "2022-01-31T09:44:52.904247Z",
     "iopub.status.busy": "2022-01-31T09:44:52.868512Z",
     "iopub.status.idle": "2022-01-31T09:44:53.025915Z",
     "shell.execute_reply": "2022-01-31T09:44:53.025330Z",
     "shell.execute_reply.started": "2022-01-31T09:34:40.652976Z"
    },
    "papermill": {
     "duration": 0.25383,
     "end_time": "2022-01-31T09:44:53.026060",
     "exception": false,
     "start_time": "2022-01-31T09:44:52.772230",
     "status": "completed"
    },
    "tags": []
   },
   "outputs": [],
   "source": [
    "whole_text_clean = clean_text(whole_text)\n",
    "#whole_text_clean[:120]"
   ]
  },
  {
   "cell_type": "code",
   "execution_count": 7,
   "id": "d9891360",
   "metadata": {
    "execution": {
     "iopub.execute_input": "2022-01-31T09:44:53.071674Z",
     "iopub.status.busy": "2022-01-31T09:44:53.070760Z",
     "iopub.status.idle": "2022-01-31T09:44:53.486526Z",
     "shell.execute_reply": "2022-01-31T09:44:53.485924Z",
     "shell.execute_reply.started": "2022-01-31T09:34:40.916869Z"
    },
    "papermill": {
     "duration": 0.439648,
     "end_time": "2022-01-31T09:44:53.486665",
     "exception": false,
     "start_time": "2022-01-31T09:44:53.047017",
     "status": "completed"
    },
    "tags": []
   },
   "outputs": [],
   "source": [
    "tokens = word_tokenize(whole_text_clean)\n",
    "#tokens[:9]"
   ]
  },
  {
   "cell_type": "code",
   "execution_count": 8,
   "id": "d5673e43",
   "metadata": {
    "execution": {
     "iopub.execute_input": "2022-01-31T09:44:53.532248Z",
     "iopub.status.busy": "2022-01-31T09:44:53.531320Z",
     "iopub.status.idle": "2022-01-31T09:44:55.898701Z",
     "shell.execute_reply": "2022-01-31T09:44:55.897890Z",
     "shell.execute_reply.started": "2022-01-31T09:34:41.342774Z"
    },
    "papermill": {
     "duration": 2.391381,
     "end_time": "2022-01-31T09:44:55.898869",
     "exception": false,
     "start_time": "2022-01-31T09:44:53.507488",
     "status": "completed"
    },
    "tags": []
   },
   "outputs": [],
   "source": [
    "lemmatizer = WordNetLemmatizer()\n",
    "lemtokens= [lemmatizer.lemmatize(t) for t in tokens]\n",
    "#lemtokens[:9]"
   ]
  },
  {
   "cell_type": "code",
   "execution_count": 9,
   "id": "fb84e1b8",
   "metadata": {
    "execution": {
     "iopub.execute_input": "2022-01-31T09:44:55.948572Z",
     "iopub.status.busy": "2022-01-31T09:44:55.947553Z",
     "iopub.status.idle": "2022-01-31T09:44:55.953954Z",
     "shell.execute_reply": "2022-01-31T09:44:55.954551Z",
     "shell.execute_reply.started": "2022-01-31T09:34:43.972070Z"
    },
    "papermill": {
     "duration": 0.032583,
     "end_time": "2022-01-31T09:44:55.954721",
     "exception": false,
     "start_time": "2022-01-31T09:44:55.922138",
     "status": "completed"
    },
    "tags": []
   },
   "outputs": [],
   "source": [
    "dictionary = list(set(lemtokens))\n",
    "#dictionary[:7]\n",
    "#dims = len(dictionary)   dims - 7133"
   ]
  },
  {
   "cell_type": "code",
   "execution_count": 10,
   "id": "2c347041",
   "metadata": {
    "execution": {
     "iopub.execute_input": "2022-01-31T09:44:56.001214Z",
     "iopub.status.busy": "2022-01-31T09:44:56.000123Z",
     "iopub.status.idle": "2022-01-31T09:44:56.005638Z",
     "shell.execute_reply": "2022-01-31T09:44:56.006164Z",
     "shell.execute_reply.started": "2022-01-31T09:34:43.982176Z"
    },
    "papermill": {
     "duration": 0.030408,
     "end_time": "2022-01-31T09:44:56.006346",
     "exception": false,
     "start_time": "2022-01-31T09:44:55.975938",
     "status": "completed"
    },
    "tags": []
   },
   "outputs": [],
   "source": [
    "def convert(text):\n",
    "    text = clean_text(text)\n",
    "    tok = word_tokenize(text)\n",
    "    lemmatizer = WordNetLemmatizer()\n",
    "    lem = [lemmatizer.lemmatize(t) for t in tok]\n",
    "    res = [dictionary.index(i) for i in lem]\n",
    "    return res"
   ]
  },
  {
   "cell_type": "code",
   "execution_count": 11,
   "id": "88f6ae9e",
   "metadata": {
    "execution": {
     "iopub.execute_input": "2022-01-31T09:44:56.051663Z",
     "iopub.status.busy": "2022-01-31T09:44:56.050694Z",
     "iopub.status.idle": "2022-01-31T09:45:01.416101Z",
     "shell.execute_reply": "2022-01-31T09:45:01.416705Z",
     "shell.execute_reply.started": "2022-01-31T09:34:43.996836Z"
    },
    "papermill": {
     "duration": 5.389727,
     "end_time": "2022-01-31T09:45:01.416877",
     "exception": false,
     "start_time": "2022-01-31T09:44:56.027150",
     "status": "completed"
    },
    "tags": []
   },
   "outputs": [
    {
     "data": {
      "text/plain": [
       "0    [5197, 4026, 348, 1068, 6258, 2416, 5234, 264,...\n",
       "1                 [6009, 4871, 3216, 3781, 4591, 6211]\n",
       "2    [5239, 346, 5509, 2731, 4109, 4863, 1241, 2970...\n",
       "Name: Message, dtype: object"
      ]
     },
     "execution_count": 11,
     "metadata": {},
     "output_type": "execute_result"
    }
   ],
   "source": [
    "X = X.apply(convert)\n",
    "X.head(3)"
   ]
  },
  {
   "cell_type": "code",
   "execution_count": 12,
   "id": "8a449c0b",
   "metadata": {
    "execution": {
     "iopub.execute_input": "2022-01-31T09:45:01.463199Z",
     "iopub.status.busy": "2022-01-31T09:45:01.462245Z",
     "iopub.status.idle": "2022-01-31T09:45:01.466443Z",
     "shell.execute_reply": "2022-01-31T09:45:01.467015Z",
     "shell.execute_reply.started": "2022-01-31T09:34:49.496250Z"
    },
    "papermill": {
     "duration": 0.029105,
     "end_time": "2022-01-31T09:45:01.467171",
     "exception": false,
     "start_time": "2022-01-31T09:45:01.438066",
     "status": "completed"
    },
    "tags": []
   },
   "outputs": [],
   "source": [
    "def encoding(text):\n",
    "    if text == 'ham':\n",
    "        return 0\n",
    "    elif text == 'spam':\n",
    "        return 1\n",
    "    else:\n",
    "        return -1"
   ]
  },
  {
   "cell_type": "code",
   "execution_count": 13,
   "id": "cefb87cc",
   "metadata": {
    "execution": {
     "iopub.execute_input": "2022-01-31T09:45:01.513207Z",
     "iopub.status.busy": "2022-01-31T09:45:01.512319Z",
     "iopub.status.idle": "2022-01-31T09:45:01.519953Z",
     "shell.execute_reply": "2022-01-31T09:45:01.520501Z",
     "shell.execute_reply.started": "2022-01-31T09:34:49.503053Z"
    },
    "papermill": {
     "duration": 0.0323,
     "end_time": "2022-01-31T09:45:01.520664",
     "exception": false,
     "start_time": "2022-01-31T09:45:01.488364",
     "status": "completed"
    },
    "tags": []
   },
   "outputs": [],
   "source": [
    "Y = Y.apply(encoding) "
   ]
  },
  {
   "cell_type": "code",
   "execution_count": 14,
   "id": "9ff3015c",
   "metadata": {
    "execution": {
     "iopub.execute_input": "2022-01-31T09:45:01.566675Z",
     "iopub.status.busy": "2022-01-31T09:45:01.565735Z",
     "iopub.status.idle": "2022-01-31T09:45:01.571681Z",
     "shell.execute_reply": "2022-01-31T09:45:01.572207Z",
     "shell.execute_reply.started": "2022-01-31T09:34:49.525250Z"
    },
    "papermill": {
     "duration": 0.030643,
     "end_time": "2022-01-31T09:45:01.572382",
     "exception": false,
     "start_time": "2022-01-31T09:45:01.541739",
     "status": "completed"
    },
    "tags": []
   },
   "outputs": [],
   "source": [
    "X_train, X_test, Y_train, Y_test = train_test_split(X, Y, test_size=0.2, random_state=42)"
   ]
  },
  {
   "cell_type": "code",
   "execution_count": 15,
   "id": "cb66f25b",
   "metadata": {
    "execution": {
     "iopub.execute_input": "2022-01-31T09:45:01.618737Z",
     "iopub.status.busy": "2022-01-31T09:45:01.617754Z",
     "iopub.status.idle": "2022-01-31T09:45:01.625423Z",
     "shell.execute_reply": "2022-01-31T09:45:01.625883Z",
     "shell.execute_reply.started": "2022-01-31T09:34:49.539413Z"
    },
    "papermill": {
     "duration": 0.032619,
     "end_time": "2022-01-31T09:45:01.626052",
     "exception": false,
     "start_time": "2022-01-31T09:45:01.593433",
     "status": "completed"
    },
    "tags": []
   },
   "outputs": [
    {
     "name": "stdout",
     "output_type": "stream",
     "text": [
      "X_train 4457\n",
      "Y_test 1115\n"
     ]
    },
    {
     "data": {
      "text/plain": [
       "(4457,)"
      ]
     },
     "execution_count": 15,
     "metadata": {},
     "output_type": "execute_result"
    }
   ],
   "source": [
    "print('X_train', len(X_train))\n",
    "print('Y_test', len(Y_test))\n",
    "X_train.shape"
   ]
  },
  {
   "cell_type": "code",
   "execution_count": 16,
   "id": "af0156e5",
   "metadata": {
    "execution": {
     "iopub.execute_input": "2022-01-31T09:45:01.674822Z",
     "iopub.status.busy": "2022-01-31T09:45:01.674189Z",
     "iopub.status.idle": "2022-01-31T09:45:01.675809Z",
     "shell.execute_reply": "2022-01-31T09:45:01.676250Z",
     "shell.execute_reply.started": "2022-01-31T09:34:49.551835Z"
    },
    "papermill": {
     "duration": 0.028693,
     "end_time": "2022-01-31T09:45:01.676433",
     "exception": false,
     "start_time": "2022-01-31T09:45:01.647740",
     "status": "completed"
    },
    "tags": []
   },
   "outputs": [],
   "source": [
    "y_train = np.asarray(Y_train).astype(\"float32\")\n",
    "y_test = np.asarray(Y_test).astype(\"float32\")"
   ]
  },
  {
   "cell_type": "code",
   "execution_count": 17,
   "id": "494e99a4",
   "metadata": {
    "execution": {
     "iopub.execute_input": "2022-01-31T09:45:01.728143Z",
     "iopub.status.busy": "2022-01-31T09:45:01.727200Z",
     "iopub.status.idle": "2022-01-31T09:45:01.764353Z",
     "shell.execute_reply": "2022-01-31T09:45:01.763726Z",
     "shell.execute_reply.started": "2022-01-31T09:34:49.559032Z"
    },
    "papermill": {
     "duration": 0.066157,
     "end_time": "2022-01-31T09:45:01.764499",
     "exception": false,
     "start_time": "2022-01-31T09:45:01.698342",
     "status": "completed"
    },
    "tags": []
   },
   "outputs": [],
   "source": [
    "# Only consider the first 50 words\n",
    "x_train = keras.preprocessing.sequence.pad_sequences(X_train, maxlen = 50)\n",
    "x_test = keras.preprocessing.sequence.pad_sequences(X_test, maxlen = 50)"
   ]
  },
  {
   "cell_type": "code",
   "execution_count": 18,
   "id": "fcfe5995",
   "metadata": {
    "execution": {
     "iopub.execute_input": "2022-01-31T09:45:01.812716Z",
     "iopub.status.busy": "2022-01-31T09:45:01.812018Z",
     "iopub.status.idle": "2022-01-31T09:45:01.816731Z",
     "shell.execute_reply": "2022-01-31T09:45:01.817235Z",
     "shell.execute_reply.started": "2022-01-31T09:34:49.609625Z"
    },
    "papermill": {
     "duration": 0.030665,
     "end_time": "2022-01-31T09:45:01.817424",
     "exception": false,
     "start_time": "2022-01-31T09:45:01.786759",
     "status": "completed"
    },
    "tags": []
   },
   "outputs": [
    {
     "data": {
      "text/plain": [
       "(4457, 50)"
      ]
     },
     "execution_count": 18,
     "metadata": {},
     "output_type": "execute_result"
    }
   ],
   "source": [
    "x_train.shape"
   ]
  },
  {
   "cell_type": "code",
   "execution_count": 19,
   "id": "5285c0ce",
   "metadata": {
    "execution": {
     "iopub.execute_input": "2022-01-31T09:45:01.869463Z",
     "iopub.status.busy": "2022-01-31T09:45:01.868715Z",
     "iopub.status.idle": "2022-01-31T09:45:02.258573Z",
     "shell.execute_reply": "2022-01-31T09:45:02.257984Z",
     "shell.execute_reply.started": "2022-01-31T09:34:49.620543Z"
    },
    "papermill": {
     "duration": 0.417278,
     "end_time": "2022-01-31T09:45:02.258714",
     "exception": false,
     "start_time": "2022-01-31T09:45:01.841436",
     "status": "completed"
    },
    "tags": []
   },
   "outputs": [
    {
     "name": "stderr",
     "output_type": "stream",
     "text": [
      "\n",
      "User settings:\n",
      "\n",
      "   KMP_AFFINITY=granularity=fine,noverbose,compact,1,0\n",
      "   KMP_BLOCKTIME=0\n",
      "   KMP_DUPLICATE_LIB_OK=True\n",
      "   KMP_INIT_AT_FORK=FALSE\n",
      "   KMP_SETTINGS=1\n",
      "   KMP_WARNINGS=0\n",
      "\n",
      "Effective settings:\n",
      "\n",
      "   KMP_ABORT_DELAY=0\n",
      "   KMP_ADAPTIVE_LOCK_PROPS='1,1024'\n",
      "   KMP_ALIGN_ALLOC=64\n",
      "   KMP_ALL_THREADPRIVATE=128\n",
      "   KMP_ATOMIC_MODE=2\n",
      "   KMP_BLOCKTIME=0\n",
      "   KMP_CPUINFO_FILE: value is not defined\n",
      "   KMP_DETERMINISTIC_REDUCTION=false\n",
      "   KMP_DEVICE_THREAD_LIMIT=2147483647\n",
      "   KMP_DISP_NUM_BUFFERS=7\n",
      "   KMP_DUPLICATE_LIB_OK=true\n",
      "   KMP_ENABLE_TASK_THROTTLING=true\n",
      "   KMP_FORCE_REDUCTION: value is not defined\n",
      "   KMP_FOREIGN_THREADS_THREADPRIVATE=true\n",
      "   KMP_FORKJOIN_BARRIER='2,2'\n",
      "   KMP_FORKJOIN_BARRIER_PATTERN='hyper,hyper'\n",
      "   KMP_GTID_MODE=3\n",
      "   KMP_HANDLE_SIGNALS=false\n",
      "   KMP_HOT_TEAMS_MAX_LEVEL=1\n",
      "   KMP_HOT_TEAMS_MODE=0\n",
      "   KMP_INIT_AT_FORK=true\n",
      "   KMP_LIBRARY=throughput\n",
      "   KMP_LOCK_KIND=queuing\n",
      "   KMP_MALLOC_POOL_INCR=1M\n",
      "   KMP_NUM_LOCKS_IN_BLOCK=1\n",
      "   KMP_PLAIN_BARRIER='2,2'\n",
      "   KMP_PLAIN_BARRIER_PATTERN='hyper,hyper'\n",
      "   KMP_REDUCTION_BARRIER='1,1'\n",
      "   KMP_REDUCTION_BARRIER_PATTERN='hyper,hyper'\n",
      "   KMP_SCHEDULE='static,balanced;guided,iterative'\n",
      "   KMP_SETTINGS=true\n",
      "   KMP_SPIN_BACKOFF_PARAMS='4096,100'\n",
      "   KMP_STACKOFFSET=64\n",
      "   KMP_STACKPAD=0\n",
      "   KMP_STACKSIZE=8M\n",
      "   KMP_STORAGE_MAP=false\n",
      "   KMP_TASKING=2\n",
      "   KMP_TASKLOOP_MIN_TASKS=0\n",
      "   KMP_TASK_STEALING_CONSTRAINT=1\n",
      "   KMP_TEAMS_THREAD_LIMIT=4\n",
      "   KMP_TOPOLOGY_METHOD=all\n",
      "   KMP_USE_YIELD=1\n",
      "   KMP_VERSION=false\n",
      "   KMP_WARNINGS=false\n",
      "   OMP_AFFINITY_FORMAT='OMP: pid %P tid %i thread %n bound to OS proc set {%A}'\n",
      "   OMP_ALLOCATOR=omp_default_mem_alloc\n",
      "   OMP_CANCELLATION=false\n",
      "   OMP_DEFAULT_DEVICE=0\n",
      "   OMP_DISPLAY_AFFINITY=false\n",
      "   OMP_DISPLAY_ENV=false\n",
      "   OMP_DYNAMIC=false\n",
      "   OMP_MAX_ACTIVE_LEVELS=1\n",
      "   OMP_MAX_TASK_PRIORITY=0\n",
      "   OMP_NESTED: deprecated; max-active-levels-var=1\n",
      "   OMP_NUM_THREADS: value is not defined\n",
      "   OMP_PLACES: value is not defined\n",
      "   OMP_PROC_BIND='intel'\n",
      "   OMP_SCHEDULE='static'\n",
      "   OMP_STACKSIZE=8M\n",
      "   OMP_TARGET_OFFLOAD=DEFAULT\n",
      "   OMP_THREAD_LIMIT=2147483647\n",
      "   OMP_WAIT_POLICY=PASSIVE\n",
      "   KMP_AFFINITY='noverbose,warnings,respect,granularity=fine,compact,1,0'\n",
      "\n",
      "2022-01-31 09:45:01.902081: I tensorflow/core/common_runtime/process_util.cc:146] Creating new thread pool with default inter op setting: 2. Tune using inter_op_parallelism_threads for best performance.\n"
     ]
    }
   ],
   "source": [
    "model = keras.Sequential()\n",
    "model.add(layers.Embedding(7500, 64)) \n",
    "model.add(layers.LSTM(128))\n",
    "model.add(layers.Dense(1, activation = 'sigmoid'))"
   ]
  },
  {
   "cell_type": "code",
   "execution_count": 20,
   "id": "ae28e634",
   "metadata": {
    "execution": {
     "iopub.execute_input": "2022-01-31T09:45:02.315639Z",
     "iopub.status.busy": "2022-01-31T09:45:02.314794Z",
     "iopub.status.idle": "2022-01-31T09:45:21.189204Z",
     "shell.execute_reply": "2022-01-31T09:45:21.188684Z",
     "shell.execute_reply.started": "2022-01-31T09:34:50.055497Z"
    },
    "papermill": {
     "duration": 18.907966,
     "end_time": "2022-01-31T09:45:21.189394",
     "exception": false,
     "start_time": "2022-01-31T09:45:02.281428",
     "status": "completed"
    },
    "tags": []
   },
   "outputs": [
    {
     "name": "stderr",
     "output_type": "stream",
     "text": [
      "2022-01-31 09:45:02.369945: I tensorflow/compiler/mlir/mlir_graph_optimization_pass.cc:185] None of the MLIR Optimization Passes are enabled (registered 2)\n"
     ]
    },
    {
     "name": "stdout",
     "output_type": "stream",
     "text": [
      "Epoch 1/5\n",
      "28/28 - 6s - loss: 0.4046 - accuracy: 0.8471 - val_loss: 0.2669 - val_accuracy: 0.8700\n",
      "Epoch 2/5\n",
      "28/28 - 3s - loss: 0.1501 - accuracy: 0.9548 - val_loss: 0.1168 - val_accuracy: 0.9697\n",
      "Epoch 3/5\n",
      "28/28 - 3s - loss: 0.0542 - accuracy: 0.9865 - val_loss: 0.0797 - val_accuracy: 0.9765\n",
      "Epoch 4/5\n",
      "28/28 - 3s - loss: 0.0217 - accuracy: 0.9933 - val_loss: 0.0934 - val_accuracy: 0.9709\n",
      "Epoch 5/5\n",
      "28/28 - 3s - loss: 0.0118 - accuracy: 0.9964 - val_loss: 0.0767 - val_accuracy: 0.9776\n"
     ]
    }
   ],
   "source": [
    "my_callbacks = [tf.keras.callbacks.EarlyStopping(patience=2)]\n",
    "\n",
    "model.compile(optimizer = \"adam\",\n",
    "              loss = \"binary_crossentropy\",\n",
    "              metrics = [\"accuracy\"])\n",
    "\n",
    "history = model.fit(x_train,\n",
    "                    y_train,\n",
    "                    epochs = 5,\n",
    "                    batch_size = 128,\n",
    "                    validation_split = 0.2,\n",
    "                    shuffle = True,\n",
    "                    callbacks = my_callbacks,\n",
    "                    verbose = 2)"
   ]
  },
  {
   "cell_type": "code",
   "execution_count": 21,
   "id": "625beb5f",
   "metadata": {
    "execution": {
     "iopub.execute_input": "2022-01-31T09:45:21.244400Z",
     "iopub.status.busy": "2022-01-31T09:45:21.243773Z",
     "iopub.status.idle": "2022-01-31T09:45:21.248538Z",
     "shell.execute_reply": "2022-01-31T09:45:21.249099Z",
     "shell.execute_reply.started": "2022-01-31T09:38:52.811829Z"
    },
    "papermill": {
     "duration": 0.033596,
     "end_time": "2022-01-31T09:45:21.249250",
     "exception": false,
     "start_time": "2022-01-31T09:45:21.215654",
     "status": "completed"
    },
    "tags": []
   },
   "outputs": [
    {
     "data": {
      "text/plain": [
       "5"
      ]
     },
     "execution_count": 21,
     "metadata": {},
     "output_type": "execute_result"
    }
   ],
   "source": [
    "len(history.history['loss'])"
   ]
  },
  {
   "cell_type": "code",
   "execution_count": 22,
   "id": "458defa1",
   "metadata": {
    "execution": {
     "iopub.execute_input": "2022-01-31T09:45:21.305144Z",
     "iopub.status.busy": "2022-01-31T09:45:21.304547Z",
     "iopub.status.idle": "2022-01-31T09:45:21.311856Z",
     "shell.execute_reply": "2022-01-31T09:45:21.311352Z",
     "shell.execute_reply.started": "2022-01-31T09:35:09.527414Z"
    },
    "papermill": {
     "duration": 0.036348,
     "end_time": "2022-01-31T09:45:21.311982",
     "exception": false,
     "start_time": "2022-01-31T09:45:21.275634",
     "status": "completed"
    },
    "tags": []
   },
   "outputs": [
    {
     "name": "stdout",
     "output_type": "stream",
     "text": [
      "Model: \"sequential\"\n",
      "_________________________________________________________________\n",
      "Layer (type)                 Output Shape              Param #   \n",
      "=================================================================\n",
      "embedding (Embedding)        (None, None, 64)          480000    \n",
      "_________________________________________________________________\n",
      "lstm (LSTM)                  (None, 128)               98816     \n",
      "_________________________________________________________________\n",
      "dense (Dense)                (None, 1)                 129       \n",
      "=================================================================\n",
      "Total params: 578,945\n",
      "Trainable params: 578,945\n",
      "Non-trainable params: 0\n",
      "_________________________________________________________________\n",
      "None\n"
     ]
    }
   ],
   "source": [
    "print(model.summary())"
   ]
  },
  {
   "cell_type": "code",
   "execution_count": 23,
   "id": "12c9de50",
   "metadata": {
    "execution": {
     "iopub.execute_input": "2022-01-31T09:45:21.368605Z",
     "iopub.status.busy": "2022-01-31T09:45:21.367986Z",
     "iopub.status.idle": "2022-01-31T09:45:21.619894Z",
     "shell.execute_reply": "2022-01-31T09:45:21.619329Z",
     "shell.execute_reply.started": "2022-01-31T09:35:09.536098Z"
    },
    "papermill": {
     "duration": 0.28096,
     "end_time": "2022-01-31T09:45:21.620028",
     "exception": false,
     "start_time": "2022-01-31T09:45:21.339068",
     "status": "completed"
    },
    "tags": []
   },
   "outputs": [
    {
     "data": {
      "image/png": "[encoded data removed]",
      "text/plain": [
       "<Figure size 432x288 with 1 Axes>"
      ]
     },
     "metadata": {
      "needs_background": "light"
     },
     "output_type": "display_data"
    }
   ],
   "source": [
    "history_dict = history.history\n",
    "loss_values = history_dict[\"loss\"]\n",
    "val_loss_values = history_dict[\"val_loss\"]\n",
    "epochs = range(1, len(loss_values) + 1)\n",
    "plt.plot(epochs, loss_values, \"bo\", label=\"Training loss\")\n",
    "plt.plot(epochs, val_loss_values, \"b\", label=\"Validation loss\")\n",
    "plt.title(\"Training and validation loss\")\n",
    "plt.xlabel(\"Epochs\")\n",
    "plt.ylabel(\"Loss\")\n",
    "plt.legend()\n",
    "plt.show()"
   ]
  },
  {
   "cell_type": "code",
   "execution_count": 24,
   "id": "2592268d",
   "metadata": {
    "execution": {
     "iopub.execute_input": "2022-01-31T09:45:21.682812Z",
     "iopub.status.busy": "2022-01-31T09:45:21.681837Z",
     "iopub.status.idle": "2022-01-31T09:45:22.290416Z",
     "shell.execute_reply": "2022-01-31T09:45:22.289792Z",
     "shell.execute_reply.started": "2022-01-31T09:35:09.807934Z"
    },
    "papermill": {
     "duration": 0.642646,
     "end_time": "2022-01-31T09:45:22.290559",
     "exception": false,
     "start_time": "2022-01-31T09:45:21.647913",
     "status": "completed"
    },
    "tags": []
   },
   "outputs": [
    {
     "name": "stdout",
     "output_type": "stream",
     "text": [
      "Test score: 0.06369902938604355\n",
      "Test accuracy: 0.9820627570152283\n"
     ]
    }
   ],
   "source": [
    "score = model.evaluate(x_test, y_test, verbose=0) \n",
    "print('Test score:', score[0]) \n",
    "print('Test accuracy:', score[1])"
   ]
  }
 ],
 "metadata": {
  "kernelspec": {
   "display_name": "Python 3",
   "language": "python",
   "name": "python3"
  },
  "language_info": {
   "codemirror_mode": {
    "name": "ipython",
    "version": 3
   },
   "file_extension": ".py",
   "mimetype": "text/x-python",
   "name": "python",
   "nbconvert_exporter": "python",
   "pygments_lexer": "ipython3",
   "version": "3.7.12"
  },
  "papermill": {
   "default_parameters": {},
   "duration": 48.517155,
   "end_time": "2022-01-31T09:45:24.986569",
   "environment_variables": {},
   "exception": null,
   "input_path": "__notebook__.ipynb",
   "output_path": "__notebook__.ipynb",
   "parameters": {},
   "start_time": "2022-01-31T09:44:36.469414",
   "version": "2.3.3"
  }
 },
 "nbformat": 4,
 "nbformat_minor": 5
}
