{
 "cells": [
  {
   "cell_type": "code",
   "execution_count": 1,
   "id": "6bf9a85a",
   "metadata": {
    "execution": {
     "iopub.execute_input": "2022-01-31T09:40:12.377746Z",
     "iopub.status.busy": "2022-01-31T09:40:12.376764Z",
     "iopub.status.idle": "2022-01-31T09:40:20.609207Z",
     "shell.execute_reply": "2022-01-31T09:40:20.608387Z",
     "shell.execute_reply.started": "2022-01-31T09:34:40.513879Z"
    },
    "papermill": {
     "duration": 8.26398,
     "end_time": "2022-01-31T09:40:20.609414",
     "exception": false,
     "start_time": "2022-01-31T09:40:12.345434",
     "status": "completed"
    },
    "tags": []
   },
   "outputs": [],
   "source": [
    "from nltk.tokenize import word_tokenize\n",
    "from nltk.corpus import stopwords\n",
    "from nltk.stem import WordNetLemmatizer\n",
    "from collections import Counter\n",
    "import pandas as pd\n",
    "import re\n",
    "import string\n",
    "import matplotlib.pyplot as plt\n",
    "from sklearn.model_selection import train_test_split\n",
    "import tensorflow as tf\n",
    "from tensorflow import keras\n",
    "from tensorflow.keras import layers\n",
    "import numpy as np"
   ]
  },
  {
   "cell_type": "code",
   "execution_count": 2,
   "id": "cb25d10e",
   "metadata": {
    "execution": {
     "iopub.execute_input": "2022-01-31T09:40:20.657716Z",
     "iopub.status.busy": "2022-01-31T09:40:20.656990Z",
     "iopub.status.idle": "2022-01-31T09:40:20.709398Z",
     "shell.execute_reply": "2022-01-31T09:40:20.709939Z",
     "shell.execute_reply.started": "2022-01-31T09:34:40.523974Z"
    },
    "papermill": {
     "duration": 0.079504,
     "end_time": "2022-01-31T09:40:20.710152",
     "exception": false,
     "start_time": "2022-01-31T09:40:20.630648",
     "status": "completed"
    },
    "tags": []
   },
   "outputs": [
    {
     "data": {
      "text/html": [
       "<div>\n",
       "<style scoped>\n",
       "    .dataframe tbody tr th:only-of-type {\n",
       "        vertical-align: middle;\n",
       "    }\n",
       "\n",
       "    .dataframe tbody tr th {\n",
       "        vertical-align: top;\n",
       "    }\n",
       "\n",
       "    .dataframe thead th {\n",
       "        text-align: right;\n",
       "    }\n",
       "</style>\n",
       "<table border=\"1\" class=\"dataframe\">\n",
       "  <thead>\n",
       "    <tr style=\"text-align: right;\">\n",
       "      <th></th>\n",
       "      <th>Category</th>\n",
       "      <th>Message</th>\n",
       "    </tr>\n",
       "  </thead>\n",
       "  <tbody>\n",
       "    <tr>\n",
       "      <th>0</th>\n",
       "      <td>ham</td>\n",
       "      <td>Go until jurong point, crazy.. Available only ...</td>\n",
       "    </tr>\n",
       "    <tr>\n",
       "      <th>1</th>\n",
       "      <td>ham</td>\n",
       "      <td>Ok lar... Joking wif u oni...</td>\n",
       "    </tr>\n",
       "    <tr>\n",
       "      <th>2</th>\n",
       "      <td>spam</td>\n",
       "      <td>Free entry in 2 a wkly comp to win FA Cup fina...</td>\n",
       "    </tr>\n",
       "    <tr>\n",
       "      <th>3</th>\n",
       "      <td>ham</td>\n",
       "      <td>U dun say so early hor... U c already then say...</td>\n",
       "    </tr>\n",
       "    <tr>\n",
       "      <th>4</th>\n",
       "      <td>ham</td>\n",
       "      <td>Nah I don't think he goes to usf, he lives aro...</td>\n",
       "    </tr>\n",
       "  </tbody>\n",
       "</table>\n",
       "</div>"
      ],
      "text/plain": [
       "  Category                                            Message\n",
       "0      ham  Go until jurong point, crazy.. Available only ...\n",
       "1      ham                      Ok lar... Joking wif u oni...\n",
       "2     spam  Free entry in 2 a wkly comp to win FA Cup fina...\n",
       "3      ham  U dun say so early hor... U c already then say...\n",
       "4      ham  Nah I don't think he goes to usf, he lives aro..."
      ]
     },
     "execution_count": 2,
     "metadata": {},
     "output_type": "execute_result"
    }
   ],
   "source": [
    "spam_path = \"../input/spam-text-message-classification/SPAM text message 20170820 - Data.csv\"\n",
    "df = pd.read_csv(spam_path)\n",
    "df.head()"
   ]
  },
  {
   "cell_type": "code",
   "execution_count": 3,
   "id": "aa1342c1",
   "metadata": {
    "execution": {
     "iopub.execute_input": "2022-01-31T09:40:20.757731Z",
     "iopub.status.busy": "2022-01-31T09:40:20.757031Z",
     "iopub.status.idle": "2022-01-31T09:40:20.769713Z",
     "shell.execute_reply": "2022-01-31T09:40:20.769036Z",
     "shell.execute_reply.started": "2022-01-31T09:34:40.603529Z"
    },
    "papermill": {
     "duration": 0.037744,
     "end_time": "2022-01-31T09:40:20.769877",
     "exception": false,
     "start_time": "2022-01-31T09:40:20.732133",
     "status": "completed"
    },
    "tags": []
   },
   "outputs": [
    {
     "data": {
      "text/plain": [
       "(0    Go until jurong point, crazy.. Available only ...\n",
       " 1                        Ok lar... Joking wif u oni...\n",
       " 2    Free entry in 2 a wkly comp to win FA Cup fina...\n",
       " Name: Message, dtype: object,\n",
       " 0     ham\n",
       " 1     ham\n",
       " 2    spam\n",
       " Name: Category, dtype: object)"
      ]
     },
     "execution_count": 3,
     "metadata": {},
     "output_type": "execute_result"
    }
   ],
   "source": [
    "X = df.Message\n",
    "Y = df.Category\n",
    "X.head(3), Y.head(3)"
   ]
  },
  {
   "cell_type": "code",
   "execution_count": 4,
   "id": "8290b7fe",
   "metadata": {
    "execution": {
     "iopub.execute_input": "2022-01-31T09:40:20.817986Z",
     "iopub.status.busy": "2022-01-31T09:40:20.816845Z",
     "iopub.status.idle": "2022-01-31T09:40:20.826231Z",
     "shell.execute_reply": "2022-01-31T09:40:20.826833Z",
     "shell.execute_reply.started": "2022-01-31T09:34:40.617820Z"
    },
    "papermill": {
     "duration": 0.035633,
     "end_time": "2022-01-31T09:40:20.827051",
     "exception": false,
     "start_time": "2022-01-31T09:40:20.791418",
     "status": "completed"
    },
    "tags": []
   },
   "outputs": [],
   "source": [
    "whole_text = ''\n",
    "for i in X:\n",
    "    whole_text += i + ' '"
   ]
  },
  {
   "cell_type": "code",
   "execution_count": 5,
   "id": "3e915fc6",
   "metadata": {
    "execution": {
     "iopub.execute_input": "2022-01-31T09:40:20.874962Z",
     "iopub.status.busy": "2022-01-31T09:40:20.873788Z",
     "iopub.status.idle": "2022-01-31T09:40:20.890445Z",
     "shell.execute_reply": "2022-01-31T09:40:20.889763Z",
     "shell.execute_reply.started": "2022-01-31T09:34:40.634070Z"
    },
    "papermill": {
     "duration": 0.042249,
     "end_time": "2022-01-31T09:40:20.890662",
     "exception": false,
     "start_time": "2022-01-31T09:40:20.848413",
     "status": "completed"
    },
    "tags": []
   },
   "outputs": [],
   "source": [
    "stop_words = stopwords.words(\"english\")\n",
    "def clean_text(text):\n",
    "    text = text.lower()           # converting to lowercase\n",
    "    text = re.sub(\"@\\S+\", \" \", text)  \n",
    "    text = re.sub(\"https*\\S+\", \" \", text)      #\\S - не пробел \n",
    "    text = re.sub(\"www\\S+\", \" \", text)\n",
    "    text = re.sub(\"#\\S+\", \" \", text)\n",
    "    text = re.sub(\"\\d\", \" \", text)        # remove all numbers\n",
    "    text = re.sub('[%s]' % re.escape(string.punctuation), ' ', text)     # remove punctuations\n",
    "    text = re.sub('\\n', ' ', text)        \n",
    "    text = re.sub('\\s{2,}',' ', text)        # remove extra spaces\n",
    "    text = ' '.join([word for word in text.split(' ') if word not in stop_words])\n",
    "    return text"
   ]
  },
  {
   "cell_type": "code",
   "execution_count": 6,
   "id": "4605baad",
   "metadata": {
    "execution": {
     "iopub.execute_input": "2022-01-31T09:40:21.026594Z",
     "iopub.status.busy": "2022-01-31T09:40:21.007045Z",
     "iopub.status.idle": "2022-01-31T09:40:21.174160Z",
     "shell.execute_reply": "2022-01-31T09:40:21.173437Z",
     "shell.execute_reply.started": "2022-01-31T09:34:40.652976Z"
    },
    "papermill": {
     "duration": 0.260688,
     "end_time": "2022-01-31T09:40:21.174322",
     "exception": false,
     "start_time": "2022-01-31T09:40:20.913634",
     "status": "completed"
    },
    "tags": []
   },
   "outputs": [],
   "source": [
    "whole_text_clean = clean_text(whole_text)\n",
    "#whole_text_clean[:120]"
   ]
  },
  {
   "cell_type": "code",
   "execution_count": 7,
   "id": "32ad5290",
   "metadata": {
    "execution": {
     "iopub.execute_input": "2022-01-31T09:40:21.224287Z",
     "iopub.status.busy": "2022-01-31T09:40:21.223488Z",
     "iopub.status.idle": "2022-01-31T09:40:21.656889Z",
     "shell.execute_reply": "2022-01-31T09:40:21.656189Z",
     "shell.execute_reply.started": "2022-01-31T09:34:40.916869Z"
    },
    "papermill": {
     "duration": 0.460394,
     "end_time": "2022-01-31T09:40:21.657049",
     "exception": false,
     "start_time": "2022-01-31T09:40:21.196655",
     "status": "completed"
    },
    "tags": []
   },
   "outputs": [],
   "source": [
    "tokens = word_tokenize(whole_text_clean)\n",
    "#tokens[:9]"
   ]
  },
  {
   "cell_type": "code",
   "execution_count": 8,
   "id": "8d892d96",
   "metadata": {
    "execution": {
     "iopub.execute_input": "2022-01-31T09:40:21.702623Z",
     "iopub.status.busy": "2022-01-31T09:40:21.701937Z",
     "iopub.status.idle": "2022-01-31T09:40:24.132117Z",
     "shell.execute_reply": "2022-01-31T09:40:24.132706Z",
     "shell.execute_reply.started": "2022-01-31T09:34:41.342774Z"
    },
    "papermill": {
     "duration": 2.454652,
     "end_time": "2022-01-31T09:40:24.132937",
     "exception": false,
     "start_time": "2022-01-31T09:40:21.678285",
     "status": "completed"
    },
    "tags": []
   },
   "outputs": [],
   "source": [
    "lemmatizer = WordNetLemmatizer()\n",
    "lemtokens= [lemmatizer.lemmatize(t) for t in tokens]\n",
    "#lemtokens[:9]"
   ]
  },
  {
   "cell_type": "code",
   "execution_count": 9,
   "id": "bb85ff4d",
   "metadata": {
    "execution": {
     "iopub.execute_input": "2022-01-31T09:40:24.184488Z",
     "iopub.status.busy": "2022-01-31T09:40:24.179409Z",
     "iopub.status.idle": "2022-01-31T09:40:24.186434Z",
     "shell.execute_reply": "2022-01-31T09:40:24.187002Z",
     "shell.execute_reply.started": "2022-01-31T09:34:43.972070Z"
    },
    "papermill": {
     "duration": 0.032591,
     "end_time": "2022-01-31T09:40:24.187260",
     "exception": false,
     "start_time": "2022-01-31T09:40:24.154669",
     "status": "completed"
    },
    "tags": []
   },
   "outputs": [],
   "source": [
    "dictionary = list(set(lemtokens)) # set() - неупордоченый набор , list() - упордоченный список\n",
    "#dictionary[:7]\n",
    "#dims = len(dictionary)   dims - 7133"
   ]
  },
  {
   "cell_type": "code",
   "execution_count": 10,
   "id": "06d2171a",
   "metadata": {
    "execution": {
     "iopub.execute_input": "2022-01-31T09:40:24.234631Z",
     "iopub.status.busy": "2022-01-31T09:40:24.233797Z",
     "iopub.status.idle": "2022-01-31T09:40:24.238646Z",
     "shell.execute_reply": "2022-01-31T09:40:24.239280Z",
     "shell.execute_reply.started": "2022-01-31T09:34:43.982176Z"
    },
    "papermill": {
     "duration": 0.030636,
     "end_time": "2022-01-31T09:40:24.239514",
     "exception": false,
     "start_time": "2022-01-31T09:40:24.208878",
     "status": "completed"
    },
    "tags": []
   },
   "outputs": [],
   "source": [
    "def convert(text):\n",
    "    text = clean_text(text)\n",
    "    tok = word_tokenize(text)\n",
    "    lemmatizer = WordNetLemmatizer()\n",
    "    lem = [lemmatizer.lemmatize(t) for t in tok]\n",
    "    res = [dictionary.index(i) for i in lem]\n",
    "    return res"
   ]
  },
  {
   "cell_type": "code",
   "execution_count": 11,
   "id": "123a252c",
   "metadata": {
    "execution": {
     "iopub.execute_input": "2022-01-31T09:40:24.287837Z",
     "iopub.status.busy": "2022-01-31T09:40:24.287028Z",
     "iopub.status.idle": "2022-01-31T09:40:29.826799Z",
     "shell.execute_reply": "2022-01-31T09:40:29.827309Z",
     "shell.execute_reply.started": "2022-01-31T09:34:43.996836Z"
    },
    "papermill": {
     "duration": 5.565429,
     "end_time": "2022-01-31T09:40:29.827531",
     "exception": false,
     "start_time": "2022-01-31T09:40:24.262102",
     "status": "completed"
    },
    "tags": []
   },
   "outputs": [
    {
     "data": {
      "text/plain": [
       "0    [5145, 4756, 5716, 5161, 1333, 3230, 4208, 380...\n",
       "1                 [6624, 6173, 5053, 6559, 4010, 3137]\n",
       "2    [5996, 3387, 4603, 2700, 2994, 6842, 6907, 273...\n",
       "Name: Message, dtype: object"
      ]
     },
     "execution_count": 11,
     "metadata": {},
     "output_type": "execute_result"
    }
   ],
   "source": [
    "X = X.apply(convert)\n",
    "X.head(3)"
   ]
  },
  {
   "cell_type": "code",
   "execution_count": 12,
   "id": "5f2c3921",
   "metadata": {
    "execution": {
     "iopub.execute_input": "2022-01-31T09:40:29.874177Z",
     "iopub.status.busy": "2022-01-31T09:40:29.873420Z",
     "iopub.status.idle": "2022-01-31T09:40:29.878258Z",
     "shell.execute_reply": "2022-01-31T09:40:29.878747Z",
     "shell.execute_reply.started": "2022-01-31T09:34:49.496250Z"
    },
    "papermill": {
     "duration": 0.029993,
     "end_time": "2022-01-31T09:40:29.878933",
     "exception": false,
     "start_time": "2022-01-31T09:40:29.848940",
     "status": "completed"
    },
    "tags": []
   },
   "outputs": [],
   "source": [
    "def encoding(text):\n",
    "    if text == 'ham':\n",
    "        return 0\n",
    "    elif text == 'spam':\n",
    "        return 1\n",
    "    else:\n",
    "        return -1"
   ]
  },
  {
   "cell_type": "code",
   "execution_count": 13,
   "id": "e505120c",
   "metadata": {
    "execution": {
     "iopub.execute_input": "2022-01-31T09:40:29.926996Z",
     "iopub.status.busy": "2022-01-31T09:40:29.926252Z",
     "iopub.status.idle": "2022-01-31T09:40:29.934282Z",
     "shell.execute_reply": "2022-01-31T09:40:29.934983Z",
     "shell.execute_reply.started": "2022-01-31T09:34:49.503053Z"
    },
    "papermill": {
     "duration": 0.033202,
     "end_time": "2022-01-31T09:40:29.935193",
     "exception": false,
     "start_time": "2022-01-31T09:40:29.901991",
     "status": "completed"
    },
    "tags": []
   },
   "outputs": [],
   "source": [
    "Y = Y.apply(encoding) "
   ]
  },
  {
   "cell_type": "code",
   "execution_count": 14,
   "id": "40fedc82",
   "metadata": {
    "execution": {
     "iopub.execute_input": "2022-01-31T09:40:29.982447Z",
     "iopub.status.busy": "2022-01-31T09:40:29.981751Z",
     "iopub.status.idle": "2022-01-31T09:40:29.988407Z",
     "shell.execute_reply": "2022-01-31T09:40:29.988964Z",
     "shell.execute_reply.started": "2022-01-31T09:34:49.525250Z"
    },
    "papermill": {
     "duration": 0.031759,
     "end_time": "2022-01-31T09:40:29.989142",
     "exception": false,
     "start_time": "2022-01-31T09:40:29.957383",
     "status": "completed"
    },
    "tags": []
   },
   "outputs": [],
   "source": [
    "X_train, X_test, Y_train, Y_test = train_test_split(X, Y, test_size=0.2, random_state=42)"
   ]
  },
  {
   "cell_type": "code",
   "execution_count": 15,
   "id": "4a7f5b21",
   "metadata": {
    "execution": {
     "iopub.execute_input": "2022-01-31T09:40:30.036328Z",
     "iopub.status.busy": "2022-01-31T09:40:30.035591Z",
     "iopub.status.idle": "2022-01-31T09:40:30.042770Z",
     "shell.execute_reply": "2022-01-31T09:40:30.043283Z",
     "shell.execute_reply.started": "2022-01-31T09:34:49.539413Z"
    },
    "papermill": {
     "duration": 0.032488,
     "end_time": "2022-01-31T09:40:30.043456",
     "exception": false,
     "start_time": "2022-01-31T09:40:30.010968",
     "status": "completed"
    },
    "tags": []
   },
   "outputs": [
    {
     "name": "stdout",
     "output_type": "stream",
     "text": [
      "X_train 4457\n",
      "Y_test 1115\n"
     ]
    },
    {
     "data": {
      "text/plain": [
       "(4457,)"
      ]
     },
     "execution_count": 15,
     "metadata": {},
     "output_type": "execute_result"
    }
   ],
   "source": [
    "print('X_train', len(X_train))\n",
    "print('Y_test', len(Y_test))\n",
    "X_train.shape"
   ]
  },
  {
   "cell_type": "code",
   "execution_count": 16,
   "id": "4a8e165d",
   "metadata": {
    "execution": {
     "iopub.execute_input": "2022-01-31T09:40:30.092859Z",
     "iopub.status.busy": "2022-01-31T09:40:30.092199Z",
     "iopub.status.idle": "2022-01-31T09:40:30.096420Z",
     "shell.execute_reply": "2022-01-31T09:40:30.096948Z",
     "shell.execute_reply.started": "2022-01-31T09:34:49.551835Z"
    },
    "papermill": {
     "duration": 0.029794,
     "end_time": "2022-01-31T09:40:30.097141",
     "exception": false,
     "start_time": "2022-01-31T09:40:30.067347",
     "status": "completed"
    },
    "tags": []
   },
   "outputs": [],
   "source": [
    "y_train = np.asarray(Y_train).astype(\"float32\")\n",
    "y_test = np.asarray(Y_test).astype(\"float32\")"
   ]
  },
  {
   "cell_type": "code",
   "execution_count": 17,
   "id": "7daf2182",
   "metadata": {
    "execution": {
     "iopub.execute_input": "2022-01-31T09:40:30.149099Z",
     "iopub.status.busy": "2022-01-31T09:40:30.148344Z",
     "iopub.status.idle": "2022-01-31T09:40:30.184732Z",
     "shell.execute_reply": "2022-01-31T09:40:30.184155Z",
     "shell.execute_reply.started": "2022-01-31T09:34:49.559032Z"
    },
    "papermill": {
     "duration": 0.065756,
     "end_time": "2022-01-31T09:40:30.184887",
     "exception": false,
     "start_time": "2022-01-31T09:40:30.119131",
     "status": "completed"
    },
    "tags": []
   },
   "outputs": [],
   "source": [
    "# Only consider the first 50 words\n",
    "x_train = keras.preprocessing.sequence.pad_sequences(X_train, maxlen = 50)\n",
    "x_test = keras.preprocessing.sequence.pad_sequences(X_test, maxlen = 50)"
   ]
  },
  {
   "cell_type": "code",
   "execution_count": 18,
   "id": "3b8f889d",
   "metadata": {
    "execution": {
     "iopub.execute_input": "2022-01-31T09:40:30.232834Z",
     "iopub.status.busy": "2022-01-31T09:40:30.231959Z",
     "iopub.status.idle": "2022-01-31T09:40:30.236840Z",
     "shell.execute_reply": "2022-01-31T09:40:30.237350Z",
     "shell.execute_reply.started": "2022-01-31T09:34:49.609625Z"
    },
    "papermill": {
     "duration": 0.030517,
     "end_time": "2022-01-31T09:40:30.237541",
     "exception": false,
     "start_time": "2022-01-31T09:40:30.207024",
     "status": "completed"
    },
    "tags": []
   },
   "outputs": [
    {
     "data": {
      "text/plain": [
       "(4457, 50)"
      ]
     },
     "execution_count": 18,
     "metadata": {},
     "output_type": "execute_result"
    }
   ],
   "source": [
    "x_train.shape"
   ]
  },
  {
   "cell_type": "code",
   "execution_count": 19,
   "id": "384a9e77",
   "metadata": {
    "execution": {
     "iopub.execute_input": "2022-01-31T09:40:30.287714Z",
     "iopub.status.busy": "2022-01-31T09:40:30.287021Z",
     "iopub.status.idle": "2022-01-31T09:40:30.708120Z",
     "shell.execute_reply": "2022-01-31T09:40:30.707441Z",
     "shell.execute_reply.started": "2022-01-31T09:34:49.620543Z"
    },
    "papermill": {
     "duration": 0.446033,
     "end_time": "2022-01-31T09:40:30.708280",
     "exception": false,
     "start_time": "2022-01-31T09:40:30.262247",
     "status": "completed"
    },
    "tags": []
   },
   "outputs": [
    {
     "name": "stderr",
     "output_type": "stream",
     "text": [
      "\n",
      "User settings:\n",
      "\n",
      "   KMP_AFFINITY=granularity=fine,noverbose,compact,1,0\n",
      "   KMP_BLOCKTIME=0\n",
      "   KMP_DUPLICATE_LIB_OK=True\n",
      "   KMP_INIT_AT_FORK=FALSE\n",
      "   KMP_SETTINGS=1\n",
      "   KMP_WARNINGS=0\n",
      "\n",
      "Effective settings:\n",
      "\n",
      "   KMP_ABORT_DELAY=0\n",
      "   KMP_ADAPTIVE_LOCK_PROPS='1,1024'\n",
      "   KMP_ALIGN_ALLOC=64\n",
      "   KMP_ALL_THREADPRIVATE=128\n",
      "   KMP_ATOMIC_MODE=2\n",
      "   KMP_BLOCKTIME=0\n",
      "   KMP_CPUINFO_FILE: value is not defined\n",
      "   KMP_DETERMINISTIC_REDUCTION=false\n",
      "   KMP_DEVICE_THREAD_LIMIT=2147483647\n",
      "   KMP_DISP_NUM_BUFFERS=7\n",
      "   KMP_DUPLICATE_LIB_OK=true\n",
      "   KMP_ENABLE_TASK_THROTTLING=true\n",
      "   KMP_FORCE_REDUCTION: value is not defined\n",
      "   KMP_FOREIGN_THREADS_THREADPRIVATE=true\n",
      "   KMP_FORKJOIN_BARRIER='2,2'\n",
      "   KMP_FORKJOIN_BARRIER_PATTERN='hyper,hyper'\n",
      "   KMP_GTID_MODE=3\n",
      "   KMP_HANDLE_SIGNALS=false\n",
      "   KMP_HOT_TEAMS_MAX_LEVEL=1\n",
      "   KMP_HOT_TEAMS_MODE=0\n",
      "   KMP_INIT_AT_FORK=true\n",
      "   KMP_LIBRARY=throughput\n",
      "   KMP_LOCK_KIND=queuing\n",
      "   KMP_MALLOC_POOL_INCR=1M\n",
      "   KMP_NUM_LOCKS_IN_BLOCK=1\n",
      "   KMP_PLAIN_BARRIER='2,2'\n",
      "   KMP_PLAIN_BARRIER_PATTERN='hyper,hyper'\n",
      "   KMP_REDUCTION_BARRIER='1,1'\n",
      "   KMP_REDUCTION_BARRIER_PATTERN='hyper,hyper'\n",
      "   KMP_SCHEDULE='static,balanced;guided,iterative'\n",
      "   KMP_SETTINGS=true\n",
      "   KMP_SPIN_BACKOFF_PARAMS='4096,100'\n",
      "   KMP_STACKOFFSET=64\n",
      "   KMP_STACKPAD=0\n",
      "   KMP_STACKSIZE=8M\n",
      "   KMP_STORAGE_MAP=false\n",
      "   KMP_TASKING=2\n",
      "   KMP_TASKLOOP_MIN_TASKS=0\n",
      "   KMP_TASK_STEALING_CONSTRAINT=1\n",
      "   KMP_TEAMS_THREAD_LIMIT=4\n",
      "   KMP_TOPOLOGY_METHOD=all\n",
      "   KMP_USE_YIELD=1\n",
      "   KMP_VERSION=false\n",
      "   KMP_WARNINGS=false\n",
      "   OMP_AFFINITY_FORMAT='OMP: pid %P tid %i thread %n bound to OS proc set {%A}'\n",
      "   OMP_ALLOCATOR=omp_default_mem_alloc\n",
      "   OMP_CANCELLATION=false\n",
      "   OMP_DEFAULT_DEVICE=0\n",
      "   OMP_DISPLAY_AFFINITY=false\n",
      "   OMP_DISPLAY_ENV=false\n",
      "   OMP_DYNAMIC=false\n",
      "   OMP_MAX_ACTIVE_LEVELS=1\n",
      "   OMP_MAX_TASK_PRIORITY=0\n",
      "   OMP_NESTED: deprecated; max-active-levels-var=1\n",
      "   OMP_NUM_THREADS: value is not defined\n",
      "   OMP_PLACES: value is not defined\n",
      "   OMP_PROC_BIND='intel'\n",
      "   OMP_SCHEDULE='static'\n",
      "   OMP_STACKSIZE=8M\n",
      "   OMP_TARGET_OFFLOAD=DEFAULT\n",
      "   OMP_THREAD_LIMIT=2147483647\n",
      "   OMP_WAIT_POLICY=PASSIVE\n",
      "   KMP_AFFINITY='noverbose,warnings,respect,granularity=fine,compact,1,0'\n",
      "\n",
      "2022-01-31 09:40:30.326187: I tensorflow/core/common_runtime/process_util.cc:146] Creating new thread pool with default inter op setting: 2. Tune using inter_op_parallelism_threads for best performance.\n"
     ]
    }
   ],
   "source": [
    "model = keras.Sequential()\n",
    "model.add(layers.Embedding(7500, 64)) \n",
    "model.add(layers.LSTM(128))\n",
    "model.add(layers.Dense(1, activation = 'sigmoid'))"
   ]
  },
  {
   "cell_type": "code",
   "execution_count": 20,
   "id": "7a5bba6d",
   "metadata": {
    "execution": {
     "iopub.execute_input": "2022-01-31T09:40:30.759287Z",
     "iopub.status.busy": "2022-01-31T09:40:30.758598Z",
     "iopub.status.idle": "2022-01-31T09:40:52.044446Z",
     "shell.execute_reply": "2022-01-31T09:40:52.045100Z",
     "shell.execute_reply.started": "2022-01-31T09:34:50.055497Z"
    },
    "papermill": {
     "duration": 21.313038,
     "end_time": "2022-01-31T09:40:52.045320",
     "exception": false,
     "start_time": "2022-01-31T09:40:30.732282",
     "status": "completed"
    },
    "tags": []
   },
   "outputs": [
    {
     "name": "stderr",
     "output_type": "stream",
     "text": [
      "2022-01-31 09:40:30.825735: I tensorflow/compiler/mlir/mlir_graph_optimization_pass.cc:185] None of the MLIR Optimization Passes are enabled (registered 2)\n"
     ]
    },
    {
     "name": "stdout",
     "output_type": "stream",
     "text": [
      "Epoch 1/5\n",
      "28/28 - 6s - loss: 0.4164 - accuracy: 0.8665 - val_loss: 0.3132 - val_accuracy: 0.8576\n",
      "Epoch 2/5\n",
      "28/28 - 4s - loss: 0.1650 - accuracy: 0.9403 - val_loss: 0.1449 - val_accuracy: 0.9619\n",
      "Epoch 3/5\n",
      "28/28 - 4s - loss: 0.0571 - accuracy: 0.9857 - val_loss: 0.0775 - val_accuracy: 0.9776\n",
      "Epoch 4/5\n",
      "28/28 - 4s - loss: 0.0272 - accuracy: 0.9924 - val_loss: 0.0630 - val_accuracy: 0.9809\n",
      "Epoch 5/5\n",
      "28/28 - 4s - loss: 0.0140 - accuracy: 0.9972 - val_loss: 0.0694 - val_accuracy: 0.9798\n"
     ]
    }
   ],
   "source": [
    "my_callbacks = [tf.keras.callbacks.EarlyStopping(patience=2)]\n",
    "\n",
    "model.compile(optimizer = \"adam\",\n",
    "              loss = \"binary_crossentropy\",\n",
    "              metrics = [\"accuracy\"])\n",
    "\n",
    "history = model.fit(x_train,\n",
    "                    y_train,\n",
    "                    epochs = 5,\n",
    "                    batch_size = 128,\n",
    "                    validation_split = 0.2,\n",
    "                    shuffle = True,\n",
    "                    callbacks = my_callbacks,\n",
    "                    verbose = 2)"
   ]
  },
  {
   "cell_type": "code",
   "execution_count": 21,
   "id": "6c634697",
   "metadata": {
    "execution": {
     "iopub.execute_input": "2022-01-31T09:40:52.104284Z",
     "iopub.status.busy": "2022-01-31T09:40:52.103579Z",
     "iopub.status.idle": "2022-01-31T09:40:52.108469Z",
     "shell.execute_reply": "2022-01-31T09:40:52.108987Z",
     "shell.execute_reply.started": "2022-01-31T09:38:52.811829Z"
    },
    "papermill": {
     "duration": 0.035463,
     "end_time": "2022-01-31T09:40:52.109162",
     "exception": false,
     "start_time": "2022-01-31T09:40:52.073699",
     "status": "completed"
    },
    "tags": []
   },
   "outputs": [
    {
     "data": {
      "text/plain": [
       "5"
      ]
     },
     "execution_count": 21,
     "metadata": {},
     "output_type": "execute_result"
    }
   ],
   "source": [
    "len(history.history['loss'])"
   ]
  },
  {
   "cell_type": "code",
   "execution_count": 22,
   "id": "933cfca8",
   "metadata": {
    "execution": {
     "iopub.execute_input": "2022-01-31T09:40:52.165609Z",
     "iopub.status.busy": "2022-01-31T09:40:52.164853Z",
     "iopub.status.idle": "2022-01-31T09:40:52.173229Z",
     "shell.execute_reply": "2022-01-31T09:40:52.174013Z",
     "shell.execute_reply.started": "2022-01-31T09:35:09.527414Z"
    },
    "papermill": {
     "duration": 0.038557,
     "end_time": "2022-01-31T09:40:52.174247",
     "exception": false,
     "start_time": "2022-01-31T09:40:52.135690",
     "status": "completed"
    },
    "tags": []
   },
   "outputs": [
    {
     "name": "stdout",
     "output_type": "stream",
     "text": [
      "Model: \"sequential\"\n",
      "_________________________________________________________________\n",
      "Layer (type)                 Output Shape              Param #   \n",
      "=================================================================\n",
      "embedding (Embedding)        (None, None, 64)          480000    \n",
      "_________________________________________________________________\n",
      "lstm (LSTM)                  (None, 128)               98816     \n",
      "_________________________________________________________________\n",
      "dense (Dense)                (None, 1)                 129       \n",
      "=================================================================\n",
      "Total params: 578,945\n",
      "Trainable params: 578,945\n",
      "Non-trainable params: 0\n",
      "_________________________________________________________________\n",
      "None\n"
     ]
    }
   ],
   "source": [
    "print(model.summary())"
   ]
  },
  {
   "cell_type": "code",
   "execution_count": 23,
   "id": "e650095d",
   "metadata": {
    "execution": {
     "iopub.execute_input": "2022-01-31T09:40:52.233988Z",
     "iopub.status.busy": "2022-01-31T09:40:52.233281Z",
     "iopub.status.idle": "2022-01-31T09:40:52.516060Z",
     "shell.execute_reply": "2022-01-31T09:40:52.515297Z",
     "shell.execute_reply.started": "2022-01-31T09:35:09.536098Z"
    },
    "papermill": {
     "duration": 0.313869,
     "end_time": "2022-01-31T09:40:52.516217",
     "exception": false,
     "start_time": "2022-01-31T09:40:52.202348",
     "status": "completed"
    },
    "tags": []
   },
   "outputs": [
    {
     "data": {
      "image/png": "[encoded data removed]",
      "text/plain": [
       "<Figure size 432x288 with 1 Axes>"
      ]
     },
     "metadata": {
      "needs_background": "light"
     },
     "output_type": "display_data"
    }
   ],
   "source": [
    "history_dict = history.history\n",
    "loss_values = history_dict[\"loss\"]\n",
    "val_loss_values = history_dict[\"val_loss\"]\n",
    "epochs = range(1, len(loss_values) + 1)\n",
    "plt.plot(epochs, loss_values, \"bo\", label=\"Training loss\")\n",
    "plt.plot(epochs, val_loss_values, \"b\", label=\"Validation loss\")\n",
    "plt.title(\"Training and validation loss\")\n",
    "plt.xlabel(\"Epochs\")\n",
    "plt.ylabel(\"Loss\")\n",
    "plt.legend()\n",
    "plt.show()"
   ]
  },
  {
   "cell_type": "code",
   "execution_count": 24,
   "id": "7d308311",
   "metadata": {
    "execution": {
     "iopub.execute_input": "2022-01-31T09:40:52.583330Z",
     "iopub.status.busy": "2022-01-31T09:40:52.582215Z",
     "iopub.status.idle": "2022-01-31T09:40:53.273166Z",
     "shell.execute_reply": "2022-01-31T09:40:53.272535Z",
     "shell.execute_reply.started": "2022-01-31T09:35:09.807934Z"
    },
    "papermill": {
     "duration": 0.727562,
     "end_time": "2022-01-31T09:40:53.273322",
     "exception": false,
     "start_time": "2022-01-31T09:40:52.545760",
     "status": "completed"
    },
    "tags": []
   },
   "outputs": [
    {
     "name": "stdout",
     "output_type": "stream",
     "text": [
      "Test score: 0.06345344334840775\n",
      "Test accuracy: 0.9847533702850342\n"
     ]
    }
   ],
   "source": [
    "score = model.evaluate(x_test, y_test, verbose=0) \n",
    "print('Test score:', score[0]) \n",
    "print('Test accuracy:', score[1])"
   ]
  }
 ],
 "metadata": {
  "kernelspec": {
   "display_name": "Python 3",
   "language": "python",
   "name": "python3"
  },
  "language_info": {
   "codemirror_mode": {
    "name": "ipython",
    "version": 3
   },
   "file_extension": ".py",
   "mimetype": "text/x-python",
   "name": "python",
   "nbconvert_exporter": "python",
   "pygments_lexer": "ipython3",
   "version": "3.7.12"
  },
  "papermill": {
   "default_parameters": {},
   "duration": 54.73811,
   "end_time": "2022-01-31T09:40:55.991337",
   "environment_variables": {},
   "exception": null,
   "input_path": "__notebook__.ipynb",
   "output_path": "__notebook__.ipynb",
   "parameters": {},
   "start_time": "2022-01-31T09:40:01.253227",
   "version": "2.3.3"
  }
 },
 "nbformat": 4,
 "nbformat_minor": 5
}
