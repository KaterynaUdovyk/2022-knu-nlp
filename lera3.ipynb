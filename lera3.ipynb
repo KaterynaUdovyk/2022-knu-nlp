{
 "cells": [
  {
   "cell_type": "code",
   "execution_count": 1,
   "id": "61ef5ecb",
   "metadata": {
    "execution": {
     "iopub.execute_input": "2022-01-30T20:42:17.553858Z",
     "iopub.status.busy": "2022-01-30T20:42:17.552988Z",
     "iopub.status.idle": "2022-01-30T20:42:24.162559Z",
     "shell.execute_reply": "2022-01-30T20:42:24.161603Z",
     "shell.execute_reply.started": "2022-01-30T19:46:09.348349Z"
    },
    "papermill": {
     "duration": 6.64074,
     "end_time": "2022-01-30T20:42:24.162731",
     "exception": false,
     "start_time": "2022-01-30T20:42:17.521991",
     "status": "completed"
    },
    "tags": []
   },
   "outputs": [],
   "source": [
    "from nltk.tokenize import word_tokenize\n",
    "from nltk.corpus import stopwords\n",
    "from nltk.stem import WordNetLemmatizer\n",
    "from collections import Counter\n",
    "import pandas as pd\n",
    "import re\n",
    "import string\n",
    "import matplotlib.pyplot as plt\n",
    "from sklearn.model_selection import train_test_split\n",
    "import tensorflow as tf\n",
    "from tensorflow import keras\n",
    "from tensorflow.keras import layers\n",
    "import numpy as np"
   ]
  },
  {
   "cell_type": "code",
   "execution_count": 2,
   "id": "64b3221b",
   "metadata": {
    "execution": {
     "iopub.execute_input": "2022-01-30T20:42:24.205913Z",
     "iopub.status.busy": "2022-01-30T20:42:24.204926Z",
     "iopub.status.idle": "2022-01-30T20:42:24.250400Z",
     "shell.execute_reply": "2022-01-30T20:42:24.250881Z",
     "shell.execute_reply.started": "2022-01-30T19:46:17.486335Z"
    },
    "papermill": {
     "duration": 0.068339,
     "end_time": "2022-01-30T20:42:24.251040",
     "exception": false,
     "start_time": "2022-01-30T20:42:24.182701",
     "status": "completed"
    },
    "tags": []
   },
   "outputs": [
    {
     "data": {
      "text/html": [
       "<div>\n",
       "<style scoped>\n",
       "    .dataframe tbody tr th:only-of-type {\n",
       "        vertical-align: middle;\n",
       "    }\n",
       "\n",
       "    .dataframe tbody tr th {\n",
       "        vertical-align: top;\n",
       "    }\n",
       "\n",
       "    .dataframe thead th {\n",
       "        text-align: right;\n",
       "    }\n",
       "</style>\n",
       "<table border=\"1\" class=\"dataframe\">\n",
       "  <thead>\n",
       "    <tr style=\"text-align: right;\">\n",
       "      <th></th>\n",
       "      <th>Category</th>\n",
       "      <th>Message</th>\n",
       "    </tr>\n",
       "  </thead>\n",
       "  <tbody>\n",
       "    <tr>\n",
       "      <th>0</th>\n",
       "      <td>ham</td>\n",
       "      <td>Go until jurong point, crazy.. Available only ...</td>\n",
       "    </tr>\n",
       "    <tr>\n",
       "      <th>1</th>\n",
       "      <td>ham</td>\n",
       "      <td>Ok lar... Joking wif u oni...</td>\n",
       "    </tr>\n",
       "    <tr>\n",
       "      <th>2</th>\n",
       "      <td>spam</td>\n",
       "      <td>Free entry in 2 a wkly comp to win FA Cup fina...</td>\n",
       "    </tr>\n",
       "    <tr>\n",
       "      <th>3</th>\n",
       "      <td>ham</td>\n",
       "      <td>U dun say so early hor... U c already then say...</td>\n",
       "    </tr>\n",
       "    <tr>\n",
       "      <th>4</th>\n",
       "      <td>ham</td>\n",
       "      <td>Nah I don't think he goes to usf, he lives aro...</td>\n",
       "    </tr>\n",
       "  </tbody>\n",
       "</table>\n",
       "</div>"
      ],
      "text/plain": [
       "  Category                                            Message\n",
       "0      ham  Go until jurong point, crazy.. Available only ...\n",
       "1      ham                      Ok lar... Joking wif u oni...\n",
       "2     spam  Free entry in 2 a wkly comp to win FA Cup fina...\n",
       "3      ham  U dun say so early hor... U c already then say...\n",
       "4      ham  Nah I don't think he goes to usf, he lives aro..."
      ]
     },
     "execution_count": 2,
     "metadata": {},
     "output_type": "execute_result"
    }
   ],
   "source": [
    "spam_path = \"../input/spam-text-message-classification/SPAM text message 20170820 - Data.csv\"\n",
    "df = pd.read_csv(spam_path)\n",
    "df.head()"
   ]
  },
  {
   "cell_type": "code",
   "execution_count": 3,
   "id": "ca32f5a4",
   "metadata": {
    "execution": {
     "iopub.execute_input": "2022-01-30T20:42:24.294149Z",
     "iopub.status.busy": "2022-01-30T20:42:24.293175Z",
     "iopub.status.idle": "2022-01-30T20:42:24.303071Z",
     "shell.execute_reply": "2022-01-30T20:42:24.303741Z",
     "shell.execute_reply.started": "2022-01-30T19:46:17.548283Z"
    },
    "papermill": {
     "duration": 0.032833,
     "end_time": "2022-01-30T20:42:24.303903",
     "exception": false,
     "start_time": "2022-01-30T20:42:24.271070",
     "status": "completed"
    },
    "tags": []
   },
   "outputs": [
    {
     "data": {
      "text/plain": [
       "(0    Go until jurong point, crazy.. Available only ...\n",
       " 1                        Ok lar... Joking wif u oni...\n",
       " 2    Free entry in 2 a wkly comp to win FA Cup fina...\n",
       " Name: Message, dtype: object,\n",
       " 0     ham\n",
       " 1     ham\n",
       " 2    spam\n",
       " Name: Category, dtype: object)"
      ]
     },
     "execution_count": 3,
     "metadata": {},
     "output_type": "execute_result"
    }
   ],
   "source": [
    "X = df.Message\n",
    "Y = df.Category\n",
    "X.head(3), Y.head(3)"
   ]
  },
  {
   "cell_type": "code",
   "execution_count": 4,
   "id": "f1821fb7",
   "metadata": {
    "execution": {
     "iopub.execute_input": "2022-01-30T20:42:24.346963Z",
     "iopub.status.busy": "2022-01-30T20:42:24.346012Z",
     "iopub.status.idle": "2022-01-30T20:42:24.353711Z",
     "shell.execute_reply": "2022-01-30T20:42:24.354241Z",
     "shell.execute_reply.started": "2022-01-30T19:46:17.562038Z"
    },
    "papermill": {
     "duration": 0.030944,
     "end_time": "2022-01-30T20:42:24.354436",
     "exception": false,
     "start_time": "2022-01-30T20:42:24.323492",
     "status": "completed"
    },
    "tags": []
   },
   "outputs": [],
   "source": [
    "whole_text = ''\n",
    "for i in X:\n",
    "    whole_text += i + ' '"
   ]
  },
  {
   "cell_type": "code",
   "execution_count": 5,
   "id": "82a173c4",
   "metadata": {
    "execution": {
     "iopub.execute_input": "2022-01-30T20:42:24.398687Z",
     "iopub.status.busy": "2022-01-30T20:42:24.397697Z",
     "iopub.status.idle": "2022-01-30T20:42:24.410281Z",
     "shell.execute_reply": "2022-01-30T20:42:24.410936Z",
     "shell.execute_reply.started": "2022-01-30T19:46:17.576383Z"
    },
    "papermill": {
     "duration": 0.036998,
     "end_time": "2022-01-30T20:42:24.411119",
     "exception": false,
     "start_time": "2022-01-30T20:42:24.374121",
     "status": "completed"
    },
    "tags": []
   },
   "outputs": [],
   "source": [
    "stop_words = stopwords.words(\"english\")\n",
    "def clean_text(text):\n",
    "    text = text.lower()           # converting to lowercase\n",
    "    text = re.sub(\"@\\S+\", \" \", text)  \n",
    "    text = re.sub(\"https*\\S+\", \" \", text)      #\\S - не пробел \n",
    "    text = re.sub(\"www\\S+\", \" \", text)\n",
    "    text = re.sub(\"#\\S+\", \" \", text)\n",
    "    text = re.sub(\"\\d\", \" \", text)        # remove all numbers\n",
    "    text = re.sub('[%s]' % re.escape(string.punctuation), ' ', text)     # remove punctuations\n",
    "    text = re.sub('\\n', ' ', text)        \n",
    "    text = re.sub('\\s{2,}',' ', text)        # remove extra spaces\n",
    "    text = ' '.join([word for word in text.split(' ') if word not in stop_words])\n",
    "    return text"
   ]
  },
  {
   "cell_type": "code",
   "execution_count": 6,
   "id": "21faa325",
   "metadata": {
    "execution": {
     "iopub.execute_input": "2022-01-30T20:42:24.558356Z",
     "iopub.status.busy": "2022-01-30T20:42:24.537779Z",
     "iopub.status.idle": "2022-01-30T20:42:24.683101Z",
     "shell.execute_reply": "2022-01-30T20:42:24.682527Z",
     "shell.execute_reply.started": "2022-01-30T19:46:17.596038Z"
    },
    "papermill": {
     "duration": 0.251572,
     "end_time": "2022-01-30T20:42:24.683256",
     "exception": false,
     "start_time": "2022-01-30T20:42:24.431684",
     "status": "completed"
    },
    "tags": []
   },
   "outputs": [],
   "source": [
    "whole_text_clean = clean_text(whole_text)\n",
    "#whole_text_clean[:120]"
   ]
  },
  {
   "cell_type": "code",
   "execution_count": 7,
   "id": "b4bdfb26",
   "metadata": {
    "execution": {
     "iopub.execute_input": "2022-01-30T20:42:24.728354Z",
     "iopub.status.busy": "2022-01-30T20:42:24.727712Z",
     "iopub.status.idle": "2022-01-30T20:42:25.148860Z",
     "shell.execute_reply": "2022-01-30T20:42:25.148177Z",
     "shell.execute_reply.started": "2022-01-30T19:46:17.831303Z"
    },
    "papermill": {
     "duration": 0.445477,
     "end_time": "2022-01-30T20:42:25.149007",
     "exception": false,
     "start_time": "2022-01-30T20:42:24.703530",
     "status": "completed"
    },
    "tags": []
   },
   "outputs": [],
   "source": [
    "tokens = word_tokenize(whole_text_clean)\n",
    "#tokens[:9]"
   ]
  },
  {
   "cell_type": "code",
   "execution_count": 8,
   "id": "3d66f533",
   "metadata": {
    "execution": {
     "iopub.execute_input": "2022-01-30T20:42:25.194456Z",
     "iopub.status.busy": "2022-01-30T20:42:25.193797Z",
     "iopub.status.idle": "2022-01-30T20:42:27.600357Z",
     "shell.execute_reply": "2022-01-30T20:42:27.599758Z",
     "shell.execute_reply.started": "2022-01-30T19:46:18.251955Z"
    },
    "papermill": {
     "duration": 2.430709,
     "end_time": "2022-01-30T20:42:27.600506",
     "exception": false,
     "start_time": "2022-01-30T20:42:25.169797",
     "status": "completed"
    },
    "tags": []
   },
   "outputs": [],
   "source": [
    "lemmatizer = WordNetLemmatizer()\n",
    "lemtokens= [lemmatizer.lemmatize(t) for t in tokens]\n",
    "#lemtokens[:9]"
   ]
  },
  {
   "cell_type": "code",
   "execution_count": 9,
   "id": "7d06ed69",
   "metadata": {
    "execution": {
     "iopub.execute_input": "2022-01-30T20:42:27.647834Z",
     "iopub.status.busy": "2022-01-30T20:42:27.647170Z",
     "iopub.status.idle": "2022-01-30T20:42:27.649878Z",
     "shell.execute_reply": "2022-01-30T20:42:27.649381Z",
     "shell.execute_reply.started": "2022-01-30T19:46:20.641121Z"
    },
    "papermill": {
     "duration": 0.029516,
     "end_time": "2022-01-30T20:42:27.650017",
     "exception": false,
     "start_time": "2022-01-30T20:42:27.620501",
     "status": "completed"
    },
    "tags": []
   },
   "outputs": [],
   "source": [
    "dictionary = list(set(lemtokens)) # set() - неупордоченый набор , list() - упордоченный список\n",
    "#dictionary[:7]\n",
    "#dims = len(dictionary)   dims - 7133"
   ]
  },
  {
   "cell_type": "code",
   "execution_count": 10,
   "id": "93a5b8ac",
   "metadata": {
    "execution": {
     "iopub.execute_input": "2022-01-30T20:42:27.693177Z",
     "iopub.status.busy": "2022-01-30T20:42:27.692563Z",
     "iopub.status.idle": "2022-01-30T20:42:27.696706Z",
     "shell.execute_reply": "2022-01-30T20:42:27.697291Z",
     "shell.execute_reply.started": "2022-01-30T19:46:20.664681Z"
    },
    "papermill": {
     "duration": 0.027557,
     "end_time": "2022-01-30T20:42:27.697492",
     "exception": false,
     "start_time": "2022-01-30T20:42:27.669935",
     "status": "completed"
    },
    "tags": []
   },
   "outputs": [],
   "source": [
    "def convert(text):\n",
    "    text = clean_text(text)\n",
    "    tok = word_tokenize(text)\n",
    "    lemmatizer = WordNetLemmatizer()\n",
    "    lem = [lemmatizer.lemmatize(t) for t in tok]\n",
    "    res = [dictionary.index(i) for i in lem]\n",
    "    return res"
   ]
  },
  {
   "cell_type": "code",
   "execution_count": 11,
   "id": "bfd8fbbc",
   "metadata": {
    "execution": {
     "iopub.execute_input": "2022-01-30T20:42:27.761411Z",
     "iopub.status.busy": "2022-01-30T20:42:27.745850Z",
     "iopub.status.idle": "2022-01-30T20:42:33.096821Z",
     "shell.execute_reply": "2022-01-30T20:42:33.096180Z",
     "shell.execute_reply.started": "2022-01-30T19:46:20.676368Z"
    },
    "papermill": {
     "duration": 5.380029,
     "end_time": "2022-01-30T20:42:33.096954",
     "exception": false,
     "start_time": "2022-01-30T20:42:27.716925",
     "status": "completed"
    },
    "tags": []
   },
   "outputs": [
    {
     "data": {
      "text/plain": [
       "0    [612, 814, 1779, 6328, 4730, 56, 2239, 1185, 4...\n",
       "1                   [4549, 5749, 5087, 81, 5493, 7031]\n",
       "2    [1143, 1054, 4061, 6315, 5625, 5140, 5596, 674...\n",
       "Name: Message, dtype: object"
      ]
     },
     "execution_count": 11,
     "metadata": {},
     "output_type": "execute_result"
    }
   ],
   "source": [
    "X = X.apply(convert)\n",
    "X.head(3)"
   ]
  },
  {
   "cell_type": "code",
   "execution_count": 12,
   "id": "28e7cda3",
   "metadata": {
    "execution": {
     "iopub.execute_input": "2022-01-30T20:42:33.142213Z",
     "iopub.status.busy": "2022-01-30T20:42:33.141611Z",
     "iopub.status.idle": "2022-01-30T20:42:33.143263Z",
     "shell.execute_reply": "2022-01-30T20:42:33.143758Z",
     "shell.execute_reply.started": "2022-01-30T19:46:26.084809Z"
    },
    "papermill": {
     "duration": 0.026847,
     "end_time": "2022-01-30T20:42:33.143912",
     "exception": false,
     "start_time": "2022-01-30T20:42:33.117065",
     "status": "completed"
    },
    "tags": []
   },
   "outputs": [],
   "source": [
    "def encoding(text):\n",
    "    if text == 'ham':\n",
    "        return 0\n",
    "    elif text == 'spam':\n",
    "        return 1\n",
    "    else:\n",
    "        return -1"
   ]
  },
  {
   "cell_type": "code",
   "execution_count": 13,
   "id": "3dde6dbb",
   "metadata": {
    "execution": {
     "iopub.execute_input": "2022-01-30T20:42:33.193025Z",
     "iopub.status.busy": "2022-01-30T20:42:33.192370Z",
     "iopub.status.idle": "2022-01-30T20:42:33.193907Z",
     "shell.execute_reply": "2022-01-30T20:42:33.194382Z",
     "shell.execute_reply.started": "2022-01-30T20:41:51.956924Z"
    },
    "papermill": {
     "duration": 0.030704,
     "end_time": "2022-01-30T20:42:33.194555",
     "exception": false,
     "start_time": "2022-01-30T20:42:33.163851",
     "status": "completed"
    },
    "tags": []
   },
   "outputs": [],
   "source": [
    "Y = Y.apply(encoding) "
   ]
  },
  {
   "cell_type": "code",
   "execution_count": 14,
   "id": "0c1302e7",
   "metadata": {
    "execution": {
     "iopub.execute_input": "2022-01-30T20:42:33.238370Z",
     "iopub.status.busy": "2022-01-30T20:42:33.237735Z",
     "iopub.status.idle": "2022-01-30T20:42:33.242820Z",
     "shell.execute_reply": "2022-01-30T20:42:33.243321Z",
     "shell.execute_reply.started": "2022-01-30T19:46:26.121774Z"
    },
    "papermill": {
     "duration": 0.028635,
     "end_time": "2022-01-30T20:42:33.243484",
     "exception": false,
     "start_time": "2022-01-30T20:42:33.214849",
     "status": "completed"
    },
    "tags": []
   },
   "outputs": [],
   "source": [
    "X_train, X_test, Y_train, Y_test = train_test_split(X, Y, test_size=0.2, random_state=42)"
   ]
  },
  {
   "cell_type": "code",
   "execution_count": 15,
   "id": "cffd5de0",
   "metadata": {
    "execution": {
     "iopub.execute_input": "2022-01-30T20:42:33.286679Z",
     "iopub.status.busy": "2022-01-30T20:42:33.286018Z",
     "iopub.status.idle": "2022-01-30T20:42:33.291958Z",
     "shell.execute_reply": "2022-01-30T20:42:33.292495Z",
     "shell.execute_reply.started": "2022-01-30T19:57:15.442259Z"
    },
    "papermill": {
     "duration": 0.029148,
     "end_time": "2022-01-30T20:42:33.292664",
     "exception": false,
     "start_time": "2022-01-30T20:42:33.263516",
     "status": "completed"
    },
    "tags": []
   },
   "outputs": [
    {
     "name": "stdout",
     "output_type": "stream",
     "text": [
      "X_train 4457\n",
      "Y_test 1115\n"
     ]
    },
    {
     "data": {
      "text/plain": [
       "(4457,)"
      ]
     },
     "execution_count": 15,
     "metadata": {},
     "output_type": "execute_result"
    }
   ],
   "source": [
    "print('X_train', len(X_train))\n",
    "print('Y_test', len(Y_test))\n",
    "X_train.shape"
   ]
  },
  {
   "cell_type": "code",
   "execution_count": 16,
   "id": "407c2ae5",
   "metadata": {
    "execution": {
     "iopub.execute_input": "2022-01-30T20:42:33.337531Z",
     "iopub.status.busy": "2022-01-30T20:42:33.336919Z",
     "iopub.status.idle": "2022-01-30T20:42:33.340834Z",
     "shell.execute_reply": "2022-01-30T20:42:33.341370Z",
     "shell.execute_reply.started": "2022-01-30T19:46:26.143078Z"
    },
    "papermill": {
     "duration": 0.027841,
     "end_time": "2022-01-30T20:42:33.341535",
     "exception": false,
     "start_time": "2022-01-30T20:42:33.313694",
     "status": "completed"
    },
    "tags": []
   },
   "outputs": [],
   "source": [
    "y_train = np.asarray(Y_train).astype(\"float32\")\n",
    "y_test = np.asarray(Y_test).astype(\"float32\")"
   ]
  },
  {
   "cell_type": "code",
   "execution_count": 17,
   "id": "c66e5ee6",
   "metadata": {
    "execution": {
     "iopub.execute_input": "2022-01-30T20:42:33.385956Z",
     "iopub.status.busy": "2022-01-30T20:42:33.385311Z",
     "iopub.status.idle": "2022-01-30T20:42:33.423745Z",
     "shell.execute_reply": "2022-01-30T20:42:33.424279Z",
     "shell.execute_reply.started": "2022-01-30T19:46:26.171649Z"
    },
    "papermill": {
     "duration": 0.062064,
     "end_time": "2022-01-30T20:42:33.424460",
     "exception": false,
     "start_time": "2022-01-30T20:42:33.362396",
     "status": "completed"
    },
    "tags": []
   },
   "outputs": [],
   "source": [
    "# Only consider the first 50 words\n",
    "x_train = keras.preprocessing.sequence.pad_sequences(X_train, maxlen = 50)\n",
    "x_test = keras.preprocessing.sequence.pad_sequences(X_test, maxlen = 50)"
   ]
  },
  {
   "cell_type": "code",
   "execution_count": 18,
   "id": "9d6be95f",
   "metadata": {
    "execution": {
     "iopub.execute_input": "2022-01-30T20:42:33.471259Z",
     "iopub.status.busy": "2022-01-30T20:42:33.470585Z",
     "iopub.status.idle": "2022-01-30T20:42:33.475921Z",
     "shell.execute_reply": "2022-01-30T20:42:33.475411Z",
     "shell.execute_reply.started": "2022-01-30T20:34:14.223368Z"
    },
    "papermill": {
     "duration": 0.029087,
     "end_time": "2022-01-30T20:42:33.476052",
     "exception": false,
     "start_time": "2022-01-30T20:42:33.446965",
     "status": "completed"
    },
    "tags": []
   },
   "outputs": [
    {
     "data": {
      "text/plain": [
       "(4457, 50)"
      ]
     },
     "execution_count": 18,
     "metadata": {},
     "output_type": "execute_result"
    }
   ],
   "source": [
    "x_train.shape"
   ]
  },
  {
   "cell_type": "code",
   "execution_count": 19,
   "id": "31a21654",
   "metadata": {
    "execution": {
     "iopub.execute_input": "2022-01-30T20:42:33.525196Z",
     "iopub.status.busy": "2022-01-30T20:42:33.524532Z",
     "iopub.status.idle": "2022-01-30T20:42:33.916634Z",
     "shell.execute_reply": "2022-01-30T20:42:33.916093Z",
     "shell.execute_reply.started": "2022-01-30T20:36:54.779598Z"
    },
    "papermill": {
     "duration": 0.419087,
     "end_time": "2022-01-30T20:42:33.916794",
     "exception": false,
     "start_time": "2022-01-30T20:42:33.497707",
     "status": "completed"
    },
    "tags": []
   },
   "outputs": [
    {
     "name": "stderr",
     "output_type": "stream",
     "text": [
      "\n",
      "User settings:\n",
      "\n",
      "   KMP_AFFINITY=granularity=fine,noverbose,compact,1,0\n",
      "   KMP_BLOCKTIME=0\n",
      "   KMP_DUPLICATE_LIB_OK=True\n",
      "   KMP_INIT_AT_FORK=FALSE\n",
      "   KMP_SETTINGS=1\n",
      "   KMP_WARNINGS=0\n",
      "\n",
      "Effective settings:\n",
      "\n",
      "   KMP_ABORT_DELAY=0\n",
      "   KMP_ADAPTIVE_LOCK_PROPS='1,1024'\n",
      "   KMP_ALIGN_ALLOC=64\n",
      "   KMP_ALL_THREADPRIVATE=128\n",
      "   KMP_ATOMIC_MODE=2\n",
      "   KMP_BLOCKTIME=0\n",
      "   KMP_CPUINFO_FILE: value is not defined\n",
      "   KMP_DETERMINISTIC_REDUCTION=false\n",
      "   KMP_DEVICE_THREAD_LIMIT=2147483647\n",
      "   KMP_DISP_NUM_BUFFERS=7\n",
      "   KMP_DUPLICATE_LIB_OK=true\n",
      "   KMP_ENABLE_TASK_THROTTLING=true\n",
      "   KMP_FORCE_REDUCTION: value is not defined\n",
      "   KMP_FOREIGN_THREADS_THREADPRIVATE=true\n",
      "   KMP_FORKJOIN_BARRIER='2,2'\n",
      "   KMP_FORKJOIN_BARRIER_PATTERN='hyper,hyper'\n",
      "   KMP_GTID_MODE=3\n",
      "   KMP_HANDLE_SIGNALS=false\n",
      "   KMP_HOT_TEAMS_MAX_LEVEL=1\n",
      "   KMP_HOT_TEAMS_MODE=0\n",
      "   KMP_INIT_AT_FORK=true\n",
      "   KMP_LIBRARY=throughput\n",
      "   KMP_LOCK_KIND=queuing\n",
      "   KMP_MALLOC_POOL_INCR=1M\n",
      "   KMP_NUM_LOCKS_IN_BLOCK=1\n",
      "   KMP_PLAIN_BARRIER='2,2'\n",
      "   KMP_PLAIN_BARRIER_PATTERN='hyper,hyper'\n",
      "   KMP_REDUCTION_BARRIER='1,1'\n",
      "   KMP_REDUCTION_BARRIER_PATTERN='hyper,hyper'\n",
      "   KMP_SCHEDULE='static,balanced;guided,iterative'\n",
      "   KMP_SETTINGS=true\n",
      "   KMP_SPIN_BACKOFF_PARAMS='4096,100'\n",
      "   KMP_STACKOFFSET=64\n",
      "   KMP_STACKPAD=0\n",
      "   KMP_STACKSIZE=8M\n",
      "   KMP_STORAGE_MAP=false\n",
      "   KMP_TASKING=2\n",
      "   KMP_TASKLOOP_MIN_TASKS=0\n",
      "   KMP_TASK_STEALING_CONSTRAINT=1\n",
      "   KMP_TEAMS_THREAD_LIMIT=4\n",
      "   KMP_TOPOLOGY_METHOD=all\n",
      "   KMP_USE_YIELD=1\n",
      "   KMP_VERSION=false\n",
      "   KMP_WARNINGS=false\n",
      "   OMP_AFFINITY_FORMAT='OMP: pid %P tid %i thread %n bound to OS proc set {%A}'\n",
      "   OMP_ALLOCATOR=omp_default_mem_alloc\n",
      "   OMP_CANCELLATION=false\n",
      "   OMP_DEFAULT_DEVICE=0\n",
      "   OMP_DISPLAY_AFFINITY=false\n",
      "   OMP_DISPLAY_ENV=false\n",
      "   OMP_DYNAMIC=false\n",
      "   OMP_MAX_ACTIVE_LEVELS=1\n",
      "   OMP_MAX_TASK_PRIORITY=0\n",
      "   OMP_NESTED: deprecated; max-active-levels-var=1\n",
      "   OMP_NUM_THREADS: value is not defined\n",
      "   OMP_PLACES: value is not defined\n",
      "   OMP_PROC_BIND='intel'\n",
      "   OMP_SCHEDULE='static'\n",
      "   OMP_STACKSIZE=8M\n",
      "   OMP_TARGET_OFFLOAD=DEFAULT\n",
      "   OMP_THREAD_LIMIT=2147483647\n",
      "   OMP_WAIT_POLICY=PASSIVE\n",
      "   KMP_AFFINITY='noverbose,warnings,respect,granularity=fine,compact,1,0'\n",
      "\n",
      "2022-01-30 20:42:33.556078: I tensorflow/core/common_runtime/process_util.cc:146] Creating new thread pool with default inter op setting: 2. Tune using inter_op_parallelism_threads for best performance.\n"
     ]
    }
   ],
   "source": [
    "model = keras.Sequential()\n",
    "model.add(layers.Embedding(7500, 64)) \n",
    "model.add(layers.LSTM(128))\n",
    "model.add(layers.Dense(1, activation = 'sigmoid'))"
   ]
  },
  {
   "cell_type": "code",
   "execution_count": 20,
   "id": "eca999fc",
   "metadata": {
    "execution": {
     "iopub.execute_input": "2022-01-30T20:42:33.972992Z",
     "iopub.status.busy": "2022-01-30T20:42:33.971981Z",
     "iopub.status.idle": "2022-01-30T20:42:52.358962Z",
     "shell.execute_reply": "2022-01-30T20:42:52.358164Z",
     "shell.execute_reply.started": "2022-01-30T20:36:56.958789Z"
    },
    "papermill": {
     "duration": 18.419558,
     "end_time": "2022-01-30T20:42:52.359130",
     "exception": false,
     "start_time": "2022-01-30T20:42:33.939572",
     "status": "completed"
    },
    "tags": []
   },
   "outputs": [
    {
     "name": "stderr",
     "output_type": "stream",
     "text": [
      "2022-01-30 20:42:34.024870: I tensorflow/compiler/mlir/mlir_graph_optimization_pass.cc:185] None of the MLIR Optimization Passes are enabled (registered 2)\n"
     ]
    },
    {
     "name": "stdout",
     "output_type": "stream",
     "text": [
      "Epoch 1/5\n",
      "28/28 - 6s - loss: 0.4244 - accuracy: 0.8628 - val_loss: 0.2970 - val_accuracy: 0.8587\n",
      "Epoch 2/5\n",
      "28/28 - 3s - loss: 0.1630 - accuracy: 0.9414 - val_loss: 0.1200 - val_accuracy: 0.9686\n",
      "Epoch 3/5\n",
      "28/28 - 3s - loss: 0.0539 - accuracy: 0.9868 - val_loss: 0.0749 - val_accuracy: 0.9787\n",
      "Epoch 4/5\n",
      "28/28 - 3s - loss: 0.0233 - accuracy: 0.9924 - val_loss: 0.0614 - val_accuracy: 0.9843\n",
      "Epoch 5/5\n",
      "28/28 - 3s - loss: 0.0114 - accuracy: 0.9966 - val_loss: 0.0673 - val_accuracy: 0.9809\n"
     ]
    }
   ],
   "source": [
    "model.compile(optimizer = \"adam\",\n",
    "              loss = \"binary_crossentropy\",\n",
    "              metrics = [\"accuracy\"])\n",
    "\n",
    "history = model.fit(x_train,\n",
    "                    y_train,\n",
    "                    epochs = 5,\n",
    "                    batch_size = 128,\n",
    "                    validation_split = 0.2,\n",
    "                    shuffle = True,\n",
    "                    verbose = 2)"
   ]
  },
  {
   "cell_type": "code",
   "execution_count": 21,
   "id": "cd0b85a4",
   "metadata": {
    "execution": {
     "iopub.execute_input": "2022-01-30T20:42:52.412512Z",
     "iopub.status.busy": "2022-01-30T20:42:52.411899Z",
     "iopub.status.idle": "2022-01-30T20:42:52.419867Z",
     "shell.execute_reply": "2022-01-30T20:42:52.420858Z",
     "shell.execute_reply.started": "2022-01-30T20:37:30.032721Z"
    },
    "papermill": {
     "duration": 0.036814,
     "end_time": "2022-01-30T20:42:52.421146",
     "exception": false,
     "start_time": "2022-01-30T20:42:52.384332",
     "status": "completed"
    },
    "tags": []
   },
   "outputs": [
    {
     "name": "stdout",
     "output_type": "stream",
     "text": [
      "Model: \"sequential\"\n",
      "_________________________________________________________________\n",
      "Layer (type)                 Output Shape              Param #   \n",
      "=================================================================\n",
      "embedding (Embedding)        (None, None, 64)          480000    \n",
      "_________________________________________________________________\n",
      "lstm (LSTM)                  (None, 128)               98816     \n",
      "_________________________________________________________________\n",
      "dense (Dense)                (None, 1)                 129       \n",
      "=================================================================\n",
      "Total params: 578,945\n",
      "Trainable params: 578,945\n",
      "Non-trainable params: 0\n",
      "_________________________________________________________________\n",
      "None\n"
     ]
    }
   ],
   "source": [
    "print(model.summary())"
   ]
  },
  {
   "cell_type": "code",
   "execution_count": 22,
   "id": "65ca82a1",
   "metadata": {
    "execution": {
     "iopub.execute_input": "2022-01-30T20:42:52.475741Z",
     "iopub.status.busy": "2022-01-30T20:42:52.475121Z",
     "iopub.status.idle": "2022-01-30T20:42:52.703684Z",
     "shell.execute_reply": "2022-01-30T20:42:52.704136Z",
     "shell.execute_reply.started": "2022-01-30T20:37:33.004780Z"
    },
    "papermill": {
     "duration": 0.256502,
     "end_time": "2022-01-30T20:42:52.704320",
     "exception": false,
     "start_time": "2022-01-30T20:42:52.447818",
     "status": "completed"
    },
    "tags": []
   },
   "outputs": [
    {
     "data": {
      "image/png": "[encoded data removed]",
      "text/plain": [
       "<Figure size 432x288 with 1 Axes>"
      ]
     },
     "metadata": {
      "needs_background": "light"
     },
     "output_type": "display_data"
    }
   ],
   "source": [
    "history_dict = history.history\n",
    "loss_values = history_dict[\"loss\"]\n",
    "val_loss_values = history_dict[\"val_loss\"]\n",
    "epochs = range(1, len(loss_values) + 1)\n",
    "plt.plot(epochs, loss_values, \"bo\", label=\"Training loss\")\n",
    "plt.plot(epochs, val_loss_values, \"b\", label=\"Validation loss\")\n",
    "plt.title(\"Training and validation loss\")\n",
    "plt.xlabel(\"Epochs\")\n",
    "plt.ylabel(\"Loss\")\n",
    "plt.legend()\n",
    "plt.show()"
   ]
  },
  {
   "cell_type": "code",
   "execution_count": 23,
   "id": "228ddae8",
   "metadata": {
    "execution": {
     "iopub.execute_input": "2022-01-30T20:42:52.763411Z",
     "iopub.status.busy": "2022-01-30T20:42:52.762763Z",
     "iopub.status.idle": "2022-01-30T20:42:53.340804Z",
     "shell.execute_reply": "2022-01-30T20:42:53.340163Z",
     "shell.execute_reply.started": "2022-01-30T20:37:36.370097Z"
    },
    "papermill": {
     "duration": 0.610666,
     "end_time": "2022-01-30T20:42:53.340947",
     "exception": false,
     "start_time": "2022-01-30T20:42:52.730281",
     "status": "completed"
    },
    "tags": []
   },
   "outputs": [
    {
     "name": "stdout",
     "output_type": "stream",
     "text": [
      "Test score: 0.05617668852210045\n",
      "Test accuracy: 0.9865471124649048\n"
     ]
    }
   ],
   "source": [
    "score = model.evaluate(x_test, y_test, verbose=0) \n",
    "print('Test score:', score[0]) \n",
    "print('Test accuracy:', score[1])"
   ]
  }
 ],
 "metadata": {
  "kernelspec": {
   "display_name": "Python 3",
   "language": "python",
   "name": "python3"
  },
  "language_info": {
   "codemirror_mode": {
    "name": "ipython",
    "version": 3
   },
   "file_extension": ".py",
   "mimetype": "text/x-python",
   "name": "python",
   "nbconvert_exporter": "python",
   "pygments_lexer": "ipython3",
   "version": "3.7.12"
  },
  "papermill": {
   "default_parameters": {},
   "duration": 48.469772,
   "end_time": "2022-01-30T20:42:56.941373",
   "environment_variables": {},
   "exception": null,
   "input_path": "__notebook__.ipynb",
   "output_path": "__notebook__.ipynb",
   "parameters": {},
   "start_time": "2022-01-30T20:42:08.471601",
   "version": "2.3.3"
  }
 },
 "nbformat": 4,
 "nbformat_minor": 5
}
