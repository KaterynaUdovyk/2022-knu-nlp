{
 "cells": [
  {
   "cell_type": "code",
   "execution_count": 112,
   "id": "c99f141a",
   "metadata": {},
   "outputs": [],
   "source": [
    "#importing all necessary modules \n",
    "\n",
    "import pandas as pd\n",
    "from nltk.corpus import stopwords\n",
    "from nltk.tokenize import word_tokenize\n",
    "from nltk.stem import PorterStemmer, WordNetLemmatizer\n",
    "\n",
    "import re, string\n",
    "import numpy as np\n",
    "\n",
    "import tensorflow as tf\n",
    "from tensorflow import keras\n",
    "from tensorflow.keras import layers\n",
    "import matplotlib.pyplot as plt"
   ]
  },
  {
   "cell_type": "code",
   "execution_count": 113,
   "id": "e3b91733",
   "metadata": {},
   "outputs": [],
   "source": [
    "# adding the training urls\n",
    "\n",
    "train_url = 'https://drive.google.com/file/d/1F1fDHnvDMEopHYaulMQYNy1SCpEenoFr/view?usp=sharing'\n",
    "train_url_ = 'https://drive.google.com/uc?id=' + train_url.split('/')[-2]"
   ]
  },
  {
   "cell_type": "code",
   "execution_count": 114,
   "id": "150dfbcd",
   "metadata": {},
   "outputs": [],
   "source": [
    "# adding the testing urls\n",
    "\n",
    "test_url = 'https://drive.google.com/file/d/1Jg3l_AmdkfEIIiLAuwlwyybpXYt93Vvp/view?usp=sharing'\n",
    "test_url_ = 'https://drive.google.com/uc?id=' + test_url.split('/')[-2]"
   ]
  },
  {
   "cell_type": "code",
   "execution_count": 115,
   "id": "fd26af36",
   "metadata": {},
   "outputs": [
    {
     "name": "stdout",
     "output_type": "stream",
     "text": [
      "my training link: https://drive.google.com/uc?id=1F1fDHnvDMEopHYaulMQYNy1SCpEenoFr\n",
      "my testing link: https://drive.google.com/uc?id=1Jg3l_AmdkfEIIiLAuwlwyybpXYt93Vvp\n"
     ]
    }
   ],
   "source": [
    "print('my training link:', train_url_)\n",
    "print('my testing link:', test_url_)"
   ]
  },
  {
   "cell_type": "code",
   "execution_count": 131,
   "id": "57a87778",
   "metadata": {},
   "outputs": [
    {
     "name": "stdout",
     "output_type": "stream",
     "text": [
      "               0                                                  1\n",
      "0     __label__0  study interventions are recombinant CD40-ligan...\n",
      "1     __label__0  study interventions are Liposomal doxorubicin ...\n",
      "2     __label__0  study interventions are BI 836909 . multiple m...\n",
      "3     __label__0  study interventions are Immunoglobulins . recu...\n",
      "4     __label__0  study interventions are Paclitaxel . stage ova...\n",
      "...          ...                                                ...\n",
      "9902  __label__1  study interventions are Pazopanib . carcinoma ...\n",
      "9903  __label__1  study interventions are Dexamethasone 21-phosp...\n",
      "9904  __label__1  study interventions are Camptothecin . rectal ...\n",
      "9905  __label__1  study interventions are Cyclophosphamide . sta...\n",
      "9906  __label__1  study interventions are Cyclophosphamide . lym...\n",
      "\n",
      "[9907 rows x 2 columns]\n",
      "['__label__0', '__label__0', '__label__0', '__label__0', '__label__0']\n"
     ]
    }
   ],
   "source": [
    "# reading the files\n",
    "\n",
    "df_train = pd.read_csv(train_url_, header= None) # got the dataframe\n",
    "df_test = pd.read_csv(test_url_, header= None)\n",
    "\n",
    "print(df_train)\n",
    "print(list(df_train[0])[:5])\n"
   ]
  },
  {
   "cell_type": "code",
   "execution_count": 117,
   "id": "c1101de4",
   "metadata": {},
   "outputs": [
    {
     "name": "stdout",
     "output_type": "stream",
     "text": [
      "<class 'pandas.core.series.Series'> 0    study interventions are recombinant CD40-ligan...\n",
      "1    study interventions are Liposomal doxorubicin ...\n",
      "2    study interventions are BI 836909 . multiple m...\n",
      "3    study interventions are Immunoglobulins . recu...\n",
      "4    study interventions are Paclitaxel . stage ova...\n",
      "Name: 1, dtype: object\n"
     ]
    }
   ],
   "source": [
    "# the second column is responsible fot the text we need (so we take df_train[1])\n",
    "\n",
    "train_data_set = df_train[1]\n",
    "test_data_set = df_test[1]\n",
    "\n",
    "print(type(train_data_set), train_data_set[:5])"
   ]
  },
  {
   "cell_type": "code",
   "execution_count": 118,
   "id": "de2af649",
   "metadata": {},
   "outputs": [
    {
     "name": "stdout",
     "output_type": "stream",
     "text": [
      "<class 'list'> 9907\n",
      "<class 'list'>\n",
      "<class 'numpy.ndarray'> [0. 0. 0. ... 1. 1. 1.]\n"
     ]
    }
   ],
   "source": [
    "# working with labels or with the first column in order to the program to distinguish labels\n",
    "\n",
    "train_label = []\n",
    "test_label = []\n",
    "\n",
    "for label in list(df_train[0]):\n",
    "    if label == '__label__0':\n",
    "        train_label.append(0)\n",
    "    if label == '__label__1':\n",
    "        train_label.append(1)\n",
    "\n",
    "for label_test in list(df_test[0]):\n",
    "    if label_test == '__label__0':\n",
    "        test_label.append(0)\n",
    "    if label_test == '__label__1':\n",
    "        test_label.append(1)\n",
    "\n",
    "print(type(train_label), len(train_label))\n",
    "print(type(test_label))\n",
    "\n",
    "y_train = np.asarray(train_label).astype(\"float32\")\n",
    "y_test = np.asarray(test_label).astype(\"float32\")\n",
    "\n",
    "print(type(y_train), y_train)"
   ]
  },
  {
   "cell_type": "code",
   "execution_count": 119,
   "id": "fc88b1d0",
   "metadata": {},
   "outputs": [
    {
     "name": "stdout",
     "output_type": "stream",
     "text": [
      "For example we received the clean train text:  \n",
      " <class 'pandas.core.series.Series'> \n",
      " 0    study interventions recombinant cd ligand mela...\n",
      "1    study interventions liposomal doxorubicin colo...\n",
      "2    study interventions bi multiple myeloma diagno...\n",
      "3    study interventions immunoglobulins recurrent ...\n",
      "4    study interventions paclitaxel stage ovarian c...\n",
      "Name: 1, dtype: object\n"
     ]
    }
   ],
   "source": [
    "stop_words = stopwords.words(\"english\")\n",
    "\n",
    "#cleaning the text from punctuation and other things\n",
    "\n",
    "def cleaning(data):\n",
    "    \n",
    "    filtered = re.sub(\"@\\S+\", \" \", data)  # remove mentions\n",
    "    filtered = re.sub(\"https*\\S+\", \" \", filtered) # remove urls\n",
    "    filtered = re.sub(\"#\\S+\", \" \", filtered) # remove hashtags\n",
    "    filtered = re.sub(\"\\d\", \" \", filtered) # remove all numbers\n",
    "    filtered = re.sub('[%s]' % re.escape(string.punctuation), ' ', filtered)  # remove punctuation\n",
    "    filtered = re.sub('\\n', ' ', filtered) # remove new lines       \n",
    "    filtered = re.sub('\\s{2,}',' ', filtered) # remove extra spaces\n",
    "    \n",
    "    filtered = filtered.lower()\n",
    "    \n",
    "    text = ' '.join([word for word in text.split(' ') if word not in stop_words])\n",
    "    return text\n",
    "\n",
    "cleaned_train = train_data_set.apply(clean_text)\n",
    "cleaned_test = test_data_set.apply(clean_text)\n",
    "\n",
    "print('For example we received the clean train text: ','\\n', type(cleaned_train),'\\n', cleaned_train[:5])"
   ]
  },
  {
   "cell_type": "code",
   "execution_count": 120,
   "id": "fcfe5c85",
   "metadata": {},
   "outputs": [],
   "source": [
    "# train and test data concatenation (type -- string)\n",
    "\n",
    "train_in_string = ''\n",
    "for i in cleaned_train:\n",
    "    train_in_string += (' ' + i)\n",
    "    \n",
    "test_in_string = ''\n",
    "for j in cleaned_test:\n",
    "    test_in_string += (' ' + j)\n",
    "    \n",
    "all_data = train_in_string + test_in_string"
   ]
  },
  {
   "cell_type": "code",
   "execution_count": 121,
   "id": "c53f88c0",
   "metadata": {},
   "outputs": [
    {
     "name": "stdout",
     "output_type": "stream",
     "text": [
      "x_train_data type: <class 'pandas.core.series.Series'>\n",
      "x_test_data type: <class 'pandas.core.series.Series'>\n"
     ]
    }
   ],
   "source": [
    "# Tokenization\n",
    "tokenization = word_tokenize(all_data)\n",
    "\n",
    "#Lemmatization \n",
    "lemmatizer = WordNetLemmatizer()\n",
    "lemmatized_all_data = [lemmatizer.lemmatize(t) for t in tokenization]\n",
    "\n",
    "dictionary = list(set(lemmatized_all_data))\n",
    "\n",
    "def lemmatization(data):\n",
    "\n",
    "    data = data.lower()\n",
    "    tokens = word_tokenize(data)\n",
    "    lemmatized = [lemmatizer.lemmatize(l) for l in tokens]\n",
    "    res = [dictionary.index(i) for i in lemmatized]\n",
    "    return res\n",
    "\n",
    "\n",
    "x_train_data = cleaned_train.apply(lemmatization)\n",
    "x_test_data = cleaned_test.apply(lemmatization)\n",
    "\n",
    "print('x_train_data type:', type(x_train_data))\n",
    "print('x_test_data type:', type(x_test_data))\n"
   ]
  },
  {
   "cell_type": "code",
   "execution_count": 122,
   "id": "b1a9a01e",
   "metadata": {},
   "outputs": [],
   "source": [
    "# this performs kind of vectorization \n",
    "\n",
    "# generate zeros, iterates over all sequences and indexes in seq\n",
    "# iterates oves nested seq and assignes 1 to i-seq om j-position \n",
    "\n",
    "def embadding(sequences, dimension=10000):\n",
    "  \n",
    "    results = np.zeros((len(sequences), dimension))\n",
    "    # print('seq', sequences)\n",
    "    for i, sequence in enumerate(sequences):\n",
    "        # print(i)\n",
    "        # print(sequence )\n",
    "        for j in sequence:\n",
    "           #  print(j)\n",
    "            results[i, j] = 1.\n",
    "    return results"
   ]
  },
  {
   "cell_type": "code",
   "execution_count": 123,
   "id": "35c55d4d",
   "metadata": {},
   "outputs": [
    {
     "name": "stdout",
     "output_type": "stream",
     "text": [
      "<class 'numpy.ndarray'> 9907\n",
      "<class 'numpy.ndarray'> 26\n"
     ]
    }
   ],
   "source": [
    "# applying the function \n",
    "\n",
    "train_vect = embadding(x_train_data)\n",
    "test_vect = embadding(x_test_data)\n",
    "\n",
    "\n",
    "print(type(train_vect), len(train_vect))\n",
    "print(type(test_vect), len(test_vect))# great!"
   ]
  },
  {
   "cell_type": "code",
   "execution_count": 124,
   "id": "92c92ea0",
   "metadata": {},
   "outputs": [],
   "source": [
    "# creating the first model ever :)\n",
    "\n",
    "the_first_model = tf.keras.Sequential([\n",
    "    layers.Dense(8, activation=\"relu\"),\n",
    "    layers.Dense(16, activation=\"relu\"),\n",
    "    layers.Dense(1, activation=\"sigmoid\")\n",
    "])"
   ]
  },
  {
   "cell_type": "code",
   "execution_count": 125,
   "id": "784d90b0",
   "metadata": {},
   "outputs": [
    {
     "name": "stdout",
     "output_type": "stream",
     "text": [
      "<class 'numpy.ndarray'> 9907\n",
      "<class 'numpy.ndarray'> 9907\n"
     ]
    }
   ],
   "source": [
    "the_first_model.compile(optimizer=\"adam\", loss=\"binary_crossentropy\", metrics=[\"accuracy\"])\n",
    "\n",
    "# checking all data\n",
    "print(type(train_vect), len(train_vect))\n",
    "print(type(y_train), len(y_train))\n"
   ]
  },
  {
   "cell_type": "code",
   "execution_count": 126,
   "id": "ad7cc674",
   "metadata": {},
   "outputs": [
    {
     "name": "stdout",
     "output_type": "stream",
     "text": [
      "Epoch 1/50\n",
      "16/16 - 1s - loss: 0.6688 - accuracy: 0.6024 - val_loss: 0.8700 - val_accuracy: 0.0020 - 630ms/epoch - 39ms/step\n",
      "Epoch 2/50\n",
      "16/16 - 0s - loss: 0.6045 - accuracy: 0.6163 - val_loss: 0.8806 - val_accuracy: 0.1090 - 138ms/epoch - 9ms/step\n",
      "Epoch 3/50\n",
      "16/16 - 0s - loss: 0.5456 - accuracy: 0.7189 - val_loss: 0.8476 - val_accuracy: 0.3703 - 144ms/epoch - 9ms/step\n",
      "Epoch 4/50\n",
      "16/16 - 0s - loss: 0.4925 - accuracy: 0.7889 - val_loss: 0.7892 - val_accuracy: 0.5333 - 139ms/epoch - 9ms/step\n",
      "Epoch 5/50\n",
      "16/16 - 0s - loss: 0.4431 - accuracy: 0.8293 - val_loss: 0.7442 - val_accuracy: 0.5918 - 146ms/epoch - 9ms/step\n",
      "Epoch 6/50\n",
      "16/16 - 0s - loss: 0.3976 - accuracy: 0.8546 - val_loss: 0.6913 - val_accuracy: 0.6337 - 148ms/epoch - 9ms/step\n",
      "Epoch 7/50\n",
      "16/16 - 0s - loss: 0.3592 - accuracy: 0.8689 - val_loss: 0.6367 - val_accuracy: 0.6781 - 162ms/epoch - 10ms/step\n",
      "Epoch 8/50\n",
      "16/16 - 0s - loss: 0.3269 - accuracy: 0.8834 - val_loss: 0.6177 - val_accuracy: 0.6942 - 177ms/epoch - 11ms/step\n",
      "Epoch 9/50\n",
      "16/16 - 0s - loss: 0.3003 - accuracy: 0.8943 - val_loss: 0.6474 - val_accuracy: 0.6741 - 157ms/epoch - 10ms/step\n",
      "Epoch 10/50\n",
      "16/16 - 0s - loss: 0.2780 - accuracy: 0.9009 - val_loss: 0.6263 - val_accuracy: 0.6968 - 171ms/epoch - 11ms/step\n",
      "Epoch 11/50\n",
      "16/16 - 0s - loss: 0.2583 - accuracy: 0.9110 - val_loss: 0.6629 - val_accuracy: 0.6887 - 155ms/epoch - 10ms/step\n",
      "Epoch 12/50\n",
      "16/16 - 0s - loss: 0.2420 - accuracy: 0.9148 - val_loss: 0.6486 - val_accuracy: 0.7074 - 149ms/epoch - 9ms/step\n",
      "Epoch 13/50\n",
      "16/16 - 0s - loss: 0.2276 - accuracy: 0.9209 - val_loss: 0.6536 - val_accuracy: 0.7149 - 152ms/epoch - 9ms/step\n",
      "Epoch 14/50\n",
      "16/16 - 0s - loss: 0.2142 - accuracy: 0.9276 - val_loss: 0.6791 - val_accuracy: 0.7084 - 142ms/epoch - 9ms/step\n",
      "Epoch 15/50\n",
      "16/16 - 0s - loss: 0.2026 - accuracy: 0.9319 - val_loss: 0.6882 - val_accuracy: 0.7149 - 145ms/epoch - 9ms/step\n",
      "Epoch 16/50\n",
      "16/16 - 0s - loss: 0.1926 - accuracy: 0.9344 - val_loss: 0.7016 - val_accuracy: 0.7159 - 168ms/epoch - 10ms/step\n",
      "Epoch 17/50\n",
      "16/16 - 0s - loss: 0.1828 - accuracy: 0.9382 - val_loss: 0.7230 - val_accuracy: 0.7185 - 147ms/epoch - 9ms/step\n",
      "Epoch 18/50\n",
      "16/16 - 0s - loss: 0.1741 - accuracy: 0.9425 - val_loss: 0.7595 - val_accuracy: 0.7079 - 152ms/epoch - 9ms/step\n",
      "Epoch 19/50\n",
      "16/16 - 0s - loss: 0.1663 - accuracy: 0.9444 - val_loss: 0.7498 - val_accuracy: 0.7180 - 146ms/epoch - 9ms/step\n",
      "Epoch 20/50\n",
      "16/16 - 0s - loss: 0.1586 - accuracy: 0.9474 - val_loss: 0.7369 - val_accuracy: 0.7366 - 146ms/epoch - 9ms/step\n",
      "Epoch 21/50\n",
      "16/16 - 0s - loss: 0.1516 - accuracy: 0.9475 - val_loss: 0.8143 - val_accuracy: 0.7084 - 140ms/epoch - 9ms/step\n",
      "Epoch 22/50\n",
      "16/16 - 0s - loss: 0.1459 - accuracy: 0.9500 - val_loss: 0.8581 - val_accuracy: 0.7048 - 140ms/epoch - 9ms/step\n",
      "Epoch 23/50\n",
      "16/16 - 0s - loss: 0.1396 - accuracy: 0.9518 - val_loss: 0.8403 - val_accuracy: 0.7170 - 148ms/epoch - 9ms/step\n",
      "Epoch 24/50\n",
      "16/16 - 0s - loss: 0.1341 - accuracy: 0.9541 - val_loss: 0.8713 - val_accuracy: 0.7134 - 155ms/epoch - 10ms/step\n",
      "Epoch 25/50\n",
      "16/16 - 0s - loss: 0.1286 - accuracy: 0.9565 - val_loss: 0.8648 - val_accuracy: 0.7245 - 150ms/epoch - 9ms/step\n",
      "Epoch 26/50\n",
      "16/16 - 0s - loss: 0.1238 - accuracy: 0.9580 - val_loss: 0.9663 - val_accuracy: 0.7013 - 145ms/epoch - 9ms/step\n",
      "Epoch 27/50\n",
      "16/16 - 0s - loss: 0.1202 - accuracy: 0.9581 - val_loss: 0.9586 - val_accuracy: 0.7074 - 144ms/epoch - 9ms/step\n",
      "Epoch 28/50\n",
      "16/16 - 0s - loss: 0.1159 - accuracy: 0.9615 - val_loss: 0.9773 - val_accuracy: 0.7089 - 142ms/epoch - 9ms/step\n",
      "Epoch 29/50\n",
      "16/16 - 0s - loss: 0.1115 - accuracy: 0.9640 - val_loss: 0.9489 - val_accuracy: 0.7225 - 153ms/epoch - 10ms/step\n",
      "Epoch 30/50\n",
      "16/16 - 0s - loss: 0.1078 - accuracy: 0.9647 - val_loss: 0.9610 - val_accuracy: 0.7245 - 162ms/epoch - 10ms/step\n",
      "Epoch 31/50\n",
      "16/16 - 0s - loss: 0.1044 - accuracy: 0.9642 - val_loss: 0.9709 - val_accuracy: 0.7255 - 160ms/epoch - 10ms/step\n",
      "Epoch 32/50\n",
      "16/16 - 0s - loss: 0.1016 - accuracy: 0.9664 - val_loss: 0.9531 - val_accuracy: 0.7356 - 165ms/epoch - 10ms/step\n",
      "Epoch 33/50\n",
      "16/16 - 0s - loss: 0.0986 - accuracy: 0.9657 - val_loss: 0.9868 - val_accuracy: 0.7336 - 159ms/epoch - 10ms/step\n",
      "Epoch 34/50\n",
      "16/16 - 0s - loss: 0.0954 - accuracy: 0.9677 - val_loss: 1.0795 - val_accuracy: 0.7154 - 145ms/epoch - 9ms/step\n",
      "Epoch 35/50\n",
      "16/16 - 0s - loss: 0.0923 - accuracy: 0.9682 - val_loss: 1.1027 - val_accuracy: 0.7164 - 143ms/epoch - 9ms/step\n",
      "Epoch 36/50\n",
      "16/16 - 0s - loss: 0.0899 - accuracy: 0.9700 - val_loss: 1.1298 - val_accuracy: 0.7139 - 147ms/epoch - 9ms/step\n",
      "Epoch 37/50\n",
      "16/16 - 0s - loss: 0.0870 - accuracy: 0.9702 - val_loss: 1.1190 - val_accuracy: 0.7250 - 144ms/epoch - 9ms/step\n",
      "Epoch 38/50\n",
      "16/16 - 0s - loss: 0.0844 - accuracy: 0.9714 - val_loss: 1.0864 - val_accuracy: 0.7351 - 142ms/epoch - 9ms/step\n",
      "Epoch 39/50\n",
      "16/16 - 0s - loss: 0.0828 - accuracy: 0.9715 - val_loss: 1.1135 - val_accuracy: 0.7326 - 145ms/epoch - 9ms/step\n",
      "Epoch 40/50\n",
      "16/16 - 0s - loss: 0.0800 - accuracy: 0.9743 - val_loss: 1.2503 - val_accuracy: 0.7099 - 153ms/epoch - 10ms/step\n",
      "Epoch 41/50\n",
      "16/16 - 0s - loss: 0.0779 - accuracy: 0.9748 - val_loss: 1.2058 - val_accuracy: 0.7225 - 148ms/epoch - 9ms/step\n",
      "Epoch 42/50\n",
      "16/16 - 0s - loss: 0.0767 - accuracy: 0.9753 - val_loss: 1.2938 - val_accuracy: 0.7089 - 144ms/epoch - 9ms/step\n",
      "Epoch 43/50\n",
      "16/16 - 0s - loss: 0.0746 - accuracy: 0.9749 - val_loss: 1.2463 - val_accuracy: 0.7225 - 146ms/epoch - 9ms/step\n",
      "Epoch 44/50\n",
      "16/16 - 0s - loss: 0.0718 - accuracy: 0.9760 - val_loss: 1.2776 - val_accuracy: 0.7200 - 144ms/epoch - 9ms/step\n",
      "Epoch 45/50\n",
      "16/16 - 0s - loss: 0.0704 - accuracy: 0.9767 - val_loss: 1.3005 - val_accuracy: 0.7175 - 142ms/epoch - 9ms/step\n",
      "Epoch 46/50\n",
      "16/16 - 0s - loss: 0.0684 - accuracy: 0.9778 - val_loss: 1.3027 - val_accuracy: 0.7215 - 142ms/epoch - 9ms/step\n",
      "Epoch 47/50\n",
      "16/16 - 0s - loss: 0.0671 - accuracy: 0.9779 - val_loss: 1.3772 - val_accuracy: 0.7170 - 143ms/epoch - 9ms/step\n",
      "Epoch 48/50\n",
      "16/16 - 0s - loss: 0.0655 - accuracy: 0.9782 - val_loss: 1.3668 - val_accuracy: 0.7175 - 152ms/epoch - 9ms/step\n",
      "Epoch 49/50\n",
      "16/16 - 0s - loss: 0.0636 - accuracy: 0.9797 - val_loss: 1.3356 - val_accuracy: 0.7275 - 141ms/epoch - 9ms/step\n",
      "Epoch 50/50\n",
      "16/16 - 0s - loss: 0.0621 - accuracy: 0.9798 - val_loss: 1.3633 - val_accuracy: 0.7250 - 129ms/epoch - 8ms/step\n"
     ]
    }
   ],
   "source": [
    "history = the_first_model.fit(train_vect,y_train,\n",
    "                    epochs=50,\n",
    "                    batch_size=512,\n",
    "                    validation_split=0.2, shuffle = True,\n",
    "                    verbose = 2)\n"
   ]
  },
  {
   "cell_type": "code",
   "execution_count": 127,
   "id": "71ca3abd",
   "metadata": {},
   "outputs": [
    {
     "name": "stdout",
     "output_type": "stream",
     "text": [
      "Model: \"sequential_4\"\n",
      "_________________________________________________________________\n",
      " Layer (type)                Output Shape              Param #   \n",
      "=================================================================\n",
      " dense_12 (Dense)            (None, 8)                 80008     \n",
      "                                                                 \n",
      " dense_13 (Dense)            (None, 16)                144       \n",
      "                                                                 \n",
      " dense_14 (Dense)            (None, 1)                 17        \n",
      "                                                                 \n",
      "=================================================================\n",
      "Total params: 80,169\n",
      "Trainable params: 80,169\n",
      "Non-trainable params: 0\n",
      "_________________________________________________________________\n",
      "None\n"
     ]
    }
   ],
   "source": [
    "print(the_first_model.summary())"
   ]
  },
  {
   "cell_type": "code",
   "execution_count": 128,
   "id": "8b4c2b8a",
   "metadata": {},
   "outputs": [
    {
     "data": {
      "text/plain": [
       "dict_keys(['loss', 'accuracy', 'val_loss', 'val_accuracy'])"
      ]
     },
     "execution_count": 128,
     "metadata": {},
     "output_type": "execute_result"
    }
   ],
   "source": [
    "history_dict.keys()"
   ]
  },
  {
   "cell_type": "code",
   "execution_count": 129,
   "id": "1f072d44",
   "metadata": {},
   "outputs": [
    {
     "data": {
      "image/png": "[encoded data removed]",
      "text/plain": [
       "<Figure size 432x288 with 1 Axes>"
      ]
     },
     "metadata": {
      "needs_background": "light"
     },
     "output_type": "display_data"
    }
   ],
   "source": [
    "history_dict = history.history\n",
    "loss_values = history_dict[\"loss\"]\n",
    "val_loss_values = history_dict[\"val_loss\"]\n",
    "epochs = range(1, len(loss_values) + 1)\n",
    "plt.plot(epochs, loss_values, \"bo\", label=\"Training loss\")\n",
    "plt.plot(epochs, val_loss_values, \"b\", label=\"Validation loss\")\n",
    "plt.title(\"Training and validation loss\")\n",
    "plt.xlabel(\"Epochs\")\n",
    "plt.ylabel(\"Loss\")\n",
    "plt.legend()\n",
    "plt.show()"
   ]
  },
  {
   "cell_type": "code",
   "execution_count": 130,
   "id": "6e76cbd9",
   "metadata": {},
   "outputs": [
    {
     "name": "stdout",
     "output_type": "stream",
     "text": [
      "1/1 - 0s - loss: 0.3524 - accuracy: 0.8846 - 12ms/epoch - 12ms/step\n",
      "Test score: 0.3523750305175781\n",
      "Test accuracy: 0.8846153616905212\n"
     ]
    }
   ],
   "source": [
    "# results \n",
    "score = the_first_model.evaluate(test_vect, y_test, verbose=2) \n",
    "print('Test score:', score[0]) \n",
    "print('Test accuracy:', score[1])"
   ]
  },
  {
   "cell_type": "code",
   "execution_count": null,
   "id": "71062d14",
   "metadata": {},
   "outputs": [],
   "source": []
  }
 ],
 "metadata": {
  "kernelspec": {
   "display_name": "Python 3 (ipykernel)",
   "language": "python",
   "name": "python3"
  },
  "language_info": {
   "codemirror_mode": {
    "name": "ipython",
    "version": 3
   },
   "file_extension": ".py",
   "mimetype": "text/x-python",
   "name": "python",
   "nbconvert_exporter": "python",
   "pygments_lexer": "ipython3",
   "version": "3.7.9"
  }
 },
 "nbformat": 4,
 "nbformat_minor": 5
}
