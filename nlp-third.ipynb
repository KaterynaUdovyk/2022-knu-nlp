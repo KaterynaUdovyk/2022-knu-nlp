{
 "cells": [
  {
   "cell_type": "code",
   "execution_count": 1,
   "id": "5ff446fd",
   "metadata": {
    "_cell_guid": "b1076dfc-b9ad-4769-8c92-a6c4dae69d19",
    "_uuid": "8f2839f25d086af736a60e9eeb907d3b93b6e0e5",
    "execution": {
     "iopub.execute_input": "2022-01-28T13:21:24.691737Z",
     "iopub.status.busy": "2022-01-28T13:21:24.683915Z",
     "iopub.status.idle": "2022-01-28T13:21:30.849730Z",
     "shell.execute_reply": "2022-01-28T13:21:30.849107Z",
     "shell.execute_reply.started": "2022-01-28T13:07:16.443965Z"
    },
    "papermill": {
     "duration": 6.184929,
     "end_time": "2022-01-28T13:21:30.849889",
     "exception": false,
     "start_time": "2022-01-28T13:21:24.664960",
     "status": "completed"
    },
    "tags": []
   },
   "outputs": [],
   "source": [
    "import tensorflow as tf\n",
    "import numpy as np\n",
    "from tensorflow import keras\n",
    "from tensorflow.keras import layers\n",
    "import pandas as pd\n",
    "from nltk.tokenize import word_tokenize\n",
    "from nltk.corpus import stopwords\n",
    "from nltk.stem import WordNetLemmatizer\n",
    "import re\n",
    "import string"
   ]
  },
  {
   "cell_type": "code",
   "execution_count": 2,
   "id": "16a4ad41",
   "metadata": {
    "execution": {
     "iopub.execute_input": "2022-01-28T13:21:30.884822Z",
     "iopub.status.busy": "2022-01-28T13:21:30.884130Z",
     "iopub.status.idle": "2022-01-28T13:21:31.237859Z",
     "shell.execute_reply": "2022-01-28T13:21:31.238351Z",
     "shell.execute_reply.started": "2022-01-28T13:03:21.214228Z"
    },
    "papermill": {
     "duration": 0.373865,
     "end_time": "2022-01-28T13:21:31.238567",
     "exception": false,
     "start_time": "2022-01-28T13:21:30.864702",
     "status": "completed"
    },
    "tags": []
   },
   "outputs": [],
   "source": [
    "path_train = \"../input/covid-19-nlp-text-classification/Corona_NLP_train.csv\"\n",
    "path_test = \"../input/covid-19-nlp-text-classification/Corona_NLP_test.csv\"\n",
    "df_train = pd.read_csv(path_train, encoding = 'latin1')\n",
    "df_test = pd.read_csv(path_test, encoding = 'latin1')"
   ]
  },
  {
   "cell_type": "code",
   "execution_count": 3,
   "id": "6514b37b",
   "metadata": {
    "execution": {
     "iopub.execute_input": "2022-01-28T13:21:31.280295Z",
     "iopub.status.busy": "2022-01-28T13:21:31.279486Z",
     "iopub.status.idle": "2022-01-28T13:21:31.316994Z",
     "shell.execute_reply": "2022-01-28T13:21:31.316517Z",
     "shell.execute_reply.started": "2022-01-28T13:03:25.014556Z"
    },
    "papermill": {
     "duration": 0.064574,
     "end_time": "2022-01-28T13:21:31.317111",
     "exception": false,
     "start_time": "2022-01-28T13:21:31.252537",
     "status": "completed"
    },
    "tags": []
   },
   "outputs": [],
   "source": [
    "df_train.drop(['UserName', 'ScreenName', 'Location', 'TweetAt'], axis = 1, inplace = True)\n",
    "df_test.drop(['UserName', 'ScreenName', 'Location', 'TweetAt'], axis = 1, inplace = True)\n",
    "df_train = df_train[(df_train.Sentiment == 'Extremely Positive') | (df_train.Sentiment == 'Positive') | (df_train.Sentiment == 'Extremely Negative') | (df_train.Sentiment == 'Negative')]\n",
    "df_test = df_test[(df_test.Sentiment == 'Extremely Positive') | (df_test.Sentiment == 'Positive') | (df_test.Sentiment == 'Extremely Negative') | (df_test.Sentiment == 'Negative')]"
   ]
  },
  {
   "cell_type": "code",
   "execution_count": 4,
   "id": "752544ac",
   "metadata": {
    "execution": {
     "iopub.execute_input": "2022-01-28T13:21:31.349944Z",
     "iopub.status.busy": "2022-01-28T13:21:31.349108Z",
     "iopub.status.idle": "2022-01-28T13:21:31.350956Z",
     "shell.execute_reply": "2022-01-28T13:21:31.351370Z",
     "shell.execute_reply.started": "2022-01-28T13:03:29.563890Z"
    },
    "papermill": {
     "duration": 0.02042,
     "end_time": "2022-01-28T13:21:31.351526",
     "exception": false,
     "start_time": "2022-01-28T13:21:31.331106",
     "status": "completed"
    },
    "tags": []
   },
   "outputs": [],
   "source": [
    "def makediglabel(text):\n",
    "    if text in ['Extremely Positive', 'Positive']:\n",
    "        return 0.0\n",
    "    elif text in ['Extremely Negative', 'Negative']:\n",
    "        return 1.0\n",
    "    else:\n",
    "        return -1.0"
   ]
  },
  {
   "cell_type": "code",
   "execution_count": 5,
   "id": "b31d3f7e",
   "metadata": {
    "execution": {
     "iopub.execute_input": "2022-01-28T13:21:31.387576Z",
     "iopub.status.busy": "2022-01-28T13:21:31.386848Z",
     "iopub.status.idle": "2022-01-28T13:21:31.394922Z",
     "shell.execute_reply": "2022-01-28T13:21:31.394486Z",
     "shell.execute_reply.started": "2022-01-28T13:06:04.871664Z"
    },
    "papermill": {
     "duration": 0.029469,
     "end_time": "2022-01-28T13:21:31.395040",
     "exception": false,
     "start_time": "2022-01-28T13:21:31.365571",
     "status": "completed"
    },
    "tags": []
   },
   "outputs": [],
   "source": [
    "stop_words = stopwords.words(\"english\")\n",
    "def clean_text(text):\n",
    "    text = text.lower()\n",
    "    text = re.sub(\"@\\S+\", \" \", text)  \n",
    "    text = re.sub(\"https*\\S+\", \" \", text)\n",
    "    text = re.sub(\"www\\S+\", \" \", text)\n",
    "    text = re.sub(\"#\\S+\", \" \", text)\n",
    "    text = re.sub(\"\\d\", \" \", text)\n",
    "    text = re.sub('[%s]' % re.escape(string.punctuation), ' ', text)\n",
    "    text = re.sub('\\n', ' ', text)        \n",
    "    text = re.sub('\\s{2,}',' ', text)\n",
    "    text = ' '.join([word for word in text.split(' ') if word not in stop_words])\n",
    "    return text"
   ]
  },
  {
   "cell_type": "code",
   "execution_count": 6,
   "id": "bd4eb037",
   "metadata": {
    "execution": {
     "iopub.execute_input": "2022-01-28T13:21:31.458043Z",
     "iopub.status.busy": "2022-01-28T13:21:31.427090Z",
     "iopub.status.idle": "2022-01-28T13:21:34.232746Z",
     "shell.execute_reply": "2022-01-28T13:21:34.233165Z",
     "shell.execute_reply.started": "2022-01-28T13:06:07.754193Z"
    },
    "papermill": {
     "duration": 2.824439,
     "end_time": "2022-01-28T13:21:34.233326",
     "exception": false,
     "start_time": "2022-01-28T13:21:31.408887",
     "status": "completed"
    },
    "tags": []
   },
   "outputs": [],
   "source": [
    "df_train.OriginalTweet = df_train.OriginalTweet.apply(clean_text)\n",
    "df_test.OriginalTweet = df_test.OriginalTweet.apply(clean_text)"
   ]
  },
  {
   "cell_type": "code",
   "execution_count": 7,
   "id": "ae0752a6",
   "metadata": {
    "execution": {
     "iopub.execute_input": "2022-01-28T13:21:34.283588Z",
     "iopub.status.busy": "2022-01-28T13:21:34.281967Z",
     "iopub.status.idle": "2022-01-28T13:21:34.284169Z",
     "shell.execute_reply": "2022-01-28T13:21:34.284597Z",
     "shell.execute_reply.started": "2022-01-28T13:06:21.056003Z"
    },
    "papermill": {
     "duration": 0.037227,
     "end_time": "2022-01-28T13:21:34.284752",
     "exception": false,
     "start_time": "2022-01-28T13:21:34.247525",
     "status": "completed"
    },
    "tags": []
   },
   "outputs": [],
   "source": [
    "df_train.Sentiment = df_train.Sentiment.apply(makediglabel)\n",
    "df_test.Sentiment = df_test.Sentiment.apply(makediglabel)"
   ]
  },
  {
   "cell_type": "code",
   "execution_count": 8,
   "id": "9c0852bf",
   "metadata": {
    "execution": {
     "iopub.execute_input": "2022-01-28T13:21:34.319062Z",
     "iopub.status.busy": "2022-01-28T13:21:34.318069Z",
     "iopub.status.idle": "2022-01-28T13:21:34.319934Z",
     "shell.execute_reply": "2022-01-28T13:21:34.320452Z",
     "shell.execute_reply.started": "2022-01-28T13:06:31.287102Z"
    },
    "papermill": {
     "duration": 0.021348,
     "end_time": "2022-01-28T13:21:34.320595",
     "exception": false,
     "start_time": "2022-01-28T13:21:34.299247",
     "status": "completed"
    },
    "tags": []
   },
   "outputs": [],
   "source": [
    "X_train = df_train.OriginalTweet\n",
    "Y_train = df_train.Sentiment\n",
    "X_test = df_test.OriginalTweet\n",
    "Y_test = df_test.Sentiment"
   ]
  },
  {
   "cell_type": "code",
   "execution_count": 9,
   "id": "8922e366",
   "metadata": {
    "execution": {
     "iopub.execute_input": "2022-01-28T13:21:34.380050Z",
     "iopub.status.busy": "2022-01-28T13:21:34.379206Z",
     "iopub.status.idle": "2022-01-28T13:21:45.255490Z",
     "shell.execute_reply": "2022-01-28T13:21:45.254996Z",
     "shell.execute_reply.started": "2022-01-28T13:06:37.554875Z"
    },
    "papermill": {
     "duration": 10.921447,
     "end_time": "2022-01-28T13:21:45.255629",
     "exception": false,
     "start_time": "2022-01-28T13:21:34.334182",
     "status": "completed"
    },
    "tags": []
   },
   "outputs": [],
   "source": [
    "whole_text = \"\"\n",
    "for i in X_train:\n",
    "    whole_text += i + ' '\n",
    "for i in X_test:\n",
    "    whole_text += i + ' '\n",
    "tokens = word_tokenize(whole_text)\n",
    "lemmatizer = WordNetLemmatizer()\n",
    "lemtok = [lemmatizer.lemmatize(t) for t in tokens]\n",
    "dictionary = list(set(lemtok))"
   ]
  },
  {
   "cell_type": "code",
   "execution_count": 10,
   "id": "f7f2a35c",
   "metadata": {
    "execution": {
     "iopub.execute_input": "2022-01-28T13:21:45.289698Z",
     "iopub.status.busy": "2022-01-28T13:21:45.288662Z",
     "iopub.status.idle": "2022-01-28T13:21:45.290681Z",
     "shell.execute_reply": "2022-01-28T13:21:45.291086Z",
     "shell.execute_reply.started": "2022-01-28T13:07:00.534232Z"
    },
    "papermill": {
     "duration": 0.021049,
     "end_time": "2022-01-28T13:21:45.291235",
     "exception": false,
     "start_time": "2022-01-28T13:21:45.270186",
     "status": "completed"
    },
    "tags": []
   },
   "outputs": [],
   "source": [
    "def convert(text):\n",
    "    tok = word_tokenize(text)\n",
    "    lemmatizer = WordNetLemmatizer()\n",
    "    lem = [lemmatizer.lemmatize(t) for t in tok]\n",
    "    res = [dictionary.index(i) for i in lem]\n",
    "    return res"
   ]
  },
  {
   "cell_type": "code",
   "execution_count": 11,
   "id": "3938667f",
   "metadata": {
    "execution": {
     "iopub.execute_input": "2022-01-28T13:21:45.323247Z",
     "iopub.status.busy": "2022-01-28T13:21:45.322567Z",
     "iopub.status.idle": "2022-01-28T13:21:45.325450Z",
     "shell.execute_reply": "2022-01-28T13:21:45.325009Z",
     "shell.execute_reply.started": "2022-01-28T13:07:22.424111Z"
    },
    "papermill": {
     "duration": 0.02053,
     "end_time": "2022-01-28T13:21:45.325566",
     "exception": false,
     "start_time": "2022-01-28T13:21:45.305036",
     "status": "completed"
    },
    "tags": []
   },
   "outputs": [],
   "source": [
    "y_train = np.asarray(Y_train).astype(\"float32\")\n",
    "y_test = np.asarray(Y_test).astype(\"float32\")"
   ]
  },
  {
   "cell_type": "code",
   "execution_count": 12,
   "id": "45ee4f37",
   "metadata": {
    "execution": {
     "iopub.execute_input": "2022-01-28T13:21:45.356131Z",
     "iopub.status.busy": "2022-01-28T13:21:45.355365Z",
     "iopub.status.idle": "2022-01-28T13:26:15.994613Z",
     "shell.execute_reply": "2022-01-28T13:26:15.994089Z",
     "shell.execute_reply.started": "2022-01-28T13:07:25.982127Z"
    },
    "papermill": {
     "duration": 270.655583,
     "end_time": "2022-01-28T13:26:15.994756",
     "exception": false,
     "start_time": "2022-01-28T13:21:45.339173",
     "status": "completed"
    },
    "tags": []
   },
   "outputs": [],
   "source": [
    "X_train = X_train.apply(convert)\n",
    "X_test = X_test.apply(convert)"
   ]
  },
  {
   "cell_type": "code",
   "execution_count": 13,
   "id": "69f724fd",
   "metadata": {
    "execution": {
     "iopub.execute_input": "2022-01-28T13:26:16.026825Z",
     "iopub.status.busy": "2022-01-28T13:26:16.025979Z",
     "iopub.status.idle": "2022-01-28T13:26:16.027995Z",
     "shell.execute_reply": "2022-01-28T13:26:16.028465Z",
     "shell.execute_reply.started": "2022-01-28T13:13:37.405097Z"
    },
    "papermill": {
     "duration": 0.019775,
     "end_time": "2022-01-28T13:26:16.028629",
     "exception": false,
     "start_time": "2022-01-28T13:26:16.008854",
     "status": "completed"
    },
    "tags": []
   },
   "outputs": [],
   "source": [
    "max_seq_len = 80\n",
    "max_features = 30000"
   ]
  },
  {
   "cell_type": "code",
   "execution_count": 14,
   "id": "246eb938",
   "metadata": {
    "execution": {
     "iopub.execute_input": "2022-01-28T13:26:16.069428Z",
     "iopub.status.busy": "2022-01-28T13:26:16.068291Z",
     "iopub.status.idle": "2022-01-28T13:26:16.265815Z",
     "shell.execute_reply": "2022-01-28T13:26:16.264908Z",
     "shell.execute_reply.started": "2022-01-28T13:12:22.801912Z"
    },
    "papermill": {
     "duration": 0.223737,
     "end_time": "2022-01-28T13:26:16.265959",
     "exception": false,
     "start_time": "2022-01-28T13:26:16.042222",
     "status": "completed"
    },
    "tags": []
   },
   "outputs": [],
   "source": [
    "x_train = keras.preprocessing.sequence.pad_sequences(X_train, maxlen = max_seq_len)\n",
    "x_test = keras.preprocessing.sequence.pad_sequences(X_test, maxlen = max_seq_len)"
   ]
  },
  {
   "cell_type": "code",
   "execution_count": 15,
   "id": "c36e269c",
   "metadata": {
    "execution": {
     "iopub.execute_input": "2022-01-28T13:26:16.299079Z",
     "iopub.status.busy": "2022-01-28T13:26:16.298559Z",
     "iopub.status.idle": "2022-01-28T13:26:18.983128Z",
     "shell.execute_reply": "2022-01-28T13:26:18.982463Z",
     "shell.execute_reply.started": "2022-01-28T13:13:40.415124Z"
    },
    "papermill": {
     "duration": 2.703032,
     "end_time": "2022-01-28T13:26:18.983287",
     "exception": false,
     "start_time": "2022-01-28T13:26:16.280255",
     "status": "completed"
    },
    "tags": []
   },
   "outputs": [
    {
     "name": "stderr",
     "output_type": "stream",
     "text": [
      "2022-01-28 13:26:16.373949: I tensorflow/stream_executor/cuda/cuda_gpu_executor.cc:937] successful NUMA node read from SysFS had negative value (-1), but there must be at least one NUMA node, so returning NUMA node zero\n",
      "2022-01-28 13:26:16.476534: I tensorflow/stream_executor/cuda/cuda_gpu_executor.cc:937] successful NUMA node read from SysFS had negative value (-1), but there must be at least one NUMA node, so returning NUMA node zero\n",
      "2022-01-28 13:26:16.477249: I tensorflow/stream_executor/cuda/cuda_gpu_executor.cc:937] successful NUMA node read from SysFS had negative value (-1), but there must be at least one NUMA node, so returning NUMA node zero\n",
      "2022-01-28 13:26:16.478450: I tensorflow/core/platform/cpu_feature_guard.cc:142] This TensorFlow binary is optimized with oneAPI Deep Neural Network Library (oneDNN) to use the following CPU instructions in performance-critical operations:  AVX2 AVX512F FMA\n",
      "To enable them in other operations, rebuild TensorFlow with the appropriate compiler flags.\n",
      "2022-01-28 13:26:16.479711: I tensorflow/stream_executor/cuda/cuda_gpu_executor.cc:937] successful NUMA node read from SysFS had negative value (-1), but there must be at least one NUMA node, so returning NUMA node zero\n",
      "2022-01-28 13:26:16.480402: I tensorflow/stream_executor/cuda/cuda_gpu_executor.cc:937] successful NUMA node read from SysFS had negative value (-1), but there must be at least one NUMA node, so returning NUMA node zero\n",
      "2022-01-28 13:26:16.481021: I tensorflow/stream_executor/cuda/cuda_gpu_executor.cc:937] successful NUMA node read from SysFS had negative value (-1), but there must be at least one NUMA node, so returning NUMA node zero\n",
      "2022-01-28 13:26:18.379445: I tensorflow/stream_executor/cuda/cuda_gpu_executor.cc:937] successful NUMA node read from SysFS had negative value (-1), but there must be at least one NUMA node, so returning NUMA node zero\n",
      "2022-01-28 13:26:18.380283: I tensorflow/stream_executor/cuda/cuda_gpu_executor.cc:937] successful NUMA node read from SysFS had negative value (-1), but there must be at least one NUMA node, so returning NUMA node zero\n",
      "2022-01-28 13:26:18.380974: I tensorflow/stream_executor/cuda/cuda_gpu_executor.cc:937] successful NUMA node read from SysFS had negative value (-1), but there must be at least one NUMA node, so returning NUMA node zero\n",
      "2022-01-28 13:26:18.381564: I tensorflow/core/common_runtime/gpu/gpu_device.cc:1510] Created device /job:localhost/replica:0/task:0/device:GPU:0 with 15403 MB memory:  -> device: 0, name: Tesla P100-PCIE-16GB, pci bus id: 0000:00:04.0, compute capability: 6.0\n"
     ]
    }
   ],
   "source": [
    "emb_dim = 128\n",
    "\n",
    "model = keras.Sequential()\n",
    "model.add(layers.Embedding(max_features, emb_dim))\n",
    "model.add(layers.LSTM(128))\n",
    "model.add(layers.Dense(1, activation = 'sigmoid'))"
   ]
  },
  {
   "cell_type": "code",
   "execution_count": 16,
   "id": "152907e1",
   "metadata": {
    "execution": {
     "iopub.execute_input": "2022-01-28T13:26:19.018885Z",
     "iopub.status.busy": "2022-01-28T13:26:19.015363Z",
     "iopub.status.idle": "2022-01-28T13:26:40.948433Z",
     "shell.execute_reply": "2022-01-28T13:26:40.948956Z",
     "shell.execute_reply.started": "2022-01-28T13:14:04.703455Z"
    },
    "papermill": {
     "duration": 21.950985,
     "end_time": "2022-01-28T13:26:40.949174",
     "exception": false,
     "start_time": "2022-01-28T13:26:18.998189",
     "status": "completed"
    },
    "tags": []
   },
   "outputs": [
    {
     "name": "stderr",
     "output_type": "stream",
     "text": [
      "2022-01-28 13:26:19.076679: I tensorflow/compiler/mlir/mlir_graph_optimization_pass.cc:185] None of the MLIR Optimization Passes are enabled (registered 2)\n"
     ]
    },
    {
     "name": "stdout",
     "output_type": "stream",
     "text": [
      "Epoch 1/5\n"
     ]
    },
    {
     "name": "stderr",
     "output_type": "stream",
     "text": [
      "2022-01-28 13:26:21.333153: I tensorflow/stream_executor/cuda/cuda_dnn.cc:369] Loaded cuDNN version 8005\n"
     ]
    },
    {
     "name": "stdout",
     "output_type": "stream",
     "text": [
      "210/210 [==============================] - 6s 13ms/step - loss: 0.4536 - accuracy: 0.7805 - val_loss: 0.3169 - val_accuracy: 0.8689\n",
      "Epoch 2/5\n",
      "210/210 [==============================] - 2s 11ms/step - loss: 0.2202 - accuracy: 0.9170 - val_loss: 0.3183 - val_accuracy: 0.8714\n",
      "Epoch 3/5\n",
      "210/210 [==============================] - 2s 10ms/step - loss: 0.1442 - accuracy: 0.9516 - val_loss: 0.3569 - val_accuracy: 0.8623\n",
      "Epoch 4/5\n",
      "210/210 [==============================] - 2s 10ms/step - loss: 0.0981 - accuracy: 0.9677 - val_loss: 0.4366 - val_accuracy: 0.8623\n",
      "Epoch 5/5\n",
      "210/210 [==============================] - 2s 10ms/step - loss: 0.0716 - accuracy: 0.9767 - val_loss: 0.4759 - val_accuracy: 0.8565\n"
     ]
    }
   ],
   "source": [
    "model.compile(optimizer = \"adam\",\n",
    "              loss = \"binary_crossentropy\",\n",
    "              metrics = [\"accuracy\"])\n",
    "\n",
    "history = model.fit(x_train,\n",
    "                    y_train,\n",
    "                    epochs = 5,\n",
    "                    batch_size = 128,\n",
    "                    validation_split = 0.2,\n",
    "                    shuffle = True,\n",
    "                    verbose = 1)"
   ]
  },
  {
   "cell_type": "code",
   "execution_count": 17,
   "id": "8a52cdec",
   "metadata": {
    "execution": {
     "iopub.execute_input": "2022-01-28T13:26:41.095777Z",
     "iopub.status.busy": "2022-01-28T13:26:41.094615Z",
     "iopub.status.idle": "2022-01-28T13:26:41.102756Z",
     "shell.execute_reply": "2022-01-28T13:26:41.103193Z",
     "shell.execute_reply.started": "2022-01-28T13:14:25.213266Z"
    },
    "papermill": {
     "duration": 0.077873,
     "end_time": "2022-01-28T13:26:41.103331",
     "exception": false,
     "start_time": "2022-01-28T13:26:41.025458",
     "status": "completed"
    },
    "tags": []
   },
   "outputs": [
    {
     "name": "stdout",
     "output_type": "stream",
     "text": [
      "Model: \"sequential\"\n",
      "_________________________________________________________________\n",
      "Layer (type)                 Output Shape              Param #   \n",
      "=================================================================\n",
      "embedding (Embedding)        (None, None, 128)         3840000   \n",
      "_________________________________________________________________\n",
      "lstm (LSTM)                  (None, 128)               131584    \n",
      "_________________________________________________________________\n",
      "dense (Dense)                (None, 1)                 129       \n",
      "=================================================================\n",
      "Total params: 3,971,713\n",
      "Trainable params: 3,971,713\n",
      "Non-trainable params: 0\n",
      "_________________________________________________________________\n",
      "None\n"
     ]
    }
   ],
   "source": [
    "print(model.summary())"
   ]
  },
  {
   "cell_type": "code",
   "execution_count": 18,
   "id": "affef8c6",
   "metadata": {
    "execution": {
     "iopub.execute_input": "2022-01-28T13:26:41.239088Z",
     "iopub.status.busy": "2022-01-28T13:26:41.238260Z",
     "iopub.status.idle": "2022-01-28T13:26:41.559246Z",
     "shell.execute_reply": "2022-01-28T13:26:41.558816Z",
     "shell.execute_reply.started": "2022-01-28T13:15:25.473264Z"
    },
    "papermill": {
     "duration": 0.390745,
     "end_time": "2022-01-28T13:26:41.559377",
     "exception": false,
     "start_time": "2022-01-28T13:26:41.168632",
     "status": "completed"
    },
    "tags": []
   },
   "outputs": [
    {
     "name": "stdout",
     "output_type": "stream",
     "text": [
      "Test score: 0.5504116415977478\n",
      "Test accuracy: 0.8373702168464661\n"
     ]
    }
   ],
   "source": [
    "score = model.evaluate(x_test, y_test, verbose=0) \n",
    "print('Test score:', score[0]) \n",
    "print('Test accuracy:', score[1])"
   ]
  },
  {
   "cell_type": "code",
   "execution_count": 19,
   "id": "009a813f",
   "metadata": {
    "execution": {
     "iopub.execute_input": "2022-01-28T13:26:41.692652Z",
     "iopub.status.busy": "2022-01-28T13:26:41.692095Z",
     "iopub.status.idle": "2022-01-28T13:26:41.696171Z",
     "shell.execute_reply": "2022-01-28T13:26:41.695715Z"
    },
    "papermill": {
     "duration": 0.072217,
     "end_time": "2022-01-28T13:26:41.696286",
     "exception": false,
     "start_time": "2022-01-28T13:26:41.624069",
     "status": "completed"
    },
    "tags": []
   },
   "outputs": [],
   "source": [
    "#fully connected nn from previous task has got test accuracy circa 0.86\n",
    "#LSTM suc... there's a room for tunning parameters"
   ]
  }
 ],
 "metadata": {
  "kernelspec": {
   "display_name": "Python 3",
   "language": "python",
   "name": "python3"
  },
  "language_info": {
   "codemirror_mode": {
    "name": "ipython",
    "version": 3
   },
   "file_extension": ".py",
   "mimetype": "text/x-python",
   "name": "python",
   "nbconvert_exporter": "python",
   "pygments_lexer": "ipython3",
   "version": "3.7.12"
  },
  "papermill": {
   "default_parameters": {},
   "duration": 328.5149,
   "end_time": "2022-01-28T13:26:44.870566",
   "environment_variables": {},
   "exception": null,
   "input_path": "__notebook__.ipynb",
   "output_path": "__notebook__.ipynb",
   "parameters": {},
   "start_time": "2022-01-28T13:21:16.355666",
   "version": "2.3.3"
  }
 },
 "nbformat": 4,
 "nbformat_minor": 5
}
