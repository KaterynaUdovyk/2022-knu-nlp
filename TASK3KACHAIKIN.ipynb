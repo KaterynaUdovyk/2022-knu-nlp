{
  "nbformat": 4,
  "nbformat_minor": 0,
  "metadata": {
    "colab": {
      "name": "TASK3KACHAIKIN.ipynb",
      "provenance": []
    },
    "kernelspec": {
      "name": "python3",
      "display_name": "Python 3"
    },
    "language_info": {
      "name": "python"
    }
  },
  "cells": [
    {
      "cell_type": "markdown",
      "source": [
        "# Vectorization of text data"
      ],
      "metadata": {
        "id": "nGCeWh80w0D6"
      }
    },
    {
      "cell_type": "code",
      "execution_count": 10,
      "metadata": {
        "colab": {
          "base_uri": "https://localhost:8080/"
        },
        "id": "nK_FbtgSuzFh",
        "outputId": "70d4071b-9e9b-412b-9448-41425c2583b7"
      },
      "outputs": [
        {
          "output_type": "stream",
          "name": "stdout",
          "text": [
            "[nltk_data] Downloading package stopwords to /root/nltk_data...\n",
            "[nltk_data]   Package stopwords is already up-to-date!\n"
          ]
        }
      ],
      "source": [
        "\n",
        "from sklearn.model_selection import train_test_split\n",
        "from sklearn.feature_extraction.text import TfidfVectorizer\n",
        "import nltk\n",
        "from nltk.corpus import stopwords\n",
        "nltk.download('stopwords')\n",
        "import pandas as pd\n",
        "import numpy as np\n",
        "import matplotlib.pyplot as plt\n",
        "\n",
        "url='https://raw.githubusercontent.com/srk-practicum/2022-knu-nlp/kachaikin_branch/Task1_Kachaikin/root2ai%20-%20Data.csv'\n",
        "df = pd.read_csv(url)\n",
        "df['Text'].str.replace(r'[.,!?;:()/]{,1}','')\n",
        "df['Text'].str.replace(r'\\s{2,}','')\n",
        "df['Text'].str.lower()\n",
        "\n",
        "u=list(df['Text'])\n",
        "v=list(df['Target'])\n",
        "indexes_for_labels=sorted([i for i in set(list(df['Target']))])\n",
        "df_ls=[ [u[i], indexes_for_labels.index(v[i])/100] for i in range(len(u))]\n",
        "\n",
        "df=pd.DataFrame()\n",
        "df['Text']=u\n",
        "df['Target']=[i[1] for i in df_ls]\n",
        "\n",
        "\n",
        "\n",
        "X_train, X_test, y_train, y_test = train_test_split(df['Text'], \n",
        "                                                    df['Target'], test_size=0.5 ,\n",
        "                                                    random_state=0)\n",
        "\n",
        "\n",
        "X_train, X_test, y_train, y_test = X_train, X_test, np.array(y_train), np.array(y_test)\n",
        "\n",
        "\n",
        "\n",
        "vectorizer=TfidfVectorizer(stop_words=stopwords.words(\"english\"))\n",
        "\n",
        "X_train_vectorized = vectorizer.fit_transform(X_train)\n",
        "X_train_vectorized = X_train_vectorized.toarray()\n",
        "\n",
        "\n",
        "\n",
        "\n"
      ]
    },
    {
      "cell_type": "markdown",
      "source": [
        "# Model"
      ],
      "metadata": {
        "id": "TbKS1PrNwx3h"
      }
    },
    {
      "cell_type": "code",
      "source": [
        "import tensorflow as tf\n",
        "from tensorflow import keras\n",
        "from tensorflow.keras import layers\n",
        "\n",
        "X_train_vectorized = keras.preprocessing.sequence.pad_sequences(X_train_vectorized, maxlen=100)\n",
        "\n",
        "inputs = keras.Input(shape = (len(X_train_vectorized[0]),))\n",
        "\n",
        "x = layers.Embedding(30000,128)(inputs)\n",
        "\n",
        "x = layers.Dropout(0.5)(x)\n",
        "\n",
        "\n",
        "\n",
        "x = layers.LSTM(64, return_sequences=False)(x)\n",
        "\n",
        "\n",
        "outputs = layers.Dense(11, activation=\"softmax\")(x)\n",
        "\n",
        "\n",
        "model = keras.Model(inputs, outputs)\n",
        "\n",
        "\n",
        "model.compile(\n",
        "    optimizer='adam',\n",
        "              loss=\"sparse_categorical_crossentropy\",\n",
        "              metrics=[\"accuracy\"],\n",
        ")\n",
        "model.summary()\n",
        "\n",
        "my_callbacks = [tf.keras.callbacks.EarlyStopping(patience=2)]\n",
        "\n",
        "\n",
        "history = model.fit(X_train_vectorized, y_train, batch_size=128, epochs=10, validation_split=0.2, callbacks = my_callbacks)\n",
        "\n"
      ],
      "metadata": {
        "colab": {
          "base_uri": "https://localhost:8080/"
        },
        "id": "1vA_i7Zyww18",
        "outputId": "ff458546-5f4b-4d13-91b4-92deaddf746d"
      },
      "execution_count": 11,
      "outputs": [
        {
          "output_type": "stream",
          "name": "stdout",
          "text": [
            "Model: \"model_2\"\n",
            "_________________________________________________________________\n",
            " Layer (type)                Output Shape              Param #   \n",
            "=================================================================\n",
            " input_3 (InputLayer)        [(None, 100)]             0         \n",
            "                                                                 \n",
            " embedding_2 (Embedding)     (None, 100, 128)          3840000   \n",
            "                                                                 \n",
            " dropout_2 (Dropout)         (None, 100, 128)          0         \n",
            "                                                                 \n",
            " lstm_2 (LSTM)               (None, 64)                49408     \n",
            "                                                                 \n",
            " dense_2 (Dense)             (None, 11)                715       \n",
            "                                                                 \n",
            "=================================================================\n",
            "Total params: 3,890,123\n",
            "Trainable params: 3,890,123\n",
            "Non-trainable params: 0\n",
            "_________________________________________________________________\n",
            "Epoch 1/10\n",
            "71/71 [==============================] - 24s 292ms/step - loss: 0.3686 - accuracy: 0.0953 - val_loss: 0.0010 - val_accuracy: 0.1044\n",
            "Epoch 2/10\n",
            "71/71 [==============================] - 18s 257ms/step - loss: 7.6834e-04 - accuracy: 0.0970 - val_loss: 5.7740e-04 - val_accuracy: 0.1044\n",
            "Epoch 3/10\n",
            "71/71 [==============================] - 18s 255ms/step - loss: 4.7058e-04 - accuracy: 0.0970 - val_loss: 3.8068e-04 - val_accuracy: 0.1044\n",
            "Epoch 4/10\n",
            "71/71 [==============================] - 20s 282ms/step - loss: 3.1990e-04 - accuracy: 0.0970 - val_loss: 2.6652e-04 - val_accuracy: 0.1044\n",
            "Epoch 5/10\n",
            "71/71 [==============================] - 18s 251ms/step - loss: 2.3006e-04 - accuracy: 0.0970 - val_loss: 1.9775e-04 - val_accuracy: 0.1044\n",
            "Epoch 6/10\n",
            "71/71 [==============================] - 19s 266ms/step - loss: 1.7494e-04 - accuracy: 0.0970 - val_loss: 1.5401e-04 - val_accuracy: 0.1044\n",
            "Epoch 7/10\n",
            "71/71 [==============================] - 18s 252ms/step - loss: 1.3868e-04 - accuracy: 0.0970 - val_loss: 1.2445e-04 - val_accuracy: 0.1044\n",
            "Epoch 8/10\n",
            "71/71 [==============================] - 18s 252ms/step - loss: 1.1358e-04 - accuracy: 0.0970 - val_loss: 1.0323e-04 - val_accuracy: 0.1044\n",
            "Epoch 9/10\n",
            "71/71 [==============================] - 18s 250ms/step - loss: 9.5292e-05 - accuracy: 0.0970 - val_loss: 8.7496e-05 - val_accuracy: 0.1044\n",
            "Epoch 10/10\n",
            "71/71 [==============================] - 19s 265ms/step - loss: 8.1414e-05 - accuracy: 0.0970 - val_loss: 7.5457e-05 - val_accuracy: 0.1044\n"
          ]
        }
      ]
    },
    {
      "cell_type": "code",
      "source": [
        "history_dict = history.history\n",
        "history_dict.keys()\n",
        "history_dict = history.history\n",
        "loss_values = history_dict[\"loss\"]\n",
        "val_loss_values = history_dict[\"val_loss\"]\n",
        "epochs = range(1, len(loss_values) + 1)\n",
        "plt.plot(epochs, loss_values, \"bo\", label=\"Training loss\")\n",
        "plt.plot(epochs, val_loss_values, \"b\", label=\"Validation loss\")\n",
        "plt.title(\"Training and validation loss\")\n",
        "plt.xlabel(\"Epochs\")\n",
        "plt.ylabel(\"Loss\")\n",
        "plt.legend()\n",
        "plt.show()"
      ],
      "metadata": {
        "colab": {
          "base_uri": "https://localhost:8080/",
          "height": 295
        },
        "id": "pW9FpfSkA2GT",
        "outputId": "d430607e-fee0-4ea1-e073-3bee426277d6"
      },
      "execution_count": 12,
      "outputs": [
        {
          "output_type": "display_data",
          "data": {
            "image/png": "[encoded data removed]",
            "text/plain": [
              "<Figure size 432x288 with 1 Axes>"
            ]
          },
          "metadata": {
            "needs_background": "light"
          }
        }
      ]
    },
    {
      "cell_type": "code",
      "source": [
        "\n",
        "import numpy as np\n",
        "X_test_vectorized = vectorizer.transform(X_test.apply(lambda x: np.str_(x)))\n",
        "X_test_vectorized = X_test_vectorized.toarray()\n",
        "X_test_vectorized = keras.preprocessing.sequence.pad_sequences(X_test_vectorized, maxlen=100)\n",
        "score = model.evaluate(X_test_vectorized, y_test, verbose=0) \n",
        "print('Test score:', score[0]) \n",
        "print('Test accuracy:', score[1])\n",
        "\n"
      ],
      "metadata": {
        "colab": {
          "base_uri": "https://localhost:8080/"
        },
        "id": "lsmfUZEeBC7b",
        "outputId": "5afd6e1e-9f6d-4b16-fdd0-f73a372b5a31"
      },
      "execution_count": 14,
      "outputs": [
        {
          "output_type": "stream",
          "name": "stdout",
          "text": [
            "Test score: 7.545649714302272e-05\n",
            "Test accuracy: 0.10121564567089081\n"
          ]
        }
      ]
    }
  ]
}