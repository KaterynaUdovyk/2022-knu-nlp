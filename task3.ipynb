{
 "cells": [
  {
   "cell_type": "code",
   "execution_count": 1,
   "id": "a440a78f",
   "metadata": {},
   "outputs": [],
   "source": [
    "from nltk.tokenize import word_tokenize\n",
    "from nltk.corpus import stopwords\n",
    "from nltk.stem import PorterStemmer, WordNetLemmatizer\n",
    "import re\n",
    "from wordcloud import WordCloud\n",
    "import matplotlib.pyplot as plt\n",
    "import pandas as pd\n",
    "import numpy as np\n",
    "import tensorflow as tf\n",
    "from tensorflow import keras\n",
    "from tensorflow.keras import layers"
   ]
  },
  {
   "cell_type": "code",
   "execution_count": 2,
   "id": "3df0e7d1",
   "metadata": {},
   "outputs": [],
   "source": [
    "data_train = pd.read_csv(\"train.csv\")\n",
    "data_test = pd.read_csv(\"test.csv\")"
   ]
  },
  {
   "cell_type": "code",
   "execution_count": 3,
   "id": "b25de2d5",
   "metadata": {},
   "outputs": [],
   "source": [
    "def clear_text(text):\n",
    "    text = str(text)\n",
    "    text = text.lower()\n",
    "    text = re.sub(r'[^ a-z]', '', text)\n",
    "    while text.find('  ') != -1:\n",
    "        text = text.replace('  ', ' ')\n",
    "    return text"
   ]
  },
  {
   "cell_type": "code",
   "execution_count": 4,
   "id": "dd64f014",
   "metadata": {},
   "outputs": [],
   "source": [
    "data_train['clean_text']= data_train['Text'].apply(lambda x:clear_text(x))\n",
    "data_test['clean_text']= data_test['Text'].apply(lambda x:clear_text(x))"
   ]
  },
  {
   "cell_type": "code",
   "execution_count": 5,
   "id": "7113933e",
   "metadata": {},
   "outputs": [],
   "source": [
    "data_train['clean_text'] = data_train['clean_text'].apply(lambda x:word_tokenize(x))\n",
    "data_test['clean_text'] = data_test['clean_text'].apply(lambda x:word_tokenize(x))"
   ]
  },
  {
   "cell_type": "code",
   "execution_count": 6,
   "id": "10affc3f",
   "metadata": {},
   "outputs": [],
   "source": [
    "def remove_stop_words(text):\n",
    "    stop_words = stopwords.words('english')\n",
    "    filtered_text = []\n",
    "    for w in text:\n",
    "        if w not in stop_words:\n",
    "            filtered_text.append(w)\n",
    "    return filtered_text"
   ]
  },
  {
   "cell_type": "code",
   "execution_count": 7,
   "id": "e3d08e86",
   "metadata": {},
   "outputs": [],
   "source": [
    "data_train['clean_text'] = data_train['clean_text'].apply(lambda x:remove_stop_words(x))\n",
    "data_test['clean_text'] = data_test['clean_text'].apply(lambda x:remove_stop_words(x))"
   ]
  },
  {
   "cell_type": "code",
   "execution_count": 8,
   "id": "32962a83",
   "metadata": {},
   "outputs": [],
   "source": [
    "wordnet_lemmatizer = WordNetLemmatizer()\n",
    "\n",
    "def lemmatizer(text):\n",
    "    return [wordnet_lemmatizer.lemmatize(w) for w in text]\n",
    "\n",
    "data_train['clean_text'] = data_train['clean_text'].apply(lambda x:lemmatizer(x))\n",
    "data_test['clean_text'] = data_test['clean_text'].apply(lambda x:lemmatizer(x))"
   ]
  },
  {
   "cell_type": "code",
   "execution_count": 9,
   "id": "c74234c7",
   "metadata": {},
   "outputs": [],
   "source": [
    "def to_text(data):\n",
    "    text = []\n",
    "    for i in data:\n",
    "        for word in i:\n",
    "            text.append(word)\n",
    "    return text\n",
    "\n",
    "text = to_text(data_train['clean_text'])\n",
    "text += to_text(data_test['clean_text'])\n",
    "text.sort()\n",
    "dictionary = []\n",
    "for i in text:\n",
    "    if i not in dictionary:\n",
    "        dictionary.append(i)\n"
   ]
  },
  {
   "cell_type": "code",
   "execution_count": 10,
   "id": "9e0b1190",
   "metadata": {},
   "outputs": [],
   "source": [
    "def convert_to_numbers(text):\n",
    "    res = []\n",
    "    for word in text:\n",
    "        res.append(dictionary.index(word))\n",
    "    return res\n",
    "\n",
    "def convert_to_text(numbers):\n",
    "    res = []\n",
    "    for num in numbers:\n",
    "        res.append(dictionary[num])\n",
    "    return res"
   ]
  },
  {
   "cell_type": "code",
   "execution_count": 11,
   "id": "fcb6ac36",
   "metadata": {},
   "outputs": [],
   "source": [
    "data_train['numbers'] = data_train['clean_text'].apply(lambda x:convert_to_numbers(x))\n",
    "data_test['numbers'] = data_test['clean_text'].apply(lambda x:convert_to_numbers(x))"
   ]
  },
  {
   "cell_type": "code",
   "execution_count": 12,
   "id": "e8c1d524",
   "metadata": {},
   "outputs": [],
   "source": [
    "#good: happy, love, surprise\n",
    "#bad: sadness, anger, fear\n",
    "\n",
    "def t_or_f(emotion):\n",
    "    if emotion == 'happy' or emotion == 'love' or emotion == 'surprise':\n",
    "        return 1        \n",
    "    else:        #elif emotioin == 'sadness' or 'anger' or 'fear': return 0\n",
    "        return 0\n",
    "    \n",
    "data_train['Emotion_in_digit'] = data_train['Emotion'].apply(lambda x:t_or_f(x))\n",
    "data_test['Emotion_in_digit'] = data_test['Emotion'].apply(lambda x:t_or_f(x))\n",
    "\n",
    "# data_train[['Emotion','Emotion_in_digit']]"
   ]
  },
  {
   "cell_type": "code",
   "execution_count": 13,
   "id": "a0772634",
   "metadata": {},
   "outputs": [],
   "source": [
    "data_train = data_train[['Emotion_in_digit', 'numbers']]\n",
    "data_test = data_test[['Emotion_in_digit', 'numbers']]"
   ]
  },
  {
   "cell_type": "code",
   "execution_count": 14,
   "id": "e2c0e974",
   "metadata": {},
   "outputs": [],
   "source": [
    "def vectorize_sequences(sequences, dimension=30000):\n",
    "    results = np.zeros((len(sequences), dimension))\n",
    "    for i, sequence in enumerate(sequences):\n",
    "        for j in sequence:\n",
    "            results[i, j] = 1.\n",
    "    return results"
   ]
  },
  {
   "cell_type": "code",
   "execution_count": 15,
   "id": "e8af5483",
   "metadata": {},
   "outputs": [],
   "source": [
    "x_train = vectorize_sequences(data_train['numbers'])\n",
    "x_test = vectorize_sequences(data_test['numbers'])"
   ]
  },
  {
   "cell_type": "code",
   "execution_count": 16,
   "id": "a4b9c1c6",
   "metadata": {},
   "outputs": [],
   "source": [
    "y_train = np.asarray(data_train['Emotion_in_digit']).astype(\"float32\")\n",
    "y_test = np.asarray(data_test['Emotion_in_digit']).astype(\"float32\")"
   ]
  },
  {
   "cell_type": "code",
   "execution_count": 17,
   "id": "1a43ae50",
   "metadata": {},
   "outputs": [],
   "source": [
    "max_seq_len = 80\n",
    "max_features = 30000"
   ]
  },
  {
   "cell_type": "code",
   "execution_count": 18,
   "id": "d3dcf32c",
   "metadata": {},
   "outputs": [],
   "source": [
    "x_train = keras.preprocessing.sequence.pad_sequences(x_train, maxlen = max_seq_len)\n",
    "x_test = keras.preprocessing.sequence.pad_sequences(x_test, maxlen = max_seq_len)"
   ]
  },
  {
   "cell_type": "code",
   "execution_count": 19,
   "id": "cf956845",
   "metadata": {},
   "outputs": [
    {
     "data": {
      "text/plain": [
       "array([[0, 0, 0, ..., 0, 0, 0],\n",
       "       [0, 0, 0, ..., 0, 0, 0],\n",
       "       [0, 0, 0, ..., 0, 0, 0],\n",
       "       ...,\n",
       "       [0, 0, 0, ..., 0, 0, 0],\n",
       "       [0, 0, 0, ..., 0, 0, 0],\n",
       "       [0, 0, 0, ..., 0, 0, 0]])"
      ]
     },
     "execution_count": 19,
     "metadata": {},
     "output_type": "execute_result"
    }
   ],
   "source": [
    "x_train"
   ]
  },
  {
   "cell_type": "code",
   "execution_count": 20,
   "id": "e6fa6f28",
   "metadata": {},
   "outputs": [],
   "source": [
    "max_seq_len = 80\n",
    "max_features = 17123\n",
    "x_train = keras.preprocessing.sequence.pad_sequences(x_train, maxlen = max_seq_len)\n",
    "emb_dim = 128\n",
    "\n",
    "model = keras.Sequential()\n",
    "model.add(layers.Embedding(max_features, emb_dim))\n",
    "model.add(layers.LSTM(128))\n",
    "model.add(layers.Dense(1, activation = 'sigmoid'))"
   ]
  },
  {
   "cell_type": "code",
   "execution_count": 21,
   "id": "2a44990f",
   "metadata": {},
   "outputs": [
    {
     "data": {
      "text/plain": [
       "17123"
      ]
     },
     "execution_count": 21,
     "metadata": {},
     "output_type": "execute_result"
    }
   ],
   "source": [
    "len(dictionary)"
   ]
  },
  {
   "cell_type": "code",
   "execution_count": 22,
   "id": "1bb742c9",
   "metadata": {},
   "outputs": [
    {
     "name": "stdout",
     "output_type": "stream",
     "text": [
      "Epoch 1/10\n",
      "29/29 [==============================] - 22s 685ms/step - loss: 0.6900 - accuracy: 0.5450 - val_loss: 0.6855 - val_accuracy: 0.5706\n",
      "Epoch 2/10\n",
      "29/29 [==============================] - 19s 662ms/step - loss: 0.6895 - accuracy: 0.5450 - val_loss: 0.6837 - val_accuracy: 0.5706\n",
      "Epoch 3/10\n",
      "29/29 [==============================] - 19s 665ms/step - loss: 0.6892 - accuracy: 0.5450 - val_loss: 0.6852 - val_accuracy: 0.5706\n",
      "Epoch 4/10\n",
      "29/29 [==============================] - 19s 661ms/step - loss: 0.6895 - accuracy: 0.5450 - val_loss: 0.6843 - val_accuracy: 0.5706\n",
      "Epoch 5/10\n",
      "29/29 [==============================] - 19s 663ms/step - loss: 0.6895 - accuracy: 0.5450 - val_loss: 0.6835 - val_accuracy: 0.5706\n",
      "Epoch 6/10\n",
      "29/29 [==============================] - 19s 663ms/step - loss: 0.6893 - accuracy: 0.5450 - val_loss: 0.6845 - val_accuracy: 0.5706\n",
      "Epoch 7/10\n",
      "29/29 [==============================] - 20s 678ms/step - loss: 0.6893 - accuracy: 0.5450 - val_loss: 0.6856 - val_accuracy: 0.5706\n",
      "Epoch 8/10\n",
      "29/29 [==============================] - 19s 663ms/step - loss: 0.6893 - accuracy: 0.5450 - val_loss: 0.6839 - val_accuracy: 0.5706\n",
      "Epoch 9/10\n",
      "29/29 [==============================] - 19s 668ms/step - loss: 0.6892 - accuracy: 0.5450 - val_loss: 0.6846 - val_accuracy: 0.5706\n",
      "Epoch 10/10\n",
      "29/29 [==============================] - 19s 669ms/step - loss: 0.6891 - accuracy: 0.5450 - val_loss: 0.6847 - val_accuracy: 0.5706\n"
     ]
    }
   ],
   "source": [
    "model.compile(optimizer = \"adam\",\n",
    "              loss = \"binary_crossentropy\",\n",
    "              metrics = [\"accuracy\"])\n",
    "\n",
    "history = model.fit(x_train,\n",
    "                    y_train,\n",
    "                    epochs = 10,\n",
    "                    batch_size = 512,\n",
    "                    validation_split = 0.1, \n",
    "                    shuffle = True,\n",
    "                    verbose = 1)"
   ]
  },
  {
   "cell_type": "code",
   "execution_count": 23,
   "id": "6a2b9986",
   "metadata": {},
   "outputs": [
    {
     "data": {
      "image/png": "[encoded data removed]",
      "text/plain": [
       "<Figure size 432x288 with 1 Axes>"
      ]
     },
     "metadata": {
      "needs_background": "light"
     },
     "output_type": "display_data"
    }
   ],
   "source": [
    "history_dict = history.history\n",
    "loss_values = history_dict[\"loss\"]\n",
    "val_loss_values = history_dict[\"val_loss\"]\n",
    "epochs = range(1, len(loss_values) + 1)\n",
    "plt.plot(epochs, loss_values, \"bo\", label=\"Training loss\")\n",
    "plt.plot(epochs, val_loss_values, \"b\", label=\"Validation loss\")\n",
    "plt.title(\"Training and validation loss\")\n",
    "plt.xlabel(\"Epochs\")\n",
    "plt.ylabel(\"Loss\")\n",
    "plt.legend()\n",
    "plt.show()"
   ]
  },
  {
   "cell_type": "code",
   "execution_count": 24,
   "id": "ccb73a4b",
   "metadata": {},
   "outputs": [
    {
     "name": "stdout",
     "output_type": "stream",
     "text": [
      "Model: \"sequential\"\n",
      "_________________________________________________________________\n",
      " Layer (type)                Output Shape              Param #   \n",
      "=================================================================\n",
      " embedding (Embedding)       (None, None, 128)         2191744   \n",
      "                                                                 \n",
      " lstm (LSTM)                 (None, 128)               131584    \n",
      "                                                                 \n",
      " dense (Dense)               (None, 1)                 129       \n",
      "                                                                 \n",
      "=================================================================\n",
      "Total params: 2,323,457\n",
      "Trainable params: 2,323,457\n",
      "Non-trainable params: 0\n",
      "_________________________________________________________________\n"
     ]
    }
   ],
   "source": [
    "model.summary()"
   ]
  },
  {
   "cell_type": "code",
   "execution_count": 25,
   "id": "bcd32303",
   "metadata": {},
   "outputs": [
    {
     "name": "stdout",
     "output_type": "stream",
     "text": [
      "Test score: 0.6836960315704346\n",
      "Test accuracy: 0.5768174529075623\n"
     ]
    }
   ],
   "source": [
    "score = model.evaluate(x_test, y_test, verbose=0) \n",
    "print('Test score:', score[0]) \n",
    "print('Test accuracy:', score[1])"
   ]
  },
  {
   "cell_type": "code",
   "execution_count": null,
   "id": "153e2748",
   "metadata": {},
   "outputs": [],
   "source": []
  }
 ],
 "metadata": {
  "kernelspec": {
   "display_name": "Python 3 (ipykernel)",
   "language": "python",
   "name": "python3"
  },
  "language_info": {
   "codemirror_mode": {
    "name": "ipython",
    "version": 3
   },
   "file_extension": ".py",
   "mimetype": "text/x-python",
   "name": "python",
   "nbconvert_exporter": "python",
   "pygments_lexer": "ipython3",
   "version": "3.7.9"
  }
 },
 "nbformat": 4,
 "nbformat_minor": 5
}
