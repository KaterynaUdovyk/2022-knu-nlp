{
  "cells": [
    {
      "cell_type": "code",
      "execution_count": 1,
      "id": "13ce2c72",
      "metadata": {
        "id": "13ce2c72"
      },
      "outputs": [],
      "source": [
        "from nltk.tokenize import word_tokenize\n",
        "from nltk.corpus import stopwords\n",
        "from nltk.stem import PorterStemmer, WordNetLemmatizer\n",
        "import re\n",
        "from wordcloud import WordCloud\n",
        "import matplotlib.pyplot as plt\n",
        "import pandas as pd\n",
        "import numpy as np\n",
        "import tensorflow as tf\n",
        "from tensorflow import keras\n",
        "from tensorflow.keras import layers"
      ]
    },
    {
      "cell_type": "code",
      "execution_count": 2,
      "id": "023397e3",
      "metadata": {
        "id": "023397e3"
      },
      "outputs": [],
      "source": [
        "data_train = pd.read_csv(\"train.csv\")\n",
        "data_test = pd.read_csv(\"test.csv\")"
      ]
    },
    {
      "cell_type": "code",
      "execution_count": 3,
      "id": "5b6404fc",
      "metadata": {
        "id": "5b6404fc"
      },
      "outputs": [],
      "source": [
        "def clear_text(text):\n",
        "    text = str(text)\n",
        "    text = text.lower()\n",
        "    text = re.sub(r'[^ a-z]', '', text)\n",
        "    while text.find('  ') != -1:\n",
        "        text = text.replace('  ', ' ')\n",
        "    return text"
      ]
    },
    {
      "cell_type": "code",
      "execution_count": 4,
      "id": "83e114a6",
      "metadata": {
        "id": "83e114a6"
      },
      "outputs": [],
      "source": [
        "data_train['clean_text']= data_train['Text'].apply(lambda x:clear_text(x))\n",
        "data_test['clean_text']= data_test['Text'].apply(lambda x:clear_text(x))"
      ]
    },
    {
      "cell_type": "code",
      "execution_count": 5,
      "id": "b263a15e",
      "metadata": {
        "id": "b263a15e"
      },
      "outputs": [],
      "source": [
        "data_train['clean_text'] = data_train['clean_text'].apply(lambda x:word_tokenize(x))\n",
        "data_test['clean_text'] = data_test['clean_text'].apply(lambda x:word_tokenize(x))"
      ]
    },
    {
      "cell_type": "code",
      "execution_count": 6,
      "id": "f9f20d94",
      "metadata": {
        "id": "f9f20d94"
      },
      "outputs": [],
      "source": [
        "def remove_stop_words(text):\n",
        "    stop_words = stopwords.words('english')\n",
        "    filtered_text = []\n",
        "    for w in text:\n",
        "        if w not in stop_words:\n",
        "            filtered_text.append(w)\n",
        "    return filtered_text"
      ]
    },
    {
      "cell_type": "code",
      "execution_count": 7,
      "id": "576034e0",
      "metadata": {
        "id": "576034e0"
      },
      "outputs": [],
      "source": [
        "data_train['clean_text'] = data_train['clean_text'].apply(lambda x:remove_stop_words(x))\n",
        "data_test['clean_text'] = data_test['clean_text'].apply(lambda x:remove_stop_words(x))"
      ]
    },
    {
      "cell_type": "code",
      "execution_count": 8,
      "id": "96bb2b0a",
      "metadata": {
        "id": "96bb2b0a"
      },
      "outputs": [],
      "source": [
        "wordnet_lemmatizer = WordNetLemmatizer()\n",
        "\n",
        "def lemmatizer(text):\n",
        "    return [wordnet_lemmatizer.lemmatize(w) for w in text]\n",
        "\n",
        "data_train['clean_text'] = data_train['clean_text'].apply(lambda x:lemmatizer(x))\n",
        "data_test['clean_text'] = data_test['clean_text'].apply(lambda x:lemmatizer(x))"
      ]
    },
    {
      "cell_type": "code",
      "execution_count": 9,
      "id": "3c926d55",
      "metadata": {
        "id": "3c926d55"
      },
      "outputs": [],
      "source": [
        "def to_text(data):\n",
        "    text = []\n",
        "    for i in data:\n",
        "        for word in i:\n",
        "            text.append(word)\n",
        "    return text\n",
        "\n",
        "text = to_text(data_train['clean_text'])\n",
        "text += to_text(data_test['clean_text'])\n",
        "text.sort()\n",
        "dictionary = []\n",
        "for i in text:\n",
        "    if i not in dictionary:\n",
        "        dictionary.append(i)"
      ]
    },
    {
      "cell_type": "code",
      "execution_count": 10,
      "id": "580af814",
      "metadata": {
        "id": "580af814"
      },
      "outputs": [],
      "source": [
        "def convert_to_numbers(text):\n",
        "    res = []\n",
        "    for word in text:\n",
        "        res.append(dictionary.index(word))\n",
        "    return res\n",
        "\n",
        "def convert_to_text(numbers):\n",
        "    res = []\n",
        "    for num in numbers:\n",
        "        res.append(dictionary[num])\n",
        "    return res"
      ]
    },
    {
      "cell_type": "code",
      "execution_count": 11,
      "id": "d762a34f",
      "metadata": {
        "id": "d762a34f"
      },
      "outputs": [],
      "source": [
        "data_train['numbers'] = data_train['clean_text'].apply(lambda x:convert_to_numbers(x))\n",
        "data_test['numbers'] = data_test['clean_text'].apply(lambda x:convert_to_numbers(x))"
      ]
    },
    {
      "cell_type": "code",
      "execution_count": 12,
      "id": "a2a393a8",
      "metadata": {
        "id": "a2a393a8"
      },
      "outputs": [],
      "source": [
        "#good: happy, love, surprise\n",
        "#bad: sadness, anger, fear\n",
        "\n",
        "def t_or_f(emotion):\n",
        "    if emotion == 'happy' or emotion == 'love' or emotion == 'surprise':\n",
        "        return 1        \n",
        "    else:        #elif emotioin == 'sadness' or 'anger' or 'fear': return 0\n",
        "        return 0\n",
        "    \n",
        "data_train['Emotion_in_digit'] = data_train['Emotion'].apply(lambda x:t_or_f(x))\n",
        "data_test['Emotion_in_digit'] = data_test['Emotion'].apply(lambda x:t_or_f(x))\n",
        "\n",
        "# data_train[['Emotion','Emotion_in_digit']]"
      ]
    },
    {
      "cell_type": "code",
      "execution_count": 13,
      "id": "c4b16836",
      "metadata": {
        "id": "c4b16836"
      },
      "outputs": [],
      "source": [
        "data_train = data_train[['Emotion_in_digit', 'numbers']]\n",
        "data_test = data_test[['Emotion_in_digit', 'numbers']]"
      ]
    },
    {
      "cell_type": "code",
      "execution_count": 14,
      "id": "91f4d2bf",
      "metadata": {
        "id": "91f4d2bf"
      },
      "outputs": [],
      "source": [
        "def vectorize_sequences(sequences, dimension=30000):\n",
        "    results = np.zeros((len(sequences), dimension))\n",
        "    for i, sequence in enumerate(sequences):\n",
        "        for j in sequence:\n",
        "            results[i, j] = 1.\n",
        "    return results"
      ]
    },
    {
      "cell_type": "code",
      "execution_count": 15,
      "id": "d546ea6d",
      "metadata": {
        "id": "d546ea6d"
      },
      "outputs": [],
      "source": [
        "x_train = vectorize_sequences(data_train['numbers'])\n",
        "x_test = vectorize_sequences(data_test['numbers'])\n",
        "y_train = np.asarray(data_train['Emotion_in_digit']).astype(\"float32\")\n",
        "y_test = np.asarray(data_test['Emotion_in_digit']).astype(\"float32\")"
      ]
    },
    {
      "cell_type": "code",
      "execution_count": 16,
      "id": "80adde4d",
      "metadata": {
        "id": "80adde4d"
      },
      "outputs": [],
      "source": [
        "class TransformerBlock(layers.Layer):\n",
        "    def __init__(self, embed_dim, num_heads, ff_dim, rate=0.1):\n",
        "        super(TransformerBlock, self).__init__()\n",
        "        self.att = layers.MultiHeadAttention(num_heads=num_heads, key_dim=embed_dim)\n",
        "        self.ffn = keras.Sequential(\n",
        "            [layers.Dense(ff_dim, activation=\"relu\"), layers.Dense(embed_dim),]\n",
        "        )\n",
        "        self.layernorm1 = layers.LayerNormalization(epsilon=1e-6)\n",
        "        self.layernorm2 = layers.LayerNormalization(epsilon=1e-6)\n",
        "        self.dropout1 = layers.Dropout(rate)\n",
        "        self.dropout2 = layers.Dropout(rate)\n",
        "\n",
        "    def call(self, inputs, training):\n",
        "        attn_output = self.att(inputs, inputs)\n",
        "        attn_output = self.dropout1(attn_output, training=training)\n",
        "        out1 = self.layernorm1(inputs + attn_output)\n",
        "        ffn_output = self.ffn(out1)\n",
        "        ffn_output = self.dropout2(ffn_output, training=training)\n",
        "        return self.layernorm2(out1 + ffn_output)"
      ]
    },
    {
      "cell_type": "code",
      "source": [
        "class TokenAndPositionEmbedding(layers.Layer):\n",
        "    def __init__(self, maxlen, vocab_size, embed_dim):\n",
        "        super(TokenAndPositionEmbedding, self).__init__()\n",
        "        self.token_emb = layers.Embedding(input_dim=vocab_size, output_dim=embed_dim)\n",
        "        self.pos_emb = layers.Embedding(input_dim=maxlen, output_dim=embed_dim)\n",
        "\n",
        "    def call(self, x):\n",
        "        maxlen = tf.shape(x)[-1]\n",
        "        positions = tf.range(start=0, limit=maxlen, delta=1)\n",
        "        positions = self.pos_emb(positions)\n",
        "        x = self.token_emb(x)\n",
        "        return x + positions"
      ],
      "metadata": {
        "id": "uKinzUJqD5Tu"
      },
      "id": "uKinzUJqD5Tu",
      "execution_count": 17,
      "outputs": []
    },
    {
      "cell_type": "code",
      "source": [
        "vocab_size = 20000  # Only consider the top 20k words\n",
        "maxlen = 200  # Only consider the first 200 words of each movie review\n",
        "max_seq_len = 200\n",
        "\n",
        "x_train = keras.preprocessing.sequence.pad_sequences(x_train, maxlen = max_seq_len)\n",
        "x_test = keras.preprocessing.sequence.pad_sequences(x_test, maxlen = max_seq_len)\n",
        "y_train = np.asarray(y_train).astype(\"float32\")\n",
        "y_test = np.asarray(y_test).astype(\"float32\")"
      ],
      "metadata": {
        "id": "CYN3dKduD5Vz"
      },
      "id": "CYN3dKduD5Vz",
      "execution_count": 18,
      "outputs": []
    },
    {
      "cell_type": "code",
      "source": [
        "embed_dim = 128\n",
        "num_heads = 2\n",
        "ff_dim = 64  \n",
        "\n",
        "inputs = layers.Input(shape=(maxlen,))\n",
        "embedding_layer = TokenAndPositionEmbedding(maxlen, vocab_size, embed_dim)\n",
        "x = embedding_layer(inputs)\n",
        "transformer_block = TransformerBlock(embed_dim, num_heads, ff_dim)\n",
        "x = transformer_block(x)\n",
        "x = layers.GlobalAveragePooling1D()(x)\n",
        "x = layers.Dropout(0.1)(x)\n",
        "x = layers.Dense(20, activation=\"relu\")(x)\n",
        "x = layers.Dropout(0.1)(x)\n",
        "outputs = layers.Dense(2, activation=\"softmax\")(x)\n",
        "\n",
        "model = keras.Model(inputs=inputs, outputs=outputs)"
      ],
      "metadata": {
        "id": "ixumLRWgD5YF"
      },
      "id": "ixumLRWgD5YF",
      "execution_count": 19,
      "outputs": []
    },
    {
      "cell_type": "code",
      "source": [
        "model.compile(optimizer=\"adam\", loss=\"sparse_categorical_crossentropy\", metrics=[\"accuracy\"])\n",
        "history = model.fit(\n",
        "    x_train, y_train, batch_size=32, epochs=10, validation_data=(x_test, y_test)\n",
        ")"
      ],
      "metadata": {
        "colab": {
          "base_uri": "https://localhost:8080/"
        },
        "id": "mYs9XJfnD5dR",
        "outputId": "dc34d414-bce2-41ae-8aa9-670dede63ce8"
      },
      "id": "mYs9XJfnD5dR",
      "execution_count": 20,
      "outputs": [
        {
          "output_type": "stream",
          "name": "stdout",
          "text": [
            "Epoch 1/10\n",
            "500/500 [==============================] - 231s 459ms/step - loss: 0.6939 - accuracy: 0.5436 - val_loss: 0.6841 - val_accuracy: 0.5768\n",
            "Epoch 2/10\n",
            "500/500 [==============================] - 212s 425ms/step - loss: 0.6891 - accuracy: 0.5476 - val_loss: 0.6819 - val_accuracy: 0.5768\n",
            "Epoch 3/10\n",
            "500/500 [==============================] - 208s 415ms/step - loss: 0.6888 - accuracy: 0.5476 - val_loss: 0.6830 - val_accuracy: 0.5768\n",
            "Epoch 4/10\n",
            "500/500 [==============================] - 201s 402ms/step - loss: 0.6887 - accuracy: 0.5476 - val_loss: 0.6827 - val_accuracy: 0.5768\n",
            "Epoch 5/10\n",
            "500/500 [==============================] - 202s 405ms/step - loss: 0.6887 - accuracy: 0.5476 - val_loss: 0.6831 - val_accuracy: 0.5768\n",
            "Epoch 6/10\n",
            "500/500 [==============================] - 201s 402ms/step - loss: 0.6887 - accuracy: 0.5476 - val_loss: 0.6831 - val_accuracy: 0.5768\n",
            "Epoch 7/10\n",
            "500/500 [==============================] - 202s 403ms/step - loss: 0.6887 - accuracy: 0.5476 - val_loss: 0.6829 - val_accuracy: 0.5768\n",
            "Epoch 8/10\n",
            "500/500 [==============================] - 201s 403ms/step - loss: 0.6891 - accuracy: 0.5476 - val_loss: 0.6835 - val_accuracy: 0.5768\n",
            "Epoch 9/10\n",
            "500/500 [==============================] - 202s 403ms/step - loss: 0.6888 - accuracy: 0.5474 - val_loss: 0.6830 - val_accuracy: 0.5768\n",
            "Epoch 10/10\n",
            "500/500 [==============================] - 202s 403ms/step - loss: 0.6887 - accuracy: 0.5476 - val_loss: 0.6831 - val_accuracy: 0.5768\n"
          ]
        }
      ]
    },
    {
      "cell_type": "code",
      "source": [
        "score = model.evaluate(x_test, y_test, verbose=1) \n",
        "\n",
        "print('Test score:', score[0]) \n",
        "print('Test accuracy:', score[1])"
      ],
      "metadata": {
        "colab": {
          "base_uri": "https://localhost:8080/"
        },
        "id": "aGKXK1LTD5kf",
        "outputId": "dccf39ab-6851-4ec8-e836-7c5a1e9db021"
      },
      "id": "aGKXK1LTD5kf",
      "execution_count": 21,
      "outputs": [
        {
          "output_type": "stream",
          "name": "stdout",
          "text": [
            "171/171 [==============================] - 19s 109ms/step - loss: 0.6831 - accuracy: 0.5768\n",
            "Test score: 0.6830772757530212\n",
            "Test accuracy: 0.5768174529075623\n"
          ]
        }
      ]
    },
    {
      "cell_type": "code",
      "execution_count": 21,
      "id": "b2a2ac82",
      "metadata": {
        "id": "b2a2ac82"
      },
      "outputs": [],
      "source": [
        ""
      ]
    }
  ],
  "metadata": {
    "kernelspec": {
      "display_name": "Python 3 (ipykernel)",
      "language": "python",
      "name": "python3"
    },
    "language_info": {
      "codemirror_mode": {
        "name": "ipython",
        "version": 3
      },
      "file_extension": ".py",
      "mimetype": "text/x-python",
      "name": "python",
      "nbconvert_exporter": "python",
      "pygments_lexer": "ipython3",
      "version": "3.9.7"
    },
    "colab": {
      "name": "task4.ipynb",
      "provenance": []
    }
  },
  "nbformat": 4,
  "nbformat_minor": 5
}