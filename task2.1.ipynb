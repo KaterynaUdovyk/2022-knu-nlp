{
 "cells": [
  {
   "cell_type": "code",
   "execution_count": 2,
   "id": "79b13e5d",
   "metadata": {},
   "outputs": [],
   "source": [
    "# start. importing all necessary modules\n",
    "\n",
    "from nltk.corpus import stopwords\n",
    "from nltk.tokenize import word_tokenize\n",
    "from nltk.stem import PorterStemmer, WordNetLemmatizer\n",
    "\n",
    "import re, string\n",
    "\n",
    "import matplotlib.pyplot as plt\n",
    "from wordcloud import WordCloud\n",
    "import pandas as pd\n",
    "import numpy as np\n",
    "\n",
    "from sklearn.feature_extraction.text import CountVectorizer"
   ]
  },
  {
   "cell_type": "code",
   "execution_count": 163,
   "id": "b7a856a6",
   "metadata": {},
   "outputs": [],
   "source": [
    "# adding the training urls\n",
    "\n",
    "train_url = 'https://drive.google.com/file/d/1wOhuYkxC9RQHs6LH-OtBHNVlQv3w-kZJ/view?usp=sharing'\n",
    "train_url_ = 'https://drive.google.com/uc?id=' + train_url.split('/')[-2]"
   ]
  },
  {
   "cell_type": "code",
   "execution_count": 253,
   "id": "b8762809",
   "metadata": {},
   "outputs": [],
   "source": [
    "# adding the testing urls\n",
    "test_url = 'https://drive.google.com/file/d/17XEmkKYr3mxMWLLhY8AzAzFLCs2CT5RG/view?usp=sharing'\n",
    "test_url_ = 'https://drive.google.com/uc?id=' + test_url.split('/')[-2]"
   ]
  },
  {
   "cell_type": "code",
   "execution_count": 254,
   "id": "52c97402",
   "metadata": {},
   "outputs": [
    {
     "name": "stdout",
     "output_type": "stream",
     "text": [
      "my training link: https://drive.google.com/uc?id=1wOhuYkxC9RQHs6LH-OtBHNVlQv3w-kZJ\n",
      "my testing link: https://drive.google.com/uc?id=17XEmkKYr3mxMWLLhY8AzAzFLCs2CT5RG\n"
     ]
    }
   ],
   "source": [
    "print('my training link:', train_url_)\n",
    "print('my testing link:', test_url_)"
   ]
  },
  {
   "cell_type": "code",
   "execution_count": 255,
   "id": "26806f25",
   "metadata": {},
   "outputs": [],
   "source": [
    "# reading the given files and convrting it to the dataframes\n",
    "\n",
    "df_train = pd.read_csv(train_url_, header= None) # got the dataframe\n",
    "df_test = pd.read_csv(test_url_, header= None)\n"
   ]
  },
  {
   "cell_type": "code",
   "execution_count": 256,
   "id": "d6939a36",
   "metadata": {},
   "outputs": [
    {
     "name": "stdout",
     "output_type": "stream",
     "text": [
      "<class 'pandas.core.frame.DataFrame'> <class 'pandas.core.frame.DataFrame'>\n"
     ]
    }
   ],
   "source": [
    "# print('training file:\\n', df_train.head(n = len(df_train))) # to be sure and see the structure\n",
    "\n",
    "print(type(df_train), type(df_test))"
   ]
  },
  {
   "cell_type": "code",
   "execution_count": 257,
   "id": "912a2849",
   "metadata": {},
   "outputs": [],
   "source": [
    "train_data_set = list(df_train[1])\n",
    "test_data_set = list(df_test[1])\n",
    "\n",
    "\n",
    "# print(train_data_set) # all data from the column in list"
   ]
  },
  {
   "cell_type": "code",
   "execution_count": 258,
   "id": "ff8ed560",
   "metadata": {},
   "outputs": [],
   "source": [
    "# list --> string (main data)\n",
    "\n",
    "train_in_string = ''\n",
    "for i in train_data_set:\n",
    "    train_in_string += (' ' + i)\n",
    "    \n",
    "test_in_string = ''\n",
    "for j in test_data_set:\n",
    "    test_in_string += (' ' + j)\n",
    "    \n",
    "# print(train_in_string) "
   ]
  },
  {
   "cell_type": "code",
   "execution_count": 259,
   "id": "979ffbc2",
   "metadata": {},
   "outputs": [],
   "source": [
    "# adding default english stopwords\n",
    "\n",
    "stop_words = stopwords.words('english')"
   ]
  },
  {
   "cell_type": "code",
   "execution_count": 260,
   "id": "5d46b14a",
   "metadata": {},
   "outputs": [],
   "source": [
    "# preprocessing the data \n",
    "\n",
    "def cleaning(label):\n",
    "\n",
    "    filtered = re.sub(r'[^\\w\\s]', '', label)\n",
    "    filtered = re.sub(\"@\\S+\", \"\", filtered)\n",
    "    filtered = re.sub(\"https*\\S+\", \"\", filtered)\n",
    "    filtered = re.sub(\"\\d\", \"\", filtered)\n",
    "    filtered = re.sub(\"#\\S+\", \"\", filtered)\n",
    "\n",
    "    filtered = filtered.lower()\n",
    "    tokens = word_tokenize(filtered)\n",
    "\n",
    "    filtered_tokens = []\n",
    "    for word in tokens:\n",
    "        if word not in stop_words:\n",
    "            filtered_tokens.append(word)\n",
    "\n",
    "    lemmatizer = WordNetLemmatizer()\n",
    "    \n",
    "    # stemmer = PorterStemmer()\n",
    "    # stemmed_tokens = [stemmer.stem(s) for s in filtered_tokens_set]\n",
    "\n",
    "    lemmatized = [lemmatizer.lemmatize(l) for l in filtered_tokens]\n",
    "    lemmatizer = set(lemmatized)\n",
    "    return lemmatizer \n"
   ]
  },
  {
   "cell_type": "code",
   "execution_count": 261,
   "id": "77b26da6",
   "metadata": {},
   "outputs": [
    {
     "name": "stdout",
     "output_type": "stream",
     "text": [
      "{'kew', 'dyatel', 'baxter', 'pera', 'portmone', 'far', 'frame', 'tgnmdoek', 'kit', 'kjkljkn', 'bavpp', 'lgarfield', 'bear', 'dodik', 'pair', 'bazrer', 'buk', 'vzaert', 'kwffvav', 'tsem', 'downytunv', 'part', 'lox', 'nya', 'clown', 'sert'}\n"
     ]
    }
   ],
   "source": [
    "train_cleaned_data = cleaning(train_in_string)\n",
    "test_cleaned_data = cleaning(test_in_string)\n",
    "# print(train_cleaned_data)\n",
    "print(test_cleaned_data)\n"
   ]
  },
  {
   "cell_type": "code",
   "execution_count": null,
   "id": "187f29a5",
   "metadata": {},
   "outputs": [],
   "source": []
  },
  {
   "cell_type": "code",
   "execution_count": 262,
   "id": "278afdd7",
   "metadata": {},
   "outputs": [
    {
     "name": "stdout",
     "output_type": "stream",
     "text": [
      "<class 'list'> [0, 0, 0, 0, 0, 0, 0, 0, 0, 0, 0, 0, 0, 1, 1, 1, 1, 1, 1, 1, 1, 1, 1, 1, 1, 1]\n",
      "<class 'list'> [0, 0, 0, 0, 0, 0, 0, 0, 0, 0, 0, 0, 0, 1, 1, 1, 1, 1, 1, 1, 1, 1, 1, 1, 1, 1]\n"
     ]
    }
   ],
   "source": [
    "# getting started with labels\n",
    "\n",
    "train_label = []\n",
    "test_label = []\n",
    "\n",
    "for label in list(df_train[0]):\n",
    "    if label == '__label__0':\n",
    "        train_label.append(0)\n",
    "    if label == '__label__1':\n",
    "        train_label.append(1)\n",
    "\n",
    "for label_test in list(df_test[0]):\n",
    "    if label_test == '__label__0':\n",
    "        test_label.append(0)\n",
    "    if label_test == '__label__1':\n",
    "        test_label.append(1)\n",
    "\n",
    "print(type(train_label), train_label)\n",
    "print(type(test_label), test_label)\n"
   ]
  },
  {
   "cell_type": "code",
   "execution_count": 263,
   "id": "3bb9affa",
   "metadata": {},
   "outputs": [
    {
     "name": "stdout",
     "output_type": "stream",
     "text": [
      "<class 'numpy.ndarray'> [0. 0. 0. 0. 0. 0. 0. 0. 0. 0. 0. 0. 0. 1. 1. 1. 1. 1. 1. 1. 1. 1. 1. 1.\n",
      " 1. 1.] (26,)\n",
      "<class 'numpy.ndarray'> [0. 0. 0. 0. 0. 0. 0. 0. 0. 0. 0. 0. 0. 1. 1. 1. 1. 1. 1. 1. 1. 1. 1. 1.\n",
      " 1. 1.]\n"
     ]
    }
   ],
   "source": [
    "# list --> nparray (labels)\n",
    "\n",
    "y_train = np.asarray(train_label).astype(\"float32\")\n",
    "y_test = np.asarray(test_label).astype(\"float32\")\n",
    "\n",
    "\n",
    "print(type(y_train), y_train, y_train.shape)\n",
    "print(type(y_test), y_test)"
   ]
  },
  {
   "cell_type": "code",
   "execution_count": 264,
   "id": "b3b20123",
   "metadata": {},
   "outputs": [
    {
     "name": "stdout",
     "output_type": "stream",
     "text": [
      "<class 'numpy.ndarray'> \n",
      " [[1 0 0 0 0 0 0 0 0 0 0 0 0 0 0 0 0 0 0 0 0 0 0 0 0 0]\n",
      " [0 0 0 0 0 0 0 0 0 0 0 0 0 0 0 0 0 0 0 0 0 0 0 0 1 0]\n",
      " [0 0 0 0 0 0 0 0 0 0 0 0 0 1 0 0 0 0 0 0 0 0 0 0 0 0]\n",
      " [0 0 0 0 0 0 0 0 0 0 0 0 0 0 0 1 0 0 0 0 0 0 0 0 0 0]\n",
      " [0 0 1 0 0 0 0 0 0 0 0 0 0 0 0 0 0 0 0 0 0 0 0 0 0 0]\n",
      " [0 0 0 0 0 0 0 1 0 0 0 0 0 0 0 0 0 0 0 0 0 0 0 0 0 0]\n",
      " [0 0 0 0 1 0 0 0 0 0 0 0 0 0 0 0 0 0 0 0 0 0 0 0 0 0]\n",
      " [0 0 0 0 0 0 0 0 0 0 0 0 0 0 1 0 0 0 0 0 0 0 0 0 0 0]\n",
      " [0 0 0 0 0 0 0 0 0 0 0 0 0 0 0 0 0 0 1 0 0 0 0 0 0 0]\n",
      " [0 0 0 0 0 0 0 0 1 0 0 0 0 0 0 0 0 0 0 0 0 0 0 0 0 0]\n",
      " [0 0 0 0 0 0 0 0 0 0 1 0 0 0 0 0 0 0 0 0 0 0 0 0 0 0]\n",
      " [0 0 0 0 0 0 0 0 0 0 0 0 0 0 0 0 0 0 0 0 1 0 0 0 0 0]\n",
      " [0 0 0 0 0 0 0 0 0 0 0 0 1 0 0 0 0 0 0 0 0 0 0 0 0 0]\n",
      " [0 0 0 0 0 0 0 0 0 0 0 1 0 0 0 0 0 0 0 0 0 0 0 0 0 0]\n",
      " [0 1 0 0 0 0 0 0 0 0 0 0 0 0 0 0 0 0 0 0 0 0 0 0 0 0]\n",
      " [0 0 0 0 0 0 0 0 0 0 0 0 0 0 0 0 0 0 0 0 0 0 1 0 0 0]\n",
      " [0 0 0 0 0 0 0 0 0 0 0 0 0 0 0 0 0 0 0 0 0 0 0 1 0 0]\n",
      " [0 0 0 0 0 0 0 0 0 0 0 0 0 0 0 0 1 0 0 0 0 0 0 0 0 0]\n",
      " [0 0 0 1 0 0 0 0 0 0 0 0 0 0 0 0 0 0 0 0 0 0 0 0 0 0]\n",
      " [0 0 0 0 0 0 0 0 0 0 0 0 0 0 0 0 0 0 0 0 0 1 0 0 0 0]\n",
      " [0 0 0 0 0 1 0 0 0 0 0 0 0 0 0 0 0 0 0 0 0 0 0 0 0 0]\n",
      " [0 0 0 0 0 0 0 0 0 0 0 0 0 0 0 0 0 0 0 0 0 0 0 0 0 1]\n",
      " [0 0 0 0 0 0 1 0 0 0 0 0 0 0 0 0 0 0 0 0 0 0 0 0 0 0]\n",
      " [0 0 0 0 0 0 0 0 0 0 0 0 0 0 0 0 0 0 0 1 0 0 0 0 0 0]\n",
      " [0 0 0 0 0 0 0 0 0 1 0 0 0 0 0 0 0 0 0 0 0 0 0 0 0 0]\n",
      " [0 0 0 0 0 0 0 0 0 0 0 0 0 0 0 0 0 1 0 0 0 0 0 0 0 0]]\n"
     ]
    }
   ],
   "source": [
    "# vectorizing data with sklearn\n",
    "\n",
    "def vectorize(ten):\n",
    "    vectorizer = CountVectorizer()\n",
    "    sparse_matrix = vectorizer.fit_transform(ten)\n",
    "    vectorizer.get_feature_names_out()\n",
    "    \n",
    "    return sparse_matrix.toarray()\n",
    "    \n",
    "train_vect = vectorize(train_cleaned_data) \n",
    "test_vect = vectorize(test_cleaned_data) \n",
    "print(type(train_vect), '\\n', train_vect)"
   ]
  },
  {
   "cell_type": "code",
   "execution_count": 265,
   "id": "1b2c90c2",
   "metadata": {},
   "outputs": [],
   "source": [
    "def embadding(sequences, dimension=26):\n",
    "  \n",
    "    results = np.zeros((len(sequences), dimension))\n",
    "    for i, sequence in enumerate(sequences):\n",
    "        for j in sequence:\n",
    "            results[i, j] = 1.\n",
    "    return results"
   ]
  },
  {
   "cell_type": "code",
   "execution_count": 266,
   "id": "5e67f658",
   "metadata": {
    "scrolled": true
   },
   "outputs": [
    {
     "name": "stdout",
     "output_type": "stream",
     "text": [
      "<class 'numpy.ndarray'> [[1. 1. 0. 0. 0. 0. 0. 0. 0. 0. 0. 0. 0. 0. 0. 0. 0. 0. 0. 0. 0. 0. 0. 0.\n",
      "  0. 0.]\n",
      " [1. 1. 0. 0. 0. 0. 0. 0. 0. 0. 0. 0. 0. 0. 0. 0. 0. 0. 0. 0. 0. 0. 0. 0.\n",
      "  0. 0.]\n",
      " [1. 1. 0. 0. 0. 0. 0. 0. 0. 0. 0. 0. 0. 0. 0. 0. 0. 0. 0. 0. 0. 0. 0. 0.\n",
      "  0. 0.]\n",
      " [1. 1. 0. 0. 0. 0. 0. 0. 0. 0. 0. 0. 0. 0. 0. 0. 0. 0. 0. 0. 0. 0. 0. 0.\n",
      "  0. 0.]\n",
      " [1. 1. 0. 0. 0. 0. 0. 0. 0. 0. 0. 0. 0. 0. 0. 0. 0. 0. 0. 0. 0. 0. 0. 0.\n",
      "  0. 0.]\n",
      " [1. 1. 0. 0. 0. 0. 0. 0. 0. 0. 0. 0. 0. 0. 0. 0. 0. 0. 0. 0. 0. 0. 0. 0.\n",
      "  0. 0.]\n",
      " [1. 1. 0. 0. 0. 0. 0. 0. 0. 0. 0. 0. 0. 0. 0. 0. 0. 0. 0. 0. 0. 0. 0. 0.\n",
      "  0. 0.]\n",
      " [1. 1. 0. 0. 0. 0. 0. 0. 0. 0. 0. 0. 0. 0. 0. 0. 0. 0. 0. 0. 0. 0. 0. 0.\n",
      "  0. 0.]\n",
      " [1. 1. 0. 0. 0. 0. 0. 0. 0. 0. 0. 0. 0. 0. 0. 0. 0. 0. 0. 0. 0. 0. 0. 0.\n",
      "  0. 0.]\n",
      " [1. 1. 0. 0. 0. 0. 0. 0. 0. 0. 0. 0. 0. 0. 0. 0. 0. 0. 0. 0. 0. 0. 0. 0.\n",
      "  0. 0.]\n",
      " [1. 1. 0. 0. 0. 0. 0. 0. 0. 0. 0. 0. 0. 0. 0. 0. 0. 0. 0. 0. 0. 0. 0. 0.\n",
      "  0. 0.]\n",
      " [1. 1. 0. 0. 0. 0. 0. 0. 0. 0. 0. 0. 0. 0. 0. 0. 0. 0. 0. 0. 0. 0. 0. 0.\n",
      "  0. 0.]\n",
      " [1. 1. 0. 0. 0. 0. 0. 0. 0. 0. 0. 0. 0. 0. 0. 0. 0. 0. 0. 0. 0. 0. 0. 0.\n",
      "  0. 0.]\n",
      " [1. 1. 0. 0. 0. 0. 0. 0. 0. 0. 0. 0. 0. 0. 0. 0. 0. 0. 0. 0. 0. 0. 0. 0.\n",
      "  0. 0.]\n",
      " [1. 1. 0. 0. 0. 0. 0. 0. 0. 0. 0. 0. 0. 0. 0. 0. 0. 0. 0. 0. 0. 0. 0. 0.\n",
      "  0. 0.]\n",
      " [1. 1. 0. 0. 0. 0. 0. 0. 0. 0. 0. 0. 0. 0. 0. 0. 0. 0. 0. 0. 0. 0. 0. 0.\n",
      "  0. 0.]\n",
      " [1. 1. 0. 0. 0. 0. 0. 0. 0. 0. 0. 0. 0. 0. 0. 0. 0. 0. 0. 0. 0. 0. 0. 0.\n",
      "  0. 0.]\n",
      " [1. 1. 0. 0. 0. 0. 0. 0. 0. 0. 0. 0. 0. 0. 0. 0. 0. 0. 0. 0. 0. 0. 0. 0.\n",
      "  0. 0.]\n",
      " [1. 1. 0. 0. 0. 0. 0. 0. 0. 0. 0. 0. 0. 0. 0. 0. 0. 0. 0. 0. 0. 0. 0. 0.\n",
      "  0. 0.]\n",
      " [1. 1. 0. 0. 0. 0. 0. 0. 0. 0. 0. 0. 0. 0. 0. 0. 0. 0. 0. 0. 0. 0. 0. 0.\n",
      "  0. 0.]\n",
      " [1. 1. 0. 0. 0. 0. 0. 0. 0. 0. 0. 0. 0. 0. 0. 0. 0. 0. 0. 0. 0. 0. 0. 0.\n",
      "  0. 0.]\n",
      " [1. 1. 0. 0. 0. 0. 0. 0. 0. 0. 0. 0. 0. 0. 0. 0. 0. 0. 0. 0. 0. 0. 0. 0.\n",
      "  0. 0.]\n",
      " [1. 1. 0. 0. 0. 0. 0. 0. 0. 0. 0. 0. 0. 0. 0. 0. 0. 0. 0. 0. 0. 0. 0. 0.\n",
      "  0. 0.]\n",
      " [1. 1. 0. 0. 0. 0. 0. 0. 0. 0. 0. 0. 0. 0. 0. 0. 0. 0. 0. 0. 0. 0. 0. 0.\n",
      "  0. 0.]\n",
      " [1. 1. 0. 0. 0. 0. 0. 0. 0. 0. 0. 0. 0. 0. 0. 0. 0. 0. 0. 0. 0. 0. 0. 0.\n",
      "  0. 0.]\n",
      " [1. 1. 0. 0. 0. 0. 0. 0. 0. 0. 0. 0. 0. 0. 0. 0. 0. 0. 0. 0. 0. 0. 0. 0.\n",
      "  0. 0.]]\n"
     ]
    }
   ],
   "source": [
    "x_train = embadding(train_vect)\n",
    "x_test = embadding(test_vect)\n",
    "\n",
    "print(type(x_train), x_train)\n",
    "\n",
    "\n",
    "#print(len(x_train))"
   ]
  },
  {
   "cell_type": "code",
   "execution_count": 267,
   "id": "f5bc273f",
   "metadata": {},
   "outputs": [],
   "source": [
    "import tensorflow as tf\n",
    "from tensorflow.keras import layers"
   ]
  },
  {
   "cell_type": "code",
   "execution_count": 268,
   "id": "804c2db3",
   "metadata": {},
   "outputs": [],
   "source": [
    "# #creating a model with an activation function - relu\n",
    "# the_first_model = tf.keras.Sequential(name = 'model')# sequential() allows you to create models layer-by-layer \n",
    " \n",
    "# the_first_model.add(layers.Dense(5, activation='relu', name = 'layer1'))\n",
    "\n",
    "# \"\"\"The function returns 0 if it receives any negative input,\n",
    "# but for any positive value x it returns that value back\"\"\"\n",
    "\n",
    "# the_first_model.add(layers.Dense(1, activation='sigmoid', name = 'layer3'))\n",
    "\n",
    "# print(the_first_model)"
   ]
  },
  {
   "cell_type": "code",
   "execution_count": 269,
   "id": "0fe03d49",
   "metadata": {},
   "outputs": [],
   "source": [
    "# the_first_model.build(input_shape=(None, 3))\n",
    "# the_first_model.summary()\n",
    "\n",
    "# tf.config.run_functions_eagerly(True)"
   ]
  },
  {
   "cell_type": "code",
   "execution_count": 293,
   "id": "61e4f898",
   "metadata": {},
   "outputs": [],
   "source": [
    "the_first_model = tf.keras.Sequential([\n",
    "    layers.Dense(32, activation=\"relu\"),   layers.Dense(64, activation=\"relu\"),   layers.Dense(64, activation=\"relu\"),\n",
    "    layers.Dense(1, activation=\"sigmoid\")\n",
    "])"
   ]
  },
  {
   "cell_type": "code",
   "execution_count": 294,
   "id": "88678636",
   "metadata": {},
   "outputs": [
    {
     "name": "stdout",
     "output_type": "stream",
     "text": [
      "<class 'numpy.ndarray'> 26\n",
      "<class 'numpy.ndarray'> 26\n"
     ]
    }
   ],
   "source": [
    "the_first_model.compile(optimizer=\"rmsprop\", loss=\"binary_crossentropy\", metrics=[\"accuracy\"], run_eagerly=True)\n",
    "\n",
    "\n",
    "print(type(x_train), len(x_train))\n",
    "print(type(y_train), len(y_train))\n",
    "\n",
    "tf.config.run_functions_eagerly(True)"
   ]
  },
  {
   "cell_type": "code",
   "execution_count": 300,
   "id": "3b9881f7",
   "metadata": {},
   "outputs": [
    {
     "name": "stdout",
     "output_type": "stream",
     "text": [
      "Epoch 1/50\n",
      "3/3 - 0s - loss: 0.7023 - accuracy: 0.5652 - val_loss: 1.0058 - val_accuracy: 0.0000e+00 - 80ms/epoch - 27ms/step\n",
      "Epoch 2/50\n",
      "3/3 - 0s - loss: 0.6943 - accuracy: 0.5652 - val_loss: 0.9687 - val_accuracy: 0.0000e+00 - 57ms/epoch - 19ms/step\n",
      "Epoch 3/50\n",
      "3/3 - 0s - loss: 0.6906 - accuracy: 0.5652 - val_loss: 0.9421 - val_accuracy: 0.0000e+00 - 58ms/epoch - 19ms/step\n",
      "Epoch 4/50\n",
      "3/3 - 0s - loss: 0.6916 - accuracy: 0.5652 - val_loss: 0.9235 - val_accuracy: 0.0000e+00 - 57ms/epoch - 19ms/step\n",
      "Epoch 5/50\n",
      "3/3 - 0s - loss: 0.6882 - accuracy: 0.5652 - val_loss: 0.9005 - val_accuracy: 0.0000e+00 - 58ms/epoch - 19ms/step\n",
      "Epoch 6/50\n",
      "3/3 - 0s - loss: 0.6884 - accuracy: 0.5652 - val_loss: 0.8809 - val_accuracy: 0.0000e+00 - 60ms/epoch - 20ms/step\n",
      "Epoch 7/50\n",
      "3/3 - 0s - loss: 0.6960 - accuracy: 0.5652 - val_loss: 0.8644 - val_accuracy: 0.0000e+00 - 61ms/epoch - 20ms/step\n",
      "Epoch 8/50\n",
      "3/3 - 0s - loss: 0.6881 - accuracy: 0.5652 - val_loss: 0.8546 - val_accuracy: 0.0000e+00 - 59ms/epoch - 20ms/step\n",
      "Epoch 9/50\n",
      "3/3 - 0s - loss: 0.6850 - accuracy: 0.5652 - val_loss: 0.8524 - val_accuracy: 0.0000e+00 - 58ms/epoch - 19ms/step\n",
      "Epoch 10/50\n",
      "3/3 - 0s - loss: 0.6885 - accuracy: 0.5652 - val_loss: 0.8456 - val_accuracy: 0.0000e+00 - 58ms/epoch - 19ms/step\n",
      "Epoch 11/50\n",
      "3/3 - 0s - loss: 0.6855 - accuracy: 0.5652 - val_loss: 0.8398 - val_accuracy: 0.0000e+00 - 59ms/epoch - 20ms/step\n",
      "Epoch 12/50\n",
      "3/3 - 0s - loss: 0.6857 - accuracy: 0.5652 - val_loss: 0.8428 - val_accuracy: 0.0000e+00 - 57ms/epoch - 19ms/step\n",
      "Epoch 13/50\n",
      "3/3 - 0s - loss: 0.6858 - accuracy: 0.5652 - val_loss: 0.8456 - val_accuracy: 0.0000e+00 - 56ms/epoch - 19ms/step\n",
      "Epoch 14/50\n",
      "3/3 - 0s - loss: 0.6893 - accuracy: 0.5652 - val_loss: 0.8405 - val_accuracy: 0.0000e+00 - 56ms/epoch - 19ms/step\n",
      "Epoch 15/50\n",
      "3/3 - 0s - loss: 0.6850 - accuracy: 0.5652 - val_loss: 0.8386 - val_accuracy: 0.0000e+00 - 58ms/epoch - 19ms/step\n",
      "Epoch 16/50\n",
      "3/3 - 0s - loss: 0.6871 - accuracy: 0.5652 - val_loss: 0.8338 - val_accuracy: 0.0000e+00 - 57ms/epoch - 19ms/step\n",
      "Epoch 17/50\n",
      "3/3 - 0s - loss: 0.6889 - accuracy: 0.5652 - val_loss: 0.8283 - val_accuracy: 0.0000e+00 - 57ms/epoch - 19ms/step\n",
      "Epoch 18/50\n",
      "3/3 - 0s - loss: 0.6884 - accuracy: 0.5652 - val_loss: 0.8235 - val_accuracy: 0.0000e+00 - 57ms/epoch - 19ms/step\n",
      "Epoch 19/50\n",
      "3/3 - 0s - loss: 0.6871 - accuracy: 0.5652 - val_loss: 0.8254 - val_accuracy: 0.0000e+00 - 58ms/epoch - 19ms/step\n",
      "Epoch 20/50\n",
      "3/3 - 0s - loss: 0.6866 - accuracy: 0.5652 - val_loss: 0.8313 - val_accuracy: 0.0000e+00 - 58ms/epoch - 19ms/step\n",
      "Epoch 21/50\n",
      "3/3 - 0s - loss: 0.6866 - accuracy: 0.5652 - val_loss: 0.8258 - val_accuracy: 0.0000e+00 - 58ms/epoch - 19ms/step\n",
      "Epoch 22/50\n",
      "3/3 - 0s - loss: 0.6850 - accuracy: 0.5652 - val_loss: 0.8280 - val_accuracy: 0.0000e+00 - 59ms/epoch - 20ms/step\n",
      "Epoch 23/50\n",
      "3/3 - 0s - loss: 0.6858 - accuracy: 0.5652 - val_loss: 0.8334 - val_accuracy: 0.0000e+00 - 59ms/epoch - 20ms/step\n",
      "Epoch 24/50\n",
      "3/3 - 0s - loss: 0.6894 - accuracy: 0.5652 - val_loss: 0.8358 - val_accuracy: 0.0000e+00 - 58ms/epoch - 19ms/step\n",
      "Epoch 25/50\n",
      "3/3 - 0s - loss: 0.6850 - accuracy: 0.5652 - val_loss: 0.8345 - val_accuracy: 0.0000e+00 - 58ms/epoch - 19ms/step\n",
      "Epoch 26/50\n",
      "3/3 - 0s - loss: 0.6874 - accuracy: 0.5652 - val_loss: 0.8370 - val_accuracy: 0.0000e+00 - 59ms/epoch - 20ms/step\n",
      "Epoch 27/50\n",
      "3/3 - 0s - loss: 0.6877 - accuracy: 0.5652 - val_loss: 0.8363 - val_accuracy: 0.0000e+00 - 58ms/epoch - 19ms/step\n",
      "Epoch 28/50\n",
      "3/3 - 0s - loss: 0.6890 - accuracy: 0.5652 - val_loss: 0.8387 - val_accuracy: 0.0000e+00 - 58ms/epoch - 19ms/step\n",
      "Epoch 29/50\n",
      "3/3 - 0s - loss: 0.6868 - accuracy: 0.5652 - val_loss: 0.8342 - val_accuracy: 0.0000e+00 - 59ms/epoch - 20ms/step\n",
      "Epoch 30/50\n",
      "3/3 - 0s - loss: 0.6849 - accuracy: 0.5652 - val_loss: 0.8350 - val_accuracy: 0.0000e+00 - 58ms/epoch - 19ms/step\n",
      "Epoch 31/50\n",
      "3/3 - 0s - loss: 0.6850 - accuracy: 0.5652 - val_loss: 0.8357 - val_accuracy: 0.0000e+00 - 57ms/epoch - 19ms/step\n",
      "Epoch 32/50\n",
      "3/3 - 0s - loss: 0.6851 - accuracy: 0.5652 - val_loss: 0.8364 - val_accuracy: 0.0000e+00 - 57ms/epoch - 19ms/step\n",
      "Epoch 33/50\n",
      "3/3 - 0s - loss: 0.6851 - accuracy: 0.5652 - val_loss: 0.8344 - val_accuracy: 0.0000e+00 - 58ms/epoch - 19ms/step\n",
      "Epoch 34/50\n",
      "3/3 - 0s - loss: 0.6944 - accuracy: 0.5652 - val_loss: 0.8393 - val_accuracy: 0.0000e+00 - 57ms/epoch - 19ms/step\n",
      "Epoch 35/50\n",
      "3/3 - 0s - loss: 0.6850 - accuracy: 0.5652 - val_loss: 0.8392 - val_accuracy: 0.0000e+00 - 58ms/epoch - 19ms/step\n",
      "Epoch 36/50\n",
      "3/3 - 0s - loss: 0.6873 - accuracy: 0.5652 - val_loss: 0.8408 - val_accuracy: 0.0000e+00 - 57ms/epoch - 19ms/step\n",
      "Epoch 37/50\n",
      "3/3 - 0s - loss: 0.6857 - accuracy: 0.5652 - val_loss: 0.8345 - val_accuracy: 0.0000e+00 - 57ms/epoch - 19ms/step\n",
      "Epoch 38/50\n",
      "3/3 - 0s - loss: 0.6878 - accuracy: 0.5652 - val_loss: 0.8341 - val_accuracy: 0.0000e+00 - 57ms/epoch - 19ms/step\n",
      "Epoch 39/50\n",
      "3/3 - 0s - loss: 0.6857 - accuracy: 0.5652 - val_loss: 0.8290 - val_accuracy: 0.0000e+00 - 58ms/epoch - 19ms/step\n",
      "Epoch 40/50\n",
      "3/3 - 0s - loss: 0.6857 - accuracy: 0.5652 - val_loss: 0.8246 - val_accuracy: 0.0000e+00 - 57ms/epoch - 19ms/step\n",
      "Epoch 41/50\n",
      "3/3 - 0s - loss: 0.6858 - accuracy: 0.5652 - val_loss: 0.8211 - val_accuracy: 0.0000e+00 - 57ms/epoch - 19ms/step\n",
      "Epoch 42/50\n",
      "3/3 - 0s - loss: 0.6851 - accuracy: 0.5652 - val_loss: 0.8249 - val_accuracy: 0.0000e+00 - 57ms/epoch - 19ms/step\n",
      "Epoch 43/50\n",
      "3/3 - 0s - loss: 0.6875 - accuracy: 0.5652 - val_loss: 0.8322 - val_accuracy: 0.0000e+00 - 57ms/epoch - 19ms/step\n",
      "Epoch 44/50\n",
      "3/3 - 0s - loss: 0.6858 - accuracy: 0.5652 - val_loss: 0.8269 - val_accuracy: 0.0000e+00 - 58ms/epoch - 19ms/step\n",
      "Epoch 45/50\n",
      "3/3 - 0s - loss: 0.6881 - accuracy: 0.5652 - val_loss: 0.8271 - val_accuracy: 0.0000e+00 - 57ms/epoch - 19ms/step\n",
      "Epoch 46/50\n",
      "3/3 - 0s - loss: 0.6895 - accuracy: 0.5652 - val_loss: 0.8269 - val_accuracy: 0.0000e+00 - 57ms/epoch - 19ms/step\n",
      "Epoch 47/50\n",
      "3/3 - 0s - loss: 0.6916 - accuracy: 0.5652 - val_loss: 0.8287 - val_accuracy: 0.0000e+00 - 58ms/epoch - 19ms/step\n",
      "Epoch 48/50\n",
      "3/3 - 0s - loss: 0.6863 - accuracy: 0.5652 - val_loss: 0.8244 - val_accuracy: 0.0000e+00 - 56ms/epoch - 19ms/step\n",
      "Epoch 49/50\n",
      "3/3 - 0s - loss: 0.6865 - accuracy: 0.5652 - val_loss: 0.8298 - val_accuracy: 0.0000e+00 - 58ms/epoch - 19ms/step\n",
      "Epoch 50/50\n",
      "3/3 - 0s - loss: 0.6866 - accuracy: 0.5652 - val_loss: 0.8347 - val_accuracy: 0.0000e+00 - 57ms/epoch - 19ms/step\n"
     ]
    }
   ],
   "source": [
    "history = the_first_model.fit(x_train,\n",
    "                    y_train,\n",
    "                    epochs=50,\n",
    "                    batch_size=8,\n",
    "                    validation_split=0.1, shuffle = True,\n",
    "                    verbose = 2)\n"
   ]
  },
  {
   "cell_type": "code",
   "execution_count": 301,
   "id": "4e0c2f29",
   "metadata": {},
   "outputs": [
    {
     "name": "stdout",
     "output_type": "stream",
     "text": [
      "Model: \"sequential_12\"\n",
      "_________________________________________________________________\n",
      " Layer (type)                Output Shape              Param #   \n",
      "=================================================================\n",
      " dense_26 (Dense)            (None, 32)                864       \n",
      "                                                                 \n",
      " dense_27 (Dense)            (None, 64)                2112      \n",
      "                                                                 \n",
      " dense_28 (Dense)            (None, 64)                4160      \n",
      "                                                                 \n",
      " dense_29 (Dense)            (None, 1)                 65        \n",
      "                                                                 \n",
      "=================================================================\n",
      "Total params: 7,201\n",
      "Trainable params: 7,201\n",
      "Non-trainable params: 0\n",
      "_________________________________________________________________\n",
      "None\n"
     ]
    }
   ],
   "source": [
    "\n",
    "print(the_first_model.summary())\n"
   ]
  },
  {
   "cell_type": "code",
   "execution_count": 302,
   "id": "9aa71cff",
   "metadata": {},
   "outputs": [
    {
     "data": {
      "text/plain": [
       "dict_keys(['loss', 'accuracy', 'val_loss', 'val_accuracy'])"
      ]
     },
     "execution_count": 302,
     "metadata": {},
     "output_type": "execute_result"
    }
   ],
   "source": [
    "history_dict = history.history\n",
    "history_dict.keys()"
   ]
  },
  {
   "cell_type": "code",
   "execution_count": 303,
   "id": "dc950cdd",
   "metadata": {},
   "outputs": [
    {
     "data": {
      "image/png": "[encoded data removed]",
      "text/plain": [
       "<Figure size 432x288 with 1 Axes>"
      ]
     },
     "metadata": {
      "needs_background": "light"
     },
     "output_type": "display_data"
    }
   ],
   "source": [
    "history_dict = history.history\n",
    "loss_values = history_dict[\"loss\"]\n",
    "val_loss_values = history_dict[\"val_loss\"]\n",
    "epochs = range(1, len(loss_values) + 1)\n",
    "plt.plot(epochs, loss_values, \"bo\", label=\"Training loss\")\n",
    "plt.plot(epochs, val_loss_values, \"b\", label=\"Validation loss\")\n",
    "plt.title(\"Training and validation loss\")\n",
    "plt.xlabel(\"Epochs\")\n",
    "plt.ylabel(\"Loss\")\n",
    "plt.legend()\n",
    "plt.show()"
   ]
  },
  {
   "cell_type": "code",
   "execution_count": 304,
   "id": "706dd286",
   "metadata": {},
   "outputs": [
    {
     "name": "stdout",
     "output_type": "stream",
     "text": [
      "Test score: 0.7019392848014832\n",
      "Test accuracy: 0.5\n"
     ]
    }
   ],
   "source": [
    "\n",
    "score = the_first_model.evaluate(x_test, y_test, verbose=0) \n",
    "print('Test score:', score[0]) \n",
    "print('Test accuracy:', score[1])\n"
   ]
  }
 ],
 "metadata": {
  "kernelspec": {
   "display_name": "Python 3 (ipykernel)",
   "language": "python",
   "name": "python3"
  },
  "language_info": {
   "codemirror_mode": {
    "name": "ipython",
    "version": 3
   },
   "file_extension": ".py",
   "mimetype": "text/x-python",
   "name": "python",
   "nbconvert_exporter": "python",
   "pygments_lexer": "ipython3",
   "version": "3.7.9"
  }
 },
 "nbformat": 4,
 "nbformat_minor": 5
}
