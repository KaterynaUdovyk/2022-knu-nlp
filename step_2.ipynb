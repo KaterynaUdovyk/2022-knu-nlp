{
 "cells": [
  {
   "cell_type": "markdown",
   "id": "japanese-romance",
   "metadata": {},
   "source": [
    "# Step 2 - Classification of text data using fully connected neural networks"
   ]
  },
  {
   "cell_type": "code",
   "execution_count": 1,
   "id": "quarterly-biography",
   "metadata": {},
   "outputs": [],
   "source": [
    "import pandas as pd\n",
    "import numpy as np\n",
    "from tensorflow import keras\n",
    "from tensorflow.keras import layers\n",
    "import matplotlib.pyplot as plt\n",
    "from sklearn.model_selection import train_test_split\n",
    "from IPython.display import clear_output"
   ]
  },
  {
   "cell_type": "code",
   "execution_count": 2,
   "id": "express-number",
   "metadata": {},
   "outputs": [],
   "source": [
    "def show_percentage(m, n):\n",
    "    clear_output(wait=True)\n",
    "    k = m / (n - 1)\n",
    "    percent = int(k * 100)\n",
    "    print('[' + 'x'*percent + '-'*(100 - percent) + ']' + \" {:.2%}\".format(k))\n",
    "    print(\"{}/{} complete\".format(m + 1, n))"
   ]
  },
  {
   "cell_type": "markdown",
   "id": "detected-bahrain",
   "metadata": {},
   "source": [
    "### Get the Data"
   ]
  },
  {
   "cell_type": "code",
   "execution_count": 3,
   "id": "double-greenhouse",
   "metadata": {
    "scrolled": true
   },
   "outputs": [
    {
     "data": {
      "text/html": [
       "<div>\n",
       "<style scoped>\n",
       "    .dataframe tbody tr th:only-of-type {\n",
       "        vertical-align: middle;\n",
       "    }\n",
       "\n",
       "    .dataframe tbody tr th {\n",
       "        vertical-align: top;\n",
       "    }\n",
       "\n",
       "    .dataframe thead th {\n",
       "        text-align: right;\n",
       "    }\n",
       "</style>\n",
       "<table border=\"1\" class=\"dataframe\">\n",
       "  <thead>\n",
       "    <tr style=\"text-align: right;\">\n",
       "      <th></th>\n",
       "      <th>job_no</th>\n",
       "      <th>job_description</th>\n",
       "      <th>job_type</th>\n",
       "      <th>category</th>\n",
       "    </tr>\n",
       "  </thead>\n",
       "  <tbody>\n",
       "    <tr>\n",
       "      <th>0</th>\n",
       "      <td>Id-12765</td>\n",
       "      <td>[zest, scientific, searching, accomplished, sc...</td>\n",
       "      <td>Permanent</td>\n",
       "      <td>Pharmaceutical, Healthcare and Medical Sales</td>\n",
       "    </tr>\n",
       "    <tr>\n",
       "      <th>1</th>\n",
       "      <td>Id-22925</td>\n",
       "      <td>[world, typical, cro, company, making, wave, b...</td>\n",
       "      <td>Permanent</td>\n",
       "      <td>Clinical Research</td>\n",
       "    </tr>\n",
       "    <tr>\n",
       "      <th>2</th>\n",
       "      <td>Id-1321</td>\n",
       "      <td>[asha, mistry, umbilical, life, recruiting, ex...</td>\n",
       "      <td>Contract/Interim</td>\n",
       "      <td>Pharmaceutical Marketing</td>\n",
       "    </tr>\n",
       "    <tr>\n",
       "      <th>3</th>\n",
       "      <td>Id-9473</td>\n",
       "      <td>[sale, representative, laser, der, medizintech...</td>\n",
       "      <td>Permanent</td>\n",
       "      <td>Pharmaceutical, Healthcare and Medical Sales</td>\n",
       "    </tr>\n",
       "    <tr>\n",
       "      <th>4</th>\n",
       "      <td>Id-14952</td>\n",
       "      <td>[field, service, engineer, life, science, camb...</td>\n",
       "      <td>Permanent</td>\n",
       "      <td>Manufacturing &amp; Operations</td>\n",
       "    </tr>\n",
       "  </tbody>\n",
       "</table>\n",
       "</div>"
      ],
      "text/plain": [
       "     job_no                                    job_description  \\\n",
       "0  Id-12765  [zest, scientific, searching, accomplished, sc...   \n",
       "1  Id-22925  [world, typical, cro, company, making, wave, b...   \n",
       "2   Id-1321  [asha, mistry, umbilical, life, recruiting, ex...   \n",
       "3   Id-9473  [sale, representative, laser, der, medizintech...   \n",
       "4  Id-14952  [field, service, engineer, life, science, camb...   \n",
       "\n",
       "           job_type                                      category  \n",
       "0         Permanent  Pharmaceutical, Healthcare and Medical Sales  \n",
       "1         Permanent                             Clinical Research  \n",
       "2  Contract/Interim                      Pharmaceutical Marketing  \n",
       "3         Permanent  Pharmaceutical, Healthcare and Medical Sales  \n",
       "4         Permanent                    Manufacturing & Operations  "
      ]
     },
     "execution_count": 3,
     "metadata": {},
     "output_type": "execute_result"
    }
   ],
   "source": [
    "# https://www.kaggle.com/adarshsng/predicting-job-type-category-by-job-description\n",
    "def str_to_lst(x):\n",
    "    return x.replace(\"'\", \"\").replace(\"[\", \"\").replace(\"]\", \"\").split(\", \")\n",
    "\n",
    "\n",
    "df = pd.read_csv(\"data/preprocessed_data.csv\")\n",
    "df['job_description'] = df['job_description'].apply(lambda x: str_to_lst(x))\n",
    "df.head()"
   ]
  },
  {
   "cell_type": "markdown",
   "id": "further-breeding",
   "metadata": {},
   "source": [
    "### Job Type"
   ]
  },
  {
   "cell_type": "code",
   "execution_count": 4,
   "id": "opponent-substance",
   "metadata": {},
   "outputs": [
    {
     "data": {
      "text/html": [
       "<div>\n",
       "<style scoped>\n",
       "    .dataframe tbody tr th:only-of-type {\n",
       "        vertical-align: middle;\n",
       "    }\n",
       "\n",
       "    .dataframe tbody tr th {\n",
       "        vertical-align: top;\n",
       "    }\n",
       "\n",
       "    .dataframe thead th {\n",
       "        text-align: right;\n",
       "    }\n",
       "</style>\n",
       "<table border=\"1\" class=\"dataframe\">\n",
       "  <thead>\n",
       "    <tr style=\"text-align: right;\">\n",
       "      <th></th>\n",
       "      <th>job_no</th>\n",
       "      <th>job_description</th>\n",
       "      <th>job_type</th>\n",
       "      <th>category</th>\n",
       "      <th>type_label</th>\n",
       "    </tr>\n",
       "  </thead>\n",
       "  <tbody>\n",
       "    <tr>\n",
       "      <th>0</th>\n",
       "      <td>Id-12765</td>\n",
       "      <td>[zest, scientific, searching, accomplished, sc...</td>\n",
       "      <td>Permanent</td>\n",
       "      <td>Pharmaceutical, Healthcare and Medical Sales</td>\n",
       "      <td>0</td>\n",
       "    </tr>\n",
       "    <tr>\n",
       "      <th>1</th>\n",
       "      <td>Id-22925</td>\n",
       "      <td>[world, typical, cro, company, making, wave, b...</td>\n",
       "      <td>Permanent</td>\n",
       "      <td>Clinical Research</td>\n",
       "      <td>0</td>\n",
       "    </tr>\n",
       "    <tr>\n",
       "      <th>2</th>\n",
       "      <td>Id-1321</td>\n",
       "      <td>[asha, mistry, umbilical, life, recruiting, ex...</td>\n",
       "      <td>Contract/Interim</td>\n",
       "      <td>Pharmaceutical Marketing</td>\n",
       "      <td>1</td>\n",
       "    </tr>\n",
       "    <tr>\n",
       "      <th>3</th>\n",
       "      <td>Id-9473</td>\n",
       "      <td>[sale, representative, laser, der, medizintech...</td>\n",
       "      <td>Permanent</td>\n",
       "      <td>Pharmaceutical, Healthcare and Medical Sales</td>\n",
       "      <td>0</td>\n",
       "    </tr>\n",
       "    <tr>\n",
       "      <th>4</th>\n",
       "      <td>Id-14952</td>\n",
       "      <td>[field, service, engineer, life, science, camb...</td>\n",
       "      <td>Permanent</td>\n",
       "      <td>Manufacturing &amp; Operations</td>\n",
       "      <td>0</td>\n",
       "    </tr>\n",
       "  </tbody>\n",
       "</table>\n",
       "</div>"
      ],
      "text/plain": [
       "     job_no                                    job_description  \\\n",
       "0  Id-12765  [zest, scientific, searching, accomplished, sc...   \n",
       "1  Id-22925  [world, typical, cro, company, making, wave, b...   \n",
       "2   Id-1321  [asha, mistry, umbilical, life, recruiting, ex...   \n",
       "3   Id-9473  [sale, representative, laser, der, medizintech...   \n",
       "4  Id-14952  [field, service, engineer, life, science, camb...   \n",
       "\n",
       "           job_type                                      category  type_label  \n",
       "0         Permanent  Pharmaceutical, Healthcare and Medical Sales           0  \n",
       "1         Permanent                             Clinical Research           0  \n",
       "2  Contract/Interim                      Pharmaceutical Marketing           1  \n",
       "3         Permanent  Pharmaceutical, Healthcare and Medical Sales           0  \n",
       "4         Permanent                    Manufacturing & Operations           0  "
      ]
     },
     "execution_count": 4,
     "metadata": {},
     "output_type": "execute_result"
    }
   ],
   "source": [
    "Job_type = {\n",
    "    'Permanent':0,\n",
    "    'Contract/Interim':1,\n",
    "    'Contract/Temp':2,\n",
    "    'Temporary/Seasonal':3,\n",
    "    'Any':4,\n",
    "    'Part-Time':5\n",
    "    }\n",
    "\n",
    "df['type_label'] = df['job_type'].apply(lambda x: Job_type[x])\n",
    "df.head()"
   ]
  },
  {
   "cell_type": "code",
   "execution_count": 5,
   "id": "monetary-childhood",
   "metadata": {},
   "outputs": [],
   "source": [
    "# split the data\n",
    "X_train, X_test, Y_train, Y_test = train_test_split(df['job_description'], \n",
    "                                                    df['type_label'], \n",
    "                                                    test_size=0.20, \n",
    "                                                    random_state=42)"
   ]
  },
  {
   "cell_type": "markdown",
   "id": "objective-chain",
   "metadata": {},
   "source": [
    "### Vectorization"
   ]
  },
  {
   "cell_type": "code",
   "execution_count": 4,
   "id": "practical-graphics",
   "metadata": {},
   "outputs": [],
   "source": [
    "tokens = []\n",
    "\n",
    "for lst in df[\"job_description\"]:\n",
    "    tokens += lst\n",
    "    \n",
    "dictionary = list(set(tokens))\n",
    "dictionary.sort()\n",
    "\n",
    "def tokens_to_num(lst):\n",
    "    res = [dictionary.index(i) for i in lst]\n",
    "    return res"
   ]
  },
  {
   "cell_type": "code",
   "execution_count": 7,
   "id": "statutory-documentation",
   "metadata": {
    "scrolled": true
   },
   "outputs": [
    {
     "name": "stdout",
     "output_type": "stream",
     "text": [
      "[xxxxxxxxxxxxxxxxxxxxxxxxxxxxxxxxxxxxxxxxxxxxxxxxxxxxxxxxxxxxxxxxxxxxxxxxxxxxxxxxxxxxxxxxxxxxxxxxxxxx] 100.00%\n",
      "14125/14125 complete\n"
     ]
    }
   ],
   "source": [
    "#X_train = X_train.apply(tokens_to_num)\n",
    "for i in range(len(X_train)):\n",
    "    lst = X_train.iloc[i]\n",
    "    X_train.iloc[i] = tokens_to_num(lst)\n",
    "    show_percentage(i, len(X_train))\n",
    "    \n",
    "\n",
    "train_copy = pd.DataFrame([X_train.copy()]).T\n",
    "train_copy[\"y\"] = Y_train.copy()\n",
    "train_copy.to_csv(\"data/tmp_type_train.csv\", index=False)"
   ]
  },
  {
   "cell_type": "code",
   "execution_count": 8,
   "id": "computational-patio",
   "metadata": {},
   "outputs": [
    {
     "name": "stdout",
     "output_type": "stream",
     "text": [
      "[xxxxxxxxxxxxxxxxxxxxxxxxxxxxxxxxxxxxxxxxxxxxxxxxxxxxxxxxxxxxxxxxxxxxxxxxxxxxxxxxxxxxxxxxxxxxxxxxxxxx] 100.00%\n",
      "3532/3532 complete\n"
     ]
    }
   ],
   "source": [
    "#X_test = X_test.apply(tokens_to_num)\n",
    "for i in range(len(X_test)):\n",
    "    lst = X_test.iloc[i]\n",
    "    X_test.iloc[i] = tokens_to_num(lst)\n",
    "    show_percentage(i, len(X_test))\n",
    "    \n",
    "\n",
    "test_copy = pd.DataFrame([X_test.copy()]).T\n",
    "test_copy[\"y\"] = Y_test.copy()\n",
    "test_copy.to_csv(\"data/tmp_type_test.csv\", index=False)"
   ]
  },
  {
   "cell_type": "code",
   "execution_count": 5,
   "id": "manual-singles",
   "metadata": {},
   "outputs": [],
   "source": [
    "def vectorize_sequences(sequences, dimension = len(dictionary)):\n",
    "    results = np.zeros((len(sequences), dimension))\n",
    "    for i, sequence in enumerate(sequences):\n",
    "        for j in sequence:\n",
    "            results[i, j] = 1.\n",
    "    return results"
   ]
  },
  {
   "cell_type": "code",
   "execution_count": 9,
   "id": "demographic-portable",
   "metadata": {},
   "outputs": [],
   "source": [
    "x_train = vectorize_sequences(X_train)\n",
    "x_test = vectorize_sequences(X_test)\n",
    "y_train = np.asarray(Y_train).astype(\"float32\")\n",
    "y_test = np.asarray(Y_test).astype(\"float32\")"
   ]
  },
  {
   "cell_type": "markdown",
   "id": "british-tourism",
   "metadata": {},
   "source": [
    "### Train a fully connected neural network"
   ]
  },
  {
   "cell_type": "code",
   "execution_count": 10,
   "id": "secret-brand",
   "metadata": {},
   "outputs": [
    {
     "name": "stdout",
     "output_type": "stream",
     "text": [
      "Epoch 1/10\n",
      "89/89 - 9s - loss: 0.1403 - accuracy: 0.9285 - val_loss: 0.1386 - val_accuracy: 0.9483 - 9s/epoch - 106ms/step\n",
      "Epoch 2/10\n",
      "89/89 - 1s - loss: 0.0888 - accuracy: 0.9613 - val_loss: 0.1220 - val_accuracy: 0.9593 - 1s/epoch - 11ms/step\n",
      "Epoch 3/10\n",
      "89/89 - 1s - loss: 0.0801 - accuracy: 0.9669 - val_loss: 0.1181 - val_accuracy: 0.9604 - 1s/epoch - 12ms/step\n",
      "Epoch 4/10\n",
      "89/89 - 1s - loss: 0.0771 - accuracy: 0.9690 - val_loss: 0.1177 - val_accuracy: 0.9593 - 970ms/epoch - 11ms/step\n",
      "Epoch 5/10\n",
      "89/89 - 1s - loss: 0.0761 - accuracy: 0.9697 - val_loss: 0.1165 - val_accuracy: 0.9618 - 883ms/epoch - 10ms/step\n",
      "Epoch 6/10\n",
      "89/89 - 1s - loss: 0.0761 - accuracy: 0.9702 - val_loss: 0.1156 - val_accuracy: 0.9625 - 1s/epoch - 15ms/step\n",
      "Epoch 7/10\n",
      "89/89 - 1s - loss: 0.0752 - accuracy: 0.9696 - val_loss: 0.1162 - val_accuracy: 0.9611 - 910ms/epoch - 10ms/step\n",
      "Epoch 8/10\n",
      "89/89 - 1s - loss: 0.0746 - accuracy: 0.9704 - val_loss: 0.1192 - val_accuracy: 0.9582 - 872ms/epoch - 10ms/step\n",
      "Epoch 9/10\n",
      "89/89 - 1s - loss: 0.0754 - accuracy: 0.9709 - val_loss: 0.1154 - val_accuracy: 0.9625 - 826ms/epoch - 9ms/step\n",
      "Epoch 10/10\n",
      "89/89 - 1s - loss: 0.0740 - accuracy: 0.9706 - val_loss: 0.1163 - val_accuracy: 0.9614 - 844ms/epoch - 9ms/step\n"
     ]
    }
   ],
   "source": [
    "model_type = keras.Sequential([\n",
    "    layers.Dense(32, activation=\"relu\"),\n",
    "    layers.Dense(1, activation=\"sigmoid\")\n",
    "])\n",
    "\n",
    "model_type.compile(optimizer=\"rmsprop\",\n",
    "              loss=\"mse\",\n",
    "              metrics=[\"accuracy\"])\n",
    "\n",
    "history = model_type.fit(x_train,\n",
    "                    y_train,\n",
    "                    epochs = 10,\n",
    "                    batch_size = 128,\n",
    "                    validation_split = 0.2,\n",
    "                    shuffle = True,\n",
    "                    verbose = 2)"
   ]
  },
  {
   "cell_type": "code",
   "execution_count": 11,
   "id": "first-worse",
   "metadata": {},
   "outputs": [
    {
     "name": "stdout",
     "output_type": "stream",
     "text": [
      "Model: \"sequential\"\n",
      "_________________________________________________________________\n",
      " Layer (type)                Output Shape              Param #   \n",
      "=================================================================\n",
      " dense (Dense)               (None, 32)                518176    \n",
      "                                                                 \n",
      " dense_1 (Dense)             (None, 1)                 33        \n",
      "                                                                 \n",
      "=================================================================\n",
      "Total params: 518,209\n",
      "Trainable params: 518,209\n",
      "Non-trainable params: 0\n",
      "_________________________________________________________________\n"
     ]
    }
   ],
   "source": [
    "model_type.summary()"
   ]
  },
  {
   "cell_type": "code",
   "execution_count": 12,
   "id": "beautiful-nightlife",
   "metadata": {},
   "outputs": [
    {
     "data": {
      "image/png": "[encoded data removed]",
      "text/plain": [
       "<Figure size 432x288 with 1 Axes>"
      ]
     },
     "metadata": {
      "needs_background": "light"
     },
     "output_type": "display_data"
    }
   ],
   "source": [
    "history_dict = history.history\n",
    "loss_values = history_dict[\"loss\"]\n",
    "val_loss_values = history_dict[\"val_loss\"]\n",
    "epochs = range(1, len(loss_values) + 1)\n",
    "plt.plot(epochs, loss_values, \"bo\", label=\"Training loss\")\n",
    "plt.plot(epochs, val_loss_values, \"b\", label=\"Validation loss\")\n",
    "plt.title(\"Training and validation loss\")\n",
    "plt.xlabel(\"Epochs\")\n",
    "plt.ylabel(\"Loss\")\n",
    "plt.legend()\n",
    "plt.show()"
   ]
  },
  {
   "cell_type": "code",
   "execution_count": 13,
   "id": "young-starter",
   "metadata": {},
   "outputs": [
    {
     "name": "stdout",
     "output_type": "stream",
     "text": [
      "Test score: 0.07891742885112762\n",
      "Test accuracy: 0.9646092653274536\n"
     ]
    }
   ],
   "source": [
    "score = model_type.evaluate(x_test, y_test, verbose=0) \n",
    "print('Test score:', score[0]) \n",
    "print('Test accuracy:', score[1])"
   ]
  },
  {
   "cell_type": "markdown",
   "id": "violent-solution",
   "metadata": {},
   "source": [
    "### Category"
   ]
  },
  {
   "cell_type": "code",
   "execution_count": 6,
   "id": "pressed-theorem",
   "metadata": {},
   "outputs": [
    {
     "data": {
      "text/html": [
       "<div>\n",
       "<style scoped>\n",
       "    .dataframe tbody tr th:only-of-type {\n",
       "        vertical-align: middle;\n",
       "    }\n",
       "\n",
       "    .dataframe tbody tr th {\n",
       "        vertical-align: top;\n",
       "    }\n",
       "\n",
       "    .dataframe thead th {\n",
       "        text-align: right;\n",
       "    }\n",
       "</style>\n",
       "<table border=\"1\" class=\"dataframe\">\n",
       "  <thead>\n",
       "    <tr style=\"text-align: right;\">\n",
       "      <th></th>\n",
       "      <th>job_no</th>\n",
       "      <th>job_description</th>\n",
       "      <th>job_type</th>\n",
       "      <th>category</th>\n",
       "      <th>category_label</th>\n",
       "    </tr>\n",
       "  </thead>\n",
       "  <tbody>\n",
       "    <tr>\n",
       "      <th>0</th>\n",
       "      <td>Id-12765</td>\n",
       "      <td>[zest, scientific, searching, accomplished, sc...</td>\n",
       "      <td>Permanent</td>\n",
       "      <td>Pharmaceutical, Healthcare and Medical Sales</td>\n",
       "      <td>0</td>\n",
       "    </tr>\n",
       "    <tr>\n",
       "      <th>1</th>\n",
       "      <td>Id-22925</td>\n",
       "      <td>[world, typical, cro, company, making, wave, b...</td>\n",
       "      <td>Permanent</td>\n",
       "      <td>Clinical Research</td>\n",
       "      <td>1</td>\n",
       "    </tr>\n",
       "    <tr>\n",
       "      <th>2</th>\n",
       "      <td>Id-1321</td>\n",
       "      <td>[asha, mistry, umbilical, life, recruiting, ex...</td>\n",
       "      <td>Contract/Interim</td>\n",
       "      <td>Pharmaceutical Marketing</td>\n",
       "      <td>2</td>\n",
       "    </tr>\n",
       "    <tr>\n",
       "      <th>3</th>\n",
       "      <td>Id-9473</td>\n",
       "      <td>[sale, representative, laser, der, medizintech...</td>\n",
       "      <td>Permanent</td>\n",
       "      <td>Pharmaceutical, Healthcare and Medical Sales</td>\n",
       "      <td>0</td>\n",
       "    </tr>\n",
       "    <tr>\n",
       "      <th>4</th>\n",
       "      <td>Id-14952</td>\n",
       "      <td>[field, service, engineer, life, science, camb...</td>\n",
       "      <td>Permanent</td>\n",
       "      <td>Manufacturing &amp; Operations</td>\n",
       "      <td>3</td>\n",
       "    </tr>\n",
       "  </tbody>\n",
       "</table>\n",
       "</div>"
      ],
      "text/plain": [
       "     job_no                                    job_description  \\\n",
       "0  Id-12765  [zest, scientific, searching, accomplished, sc...   \n",
       "1  Id-22925  [world, typical, cro, company, making, wave, b...   \n",
       "2   Id-1321  [asha, mistry, umbilical, life, recruiting, ex...   \n",
       "3   Id-9473  [sale, representative, laser, der, medizintech...   \n",
       "4  Id-14952  [field, service, engineer, life, science, camb...   \n",
       "\n",
       "           job_type                                      category  \\\n",
       "0         Permanent  Pharmaceutical, Healthcare and Medical Sales   \n",
       "1         Permanent                             Clinical Research   \n",
       "2  Contract/Interim                      Pharmaceutical Marketing   \n",
       "3         Permanent  Pharmaceutical, Healthcare and Medical Sales   \n",
       "4         Permanent                    Manufacturing & Operations   \n",
       "\n",
       "   category_label  \n",
       "0               0  \n",
       "1               1  \n",
       "2               2  \n",
       "3               0  \n",
       "4               3  "
      ]
     },
     "execution_count": 6,
     "metadata": {},
     "output_type": "execute_result"
    }
   ],
   "source": [
    "Category = {\n",
    "    'Pharmaceutical, Healthcare and Medical Sales':0,\n",
    "    'Clinical Research':1,\n",
    "    'Pharmaceutical Marketing':2,\n",
    "    'Manufacturing & Operations':3,\n",
    "    'Science':4,\n",
    "    'Medical Affairs / Pharmaceutical Physician':5,\n",
    "    'Regulatory Affairs':6,\n",
    "    'Medical Information and Pharmacovigilance':7,\n",
    "    'Data Management and Statistics':8,\n",
    "    'Quality-assurance':9,\n",
    "    'Pharmacy':10\n",
    "    }\n",
    "\n",
    "\n",
    "df['category_label'] = df['category'].apply(lambda x: Category[x])\n",
    "df.head()"
   ]
  },
  {
   "cell_type": "code",
   "execution_count": 15,
   "id": "bridal-eligibility",
   "metadata": {},
   "outputs": [],
   "source": [
    "X_train, X_test, Y_train, Y_test = train_test_split(df['job_description'], \n",
    "                                                    df['category_label'], \n",
    "                                                    test_size=0.20, \n",
    "                                                    random_state=42)"
   ]
  },
  {
   "cell_type": "code",
   "execution_count": 16,
   "id": "forbidden-spirit",
   "metadata": {},
   "outputs": [
    {
     "name": "stdout",
     "output_type": "stream",
     "text": [
      "[xxxxxxxxxxxxxxxxxxxxxxxxxxxxxxxxxxxxxxxxxxxxxxxxxxxxxxxxxxxxxxxxxxxxxxxxxxxxxxxxxxxxxxxxxxxxxxxxxxxx] 100.00%\n",
      "14125/14125 complete\n"
     ]
    }
   ],
   "source": [
    "#X_train = X_train.apply(tokens_to_num)\n",
    "for i in range(len(X_train)):\n",
    "    lst = X_train.iloc[i]\n",
    "    X_train.iloc[i] = tokens_to_num(lst)\n",
    "    show_percentage(i, len(X_train))\n",
    "    \n",
    "\n",
    "train_copy = pd.DataFrame([X_train.copy()]).T\n",
    "train_copy[\"y\"] = Y_train.copy()\n",
    "train_copy.to_csv(\"data/tmp_category_train.csv\", index=False)"
   ]
  },
  {
   "cell_type": "code",
   "execution_count": 17,
   "id": "generic-seventh",
   "metadata": {},
   "outputs": [
    {
     "name": "stdout",
     "output_type": "stream",
     "text": [
      "[xxxxxxxxxxxxxxxxxxxxxxxxxxxxxxxxxxxxxxxxxxxxxxxxxxxxxxxxxxxxxxxxxxxxxxxxxxxxxxxxxxxxxxxxxxxxxxxxxxxx] 100.00%\n",
      "3532/3532 complete\n"
     ]
    }
   ],
   "source": [
    "#X_test = X_test.apply(tokens_to_num)\n",
    "for i in range(len(X_test)):\n",
    "    lst = X_test.iloc[i]\n",
    "    X_test.iloc[i] = tokens_to_num(lst)\n",
    "    show_percentage(i, len(X_test))\n",
    "    \n",
    "\n",
    "test_copy = pd.DataFrame([X_test.copy()]).T\n",
    "test_copy[\"y\"] = Y_test.copy()\n",
    "test_copy.to_csv(\"data/tmp_category_test.csv\", index=False)"
   ]
  },
  {
   "cell_type": "code",
   "execution_count": 8,
   "id": "former-footage",
   "metadata": {},
   "outputs": [],
   "source": [
    "x_train = vectorize_sequences(X_train)\n",
    "x_test = vectorize_sequences(X_test)\n",
    "y_train = np.asarray(Y_train).astype(\"float32\")\n",
    "y_test = np.asarray(Y_test).astype(\"float32\")"
   ]
  },
  {
   "cell_type": "code",
   "execution_count": 9,
   "id": "superb-cooperative",
   "metadata": {},
   "outputs": [
    {
     "name": "stdout",
     "output_type": "stream",
     "text": [
      "Epoch 1/10\n",
      "89/89 - 2s - loss: 10.6250 - accuracy: 0.2165 - val_loss: 10.4947 - val_accuracy: 0.3041 - 2s/epoch - 22ms/step\n",
      "Epoch 2/10\n",
      "89/89 - 2s - loss: 10.4954 - accuracy: 0.3212 - val_loss: 10.4713 - val_accuracy: 0.3147 - 2s/epoch - 18ms/step\n",
      "Epoch 3/10\n",
      "89/89 - 1s - loss: 10.4731 - accuracy: 0.3358 - val_loss: 10.4648 - val_accuracy: 0.3267 - 1s/epoch - 17ms/step\n",
      "Epoch 4/10\n",
      "89/89 - 1s - loss: 10.4621 - accuracy: 0.3473 - val_loss: 10.4576 - val_accuracy: 0.3172 - 830ms/epoch - 9ms/step\n",
      "Epoch 5/10\n",
      "89/89 - 1s - loss: 10.4548 - accuracy: 0.3515 - val_loss: 10.4608 - val_accuracy: 0.3242 - 894ms/epoch - 10ms/step\n",
      "Epoch 6/10\n",
      "89/89 - 1s - loss: 10.4473 - accuracy: 0.3609 - val_loss: 10.4475 - val_accuracy: 0.3214 - 822ms/epoch - 9ms/step\n",
      "Epoch 7/10\n",
      "89/89 - 1s - loss: 10.4416 - accuracy: 0.3634 - val_loss: 10.4558 - val_accuracy: 0.3437 - 826ms/epoch - 9ms/step\n",
      "Epoch 8/10\n",
      "89/89 - 1s - loss: 10.4382 - accuracy: 0.3671 - val_loss: 10.4501 - val_accuracy: 0.3405 - 891ms/epoch - 10ms/step\n",
      "Epoch 9/10\n",
      "89/89 - 1s - loss: 10.4358 - accuracy: 0.3684 - val_loss: 10.4491 - val_accuracy: 0.3451 - 879ms/epoch - 10ms/step\n",
      "Epoch 10/10\n",
      "89/89 - 1s - loss: 10.4314 - accuracy: 0.3733 - val_loss: 10.4483 - val_accuracy: 0.3409 - 889ms/epoch - 10ms/step\n"
     ]
    }
   ],
   "source": [
    "model_category = keras.Sequential([\n",
    "    layers.Dense(32, activation=\"relu\"),\n",
    "    layers.Dense(1, activation=\"sigmoid\")\n",
    "])\n",
    "\n",
    "model_category.compile(optimizer=\"rmsprop\",\n",
    "              loss=\"mse\",\n",
    "              metrics=[\"accuracy\"])\n",
    "\n",
    "history = model_category.fit(x_train,\n",
    "                    y_train,\n",
    "                    epochs=10,\n",
    "                    batch_size=128,\n",
    "                    validation_split=0.2,\n",
    "                    shuffle = True,\n",
    "                    verbose = 2)"
   ]
  },
  {
   "cell_type": "code",
   "execution_count": 10,
   "id": "eastern-treasury",
   "metadata": {},
   "outputs": [
    {
     "name": "stdout",
     "output_type": "stream",
     "text": [
      "Model: \"sequential\"\n",
      "_________________________________________________________________\n",
      " Layer (type)                Output Shape              Param #   \n",
      "=================================================================\n",
      " dense (Dense)               (None, 32)                518176    \n",
      "                                                                 \n",
      " dense_1 (Dense)             (None, 1)                 33        \n",
      "                                                                 \n",
      "=================================================================\n",
      "Total params: 518,209\n",
      "Trainable params: 518,209\n",
      "Non-trainable params: 0\n",
      "_________________________________________________________________\n"
     ]
    }
   ],
   "source": [
    "model_category.summary()"
   ]
  },
  {
   "cell_type": "code",
   "execution_count": 11,
   "id": "perceived-method",
   "metadata": {},
   "outputs": [
    {
     "data": {
      "image/png": "[encoded data removed]",
      "text/plain": [
       "<Figure size 432x288 with 1 Axes>"
      ]
     },
     "metadata": {
      "needs_background": "light"
     },
     "output_type": "display_data"
    }
   ],
   "source": [
    "history_dict = history.history\n",
    "loss_values = history_dict[\"loss\"]\n",
    "val_loss_values = history_dict[\"val_loss\"]\n",
    "epochs = range(1, len(loss_values) + 1)\n",
    "plt.plot(epochs, loss_values, \"bo\", label=\"Training loss\")\n",
    "plt.plot(epochs, val_loss_values, \"b\", label=\"Validation loss\")\n",
    "plt.title(\"Training and validation loss\")\n",
    "plt.xlabel(\"Epochs\")\n",
    "plt.ylabel(\"Loss\")\n",
    "plt.legend()\n",
    "plt.show()"
   ]
  },
  {
   "cell_type": "code",
   "execution_count": 12,
   "id": "legendary-reset",
   "metadata": {},
   "outputs": [
    {
     "name": "stdout",
     "output_type": "stream",
     "text": [
      "Test score: 9.896992683410645\n",
      "Test accuracy: 0.35475650429725647\n"
     ]
    }
   ],
   "source": [
    "score = model_category.evaluate(x_test, y_test, verbose=0) \n",
    "print('Test score:', score[0]) \n",
    "print('Test accuracy:', score[1])"
   ]
  },
  {
   "cell_type": "code",
   "execution_count": null,
   "id": "derived-discount",
   "metadata": {},
   "outputs": [],
   "source": []
  }
 ],
 "metadata": {
  "kernelspec": {
   "display_name": "Python 3",
   "language": "python",
   "name": "python3"
  },
  "language_info": {
   "codemirror_mode": {
    "name": "ipython",
    "version": 3
   },
   "file_extension": ".py",
   "mimetype": "text/x-python",
   "name": "python",
   "nbconvert_exporter": "python",
   "pygments_lexer": "ipython3",
   "version": "3.8.10"
  }
 },
 "nbformat": 4,
 "nbformat_minor": 5
}
