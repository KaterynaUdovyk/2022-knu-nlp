{
 "cells": [
  {
   "cell_type": "markdown",
   "id": "hungarian-atmosphere",
   "metadata": {},
   "source": [
    "# Step 2 - Classification of text data using fully connected neural networks"
   ]
  },
  {
   "cell_type": "code",
   "execution_count": 1,
   "id": "surface-grave",
   "metadata": {},
   "outputs": [],
   "source": [
    "import pandas as pd\n",
    "import numpy as np\n",
    "from tensorflow import keras\n",
    "from tensorflow.keras import layers\n",
    "import matplotlib.pyplot as plt\n",
    "from sklearn.model_selection import train_test_split"
   ]
  },
  {
   "cell_type": "markdown",
   "id": "geographic-course",
   "metadata": {},
   "source": [
    "### Get the Data"
   ]
  },
  {
   "cell_type": "code",
   "execution_count": 2,
   "id": "social-differential",
   "metadata": {},
   "outputs": [],
   "source": [
    "# https://www.kaggle.com/adarshsng/predicting-job-type-category-by-job-description\n",
    "def str_to_lst(x):\n",
    "    return x.replace(\"'\", \"\").replace(\"[\", \"\").replace(\"]\", \"\").split(\", \")"
   ]
  },
  {
   "cell_type": "code",
   "execution_count": 3,
   "id": "lyric-protection",
   "metadata": {},
   "outputs": [
    {
     "data": {
      "text/html": [
       "<div>\n",
       "<style scoped>\n",
       "    .dataframe tbody tr th:only-of-type {\n",
       "        vertical-align: middle;\n",
       "    }\n",
       "\n",
       "    .dataframe tbody tr th {\n",
       "        vertical-align: top;\n",
       "    }\n",
       "\n",
       "    .dataframe thead th {\n",
       "        text-align: right;\n",
       "    }\n",
       "</style>\n",
       "<table border=\"1\" class=\"dataframe\">\n",
       "  <thead>\n",
       "    <tr style=\"text-align: right;\">\n",
       "      <th></th>\n",
       "      <th>job_no</th>\n",
       "      <th>job_description</th>\n",
       "      <th>job_type</th>\n",
       "      <th>category</th>\n",
       "    </tr>\n",
       "  </thead>\n",
       "  <tbody>\n",
       "    <tr>\n",
       "      <th>0</th>\n",
       "      <td>Id-12765</td>\n",
       "      <td>[zest, scientif, search, accomplish, scientif,...</td>\n",
       "      <td>Permanent</td>\n",
       "      <td>Pharmaceutical, Healthcare and Medical Sales</td>\n",
       "    </tr>\n",
       "    <tr>\n",
       "      <th>1</th>\n",
       "      <td>Id-1321</td>\n",
       "      <td>[asha, mistri, umbil, life, recruit, experienc...</td>\n",
       "      <td>Contract/Interim</td>\n",
       "      <td>Pharmaceutical Marketing</td>\n",
       "    </tr>\n",
       "    <tr>\n",
       "      <th>2</th>\n",
       "      <td>Id-9473</td>\n",
       "      <td>[sale, repres, laser, der, medizintechnik, mun...</td>\n",
       "      <td>Permanent</td>\n",
       "      <td>Pharmaceutical, Healthcare and Medical Sales</td>\n",
       "    </tr>\n",
       "    <tr>\n",
       "      <th>3</th>\n",
       "      <td>Id-14952</td>\n",
       "      <td>[field, servic, engin, life, scienc, cambridg,...</td>\n",
       "      <td>Permanent</td>\n",
       "      <td>Manufacturing &amp; Operations</td>\n",
       "    </tr>\n",
       "    <tr>\n",
       "      <th>4</th>\n",
       "      <td>Id-16692</td>\n",
       "      <td>[due, increas, busi, demand, award, win, world...</td>\n",
       "      <td>Permanent</td>\n",
       "      <td>Pharmaceutical, Healthcare and Medical Sales</td>\n",
       "    </tr>\n",
       "  </tbody>\n",
       "</table>\n",
       "</div>"
      ],
      "text/plain": [
       "     job_no                                    job_description  \\\n",
       "0  Id-12765  [zest, scientif, search, accomplish, scientif,...   \n",
       "1   Id-1321  [asha, mistri, umbil, life, recruit, experienc...   \n",
       "2   Id-9473  [sale, repres, laser, der, medizintechnik, mun...   \n",
       "3  Id-14952  [field, servic, engin, life, scienc, cambridg,...   \n",
       "4  Id-16692  [due, increas, busi, demand, award, win, world...   \n",
       "\n",
       "           job_type                                      category  \n",
       "0         Permanent  Pharmaceutical, Healthcare and Medical Sales  \n",
       "1  Contract/Interim                      Pharmaceutical Marketing  \n",
       "2         Permanent  Pharmaceutical, Healthcare and Medical Sales  \n",
       "3         Permanent                    Manufacturing & Operations  \n",
       "4         Permanent  Pharmaceutical, Healthcare and Medical Sales  "
      ]
     },
     "execution_count": 3,
     "metadata": {},
     "output_type": "execute_result"
    }
   ],
   "source": [
    "df = pd.read_csv(\"preprocessed_train.csv\")\n",
    "df['job_description'] = df['job_description'].apply(lambda x: str_to_lst(x))\n",
    "df.head()"
   ]
  },
  {
   "cell_type": "markdown",
   "id": "harmful-chaos",
   "metadata": {},
   "source": [
    "### Job Type"
   ]
  },
  {
   "cell_type": "code",
   "execution_count": 4,
   "id": "perfect-virginia",
   "metadata": {},
   "outputs": [
    {
     "data": {
      "text/html": [
       "<div>\n",
       "<style scoped>\n",
       "    .dataframe tbody tr th:only-of-type {\n",
       "        vertical-align: middle;\n",
       "    }\n",
       "\n",
       "    .dataframe tbody tr th {\n",
       "        vertical-align: top;\n",
       "    }\n",
       "\n",
       "    .dataframe thead th {\n",
       "        text-align: right;\n",
       "    }\n",
       "</style>\n",
       "<table border=\"1\" class=\"dataframe\">\n",
       "  <thead>\n",
       "    <tr style=\"text-align: right;\">\n",
       "      <th></th>\n",
       "      <th>job_no</th>\n",
       "      <th>job_description</th>\n",
       "      <th>job_type</th>\n",
       "      <th>category</th>\n",
       "      <th>labels</th>\n",
       "    </tr>\n",
       "  </thead>\n",
       "  <tbody>\n",
       "    <tr>\n",
       "      <th>0</th>\n",
       "      <td>Id-12765</td>\n",
       "      <td>[zest, scientif, search, accomplish, scientif,...</td>\n",
       "      <td>Permanent</td>\n",
       "      <td>Pharmaceutical, Healthcare and Medical Sales</td>\n",
       "      <td>0</td>\n",
       "    </tr>\n",
       "    <tr>\n",
       "      <th>1</th>\n",
       "      <td>Id-1321</td>\n",
       "      <td>[asha, mistri, umbil, life, recruit, experienc...</td>\n",
       "      <td>Contract/Interim</td>\n",
       "      <td>Pharmaceutical Marketing</td>\n",
       "      <td>1</td>\n",
       "    </tr>\n",
       "    <tr>\n",
       "      <th>2</th>\n",
       "      <td>Id-9473</td>\n",
       "      <td>[sale, repres, laser, der, medizintechnik, mun...</td>\n",
       "      <td>Permanent</td>\n",
       "      <td>Pharmaceutical, Healthcare and Medical Sales</td>\n",
       "      <td>0</td>\n",
       "    </tr>\n",
       "    <tr>\n",
       "      <th>3</th>\n",
       "      <td>Id-14952</td>\n",
       "      <td>[field, servic, engin, life, scienc, cambridg,...</td>\n",
       "      <td>Permanent</td>\n",
       "      <td>Manufacturing &amp; Operations</td>\n",
       "      <td>0</td>\n",
       "    </tr>\n",
       "    <tr>\n",
       "      <th>4</th>\n",
       "      <td>Id-16692</td>\n",
       "      <td>[due, increas, busi, demand, award, win, world...</td>\n",
       "      <td>Permanent</td>\n",
       "      <td>Pharmaceutical, Healthcare and Medical Sales</td>\n",
       "      <td>0</td>\n",
       "    </tr>\n",
       "  </tbody>\n",
       "</table>\n",
       "</div>"
      ],
      "text/plain": [
       "     job_no                                    job_description  \\\n",
       "0  Id-12765  [zest, scientif, search, accomplish, scientif,...   \n",
       "1   Id-1321  [asha, mistri, umbil, life, recruit, experienc...   \n",
       "2   Id-9473  [sale, repres, laser, der, medizintechnik, mun...   \n",
       "3  Id-14952  [field, servic, engin, life, scienc, cambridg,...   \n",
       "4  Id-16692  [due, increas, busi, demand, award, win, world...   \n",
       "\n",
       "           job_type                                      category  labels  \n",
       "0         Permanent  Pharmaceutical, Healthcare and Medical Sales       0  \n",
       "1  Contract/Interim                      Pharmaceutical Marketing       1  \n",
       "2         Permanent  Pharmaceutical, Healthcare and Medical Sales       0  \n",
       "3         Permanent                    Manufacturing & Operations       0  \n",
       "4         Permanent  Pharmaceutical, Healthcare and Medical Sales       0  "
      ]
     },
     "execution_count": 4,
     "metadata": {},
     "output_type": "execute_result"
    }
   ],
   "source": [
    "Job_type = {\n",
    "    'Permanent':0,\n",
    "    'Contract/Interim':1,\n",
    "    'Contract/Temp':2,\n",
    "    'Temporary/Seasonal':3,\n",
    "    'Any':4,\n",
    "    'Part-Time':5\n",
    "    }\n",
    "\n",
    "def set_label(x):\n",
    "    return Job_type[x]\n",
    "\n",
    "df['labels'] = df['job_type'].apply(lambda x: set_label(x))\n",
    "df.head()"
   ]
  },
  {
   "cell_type": "code",
   "execution_count": 5,
   "id": "trying-champion",
   "metadata": {},
   "outputs": [],
   "source": [
    "X_train, X_test, Y_train, Y_test = train_test_split(df['job_description'], \n",
    "                                                    df['labels'], \n",
    "                                                    test_size=0.10, \n",
    "                                                    random_state=42)"
   ]
  },
  {
   "cell_type": "markdown",
   "id": "controlling-level",
   "metadata": {},
   "source": [
    "### Vectorization"
   ]
  },
  {
   "cell_type": "code",
   "execution_count": 6,
   "id": "experienced-welsh",
   "metadata": {},
   "outputs": [],
   "source": [
    "tokens = []\n",
    "\n",
    "for lst in df[\"job_description\"]:\n",
    "    tokens += lst\n",
    "    \n",
    "dictionary = list(set(tokens))\n",
    "\n",
    "def tokens_to_num(lst):\n",
    "    res = [dictionary.index(i) for i in lst]\n",
    "    return res"
   ]
  },
  {
   "cell_type": "code",
   "execution_count": 7,
   "id": "comprehensive-battlefield",
   "metadata": {},
   "outputs": [],
   "source": [
    "X_train = X_train.apply(tokens_to_num)\n",
    "X_test = X_test.apply(tokens_to_num)"
   ]
  },
  {
   "cell_type": "code",
   "execution_count": 8,
   "id": "beautiful-commercial",
   "metadata": {},
   "outputs": [],
   "source": [
    "def vectorize_sequences(sequences, dimension = 15000):\n",
    "    results = np.zeros((len(sequences), dimension))\n",
    "    for i, sequence in enumerate(sequences):\n",
    "        for j in sequence:\n",
    "            results[i, j] = 1.\n",
    "    return results"
   ]
  },
  {
   "cell_type": "code",
   "execution_count": 10,
   "id": "structured-colombia",
   "metadata": {},
   "outputs": [],
   "source": [
    "x_train = vectorize_sequences(X_train)\n",
    "x_test = vectorize_sequences(X_test)\n",
    "y_train = np.asarray(Y_train).astype(\"float32\")\n",
    "y_test = np.asarray(Y_test).astype(\"float32\")"
   ]
  },
  {
   "cell_type": "markdown",
   "id": "white-citizenship",
   "metadata": {},
   "source": [
    "### Train a fully connected neural network"
   ]
  },
  {
   "cell_type": "code",
   "execution_count": 11,
   "id": "super-worker",
   "metadata": {},
   "outputs": [
    {
     "name": "stdout",
     "output_type": "stream",
     "text": [
      "Epoch 1/10\n",
      "70/70 - 1s - loss: 0.1476 - accuracy: 0.9146 - val_loss: 0.1365 - val_accuracy: 0.9429 - 1s/epoch - 18ms/step\n",
      "Epoch 2/10\n",
      "70/70 - 1s - loss: 0.0926 - accuracy: 0.9587 - val_loss: 0.1170 - val_accuracy: 0.9618 - 618ms/epoch - 9ms/step\n",
      "Epoch 3/10\n",
      "70/70 - 1s - loss: 0.0824 - accuracy: 0.9657 - val_loss: 0.1140 - val_accuracy: 0.9627 - 618ms/epoch - 9ms/step\n",
      "Epoch 4/10\n",
      "70/70 - 1s - loss: 0.0795 - accuracy: 0.9674 - val_loss: 0.1101 - val_accuracy: 0.9681 - 626ms/epoch - 9ms/step\n",
      "Epoch 5/10\n",
      "70/70 - 1s - loss: 0.0775 - accuracy: 0.9691 - val_loss: 0.1095 - val_accuracy: 0.9685 - 598ms/epoch - 9ms/step\n",
      "Epoch 6/10\n",
      "70/70 - 1s - loss: 0.0770 - accuracy: 0.9691 - val_loss: 0.1103 - val_accuracy: 0.9667 - 608ms/epoch - 9ms/step\n",
      "Epoch 7/10\n",
      "70/70 - 1s - loss: 0.0768 - accuracy: 0.9699 - val_loss: 0.1106 - val_accuracy: 0.9658 - 603ms/epoch - 9ms/step\n",
      "Epoch 8/10\n",
      "70/70 - 1s - loss: 0.0764 - accuracy: 0.9694 - val_loss: 0.1111 - val_accuracy: 0.9654 - 611ms/epoch - 9ms/step\n",
      "Epoch 9/10\n",
      "70/70 - 1s - loss: 0.0763 - accuracy: 0.9696 - val_loss: 0.1101 - val_accuracy: 0.9667 - 608ms/epoch - 9ms/step\n",
      "Epoch 10/10\n",
      "70/70 - 1s - loss: 0.0761 - accuracy: 0.9700 - val_loss: 0.1090 - val_accuracy: 0.9658 - 610ms/epoch - 9ms/step\n"
     ]
    }
   ],
   "source": [
    "model = keras.Sequential([\n",
    "    layers.Dense(32, activation=\"relu\"),\n",
    "    layers.Dense(1, activation=\"sigmoid\")\n",
    "])\n",
    "\n",
    "model.compile(optimizer=\"rmsprop\",\n",
    "              loss=\"mse\",\n",
    "              metrics=[\"accuracy\"])\n",
    "\n",
    "history = model.fit(x_train,\n",
    "                    y_train,\n",
    "                    epochs=10,\n",
    "                    batch_size=128,\n",
    "                    validation_split=0.2,\n",
    "                    shuffle = True,\n",
    "                    verbose = 1)"
   ]
  },
  {
   "cell_type": "code",
   "execution_count": 12,
   "id": "continuing-benjamin",
   "metadata": {},
   "outputs": [
    {
     "name": "stdout",
     "output_type": "stream",
     "text": [
      "Model: \"sequential\"\n",
      "_________________________________________________________________\n",
      " Layer (type)                Output Shape              Param #   \n",
      "=================================================================\n",
      " dense (Dense)               (None, 32)                480032    \n",
      "                                                                 \n",
      " dense_1 (Dense)             (None, 1)                 33        \n",
      "                                                                 \n",
      "=================================================================\n",
      "Total params: 480,065\n",
      "Trainable params: 480,065\n",
      "Non-trainable params: 0\n",
      "_________________________________________________________________\n"
     ]
    }
   ],
   "source": [
    "model.summary()"
   ]
  },
  {
   "cell_type": "code",
   "execution_count": 13,
   "id": "million-plate",
   "metadata": {},
   "outputs": [
    {
     "data": {
      "image/png": "[encoded data removed]",
      "text/plain": [
       "<Figure size 432x288 with 1 Axes>"
      ]
     },
     "metadata": {
      "needs_background": "light"
     },
     "output_type": "display_data"
    }
   ],
   "source": [
    "history_dict = history.history\n",
    "loss_values = history_dict[\"loss\"]\n",
    "val_loss_values = history_dict[\"val_loss\"]\n",
    "epochs = range(1, len(loss_values) + 1)\n",
    "plt.plot(epochs, loss_values, \"bo\", label=\"Training loss\")\n",
    "plt.plot(epochs, val_loss_values, \"b\", label=\"Validation loss\")\n",
    "plt.title(\"Training and validation loss\")\n",
    "plt.xlabel(\"Epochs\")\n",
    "plt.ylabel(\"Loss\")\n",
    "plt.legend()\n",
    "plt.show()"
   ]
  },
  {
   "cell_type": "code",
   "execution_count": 14,
   "id": "curious-federation",
   "metadata": {},
   "outputs": [
    {
     "name": "stdout",
     "output_type": "stream",
     "text": [
      "Test score: 0.10640706866979599\n",
      "Test accuracy: 0.9635922312736511\n"
     ]
    }
   ],
   "source": [
    "score = model.evaluate(x_test, y_test, verbose=0) \n",
    "print('Test score:', score[0]) \n",
    "print('Test accuracy:', score[1])"
   ]
  },
  {
   "cell_type": "markdown",
   "id": "synthetic-amount",
   "metadata": {},
   "source": [
    "### Category"
   ]
  },
  {
   "cell_type": "code",
   "execution_count": 15,
   "id": "north-cooper",
   "metadata": {},
   "outputs": [
    {
     "data": {
      "text/html": [
       "<div>\n",
       "<style scoped>\n",
       "    .dataframe tbody tr th:only-of-type {\n",
       "        vertical-align: middle;\n",
       "    }\n",
       "\n",
       "    .dataframe tbody tr th {\n",
       "        vertical-align: top;\n",
       "    }\n",
       "\n",
       "    .dataframe thead th {\n",
       "        text-align: right;\n",
       "    }\n",
       "</style>\n",
       "<table border=\"1\" class=\"dataframe\">\n",
       "  <thead>\n",
       "    <tr style=\"text-align: right;\">\n",
       "      <th></th>\n",
       "      <th>job_no</th>\n",
       "      <th>job_description</th>\n",
       "      <th>job_type</th>\n",
       "      <th>category</th>\n",
       "      <th>labels</th>\n",
       "    </tr>\n",
       "  </thead>\n",
       "  <tbody>\n",
       "    <tr>\n",
       "      <th>0</th>\n",
       "      <td>Id-12765</td>\n",
       "      <td>[zest, scientif, search, accomplish, scientif,...</td>\n",
       "      <td>Permanent</td>\n",
       "      <td>Pharmaceutical, Healthcare and Medical Sales</td>\n",
       "      <td>0</td>\n",
       "    </tr>\n",
       "    <tr>\n",
       "      <th>1</th>\n",
       "      <td>Id-1321</td>\n",
       "      <td>[asha, mistri, umbil, life, recruit, experienc...</td>\n",
       "      <td>Contract/Interim</td>\n",
       "      <td>Pharmaceutical Marketing</td>\n",
       "      <td>2</td>\n",
       "    </tr>\n",
       "    <tr>\n",
       "      <th>2</th>\n",
       "      <td>Id-9473</td>\n",
       "      <td>[sale, repres, laser, der, medizintechnik, mun...</td>\n",
       "      <td>Permanent</td>\n",
       "      <td>Pharmaceutical, Healthcare and Medical Sales</td>\n",
       "      <td>0</td>\n",
       "    </tr>\n",
       "    <tr>\n",
       "      <th>3</th>\n",
       "      <td>Id-14952</td>\n",
       "      <td>[field, servic, engin, life, scienc, cambridg,...</td>\n",
       "      <td>Permanent</td>\n",
       "      <td>Manufacturing &amp; Operations</td>\n",
       "      <td>3</td>\n",
       "    </tr>\n",
       "    <tr>\n",
       "      <th>4</th>\n",
       "      <td>Id-16692</td>\n",
       "      <td>[due, increas, busi, demand, award, win, world...</td>\n",
       "      <td>Permanent</td>\n",
       "      <td>Pharmaceutical, Healthcare and Medical Sales</td>\n",
       "      <td>0</td>\n",
       "    </tr>\n",
       "  </tbody>\n",
       "</table>\n",
       "</div>"
      ],
      "text/plain": [
       "     job_no                                    job_description  \\\n",
       "0  Id-12765  [zest, scientif, search, accomplish, scientif,...   \n",
       "1   Id-1321  [asha, mistri, umbil, life, recruit, experienc...   \n",
       "2   Id-9473  [sale, repres, laser, der, medizintechnik, mun...   \n",
       "3  Id-14952  [field, servic, engin, life, scienc, cambridg,...   \n",
       "4  Id-16692  [due, increas, busi, demand, award, win, world...   \n",
       "\n",
       "           job_type                                      category  labels  \n",
       "0         Permanent  Pharmaceutical, Healthcare and Medical Sales       0  \n",
       "1  Contract/Interim                      Pharmaceutical Marketing       2  \n",
       "2         Permanent  Pharmaceutical, Healthcare and Medical Sales       0  \n",
       "3         Permanent                    Manufacturing & Operations       3  \n",
       "4         Permanent  Pharmaceutical, Healthcare and Medical Sales       0  "
      ]
     },
     "execution_count": 15,
     "metadata": {},
     "output_type": "execute_result"
    }
   ],
   "source": [
    "Category = {\n",
    "    'Pharmaceutical, Healthcare and Medical Sales':0,\n",
    "    'Clinical Research':1,\n",
    "    'Pharmaceutical Marketing':2,\n",
    "    'Manufacturing & Operations':3,\n",
    "    'Science':4,\n",
    "    'Medical Affairs / Pharmaceutical Physician':5,\n",
    "    'Regulatory Affairs':6,\n",
    "    'Medical Information and Pharmacovigilance':7,\n",
    "    'Data Management and Statistics':8,\n",
    "    'Quality-assurance':9,\n",
    "    'Pharmacy':10\n",
    "    }\n",
    "\n",
    "def set_label(x):\n",
    "    return Category[x]\n",
    "\n",
    "df['labels'] = df['category'].apply(lambda x: set_label(x))\n",
    "df.head()"
   ]
  },
  {
   "cell_type": "code",
   "execution_count": 16,
   "id": "compound-space",
   "metadata": {},
   "outputs": [],
   "source": [
    "X_train, X_test, Y_train, Y_test = train_test_split(df['job_description'], \n",
    "                                                    df['labels'], \n",
    "                                                    test_size=0.30, \n",
    "                                                    random_state=42)"
   ]
  },
  {
   "cell_type": "code",
   "execution_count": 17,
   "id": "greatest-crossing",
   "metadata": {},
   "outputs": [],
   "source": [
    "X_train = X_train.apply(tokens_to_num)\n",
    "X_test = X_test.apply(tokens_to_num)"
   ]
  },
  {
   "cell_type": "code",
   "execution_count": 18,
   "id": "legal-wholesale",
   "metadata": {},
   "outputs": [],
   "source": [
    "x_train = vectorize_sequences(X_train)\n",
    "x_test = vectorize_sequences(X_test)\n",
    "y_train = np.asarray(Y_train).astype(\"float32\")\n",
    "y_test = np.asarray(Y_test).astype(\"float32\")"
   ]
  },
  {
   "cell_type": "code",
   "execution_count": 19,
   "id": "about-lithuania",
   "metadata": {},
   "outputs": [
    {
     "name": "stdout",
     "output_type": "stream",
     "text": [
      "Epoch 1/10\n",
      "55/55 - 1s - loss: 10.4125 - accuracy: 0.1797 - val_loss: 10.0659 - val_accuracy: 0.1827 - 1s/epoch - 19ms/step\n",
      "Epoch 2/10\n",
      "55/55 - 0s - loss: 10.2804 - accuracy: 0.2070 - val_loss: 9.9765 - val_accuracy: 0.3185 - 481ms/epoch - 9ms/step\n",
      "Epoch 3/10\n",
      "55/55 - 0s - loss: 10.2030 - accuracy: 0.2993 - val_loss: 9.9506 - val_accuracy: 0.3092 - 478ms/epoch - 9ms/step\n",
      "Epoch 4/10\n",
      "55/55 - 0s - loss: 10.1845 - accuracy: 0.3115 - val_loss: 9.9463 - val_accuracy: 0.3301 - 488ms/epoch - 9ms/step\n",
      "Epoch 5/10\n",
      "55/55 - 0s - loss: 10.1701 - accuracy: 0.3279 - val_loss: 9.9395 - val_accuracy: 0.3434 - 482ms/epoch - 9ms/step\n",
      "Epoch 6/10\n",
      "55/55 - 0s - loss: 10.1596 - accuracy: 0.3382 - val_loss: 9.9384 - val_accuracy: 0.3312 - 482ms/epoch - 9ms/step\n",
      "Epoch 7/10\n",
      "55/55 - 0s - loss: 10.1533 - accuracy: 0.3418 - val_loss: 9.9388 - val_accuracy: 0.3503 - 486ms/epoch - 9ms/step\n",
      "Epoch 8/10\n",
      "55/55 - 0s - loss: 10.1473 - accuracy: 0.3493 - val_loss: 9.9308 - val_accuracy: 0.3503 - 482ms/epoch - 9ms/step\n",
      "Epoch 9/10\n",
      "55/55 - 0s - loss: 10.1403 - accuracy: 0.3557 - val_loss: 9.9317 - val_accuracy: 0.3613 - 484ms/epoch - 9ms/step\n",
      "Epoch 10/10\n",
      "55/55 - 0s - loss: 10.1370 - accuracy: 0.3584 - val_loss: 9.9287 - val_accuracy: 0.3665 - 468ms/epoch - 9ms/step\n"
     ]
    }
   ],
   "source": [
    "model = keras.Sequential([\n",
    "    layers.Dense(32, activation=\"relu\"),\n",
    "    layers.Dense(1, activation=\"sigmoid\")\n",
    "])\n",
    "\n",
    "model.compile(optimizer=\"rmsprop\",\n",
    "              loss=\"mse\",\n",
    "              metrics=[\"accuracy\"])\n",
    "\n",
    "history = model.fit(x_train,\n",
    "                    y_train,\n",
    "                    epochs=10,\n",
    "                    batch_size=128,\n",
    "                    validation_split=0.2,\n",
    "                    shuffle = True,\n",
    "                    verbose = 2)"
   ]
  },
  {
   "cell_type": "code",
   "execution_count": 20,
   "id": "continent-village",
   "metadata": {},
   "outputs": [
    {
     "name": "stdout",
     "output_type": "stream",
     "text": [
      "Model: \"sequential_1\"\n",
      "_________________________________________________________________\n",
      " Layer (type)                Output Shape              Param #   \n",
      "=================================================================\n",
      " dense_2 (Dense)             (None, 32)                480032    \n",
      "                                                                 \n",
      " dense_3 (Dense)             (None, 1)                 33        \n",
      "                                                                 \n",
      "=================================================================\n",
      "Total params: 480,065\n",
      "Trainable params: 480,065\n",
      "Non-trainable params: 0\n",
      "_________________________________________________________________\n"
     ]
    }
   ],
   "source": [
    "model.summary()"
   ]
  },
  {
   "cell_type": "code",
   "execution_count": 21,
   "id": "vertical-seller",
   "metadata": {},
   "outputs": [
    {
     "data": {
      "image/png": "[encoded data removed]",
      "text/plain": [
       "<Figure size 432x288 with 1 Axes>"
      ]
     },
     "metadata": {
      "needs_background": "light"
     },
     "output_type": "display_data"
    }
   ],
   "source": [
    "history_dict = history.history\n",
    "loss_values = history_dict[\"loss\"]\n",
    "val_loss_values = history_dict[\"val_loss\"]\n",
    "epochs = range(1, len(loss_values) + 1)\n",
    "plt.plot(epochs, loss_values, \"bo\", label=\"Training loss\")\n",
    "plt.plot(epochs, val_loss_values, \"b\", label=\"Validation loss\")\n",
    "plt.title(\"Training and validation loss\")\n",
    "plt.xlabel(\"Epochs\")\n",
    "plt.ylabel(\"Loss\")\n",
    "plt.legend()\n",
    "plt.show()"
   ]
  },
  {
   "cell_type": "code",
   "execution_count": 22,
   "id": "biological-bloom",
   "metadata": {},
   "outputs": [
    {
     "name": "stdout",
     "output_type": "stream",
     "text": [
      "Test score: 10.656654357910156\n",
      "Test accuracy: 0.3471810221672058\n"
     ]
    }
   ],
   "source": [
    "score = model.evaluate(x_test, y_test, verbose=0) \n",
    "print('Test score:', score[0]) \n",
    "print('Test accuracy:', score[1])"
   ]
  },
  {
   "cell_type": "code",
   "execution_count": null,
   "id": "southwest-participant",
   "metadata": {},
   "outputs": [],
   "source": []
  }
 ],
 "metadata": {
  "kernelspec": {
   "display_name": "Python 3",
   "language": "python",
   "name": "python3"
  },
  "language_info": {
   "codemirror_mode": {
    "name": "ipython",
    "version": 3
   },
   "file_extension": ".py",
   "mimetype": "text/x-python",
   "name": "python",
   "nbconvert_exporter": "python",
   "pygments_lexer": "ipython3",
   "version": "3.8.10"
  }
 },
 "nbformat": 4,
 "nbformat_minor": 5
}
