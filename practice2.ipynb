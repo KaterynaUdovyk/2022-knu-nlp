{
 "cells": [
  {
   "cell_type": "markdown",
   "id": "3fb73568",
   "metadata": {},
   "source": [
    "# E-Mail classification NLP (step 2)"
   ]
  },
  {
   "cell_type": "markdown",
   "id": "0ec44f20",
   "metadata": {},
   "source": [
    "## Text classification data"
   ]
  },
  {
   "cell_type": "markdown",
   "id": "52e8da9b",
   "metadata": {},
   "source": [
    "### Classification of text data using fully connected neural networks"
   ]
  },
  {
   "cell_type": "markdown",
   "id": "80502b6c",
   "metadata": {},
   "source": [
    "***Get dataset from Google Drive:***"
   ]
  },
  {
   "cell_type": "code",
   "execution_count": 1,
   "id": "1468191a",
   "metadata": {},
   "outputs": [
    {
     "name": "stdout",
     "output_type": "stream",
     "text": [
      "LOG file id =  1HqD1LueAC1We0Bgum4qNxxCU6VJZW3yW\n",
      "LOG download url =  https://drive.google.com/uc?id=1HqD1LueAC1We0Bgum4qNxxCU6VJZW3yW\n"
     ]
    }
   ],
   "source": [
    "import pandas as pd\n",
    "import matplotlib.pyplot as plt\n",
    "\n",
    "#from nltk.tokenize import word_tokenize\n",
    "#from nltk.corpus import stopwords\n",
    "#from nltk.stem import WordNetLemmatizer\n",
    "\n",
    "from collections import Counter\n",
    "import re\n",
    "import string\n",
    "\n",
    "\n",
    "#url_testDATA='https://drive.google.com/file/d/1q8_G19zYuD4C2l8u4CrGe_yiitjI1h2I/view?usp=sharing'\n",
    "url_trainDATA='https://drive.google.com/file/d/1HqD1LueAC1We0Bgum4qNxxCU6VJZW3yW/view?usp=sharing'\n",
    "\n",
    "#https://www.kaggle.com/datatattle/email-classification-nlp?select=SMS_train.csv\n",
    "url=url_trainDATA\n",
    "file_id=url.split('/')[-2]\n",
    "print('LOG file id = ',file_id)\n",
    "dwn_url='https://drive.google.com/uc?id=' + file_id\n",
    "print('LOG download url = ', dwn_url)\n",
    "\n",
    "df = pd.read_csv(dwn_url, encoding = \"ISO-8859-1\")"
   ]
  },
  {
   "cell_type": "code",
   "execution_count": 2,
   "id": "81ddfdad",
   "metadata": {
    "scrolled": true
   },
   "outputs": [
    {
     "data": {
      "text/html": [
       "<div>\n",
       "<style scoped>\n",
       "    .dataframe tbody tr th:only-of-type {\n",
       "        vertical-align: middle;\n",
       "    }\n",
       "\n",
       "    .dataframe tbody tr th {\n",
       "        vertical-align: top;\n",
       "    }\n",
       "\n",
       "    .dataframe thead th {\n",
       "        text-align: right;\n",
       "    }\n",
       "</style>\n",
       "<table border=\"1\" class=\"dataframe\">\n",
       "  <thead>\n",
       "    <tr style=\"text-align: right;\">\n",
       "      <th></th>\n",
       "      <th>S. No.</th>\n",
       "      <th>Message_body</th>\n",
       "      <th>Label</th>\n",
       "    </tr>\n",
       "  </thead>\n",
       "  <tbody>\n",
       "    <tr>\n",
       "      <th>0</th>\n",
       "      <td>1</td>\n",
       "      <td>Rofl. Its true to its name</td>\n",
       "      <td>Non-Spam</td>\n",
       "    </tr>\n",
       "    <tr>\n",
       "      <th>1</th>\n",
       "      <td>2</td>\n",
       "      <td>The guy did some bitching but I acted like i'd...</td>\n",
       "      <td>Non-Spam</td>\n",
       "    </tr>\n",
       "    <tr>\n",
       "      <th>2</th>\n",
       "      <td>3</td>\n",
       "      <td>Pity, * was in mood for that. So...any other s...</td>\n",
       "      <td>Non-Spam</td>\n",
       "    </tr>\n",
       "    <tr>\n",
       "      <th>3</th>\n",
       "      <td>4</td>\n",
       "      <td>Will ü b going to esplanade fr home?</td>\n",
       "      <td>Non-Spam</td>\n",
       "    </tr>\n",
       "    <tr>\n",
       "      <th>4</th>\n",
       "      <td>5</td>\n",
       "      <td>This is the 2nd time we have tried 2 contact u...</td>\n",
       "      <td>Spam</td>\n",
       "    </tr>\n",
       "  </tbody>\n",
       "</table>\n",
       "</div>"
      ],
      "text/plain": [
       "   S. No.                                       Message_body     Label\n",
       "0       1                         Rofl. Its true to its name  Non-Spam\n",
       "1       2  The guy did some bitching but I acted like i'd...  Non-Spam\n",
       "2       3  Pity, * was in mood for that. So...any other s...  Non-Spam\n",
       "3       4               Will ü b going to esplanade fr home?  Non-Spam\n",
       "4       5  This is the 2nd time we have tried 2 contact u...      Spam"
      ]
     },
     "execution_count": 2,
     "metadata": {},
     "output_type": "execute_result"
    }
   ],
   "source": [
    "df.head()"
   ]
  },
  {
   "cell_type": "markdown",
   "id": "8154fe98",
   "metadata": {},
   "source": [
    "***Remowe extra columns:***"
   ]
  },
  {
   "cell_type": "code",
   "execution_count": 3,
   "id": "89c06a9b",
   "metadata": {},
   "outputs": [],
   "source": [
    "df.drop(['S. No.'], axis = 1, inplace = True)"
   ]
  },
  {
   "cell_type": "code",
   "execution_count": 4,
   "id": "83fec635",
   "metadata": {},
   "outputs": [
    {
     "name": "stdout",
     "output_type": "stream",
     "text": [
      "\n",
      "TEXT OF THE MESSAGE:\n",
      " 0                             Rofl. Its true to its name\n",
      "1      The guy did some bitching but I acted like i'd...\n",
      "2      Pity, * was in mood for that. So...any other s...\n",
      "3                   Will ü b going to esplanade fr home?\n",
      "4      This is the 2nd time we have tried 2 contact u...\n",
      "                             ...                        \n",
      "952    hows my favourite person today? r u workin har...\n",
      "953                        How much you got for cleaning\n",
      "954    Sorry da. I gone mad so many pending works wha...\n",
      "955                                   Wat time ü finish?\n",
      "956                      Just glad to be talking to you.\n",
      "Name: Message_body, Length: 957, dtype: object\n",
      "\n",
      "CLASSIFICATION:\n",
      " 0      Non-Spam\n",
      "1      Non-Spam\n",
      "2      Non-Spam\n",
      "3      Non-Spam\n",
      "4          Spam\n",
      "         ...   \n",
      "952    Non-Spam\n",
      "953    Non-Spam\n",
      "954    Non-Spam\n",
      "955    Non-Spam\n",
      "956    Non-Spam\n",
      "Name: Label, Length: 957, dtype: object\n"
     ]
    }
   ],
   "source": [
    "X_train = df.Message_body\n",
    "Y_train = df.Label\n",
    "\n",
    "print(\"\\nTEXT OF THE MESSAGE:\\n\",  X_train)\n",
    "print(\"\\nCLASSIFICATION:\\n\", Y_train)"
   ]
  },
  {
   "cell_type": "code",
   "execution_count": 5,
   "id": "4a325aef",
   "metadata": {},
   "outputs": [
    {
     "data": {
      "text/html": [
       "<div>\n",
       "<style scoped>\n",
       "    .dataframe tbody tr th:only-of-type {\n",
       "        vertical-align: middle;\n",
       "    }\n",
       "\n",
       "    .dataframe tbody tr th {\n",
       "        vertical-align: top;\n",
       "    }\n",
       "\n",
       "    .dataframe thead th {\n",
       "        text-align: right;\n",
       "    }\n",
       "</style>\n",
       "<table border=\"1\" class=\"dataframe\">\n",
       "  <thead>\n",
       "    <tr style=\"text-align: right;\">\n",
       "      <th></th>\n",
       "      <th>Message_body</th>\n",
       "      <th>Label</th>\n",
       "    </tr>\n",
       "  </thead>\n",
       "  <tbody>\n",
       "    <tr>\n",
       "      <th>0</th>\n",
       "      <td>Rofl. Its true to its name</td>\n",
       "      <td>Non-Spam</td>\n",
       "    </tr>\n",
       "    <tr>\n",
       "      <th>1</th>\n",
       "      <td>The guy did some bitching but I acted like i'd...</td>\n",
       "      <td>Non-Spam</td>\n",
       "    </tr>\n",
       "    <tr>\n",
       "      <th>2</th>\n",
       "      <td>Pity, * was in mood for that. So...any other s...</td>\n",
       "      <td>Non-Spam</td>\n",
       "    </tr>\n",
       "    <tr>\n",
       "      <th>3</th>\n",
       "      <td>Will ü b going to esplanade fr home?</td>\n",
       "      <td>Non-Spam</td>\n",
       "    </tr>\n",
       "    <tr>\n",
       "      <th>4</th>\n",
       "      <td>This is the 2nd time we have tried 2 contact u...</td>\n",
       "      <td>Spam</td>\n",
       "    </tr>\n",
       "  </tbody>\n",
       "</table>\n",
       "</div>"
      ],
      "text/plain": [
       "                                        Message_body     Label\n",
       "0                         Rofl. Its true to its name  Non-Spam\n",
       "1  The guy did some bitching but I acted like i'd...  Non-Spam\n",
       "2  Pity, * was in mood for that. So...any other s...  Non-Spam\n",
       "3               Will ü b going to esplanade fr home?  Non-Spam\n",
       "4  This is the 2nd time we have tried 2 contact u...      Spam"
      ]
     },
     "execution_count": 5,
     "metadata": {},
     "output_type": "execute_result"
    }
   ],
   "source": [
    "df.head()"
   ]
  },
  {
   "cell_type": "code",
   "execution_count": 6,
   "id": "26504787",
   "metadata": {},
   "outputs": [
    {
     "name": "stdout",
     "output_type": "stream",
     "text": [
      "                                          Message_body     Label\n",
      "0                           Rofl. Its true to its name  Non-Spam\n",
      "1    The guy did some bitching but I acted like i'd...  Non-Spam\n",
      "2    Pity, * was in mood for that. So...any other s...  Non-Spam\n",
      "3                 Will ü b going to esplanade fr home?  Non-Spam\n",
      "4    This is the 2nd time we have tried 2 contact u...      Spam\n",
      "..                                                 ...       ...\n",
      "952  hows my favourite person today? r u workin har...  Non-Spam\n",
      "953                      How much you got for cleaning  Non-Spam\n",
      "954  Sorry da. I gone mad so many pending works wha...  Non-Spam\n",
      "955                                 Wat time ü finish?  Non-Spam\n",
      "956                    Just glad to be talking to you.  Non-Spam\n",
      "\n",
      "[957 rows x 2 columns]\n"
     ]
    }
   ],
   "source": [
    "df = df[(df.Label == 'Non-Spam') | (df.Label == 'Spam')]\n",
    "print(df)"
   ]
  },
  {
   "cell_type": "code",
   "execution_count": 7,
   "id": "e67df162",
   "metadata": {},
   "outputs": [],
   "source": [
    "def Sort_Sp_NSp(text):\n",
    "    if text in ['Non-Spam']:\n",
    "        return 'important_message'\n",
    "    elif text in ['Spam']:\n",
    "        return 'spammmm'\n",
    "    else:\n",
    "        return text"
   ]
  },
  {
   "cell_type": "code",
   "execution_count": 8,
   "id": "aaaa5bea",
   "metadata": {},
   "outputs": [
    {
     "name": "stdout",
     "output_type": "stream",
     "text": [
      "0      important_message\n",
      "1      important_message\n",
      "2      important_message\n",
      "3      important_message\n",
      "4                spammmm\n",
      "             ...        \n",
      "952    important_message\n",
      "953    important_message\n",
      "954    important_message\n",
      "955    important_message\n",
      "956    important_message\n",
      "Name: Label, Length: 957, dtype: object\n"
     ]
    }
   ],
   "source": [
    "df.Label = df.Label.apply(Sort_Sp_NSp)\n",
    "print(df.Label)"
   ]
  },
  {
   "cell_type": "code",
   "execution_count": 9,
   "id": "734c1086",
   "metadata": {},
   "outputs": [],
   "source": [
    "X_train = df.Message_body\n",
    "Y_train = df.Label"
   ]
  },
  {
   "cell_type": "code",
   "execution_count": 10,
   "id": "dd0105f9",
   "metadata": {},
   "outputs": [],
   "source": [
    "from nltk.tokenize import word_tokenize\n",
    "from nltk.corpus import stopwords\n",
    "from nltk.stem import WordNetLemmatizer\n",
    "\n",
    "stop_words = stopwords.words(\"english\")\n",
    "def clean_text(text):\n",
    "    text = text.lower()           # converting to lowercase\n",
    "    text = re.sub(\"@\\S+\", \" \", text)  \n",
    "    text = re.sub(\"https*\\S+\", \" \", text)      #\\S - не пробел \n",
    "    text = re.sub(\"www\\S+\", \" \", text)\n",
    "    text = re.sub(\"#\\S+\", \" \", text)\n",
    "    text = re.sub(\"\\d\", \" \", text)        # remove all numbers\n",
    "    text = re.sub('[%s]' % re.escape(string.punctuation), ' ', text)     # remove punctuations\n",
    "    text = re.sub('\\n', ' ', text)        \n",
    "    text = re.sub('\\s{2,}',' ', text)        # remove extra spaces\n",
    "    text = ' '.join([word for word in text.split(' ') if word not in stop_words])\n",
    "    return text"
   ]
  },
  {
   "cell_type": "code",
   "execution_count": 11,
   "id": "8d6c7c34",
   "metadata": {},
   "outputs": [],
   "source": [
    "def digital_label(text):\n",
    "    if text == 'important_message':\n",
    "        return 1.0\n",
    "    elif text == 'spammmm':\n",
    "        return 0.0\n"
   ]
  },
  {
   "cell_type": "code",
   "execution_count": 12,
   "id": "60513da2",
   "metadata": {},
   "outputs": [],
   "source": [
    "X_train = X_train.apply(clean_text)\n",
    "Y_train = Y_train.apply(digital_label)"
   ]
  },
  {
   "cell_type": "code",
   "execution_count": 13,
   "id": "de452638",
   "metadata": {},
   "outputs": [
    {
     "name": "stdout",
     "output_type": "stream",
     "text": [
      "0                                         rofl true name\n",
      "1      guy bitching acted like interested buying some...\n",
      "2                                 pity mood suggestions \n",
      "3                           ü b going esplanade fr home \n",
      "4      nd time tried contact u u £ pound prize claim ...\n",
      "                             ...                        \n",
      "952    hows favourite person today r u workin hard sl...\n",
      "953                                    much got cleaning\n",
      "954                sorry da gone mad many pending works \n",
      "955                                   wat time ü finish \n",
      "956                                        glad talking \n",
      "Name: Message_body, Length: 957, dtype: object\n",
      "0      1.0\n",
      "1      1.0\n",
      "2      1.0\n",
      "3      1.0\n",
      "4      0.0\n",
      "      ... \n",
      "952    1.0\n",
      "953    1.0\n",
      "954    1.0\n",
      "955    1.0\n",
      "956    1.0\n",
      "Name: Label, Length: 957, dtype: float64\n"
     ]
    }
   ],
   "source": [
    "print(X_train)\n",
    "print(Y_train)"
   ]
  },
  {
   "cell_type": "code",
   "execution_count": 14,
   "id": "341fde4f",
   "metadata": {},
   "outputs": [],
   "source": [
    "whole_text = \"\"\n",
    "for i in X_train:\n",
    "    whole_text += i + ' '"
   ]
  },
  {
   "cell_type": "code",
   "execution_count": 15,
   "id": "53f1ba70",
   "metadata": {},
   "outputs": [
    {
     "name": "stdout",
     "output_type": "stream",
     "text": [
      "rofl true name guy bitching acted like interested buying something else next week gave us free pity mood suggestions  ü b going esplanade fr home  nd time tried contact u u £ pound prize claim easy call p per minute bt national rate  reminder get pounds free call credit details great offers pls reply text valid name house postcode huh lei  wait til least wednesday see get  ard like dat lor  ok lor sony ericsson salesman ask shuhui say quite gd use considering  get dump heap mom decided come lowes boring  anything lor juz us lor  next lt hours imma flip shit sorry call later meant calculation lt units lt school really expensive started practicing accent important decided years dental school nmde exam  yes u texted pshew missing much yeh indians nice tho kane bit shud go drink sometime soon mite hav go da works laugh soon love pete x x well keep mind got enough gas one round trip barring sudden influx cash hahaha use brain dear safe trip nigeria wish happiness soon company share moments wen get spiritual deep great cool time think get  know wot people wear shirts jumpers hat belt know r cribbs trying weekend v ic lotta childporn cars  hi durban still number taking derek amp taylor walmart back time done leave mouse desk text priscilla ready u still havent got urself jacket ah  armand says get ass epsilon yeah jus rite  asked mobile chatlines inclu free mins india cust servs sed yes l er got mega bill dont giv shit bailiff due days £ want £  sleeping surfing believe attached seeing every day know best get babe go teach class midnight want explicit sex secs ring costs p min gsex pobox wc n xx aiyah ok wat long got improve already wat  know thinkin malaria relax children cant handle malaria would worse gastroenteritis takes enough replace loss temp reduce give malaria meds vomit self limiting illness means days completely stop ok another number hey chief give bell get need talk royal visit st june  happened adventuring compliments away system side  think tantrum finished yeah point one  effect irritation ignore total disappointment texted craziest shit got  private account statement shows un redeemed points call identifier code expires  want tell bad feel basically times text lately need drugs awarded sipix digital camera call landline delivery within days cs box bp yr warranty ppm p p£  going join tomorrow  thats cool want please  big chic common declare dont want hear anything pls send company name saibaba colany way put skip right outside front house see house pull  miles smiles r made frm letters u know difference smile ur face keeps happy even though miles away u keep smiling good nyt ya referin mei ex wat ah waitin u treat somebody shld b rich liao gd den u dun work frm tmr onwards  great role model giving much really wish day miracle god reason everything must say wish knew dont looked since young still great day  oh okie lor go sat  yes please leave lt lt leave making dinner  its reassuring crazy world  went project centre lol mad first woke gave  machan go gym tomorrow wil come late goodnight  want inside every night  god love limit god grace measure god power boundaries may u god endless blessings always ur life gud ni  told tell stupid hear wont tell anything dad called brother spoken  wait msg lt min  perhaps much easy give account identification tomorrow uni apo mokka players private account statement shows un redeemed points call identifier code expires  love one law make happy person love way friendship one law never make ur friend feel alone alive gud night get step outta way congrats  wake gt  sms services inclusive text credits pls goto login qxj unsubscribe stop extra charge help comuk cm ae yes trust u buy new stuff asap try good afternoon love goes day sleep hope well boytoy think  cool shall go see go tip anyway home got something drop later lets go town tonight maybe mum take us  think rule tamilnadu tough people  marvel mobile play official ultimate spider man game £ ur mobile right text spider game send u free ball wallpaper u studying sch going home anyway b going sch later  k sent oh thanks lot already bought eggs  k sent  p per min call germany bt line p per min check planettalkinstant com info c text stop opt ofcourse also upload songs also fuck family going rhode island wherever fuck leaving alone week new bong gt   picking various points going yeovil motor project hours u take home max easy li hai bored da lecturer repeating last weeks stuff waste time  urgent trying contact last weekends draw shows u £ prize guaranteed call claim code k valid hrs p pm shall call dear food seen back holby  really hope work doesnt get stressful gr day  probably lt  today sunday sunday holiday work  yes princess want please every night wish command  dhoni luck win big title win  mummy boy good bad positive negative mummy made wait hmmmm  ok lor ü reaching message  well obviously people cool college life went home  yup thought slide enough  ok lor  urgent last weekend draw shows £ cash spanish holiday call claim c rstm sw ss ppm get garden ready summer free selection summer bulbs seeds worth £ scotsman saturday stop go notxt co uk  widelive com index wml id ad first true¡c c ringtone¡ shall bring us bottle wine keep us amused joking ill bring one anyway treasure every moment spend together  u goin nite  txt call claim reward hours talk time use phone subscribe gbp mnth inc hrs stop txtstop  ok thk got u wan come wat  december mobile mths entitled update latest colour camera mobile free call mobile update co free  hear loud scream lt minutes cause gyno shoving things belong  sorry call later arun u transfr amt sparkling shopping breaks per person call visit  wishing beautiful day moment revealing even things keep smiling enjoy  im wondering right  except theres chick huge boobs  hello wats talks email address  sing hu think also important find someone female know place well preferably citizen also smart help navigate even things like choosing phone plan require guidance doubt ask especially girls  sac needs carry  latest news police station toilet stolen cops nothing go  aight pick open tonight  takes away money worries back good journey let know need receipts shall tell like pendent  fine got enough bud last night least good morning repair shop reason hour  guaranteed award maybe even £ cash claim ur award call free legitimat efreefone number wat u think  thought get watch cos thats kind thing u get th loves much  way make sure u get train worc foregate street shrub hill fun night x thank generally date brothas  hey booked lessons sun liao  youdoing later sar xxx slow using biola fne mode men left  wif buying tix lar  jesus armand really trying tell everybody find gonna way specific thanx lot ur help  paying attention make time tonight whenever cool text whenever around er yeah b sorry tell pub cafe sit come wen u didnt complete gist oh  santa calling would little ones like call santa xmas eve call book time  oh yeah diet flew window otherwise part time job na tuition  u horrible gal u knew dat going wif yest n u still come n ask  sorry call later ok k sry knw siva tats askd  hi elaine today meeting confirmed  dont know oh hopefully month  bruce amp fowler mom car park long story  really masters  nope forgot show next week slave want take pictures today bright light cell phone bright light  get chicken broth want ramen unless know east coast nite nite pocay wocay luv u n e thing eva promise ring u morrowxxxx gr handle victoria island traffic plus album due ask u meeting da ge tmr nite  daddy shu shu looking u u wan tell u singapore wat  first time everything   pub  yup msg tat yijue tot group mate cos meeting today mah askin ü leaving earlier wat mah cos mayb ü haf walk v far  dear angry busy dear many days since  pls give prometazine syrup mls lt mins later feed  gd got free ice cream oso wan  hi babe thanks coming even though didnt go well wanted bed hope see soon love kisses xxx babes think got ur brolly left english wil bring mrw u luv franxx hard true much show amp express love someone much hurt leave get seperated ud evening  apparently bffs carly quick hi hope good day better night  necessarily respectful want custom officer discount oh  dunno lei shd b driving lor cos go sch hr oni  dont know exactly could ask chechi  done handed know mega shop asda counts celebration thats  ooooooh forgot tell u get yoville phone watching ajith film ah  nt joking seriously told ok ok ok whats ur todays plan much fights good nite  gentle baby soon taking lt inches deep inside tight pussy  work please call friends help us problems give stupid suggestion lands us another problem helps us forgt previous problem babes hope ok shit nights sleep fell asleep im knackered im dreading work tonight thou upto tonight x good day pray remove teeth painful maintaining stuff  make squeezed lt bucks dad new message call  sunny california weather cool somebody set website play hold em using eve online spacebucks free entry gr prizes wkly comp chance win latest nokia psp £ cash every wk txt great  current leading bid pause auction send customer care  want leave barely stay sane fighting constantly helping  cant pick phone right pls send message u konw waht rael friendship im gving yuo exmpel jsut ese tihs msg evrey splleing tihs msg wrnog bt sitll yuo raed wihtuot ayn mitsake goodnight amp nice sleep sweet dreams  k head mins see ok problem u frm wats matter  lol oh got friend dog  dating two started sent text talk sport radio last week connection think coincidence  hi mom might back later lt  important message final contact attempt important messages waiting customer claims dept expires call  trying figure suppose see couple different people week said get together set dates £ xmas reward waiting computer randomly picked loyal mobile customers receive £ reward call  call send girls erotic ecstacy p min stop texts call nat rate  think mentor percent sure  inside office still filling forms know leave  yep get program slacking  hey iouri gave number wylie ryan friend ur face test lt select number tell ur face astrology waiting quick reply  hmm shall bring bottle wine keep us amused joking still bring bottle red white see tomorrow ok tell something thats okay  living simple loving also simple laughing simple winning tooo simple simple difficult  aiyo cos sms ü ü neva reply wait ü reply lar tot ü havent finish ur lab wat  guai ü shd haf seen naughty ü free today go jogging  good morning princess great day  yup paragon havent decided whether cut yet hee  one interested may business plan  home  thought put back box sir hr trip bus last week another audition next wednesday think might drive time  parents kidz friends n colleagues screaming surprise waiting sofa naked  wat ü  guys planning coming  go openings room til thanksgiving without upcharge  u r subscribed textcomp wkly comp st wk free question follows subsequent wks charged unsubscribe txt stop custcare  course make stink  u awake snow  like jerk  wanna gym  birthday feb lt da  sounds better evening im costume im sure time finish tomorrow txt end  pride almost lt years old takin money kid supposed deal stuff grownup stuff tell  garbage bags eggs jam bread hannaford wheat chex neither sterm voice studying fine sure thing resolved tho anyway fab hols think steyn surely get one wicket  x course yrs messages messenger lik r sending dude im longer pisces im aquarius  sir waiting letter  sweet heart  wishing wonderful week  makes happy  gal n boy walking park gal hold ur hand boy u think would run away gal jst wana c feels walking heaven prince gn  dear sir salam alaikkum pride pleasure meeting today tea shop pleased send contact number qatar rakhesh indian pls save number respectful regards  aah bless arm  thanks keep mind ok problem yup going sch rem correctly  havent got da topic yet rite  kothi print marandratha  good morning love go sleep wish great day full feeling better opportunity last thought babe love kiss  k fyi back parents place south tampa might need deal somewhere else jus finish watching tv u  hahaha use brain dear get official england poly ringtone colour flag yer mobile tonights game text tone flag optout txt eng stop box w wx £  sister going earn da  got ur favorite oyster n got favorite sashimi ok lar dun say already wait ur stomach start rumbling  k k going tirunelvali week see uncle already spend amount taking dress want money give feb  yeah thinking jolly good way give u tickets sat eve speak x coming back thursday yay gonna ok get money cheers oh yeah everything alright hows school call work leave  ill mins look hi missed call mumhas beendropping red wine theplace adress  pls ask macho much budget bb bold cos saw new one lt dollars  tell quite long cos finish film yet  lt bucks banks fees fixed better call bank find  time come tomorrow make tonight well good morning mr hows london treatin ya treacle  hand phone chat wit u darling sister school resuming minimum wait period reapply take care u coming funeral home alex says ok ok xmas iscoming ur awarded either £ cd gift vouchers free entry r £ weekly draw txt music tnc  donno genes something urgent please call landline £ cash luxury canary islands holiday await collection cs sae po box xy ppm  xy trying smth u eat already havent  dear call hey congrats u id luv ive go home  excellent thought misundrstud frnd knw u hate bt day wen u knw truth u hate urself gn  hey forget mine possession property mmm childish smile  still pretty weak today bad day  urgent week free membership £ prize jackpot txt word claim c lccltd pobox ldnw rw  sent ur email id soon yeah probably gone get info bt dont know princess  vikky come around lt time gt  helloooo wake sweet morning welcomes enjoy day full joy gud mrng  urgent mobile number awarded £ prize guaranteed call land line claim valid hrs ppm best msg hard person u know one step foward make u fall love amp one step back ruin ur friendship good night  dunno leh cant remember mayb lor wat time r meeting tmr  oh yeah clearly fault hi hope ur day good back walk table booked half eight let know ur coming  late k wish  hello u u u b moving flat cos need arrange pick lamp etc take care hello caroline  u wan come dinner tonight  u fix teeth asap ok take care  prize go another customer c p min polo ltd suite london w j hl please call back busy  er enjoyin indians mo yep sall good hehe hows bout u shexy pete xx anything lar ü going home dinner  hi darlin kate u doin somethin tonight im going pub called swan something parents one drink phone u gud ni swt drms take care storming msg wen u lift phne u say hello u knw wt real meaning hello name girl yes u knw dat girl margaret hello girlfrnd f grahmbell invnted telphone moral one get name person bt girlfrnd g n g h  pls speak wont ask anything friendship  see film  absolutely love south park recently started watching office  anyone calls treadmill say buy make sure working found ad craigslist selling lt  help u swoop picking u wherever ur birds r meeting u want   cbe chennai  usual iam fine happy amp well  well big surprise  ok sweet dreams  didnt get anything da please tell car keys purse studies alone without anyones help cant need study  yeah work fine started last week stuff dull easy guys fun  urgent please call landline £ cash holiday await collection cs sae po box xy  k leaving soon little  u come n search tat vid finishd  gud ni dear slp well take care swt dreams muah  eaten day sitting staring juicy pizza eat meds ruining life  thank princess want see nice juicy booty  thanks temales wonderful thank great week  course tease know simply must see grins keep posted prey loving smile devouring kiss  hmm thinking lor  part checking iq gud gud k chikku tke care sleep well gud nyt jay wants work first sound  yeah still give ride someonone know trying contact via dating service find could call mobile landline box sk ch  uworld site buying qbank buying self assessment also  ok cool see ya  hey project started aha da  chosen receive £ award pls call claim number collect award selected receive valued mobile customer  realise busy guy trying bother get exams outta way try cars gr day nope still market means u could keep ur words  private account statement fone shows un redeemed points call identifier code expires  met alex nichols middle school turns dealing  prabha soryda realy frm heart sory smile pleasure smile pain smile trouble pours like rain smile sum hurts u smile becoz someone still loves see u smiling  oh fuck juswoke bed boatin docks slept wid year old spinout giv u da gossip l r xxx die want u stuffs   nights nt staying port step liao ex jane babes goin wrk feel ill lst nite foned already cover chuck  take exam march  pls needs dat slowly vomit  accidentally brought em home box well thats nice bad cant eat late keep ten rs shelf buy two egg  natalja f inviting friend reply yes see stop send stop frnd   pa selected  k k business  yesterday true true  dai downloaded exe file run exe installing  know thinkin malaria relax children cant handle malaria would worse gastroenteritis takes enough replace loss temp reduce give malaria meds vomit self limiting illness means days completely stop hi think match  babe answering see maybe better reboot ym got photo great  reach ur home lt minutes mobile mths update free oranges latest colour camera mobiles unlimited weekend calls call mobile upd freefone stoptxt come get b quite diff guess rite  fine absolutly fine wot student discount u get books  costa del sol holiday £ await collection call toclaim sae tc pobox stockport sk xh cost£ pm max mins call germany pence per minute call fixed line via access number prepayment direct access  ugh leg hurts musta overdid mon  fine difficulties phone works mine pls send another friend request  like cheap im happy splash wine makes feel better  spook mob halloween collection logo pic message plus free eerie tone txt card spook zed p per logo pic  darren saying dat u meeting da ge den dun meet dinner cos later u leave xy feel awkward den u meet lunch lor  ok take ur time n enjoy ur dinner  wylie tampa sarasota  oh oh den muz change plan liao go back yan jiu  sorry call later records indicate u maybe entitled pounds compensation accident claim free reply claim msg stop txt stop ree entry weekly comp chance win ipod txt pod get entry std txt rate c apply details  okie time u wrkin  uploaded mine facebook cooked rather nice salmon la town jus take mrt later  fuuuuck need stop sleepin sup sent like  k sure relatives home sms de pls  babe fucking love know fuck good hear voice need crave get enough adore ahmad kisses  hi hope u r ok said would text u seen let gently please  sms auction brand new nokia auction today auction free join take part txt nokia  strange watching nd one bed sweet dreams miss u  company good environment terrific food really nice  raji pls favour pls convey birthday wishes nimya pls today birthday  water logging desert geoenvironmental implications  u  aight text tonight see oh k come tomorrow school n da lab stuff give call ü r done  going lunch  ive got salt rub open wounds like  oh charge camera dun believe leh tot told true already thk muz c us tog believe  ü still got lessons ü sch  congrats mobile g videophones r call videochat wid ur mates play java games dload polyph music noline rentl bx ip p ok leave need ask send text skype later  lol need cash nitros hurry come crash  ok r meeting later  bluray player come karnan car please wait till pm directly goto doctor  k k sms chat  sir need velusamy sir date birth company bank facilities details  new years eve ok went party boyfriend si hey like lt question left yet probably gonna til dinner idk sitting stop shop parking lot right bawling eyes feel like failure everything nobody wants feel like failing  problem renewal right away dont know details  happy new year u ur family may new year bring happiness stability tranquility ur vibrant colourful life  pls call da happen  k come wenever u lik come also tel vikky come getting free time  get garden ready summer free selection summer bulbs seeds worth £ scotsman saturday stop go notxt co uk oh unintentionally bad timing great fingers trains play along give fifteen min warning  aiyar u poor thing give u support k jia think u  office da  hi darlin im helens fone im gonna b princes nite please come tb love kate started dont stop pray good ideas anything see help guys forward link  free st week nokia tone ur mobile every week txt nokia get txting tell ur mates pobox w wq norm p tone yeah imagine would really gentle unlike docs treat patients like turkeys  oh shut omg yesterday dream kids boys pissed kids boys even told mark dream changing diapers cause getting owed face  yup havent want go yoga call book  costa del sol holiday £ await collection call toclaim sae tc pobox stockport sk xh cost£ pm max mins nice pubs near frankie n bennys near warner cinema  sorry grocers  sday joined training started today  hmm dunno leh mayb bag goigng dat small jus anything except perfume smth dat keep  still working time also tried adding zeros savings checking lt  sucks go u hair free right  way  rose red red blood blood heart heart u u send tis ur friends including u like u get back u r poor relation u need support u r frnd many luvs u praying god marry u try  wot wed nite til  cuz ibored wanna study wonderful okors great month cherish guys wish well day mojibiola work ah den plus lor u workin oso rite den go orchard lor place go liao  impossible argue always treats like sub like never released remind necessary hi chikku send nice msgs enufcredeit tocall shall ileave uni get bus yor house  oops lt  private account statement  lol real told dad cancer driving training  aslamalaikkum insha allah tohar beeen muht albi mufti mahfuuz meaning  thanks fills complete calm reassurance  get lions england tone reply lionm mono lionp poly go original n best tones gbp network operator rates apply  argh fuck nobody town  u definitely need module e humanities dis sem izzit u wan take modules st  december mobile mths entitled update latest colour camera mobile free call mobile update vco free  reached sch already  new message please call  oh got many responsibilities  sign maturity start saying big things actually start understanding small things nice evening bslvyl really need kiss u miss u baby ur baby eva ding ya break fassyole blacko londn wnt buy bmw car urgently vry urgent hv shortage lt lacs source arng dis amt lt lacs thats prob boy loved gal propsd bt didnt mind gv lv lttrs bt frnds threw thm boy decided aproach gal dt time truck speeding towards gal wn hit girl boy ran like hell n saved asked hw cn u run fast boy replied boost secret energy n instantly girl shouted energy n thy lived happily gthr drinking boost evrydy moral story hv free msgs gud ni  news hassling get weed week andres money haughaighgtujhyguj msg mobile content order resent previous attempt failed due network error queries customersqueries  nope thats fine might nap tho  aight call close ah well confuses things doesnt thought friends maybe wrong thing already sort invited tho may come cos money  themob hit link get premium pink panther game new sugababes crazy zebra animation badass hoody wallpaper free  sorry mates phone didnt write love kate really really broke oh amount small even lt  k k month kotees birthday know  hi shanil rakhesh thanks exchanged uncut diamond stuff leaving back excellent service dino prem  gokila talking aha  fri ah okie lor goin drivin den go shoppin tt  check rooms befor activities st andre virgil cream type stuff sing  wont anything de  good morning im suffering fever dysentry able come office today  omg one thing another cat worms bad day end  sorry missed call please call back  hey happy birthday  aiya discuss later lar pick ü  amazing rearrange letters gives meaning dormitory dirty room astronomer moon starer eyes see election results lies lets recount mother law woman hitler eleven plus two twelve plus one amazing  keep ur problems ur heart b coz nobody fight u u amp u fight ur self amp win battle vivekanand g sd ham\tyeah give call got minute ham\thi babe uawake feellikw shit justfound via aletter thatmum gotmarried thnov behind ourbacks  fuckinnice selfish deviousbitch anyway il call u  mark works tomorrow gets work house meet u afterwards  want new nokia colour phone deliveredtomorrow free minutes mobile free texts free camcorder reply call  guy flash go call call madam take care oh  well glad find totally disagreeable lol nd attempt contract u weeks top prize either £ cash £ prize call  want sent lt mesages today thats sorry hurts gud ni dear slp well take care swt dreams muah  win £ shopping spree every week starting play text store skilgme tscs winawk age £ perweeksub  different styles   p alfie moon children need song ur mob tell ur txt tone charity nokias poly charity polys zed profit charity  hai dear friends new amp present number rajitha raj ranju  talk g x  £ uk break accommodationvouchers terms conditions apply claim mustprovide claim number  calls later afternoon onwords mtnl service get problem south mumbai hear cann listen  brother transfered lt lt pa  dunno lei like dun haf  ok also wan watch e pm show  havent stuck orchard dad car going dinner u leh r free tonight  sorry call later meeting sir  think disturbing da free video camera phones half price line rental mths cross ntwk mins txts call mobileupd call optout  geeeee internet really bad today eh  hey next sun basic yoga course bugis go pilates intro next sat tell time r free goodnight da thangam really miss u dear  train back northampton afraid staying skyving today ho ho around wednesday though fancy comedy club week way  double mins double txt price linerental latest orange bluetooth mobiles call mobileupd latest offers call optout lf  lmao know well  tick tick tick could die loneliness know pouts stomps feet need  sis lor juz watched italian job  vote wherever heart guides yeah basically time next week get away mom amp get  hmmm still dont opener  desires u going doctor liver get bit stylish get ur hair managed thats  sent jd customer service cum accounts executive ur mail id details contact us dunno dad said coming home bring us lunch yup go w u lor call u reach school lor  ic lol play doors sometime yo jamster get free wallpaper text heart c apply need help call  ran younger man make pretty babies together  natalie f inviting friend reply yes see stop send stop frnd  pls clarify back open return ticket preponed go back kerala  thanks talk saturday dear cherish brother role model   hear  believe true incredible txts reply g learn truly amazing things blow mind fwd p txt many times told stage use laugh listen aha  want go perumbavoor  really good see day dudette missing  ok vl u know got adsense approved  hey inconvenient sis huh  coming friday leave pongal get news work place  like tell deepest darkest fantasies call p min stop texts call nat rate  go chase run crossing street private account statement shows un redeemed points call identifier code xx expires  ur cash balance currently pounds maximize ur cash send go p meg cc hg suite lands row w j hl gonna ask lol think  happen anyway holla whenever around need excuse go creep people sarasota yes possible dint try pls dont tell one k  sad puppy noise cool last little getting time soon  great office today  babe talking think good boy missing love  dear xxxxxxx u invited xchat final attempt contact u txt chat p msgrcvdhg suite lands row w j hl ldn yrs hey gals u wanna meet dinner nìte  think two still need get cash def ready  hello boytoy geeee missing today like send tm remind thinking loved loving kiss  uncle g checking rewarding month u attend ur driving lesson many times wk n day  guaranteed £ cash £ prize claim yr prize call customer service representative pm cost p way rencontre meet mountains dont  mobile number pls sms ur mail id convey regards achan amma rakhesh qatar go fool dont cheat others ok oh k come tomorrow ill b soon guess pub im im happy pig clover whatever saying  someone year lt toyota camry like mr olayiwola mileage lt k clean need know much sell raise dough soon landing sell holla back  cds u congratulations ur awarded £ cd gift vouchers £ gift guaranteed freeentry £ wkly draw xt music tncs  still around looking pick later nope since ayo travelled forgotten guy well like actually called someone punto woulda worse  hmph go head big baller  talk  esplanade lor else  happy new year hope good semester looked addie goes back monday sucks drive read need write hey kate hope ur ok give u buz wedlunch go outsomewhere adrink town cud go watershd bit ppl fromwrk bthere love petexxx  hungry buy smth home  made eta taunton planned hope thats still okday good see xx phony £ award todays voda numbers ending xxxx selected receive £ award match please call quoting claim code standard rates app telling coulda real valentine u never pick nothing  channel  rushing working school rush go hungry  u haf keep busy  dont let studying stress l r  goldviking inviting friend reply yes see stop send stop frnd  networking job  slept thinkthis time lt pm dangerous said okay sorry u today  spending new years brother family lets plan meet next week ready spoiled  jade paul didnt u txt u remember barmed want talk u txt boy late home father power frndship  gorgeous keep pix cumming thank  yar tot u knew dis would happen long ago already  aiyo u poor thing u dun wan eat u bathe already  oops shower u called hey parking garage collapsed university hospital see crazy stuff like happen  fine hope good take care  hey come online use msn supposed meet discuss abt trip thought xuhui told afternoon thought go lesson cme want go hos morow wil cme got dear didnt say time future planned tomorrow result today best present enjoy future  donate £ unicef asian tsunami disaster support fund texting donate £ added next bill urgent trying contact u todays draw shows £ prize guaranteed call land line claim valid hrs people game mall iouri kaila dear voucher holder next meal us use following link pc enjoy dining experience  want see pretty pussy  yup ok  bit ur smile hppnss drop ur tear sorrow part ur heart life heart like mine wil care u forevr goodfriend want lt rs da  mean left early check cos working  u call lunch  vivek got call number  ahhhh woken bad dream u tho dont like u right didnt know anything comedy night guess im  masters buy bb cos sale bf u coming back dinner rite dad ask confirm wif u  lost pounds since doc visit last week woot woot gonna celebrate stuffing face  welcome select service added benefits call specially trained advisors free mobile dialling  hi baby im sat bloody bus mo wont home wanna somethin later call later ortxt back jess xx hi probably much fun get message thought id txt u cos im bored james farting night bus way calicut hi amy sending free phone number couple days give access adult parties  great news call freefone claim guaranteed £ cash £ gift speak live operator  already back home probably anyway think secure anything lemme know want drive south chill wrong phone phone answer one assume people well check mail mailed varma kept copy regarding membership take care insha allah  eatin lor goin back work soon e mountain deer show huh watch b liao nice  omg make wedding chapel frontierville get good stuff  ü go home liao ask dad pick  tomarrow want got court lt decimal gt come bus stand  cancelled yeah baby well sounds important understand darlin give ring later fone love kate x g wants know fuck k k congratulation  hey babe going ever figure going new years  hey want anything buy  free call sir  match started india lt  good morning boytoy yummy lips sexy buns think crave need  hi sexychat girls waiting text text great night chatting send stop stop service got takes take part wrc rally oz u lucozade energy text rally le p see packs lucozade co uk wrc itcould u  hopeing wasnt pissed remember gone sisters something  wanna art oh yes like torture watching england  ok let u noe leave house  go e normal pilates intro  oh yah never cancel leh haha  hi dear call urgnt know whats problem want work problem least tell wating reply  common hearin r u wat r u ur day let ask u something different u smile today gud evng  g says never answer texts confirm deny call see facebook huh  sitting mu waiting everyone get suite take shower nd time tried contact u u pound prize claim easy call p per min bt national rate dropped em omw back took hooch walk toaday fell splat grazed knees everything stayed home see tomorrow  already got flaky parent snot supposed child job support parent ride age anyway supposed support hurt unintentional hurt nonetheless  goal arsenal henry v liverpool henry scores simple shot yards pass bergkamp give arsenal goal margin mins  way tirupur  love holiday monday feeling even go dentists hour regret inform u nhs made mistake u never actually born please report yor local hospital b terminated r sorry inconvenience good day solihull want anything  anything special  come online today night warner village c colin farrell swat wkend village get free med popcorn show msg ticket c c reply sony mre film offers mean post wrote like many times ritten stuff let sit feeling time angry left hit send stop checked phone got car said sleep bored time clean fold laundry etc least make bed  reaching another stops   free polyphonic ringtone text super get free poly tone week sn pobox nr zs subscription pw taka lor wat time u wan come n look us  ou guaranteed latest nokia phone gb ipod mp player £ prize txt word collect ibhltd ldnw h p mtmsgrcvd  haha first person gonna ask oh fuck sake like tallahassee cant pick phone right pls send message  half years missed friendship  want latest video handset anytime network mins half price line rental reply call delivery tomorrow convey regards send new number miserable tell u side effects birth control massive gut wrenching cramps first months sleep last night  worse uses half way stops better complete  sounds like could lot time spent chastity device boy grins take beatings like good dog going lounge nice long bath  japanese proverb one u none u must indian version one let none leave finally kerala version one stop none make strike  pls make note exposed also find school anyone else vomiting dog cat house let know later  todays vodafone numbers ending selected receive £ award number matches call receive £ award  times poor girl go one day lmao many things antibiotic used chest abdomen gynae infections even bone infections  new theory argument wins situation loses person dont argue ur friends kick amp say always correct  usual u call ard smth  pick alright tyler got minor crisis home sooner thought asap yeah open chat click friend lists make list easy pie polyphonic tone ur mob every week txt pt st tone free get txtin tell ur friends p tone reply hl info world happiest frnds never characters dey best understanding differences  lyricalladie f inviting friend reply yes see stop send stop frnd  know dat feelin pete wuld get em nuther place nuther time mayb  wat happened cruise thing lol oops sorry fun  hi dis yijue would happy work wif ü gek  well know mean texting dip cell dead coming u better respond else shall come back   tension face smiling face waste face innocent face terror face cruel face romantic face lovable face decent face lt joker face  watching cartoon listening music amp eve go temple amp church u  okey dokey swashbuckling stuff oh  oh shit thought trip loooooool makes much sense grins sofa reference sleep couch link sent went trip oh babe go celebration rents  really sorry lit hair fire sorry da today wont come play driving clas  bored housewives chat n date bt national rate p min landlines   free message thanks using auction subscription service p msgrcvd skip auction txt unsubscribe txt stop customercare  nokia phone lovly  response one powerful weapon occupy place others heart always give response cares u gud night swt dreams take care hey guy know breathing neck get bud anyway able get half track usf tonight  ok  thanks bomb date phone wanted say  yes baby need stretch open pussy  u  also north carolina texas atm would go gre site pay test results sent  fine hope also liked new house gain rights wife dont demand trying husband lets see maybe find something else instead  either way works lt years old hope doesnt bother  increase chance winning  escape theatre going watch kavalan minutes pls help tell ashley cant find number oh missing pray inshah allah valued vodafone customer computer picked win £ prize collect easy call  need details online job  awesome gonna soon later tonight  hmmm mayb try e shoppin area one forgot e name hotel  private account statement shows un redeemed points call identifier code expires  one issues california okay snow manageable boys made fun today ok problem sent one message fun  photoshop makes computer shut  yay wait party together  oh rite well im best mate pete went week geva longer week  hope pee burns tonite  new mobiles must go txt nokia collect today £ optout gbp mtmsg txtauction  rats hey u ever vote next themes  po de need job aha  word checkmate chess comes persian phrase shah maat means king dead goodmorning good day  long get reply defer admission til next semester lol trying make day little interesting yup giving problems mayb jus leave  haha thinkin going sleep tired travel  thought bout drink tap spile seven pub gas st broad st canal ok    u r winner u ave specially selected receive £ cash holiday flights inc speak live operator claim p min  im good thinking  check choose babe videos sms shsex netun fgkslpopw fgkslpo got smaller capacity one quite ex  ur paper  mark taking forever pick prescription pain coming back  anything valuable situations first getting second loosing  ü home work meh  ummmmmaah many many happy returns day dear sweet heart happy birthday dear call lt min thats ok fyi usf swing room whenever e admin building might b slightly earlier call u reaching  honey pls find much sell predicte nigeria many times used important reply monday worry though understand important put place poorly thought punishment face worst thing ever happened brb gonna go kill oga left phone home saw ur messages hope good great weekend  private account statement shows unredeemed bonus points claim call identifier code expires  call u finish come n pick u  sorry delay yes masters er hello things didnt quite go plan  limping slowly home followed aa exhaust hanging plan manage reverse cheating mathematics  guy car shop flirting got phone number paperwork called texted nervous course may address call boss tell knowing may get fired  cool tyler take gonna buy drop place later tonight total order quarter got enough  dont know getting messages come home want u miserable santa calling would little ones like call santa xmas eve call book time calls ppm last mins c  urgent nd attempt contact u £ prize yesterday still awaiting collection claim call  saw guys dolls last night patrick swayze great sorry uncle keep touch u ask next sat make ok lor  gd luck ur exams  send resume  yup izzit still raining heavily cos e mrt c outside  opposite side dropped thanx yup coming back sun finish dinner going back hotel time flies tog exactly mth today hope haf many mths come  ü thk wat eat tonight  holy living christ taking long urgent call landline complimentary ibiza holiday £ cash await collection sae cs po box sk wp ppm  indeed way either  especially since talk boston personal statement lol woulda changed realized said nyc says boston  call senthil hsbc  yup hey one day fri ask miwa jiayin take leave go karaoke  sen told going join uncle finance cbe cant see join denis mina denis want alone time u r beautiful girl ive ever seen u r baby come c common room sorry completely forgot pop em round week still  quite lor dun tell wait get complacent  many people seems special first sight remain special till last sight maintain till life ends sh jas u repeat e instructions wat e road name ur house  ok u tell wat time u coming later lor  hi mobile lt added contact list great place send free sms people visit fullonsms com hi got money da  cheers lou yeah goodnite shame u neva came c ya gailxx watever relation u built dis world thing remains atlast iz lonlines lotz n lot memories feeling  sure still available though unique user id removal send stop customer services  whens radio show  text way cup stop work bus hi technical support providing assistance us customer call email  prepare pleasured  lovely night xxx é ard é rest ard least é price é bedrm  home doc gave pain meds says everything fine  thanks continued support question week enter u draw £ cash name new us president txt ans  urgent mobile number awarded £ prize guaranteed call land line claim valid hrs ppm hey looks like wrong one kappa guys numbers still phone want text see around make life stressfull always find time laugh may add years life surely adds life ur years gud ni swt dreams  u wan haf lunch da canteen  ok lor u wan go look u  cashbin co uk get lots cash weekend dear welcome weekend got biggest best ever cash give away  well boy glad g wasted night applebees nothing weekly cool mob tones ready download weeks new tones include crazy frog axel f akon lonely black eyed dont p info n still maybe leave credit card get gas get back like told thanx u darlin im cool thanx bday drinks nite morrow take care c u soon xxx beauty life next second hides thousands secrets wish every second wonderful ur life gud n  put sign choose number pin show right  orh tot u say still dun believe  camera awarded sipix digital camera call fromm landline delivery within days  thinking u x hospital da return home evening ya nice ready thursday many happy returns day wish happy birthday  keep seeing weird shit bein woah realising actually reasonable oh  pizza u want bought test yesterday something lets know exact day u ovulate get u wks pls pls dont fret know u r worried pls relax also anything ur past history u need tell  nt driving even many reasons called bbd thts chikku hw abt dvg cold heard tht vinobanagar violence hw condition hw ru problem  possession especially first offense oh k placement ah  buy space invaders chance win orig arcade game console press games arcade std wap charge see co uk games terms settings purchase good morning dear shijutta great amp successful day  wat time r ü going xin hostel  k eng rocking ashes  dont know ask brother nothing problem thing told  reached already  career tel added u contact indyarocks com send free sms remove phonebook sms lt  mobile mths update latest camera video phones free keep ur number get extra free mins texts text yes call jason says cool pick place like hour minor shindig place later tonight interested  free game get rayman golf free games arcade st get ur games settings reply post save activ press key arcade termsapply hello peach cake tasts lush  home love still awake loving kiss  yup anything lor u dun wan ok  forgot tell ü smth ü like number sections clearer  aiyo lesson early still sleepin haha okie u go home liao den confirm w lor  uncles atlanta wish guys great semester  k addie amp art get home hey happened u switch ur cell whole day isnt good u care give call tomorrow  min go lunch  oops thk dun haf enuff go check tell ü  big brothers really scraped barrel shower social misfits thats cool princess cover face hot sticky cum  huh slow tot u reach long ago liao u days leh  ya knw u vl giv ok thanks kano anyway enjoy wit ur family wit st salary  haha awesome might need take doin tonight  say bold torch later one torch bold  wif family booking tour package  wow healthy old airport rd lor cant thk anything else b bathing dog later  hey anyway  yar say got error  mmmmmmm snuggles deep contented sigh whispers fucking love much barely stand  anytime  liked new mobile win winner mr foley ipod exciting prizes soon keep eye ur mobile visit  yes fine  da whats plan  okey dokey ill bit sorting stuff  guy gets used dumb realize  urgent mobile awarded £ bonus caller prize nd attempt contact call box qu pls give food preferably pap slowly loads sugar take hour give water slowly  tessy pls favor pls convey birthday wishes nimya pls dnt forget today birthday shijas march ending ready call sure problem capital never complete far work ladies surly ill give coming review  ok prob try g decided head hmmm give one day  eatin lunch  pls dont play others life  alright bring see like lt mins life means lot love life love people life world calls friends call world ge  ok u take shopping u get paid haha yeah oz kind shitload staying town  cool night lemme know around sry da jst nw came home  good thing getting connection bw wewa iriver mb  ü ready call  hi babe chloe r u smashed saturday night great weekend u missing sp visionsms com text stop stop p text leaving house  forgot ask ü smth card da present lei ü want write smth sign  customer service announcement recently tried make delivery unable please call schedule ref  probably almost gas get cash tomorrow didnt get ur full msg sometext missing send born god said oh another idiot born god said oh competition knew one day two become freinds forever  im realy soz imat mums nite moro  send print outs da  tel software name  ok set let u noe e details later  mum going robinson already  yes please swimming  ladies first genus second k  ok prob  call tell infront call  cant pick phone right pls send message message great doctor india drink appy fizz contains cancer causing age private account statement shows un redeemed points call identifier code expires  k work something prasanth ettans mother passed away last night pray family  hope great day  lol yes add spice day  r e meeting tmr  £ xmas reward waiting computer randomly picked loyal mobile customers receive £ reward call  finally happened aftr decades beer cheaper petrol goverment expects us drink drive  please protect e threats sib never asks sensitive information like passwords atm sms pin thru email never share password anybody  okay going sleep later god created gap btwn ur fingers dat sum vry special fill gaps holding ur hands plz dont ask created much gap legs  tried contact reply offer video phone anytime network mins half price line rental camcorder reply call  planning come chennai  u got persons story sorry din lock keypad  ripped get mobile content call poly true pix ringtones games six downloads  havent  hide anythiing keeping distance course guess god got hold right  captain vijaykanth comedy captain tv drunken  oh ho first time u use type words k k pa lunch aha  come din c ü yup cut hair  move morphine oh wow thats gay firmware update help meeting call later got hella gas money want go grand nature adventure galileo little bit  everybody fun evening miss  saturday sunday holiday difficult  todays voda numbers ending selected receive £ reward match please call quoting claim code standard rates apply  please call customer service representative pm guaranteed £ cash £ prize  lol knew saw dollar store bus love jus finish blowing hair u finish dinner already  u need presnts always bcz u cant mis love jeevithathile irulinae neekunna prakasamanu sneham prakasam ennal prabha mns prabha love got dont mis  finally came fix ceiling  received understood n acted upon  long fuckin showr sorry call later meeting  nvm going wear sport shoes anyway going late leh  good think could send pix would love see top bottom  ü called dad oredi  sunshine quiz win super sony dvd recorder canname capital australia text mquiz b hows favourite person today r u workin hard sleep last nite nearly rang u  much got cleaning sorry da gone mad many pending works  wat time ü finish  glad talking  \n"
     ]
    }
   ],
   "source": [
    "print(whole_text)"
   ]
  },
  {
   "cell_type": "code",
   "execution_count": 16,
   "id": "f54191e6",
   "metadata": {},
   "outputs": [],
   "source": [
    "tokens = word_tokenize(whole_text)\n",
    "lemmatizer = WordNetLemmatizer()\n",
    "lemtok = [lemmatizer.lemmatize(t) for t in tokens]\n",
    "dictionary = list(set(lemtok))"
   ]
  },
  {
   "cell_type": "code",
   "execution_count": 17,
   "id": "ddbff707",
   "metadata": {},
   "outputs": [
    {
     "name": "stdout",
     "output_type": "stream",
     "text": [
      "['lie', 'wrk', 'vikky', 'watched', 'handle', 'adsense', 'jason', 'national', 'fromm', 'macho', 'keep', 'predicte', 'grahmbell', 'december', 'bless', 'astronomer', 'special', 'tirupur', 'may', 'drink', 'ramen', 'isnt', 'console', 'apparently', 'giving', 'plz', 'limiting', 'hanging', 'respond', 'actually', 'darren', 'somebody', 'hahaha', 'wrong', 'tough', 'company', 'swat', 'gas', 'something', 'offense', 'blood', 'panther', 'loving', 'imagine', 'wedding', 'tho', 'violence', 'chest', 'towards', 'true', 'pete', 'vomit', 'dog', 'vomiting', 'healthy', 'gd', 'paragon', 'wc', 'access', 'dont', 'wake', 'slightly', 'wear', 'dai', 'job', 'treacle', 'pray', 'get', 'planning', 'dreading', 'mobileupd', 'eatin', 'wrc', 'iam', 'official', 'txtauction', 'difference', 'sed', 'pay', 'face', 'loyal', 'hell', 'rather', 'purchase', 'ceiling', 'bother', 'english', 'yr', 'completely', 'tv', 'warranty', 'chase', 'skype', 'trying', 'date', 'luvs', 'huge', 'ajith', 'scream', 'upon', 'checked', 'ml', 'hassling', 'customersqueries', 'amp', 'bonus', 'people', 'shopping', 'free', 'thm', 'gain', 'like', 'though', 'show', 'fold', 'inshah', 'summer', 'picking', 'letter', 'shrub', 'charged', 'rentl', 'sum', 'salesman', 'wp', 'ruin', 'lived', 'woke', 'chic', 'tel', 'whole', 'boring', 'play', 'appy', 'jiu', 'med', 'neck', 'wrenching', 'heart', 'mquiz', 'omw', 'texas', 'remain', 'eleven', 'awaiting', 'loneliness', 'driving', 'prepare', 'say', 'training', 'opportunity', 'didn\\x91t', 'bud', 'blow', 'woken', 'invader', 'nearly', 'away', 'presnts', 'mu', 'dnt', 'holla', 'reward', 'reverse', 'released', 'temales', 'kane', 'optout', 'album', 'doctor', 'money', 'sexychat', 'installing', 'indian', 'lock', 'dload', 'finally', 'tranquility', 'anybody', 'colleague', 'costume', 'camry', 'bthere', 'gsex', 'happened', 'hv', 'marry', 'gyno', 'subscribe', 'sport', 'operator', 'swayze', 'fly', 'spend', 'rewarding', 'oh', 'help', 'spiritual', 'condition', 'lonlines', 'preponed', 'others', 'lt', 'powerful', 'gving', 'island', 'ibiza', 'salary', 'topic', 'explicit', 'massive', 'fuuuuck', 'gal', 'check', 'barring', 'forgotten', 'suggestion', 'due', 'aah', 'coz', 'liverpool', 'unsubscribe', 'winawk', 'knowing', 'zero', 'ahmad', 'pink', 'sad', 'checking', 'sort', 'prob', 'gut', 'first', 'loosing', 'paid', 'tooo', 'exmpel', 'foward', 'deepest', 'bb', 'yoga', 'gastroenteritis', 'pod', 'hope', 'cancer', 'mustprovide', 'cut', 'ummmmmaah', 'hear', 'maturity', 'tocall', 'guide', 'mr', 'abdomen', 'ya', 'everything', 'knee', 'vivek', 'karnan', 'worm', 'remove', 'slept', 'rael', 'trip', 'listening', 'disappointment', 'enuff', 'grin', 'paying', 'onwords', 'bday', 'evrey', 'freinds', 'minute', 'husband', 'always', 'resuming', 'load', 'chatlines', 'urself', 'selfish', 'information', 'earlier', 'advisor', 'ou', 'amt', 'owed', 'xxx', 'nuther', 'inviting', 'terrific', 'source', 'test', 'jolly', 'petexxx', 'soon', 'without', 'oso', '\\x96', 'proverb', 'comedy', 'believe', 'bergkamp', 'bottle', 'inclusive', 'dump', 'boytoy', 'bid', 'drug', 'watever', 'pizza', 'egg', 'limping', 'telphone', 'ovulate', 'cross', 'tea', 'drunken', 'crazy', 'stand', 'p', 'meaning', 'ym', 'foregate', 'guaranteed', 'uworld', 'adore', 'fifteen', 'yest', 'mah', 'barely', 'dint', 'responsibility', 'ti', 'double', 'eat', 'supposed', 'yet', 'disturbing', 'day', 'stressful', 'chloe', 'future', 'tmr', 'final', 'xxxxxxx', 'mon', 'dining', 'visit', 'eight', 'stop', 'ball', 'wot', 'unit', 'reaching', 'train', 'drinking', 'liked', 'wishing', 'showr', 'opening', 'iriver', 'hee', 'tour', 'use', 'hav', 'reached', 'max', 'period', 'paperwork', 'trouble', 'airport', 'yep', 'colour', 'realy', 'repeat', 'firmware', 'hurt', 'loses', 'travel', 'secret', 'exposed', 'holby', 'marandratha', 'kano', 'shortage', 'row', 'sae', 'poorly', 'pshew', 'sending', 'market', 'ask', 'ran', 'ring', 'exe', 'excuse', 'would', 'vry', 'tht', 'far', 'frndship', 'walk', 'msg', 'understanding', 'love', 'baller', 'choose', 'spice', 'camcorder', 'popcorn', 'compliment', 'repair', 'addie', 'forever', 'pussy', 'havent', 'hostel', 'custcare', 'aproach', 'asleep', 'sec', 'sir', 'gon', 'redeemed', 'bruce', 'try', 'txting', 'broad', 'virgil', 'yor', 'opposite', 'angry', 'cat', 'carolina', 'dress', 'especially', 'app', 'dating', 'nervous', 'belong', 'treadmill', 'diet', 'andres', 'noline', 'spent', 'next', 'plus', 'table', 'excellent', 'gv', 'wallpaper', 'sometime', 'reapply', 'second', 'entry', 'flight', 'fancy', 'approved', 'voucher', 'lip', 'tone', 'opener', 'miwa', 'thousand', 'sunday', 'yummy', 'swimming', 'natalja', 'iscoming', 'wound', 'stressfull', 'foned', 'flash', 'mmm', 'hl', 'ch', 'sub', 'skilgme', 'steyn', 'thy', 'well', 'garage', 'starting', 'xchat', 'prescription', 'shoe', 'mp', 'ur', 'turn', 'goldviking', 'fun', 'forevr', 'feb', 'seen', 'little', 'thanx', 'rite', 'received', 'dvg', 'irritation', 'lion', 'xy', 'rw', 'atlanta', 'texting', 'lol', 'mb', 'anythiing', 'specially', 'epsilon', 'landing', 'priscilla', 'project', 'sell', 'understand', 'identifier', 'constantly', 'anything', 'door', 'slide', 'threat', 'watershd', 'wn', 'currently', 'treasure', 'phone', 'ileave', 'absolutely', 'zed', 'fault', 'sem', 'already', 'bright', 'clover', 'pc', 'ecstacy', 'fgkslpo', 'technical', 'road', 'caroline', 'missing', 'friend', 'bloody', 'tell', 'result', 'confirmed', 'mnth', 'weekly', 'subscription', 'assessment', 'ese', 'suffering', 'pilate', 'donno', 'code', 'colin', 'temple', 'sorry', 'join', 'del', 'character', 'calculation', 'order', 'wit', 'rushing', 'lot', 'geoenvironmental', 'london', 'wats', 'nope', 'i\\x92m', 'place', 'review', 'mummy', 'itcould', 'listen', 'made', 'whether', 'land', 'make', 'splleing', 'thanks', 'text', 'haf', 'lv', 'california', 'content', 'wedlunch', 'simple', 'e', 'xh', 'legitimat', 'australia', 'prakasamanu', 'fine', 'said', 'valued', 'match', 'desert', 'cell', 'around', 'chosen', 'inch', 'urgent', 'knw', 'threw', 'hsbc', 'competition', 'regarding', 'deliveredtomorrow', 'polyphonic', 'mths', 'past', 'def', 'sooner', 'phne', 'minimum', 'defer', 'w', 'polys', 'experience', 'put', 'walking', 'room', 'account', 'canname', 'dvd', 'gene', 'wasted', 'gokila', 'different', 'moon', 'londn', 'jesus', 'form', 'ldnw', 'dude', 'propsd', 'afternoon', 'flirting', 'perweeksub', 'everyone', 'shot', 'discount', 'gynae', 'awkward', 'yan', 'iz', 'wk', 'anyway', 'hold', 'support', 'ok', 'relation', 'achan', 'dull', 'window', 'cinema', 'representative', 'tuition', 'disagreeable', 'smart', 'bring', 'great', 'sh', 'mei', 'mode', 'night', 'looked', 'aquarius', 'jsut', 'good', 'humanity', 'inside', 'uawake', 'coulda', 'kaila', 'nyc', 'whenever', 'theory', 'photo', 'mite', 'unique', 'cleaning', 'frnds', 'inclu', 'dream', 'specific', 'eh', 'track', 'rose', 'recount', 'darkest', 'book', 'poly', 'craziest', 'write', 'leaving', 'working', 'reboot', 'tamilnadu', 'fantasy', 'raise', 'xxxx', 'cheap', 'busy', 'clean', 'secure', 'buying', 'cribbs', 'aight', 'morning', 'cuz', 'bugis', 'happy', 'sofa', 'whatever', 'message', 'switch', 'mufti', 'vijaykanth', 'phony', 'style', 'music', 'dangerous', 'taking', 'life', 'ranju', 'aletter', 'invited', 'congrats', 'dept', 'referin', 'kate', 'score', 'un', 'bawling', 'feellikw', 'christ', 'collection', 'mre', 'allah', 'digital', 'turkey', 'police', 'eng', 'yuo', 'self', 'interesting', 'blacko', 'swashbuckling', 'reach', 'servs', 'swan', 'miss', 'happiest', 'prize', 'ourbacks', 'lady', 'crave', 'attention', 'click', 'caller', 'every', 'shop', 'machan', 'pa', 'velusamy', 'breathing', 'xuhui', 'inc', 'coming', 'reassuring', 'alfie', 'valid', 'acted', 'convey', 'woah', 'food', 'instantly', 'social', 'sar', 'treat', 'sac', 'election', 'distance', 'waiting', 'hoody', 'part', 'fuckin', 'successful', 'heavily', 'mail', 'brother', 'becoz', 'yah', 'talk', 'reasonable', 'nr', 'stay', 'point', 'tohar', 'follows', 'rumbling', 'chikku', 'goal', 'charity', 'calicut', 'justfound', 'stayed', 'mth', 'absolutly', 'mad', 'college', 'rally', 'password', 'dhoni', 'swoop', 'whens', 'since', 'tm', 'correctly', 'bird', 'surly', 'z', 'yijue', 'frog', 'die', 'mrw', 'difficulty', 'planned', 'fgkslpopw', 'auction', 'bag', 'contains', 'ortxt', 'rain', 'jade', 'de', 'loved', 'ready', 'c', 'wif', 'president', 'realise', 'aiya', 'ah', 'birth', 'time', 'exam', 'yes', 'customercare', 'frontierville', 'th', 'game', 'late', 'bad', 'flat', 'head', 'couple', 'coast', 'brain', 'gn', 'lush', 'darlin', 'complacent', 'awake', 'ayo', 'cash', 'percent', 'huh', 'nat', 'mark', 'goto', 'cruise', 'later', 'finish', 'mumhas', 'adding', 'xx', 'become', 'dunno', 'sleep', 'lccltd', 'father', 'sane', 'laughing', 'seed', 'saibaba', 'longer', 'dis', 'remind', 'gb', 'hw', 'party', 'offer', 'mouse', 'somethin', 'lmao', 'hungry', 'tnc', '£', 'garden', 'way', 'pause', 'friendship', 'express', 'childporn', 'drop', 'respectful', 'vco', 'power', 'victoria', 'gift', 'boston', 'dey', 'index', 'front', 'street', 'morrowxxxx', 'spacebucks', 'hg', 'indicate', 'question', 'selected', 'sipix', 'weather', 'lttrs', 'adventuring', 'doll', 'java', 'mo', 'lotta', 'spook', 'usf', 'providing', 'gym', 'temp', 'finished', 'told', 'contact', 'diaper', 'feelin', 'phrase', 'naked', 'theatre', 'buz', 'decided', 'lately', 'renewal', 'hmph', 'sm', 'rang', 'n', 'sign', 'suite', 'frankie', 'relative', 'network', 'hand', 'slowly', 'perumbavoor', 'please', 'sw', 'keeping', 'askin', 'romantic', 'mile', 'feeling', 'shouted', 'frnd', 'theme', 'ago', 'june', 'changed', 'cancel', 'out', 'downloaded', 'kavalan', 'via', 'water', 'cn', 'saying', 'biggest', 'gist', 'apply', 'qatar', 'upload', 'chat', 'wife', 'ibhltd', 'understood', 'vinobanagar', 'fix', 'sd', 'aiyah', 'better', 'nmde', 'cc', 'juz', 'clas', 'hmmmm', 'picked', 'neekunna', 'dead', 'nap', 'mtmsgrcvd', 'nigeria', 'mentor', 'one', 'cum', 'making', 'really', 'considering', 'terror', 'checkmate', 'removal', 'akon', 'taka', 'march', 'petrol', 'cheat', 'canteen', 'maintaining', 'pisces', 'celebration', 'landline', 'person', 'various', 'wish', 'jst', 'em', 'horrible', 'orig', 'puppy', 'bffs', 'daddy', 'pie', 'orchard', 'gentle', 'pleasured', 'happily', 'cake', 'cashbin', 'dat', 'pocay', 'juswoke', 'spider', 'line', 'hols', 'ad', 'bluetooth', 'id', 'shijutta', 'p£', 'somewhere', 'fone', 'txtstop', 'hospital', 'msn', 'ryan', 'leading', 'adventure', 'armand', 'com', 'easy', 'timing', 'cooked', 'thk', 'attached', 'close', 'original', 'monday', 'lecturer', 'arun', 'arsenal', 'semester', 'wrkin', 'home', 'must', 'local', 'fire', 'neither', 'park', 'shitload', 'news', 'g', 'lost', 'booked', 'polyph', 'chance', 'u', 'amused', 'slow', 'ldn', 'woulda', 'staying', 'wrote', 'move', 'joking', 'fever', 'opt', 'hot', 'sat', 'pub', 'kerala', 'unicef', 'moral', 'workin', 'tke', 'getting', 'took', 'bcz', 'asda', 'kothi', 'quarter', 'wait', 'god', 'wat', 'online', 'pleased', 'student', 'spending', 'favour', 'couch', 'hair', 'budget', 'geeee', 'mina', 'princess', 'else', 'facility', 'cd', 'court', 'left', 'termsapply', 'er', 'also', 'eve', 'mob', 'directly', 'search', 'shuhui', 'franxx', 'friday', 'ride', 'flip', 'aiyar', 'sony', 'address', 'mathematics', 'yeovil', 'ex', 'definitely', 'step', 'brother\\x91s', 'oz', 'decade', 'pendent', 'shindig', 'heap', 'ice', 'prince', 'premium', 'smth', 'take', 'wicket', 'spoiled', 'girlfrnd', 'geeeee', 'six', 'accident', 'yo', 'doc', 'knackered', 'protect', 'videophones', 'end', 'costa', 'jas', 'old', 'unintentionally', 'ding', 'splash', 'want', 'salam', 'taylor', 'bathe', 'canal', 'whisper', 'near', 'maybe', 'positive', 'midnight', 'std', 'wondering', 'hide', 'answering', 'reassurance', 'alive', 'sister', 'singapore', 'fast', 'smiling', 'asian', 'tease', 'befor', 'mobile', 'galileo', 'count', 'iouri', 'asks', 'studying', 'forward', 'netun', 'sorrow', 'choosing', 'young', 'sory', 'joined', 'mesages', 'shijas', 'ettans', 'born', 'lyricalladie', 'li', 'church', 'rem', 'orh', 'reduce', 'decimal', 'mtnl', 'visionsms', 'apo', 'standard', 'golf', 'oyster', 'week', 'uni', 'musta', 'shelf', 'gr', 'private', 'aftr', 'grocer', 'let', 'linerental', 'right', 'wkly', 'lounge', 'deny', 'internet', 'spoken', 'either', 'psp', 'den', 'gre', 'comp', 'norm', 'storming', 'ringtones', 'cramp', 'vote', 'quick', 'noe', 'morow', 'mood', 'request', 'xt', 'videochat', 'beer', 'ripped', 'laugh', 'property', 'ringtone', 'fab', 'exact', 'answer', 'guy', 'persian', 'boob', 'omg', 'prasanth', 'morphine', 'activ', 'mmmmmmm', 'smile', 'luxury', 'anyone', 'izzit', 'hearin', 'confuses', 'xin', 'rub', 'instead', 'yay', 'tsunami', 'wkend', 'cumming', 'cruel', 'care', 'belt', 'replace', 'natalie', 'spanish', 'muz', 'north', 'lovely', 'benny', 'cbe', 'ü', 'mailed', 'pout', 'gek', 'fullonsms', 'amy', 'soryda', 'thnov', 'accommodationvouchers', 'etc', 'jiayin', 'favor', 'sit', 'bold', 'scraped', 'assistance', 'important', 'sticky', 'sugar', 'painful', 'jess', 'amazing', 'centre', 'pop', 'statement', 'creep', 'brb', 'celebrate', 'lesson', 'yard', 'exhaust', 'quiz', 'sing', 'favorite', 'sitll', 'it\\x91s', 'rayman', 'shoving', 'ash', 'gorgeous', 'ge', 'true¡c', 'helen', 'farrell', 'bailiff', 'channel', 'nitros', 'goodmorning', 'punishment', 'seperated', 'shud', 'japanese', 'naughty', 'setting', 'imma', 'la', 'top', 'forgot', 'unredeemed', 'phonebook', 'grace', 'gbp', 'swing', 'sitting', 'rule', 'bought', 'earn', 'blowing', 'chechi', 'model', 'dysentry', 'england', 'expensive', 'declare', 'shoppin', 'illness', 'royal', 'noise', 'inconvenience', 'limit', 'dental', 'logo', 'ave', 'wks', 'l', 'pleasure', 'thts', 'hooch', 'textcomp', 'maat', 'remains', 'confirm', 'recorder', 'smaller', 'hate', 'wap', 'shower', 'shame', 'yeah', 'current', 'year', 'receive', 'shirt', 'dokey', 'demand', 'package', 'reference', 'control', 'able', 'cheaper', 'instruction', 'cann', 'po', 'simply', 'pack', 'india', 'chex', 'escape', 'port', 'wocay', 'complimentary', 'tried', 'mayb', 'atm', 'dialling', 'save', 'pix', 'uncle', 'oni', 'number', 'starer', 'urgently', 'co', 'northampton', 'cop', 'vodafone', 'talking', 'miracle', 'r', 'chief', 'telling', 'bluray', 'exciting', 'stage', 'pity', 'fall', 'desk', 'complete', 'ae', 'sometext', 'lift', 'i\\x91ve', 'identification', 'okay', 'uk', 'amma', 'clearer', 'continued', 'enufcredeit', 'stomp', 'within', 'morrow', 'splat', 'alex', 'ericsson', 'fight', 'extra', 'sunshine', 'rencontre', 'hmm', 'thursday', 'cant', 'mi', 'quite', 'seems', 'kappa', 'buy', 'weed', 'juicy', 'abt', 'eye', 'doesnt', 'saving', 'expires', 'girl', 'honey', 'smashed', 'tight', 'rate', 'boundary', 'chapel', 'village', 'santa', 'rent', 'james', 'perhaps', 'suck', 'subsequent', 'darling', 'till', 'fret', 'admin', 'mrt', 'congratulation', 'missed', 'mall', 'wx', 'margin', 'ree', 'selling', 'might', 'ipod', 'built', 'beeen', 'charge', 'infection', 'wnt', 'bored', 'randomly', 'crash', 'rearrange', 'oops', 'cancelled', 'jia', 'ofcourse', 'stoptxt', 'mom', 'fri', 'derek', 'surfing', 'minor', 'assume', 'keypad', 'overdid', 'canary', 'replied', 'oga', 'usual', 'yesterday', 'fne', 'sen', 'adrink', 'genus', 'bulb', 'indyarocks', 'player', 'toilet', 'press', 'malaria', 'theplace', 'cud', 'journey', 'paper', 'fromwrk', 'red', 'stomach', 'looking', 'foot', 'win', 'cust', 'tallahassee', 'issue', 'barrel', 'middle', 'ip', 'favourite', 'send', 'waht', 'record', 'sch', 'valuable', 'thinkthis', 'elaine', 'spinout', 'taunton', 'aha', 'lik', 'thinkin', 'gave', 'goin', 'fund', 'negative', 'brothas', 'holiday', 'antibiotic', 'contract', 'program', 'king', 'foley', 'speeding', 'ayn', 'hppnss', 'boyfriend', 'pic', 'ud', 'crisis', 'loud', 'practicing', 'evng', 'j', 'tomorrow', 'ever', 'freefone', 'pound', 'difficult', 'citizen', 'msgrcvdhg', 'thanksgiving', 'resent', 'hai', 'gossip', 'sleepin', 'store', 'start', 'hitler', 'paul', 'word', 'sday', 'university', 'biola', 'ard', 'know', 'twelve', 'measure', 'jerk', 'freeentry', 'toaday', 'okey', 'onwards', 'raji', 'report', 'younger', 'buck', 'sense', 'lac', 'remember', 'beautiful', 'thou', 'si', 'insha', 'treatin', 'argue', 'someonone', 'causing', 'saved', 'loss', 'look', 'bp', 'wml', 'siva', 'postcode', 'seven', 'toyota', 'as', 'germany', 'possible', 'mind', 'eva', 'stolen', 'bw', 'price', 'din', 'think', 'many', 'burn', 'woman', 'planettalkinstant', 'wine', 'used', 'maximize', 'trained', 'course', 'lucozade', 'jeevithathile', 'halloween', 'problem', 'msgrcvd', 'madam', 'desire', 'clearly', 'st', 'polo', 'mistake', 'tap', 'half', 'lei', 'staring', 'jane', 'imat', 'kick', 'traffic', 'wil', 'family', 'konw', 'didnt', 'expects', 'atlast', 'wanted', 'nh', 'yer', 'gone', 'delivery', 'carly', 'tampa', 'handed', 'comuk', 'perfume', 'moment', 'solihull', 'credit', 'almost', 'done', 'neva', 'wq', 'sparkling', 'reminder', 'alaikkum', 'software', 'following', 'facebook', 'compensation', 'shu', 'beauty', 'placement', 'spile', 'kid', 'widelive', 'regard', 'mn', 'common', 'shsex', 'boy', 'olayiwola', 'sol', 'nice', 'mate', 'interested', 'tasts', 'tired', 'sleeping', 'drive', 'ending', 'txtin', 'marvel', 'least', 'argh', 'early', 'per', 'qxj', 'hey', 'whats', 'praying', 'erotic', 'dt', 'implication', 'sn', 'met', 'battle', 'broth', 'nìte', 'aslamalaikkum', 'donate', 'environment', 'bos', 'wednesday', 'sunny', 'truly', 'meg', 'created', 'ibored', 'tear', 'award', 'together', 'weird', 'unless', 'teach', 'goodnight', 'new', 'drivin', 'surprise', 'finishd', 'slave', 'takin', 'liao', 'resume', 'sex', 'dad', 'hill', 'im', 'worried', 'personal', 'website', 'prem', 'knew', 'rakhesh', 'ignore', 'joker', 'misfit', 'chennai', 'copy', 'long', 'youdoing', 'slp', 'nobody', 'lonely', 'otherwise', 'gay', 'claim', 'today', 'master', 'uncut', 'failed', 'us', 'reason', 'mrng', 'tyler', 'tix', 'town', 'ppl', 'lionm', 'doin', 'sigh', 'matter', 'hat', 'flag', 'transfr', 'basic', 'aa', 'vl', 'f', 'intro', 'winning', 'wana', 'except', 'coincidence', 'share', 'total', 'logging', 'manage', 'include', 'dudette', 'worc', 'fucking', 'station', 'world', 'dun', 'change', 'camera', 'strange', 'cause', 'ic', 'bein', 'afraid', 'group', 'waitin', 'error', 'sexy', 'work', 'urgnt', 'cover', 'liver', 'tb', 'dentist', 'download', 'dealing', 'mileage', 'mahfuuz', 'sight', 'saw', 'lamp', 'failure', 'mine', 'babe', 'connection', 'tat', 'iq', 'pongal', 'impossible', 'winner', 'chess', 'jogging', 'rat', 'pls', 'email', 'jam', 'sk', 'repeating', 'sure', 'energy', 'men', 'yup', 'idiot', 'pin', 'class', 'chatting', 'selection', 'soz', 'thats', 'aiyo', 'ntwk', 'flew', 'seriously', 'called', 'ham', 'wewa', 'title', 'shd', 'subscribed', 'key', 'history', 'swt', 'draw', 'frm', 'haughaighgtujhyguj', 'happen', 'leave', 'stink', 'vibrant', 'pick', 'penny', 'resolved', 'adress', 'toclaim', 'occupy', 'an', 'shit', 'enter', 'incredible', 'break', 'bmw', 'module', 'regret', 'funeral', 'warning', 'file', 'latest', 'correct', 'shexy', 'stability', 'craigslist', 'pt', 'snow', 'inconvenient', 'heard', 'shanil', 'bed', 'leh', 'fired', 'link', 'dirty', 'gt', 'watch', 'eta', 'kept', 'tantrum', 'area', 'custom', 'round', 'dock', 'holding', 'jay', 'generally', 'sashimi', 'colourful', 'mitsake', 'prepayment', 'probably', 'wheat', 'motor', 'guai', 'fowler', 'rest', 'grand', 'sugababes', 'collect', 'hour', 'patient', 'irulinae', 'raed', 'cheating', 'could', 'wont', 'went', 'see', 'man', 'quoting', 'pig', 'upd', 'deep', 'receipt', 'south', 'evrydy', 'service', 'travelled', 'child', 'exactly', 'tonight', 'lowes', 'shall', 'story', 'super', 'filling', 'amount', 'unable', 'login', 'nvm', 'radio', 'detail', 'lab', 'nichols', 'miserable', 'wating', 'bus', 'mountain', 'mum', 'exchanged', 'maintain', 'going', 'chuck', 'last', 'got', 'fee', 'find', 'ru', 'sib', 'prey', 'rhode', 'i\\x91ll', 'outside', 'dumb', 'hella', 'vivekanand', 'gap', 'fixed', 'fr', 'salt', 'never', 'lst', 'audition', 'lar', 'mega', 'sound', 'speak', 'warner', 'song', 'i\\x92l', 'gailxx', 'grazed', 'fwd', 'capacity', 'followed', 'kind', 'broke', 'trust', 'saturday', 'hmmm', 'ive', 'study', 'ahhhh', 'baby', 'beating', 'finance', 'parent', 'side', 'fool', 'realized', 'name', 'haha', 'film', 'lem', 'relax', 'wow', 'law', 'pissed', 'bottom', 'accidentally', 'activity', 'chick', 'sarasota', 'skip', 'jackpot', 'live', 'device', 'bitching', 'calling', 'hard', 'fell', 'type', 'pours', 'everybody', 'role', 'welcome', 'select', 'rental', 'chill', 'go', 'brand', 'syrup', 'chicken', 'real', 'term', 'bedrm', 'vid', 'full', 'art', 'arcade', 'qu', 'colany', 'h', 'thought', 'rofl', 'bt', 'tihs', 'delay', 'sp', 'doubt', 'plan', 'bf', 'kiss', 'yoville', 'sensitive', 'white', 'run', 'meet', 'pending', 'boost', 'seeing', 'wylie', 'none', 'arm', 'handset', 'hit', 'laundry', 'hr', 'durban', 'require', 'call', 'slacking', 'sake', 'snot', 'career', 'loooooool', 'mean', 'watching', 'still', 'situation', 'nature', 'reply', 'posted', 'pobox', 'barmed', 'contented', 'improve', 'le', 'house', 'unintentional', 'mumbai', 'argument', 'luck', 'deviousbitch', 'goodfriend', 'hannaford', 'fizz', 'okors', 'stupid', 'voda', 'living', 'add', 'clarify', 'sale', 'sorting', 'min', 'post', 'moro', 'raining', 'prakasam', 'skyving', 'rd', 'rajitha', 'bbd', 'sent', 'nothing', 'italian', 'inform', 'bx', 'goverment', 'hurry', 'realize', 'east', 'stress', 'truck', 'andre', 'badass', 'lit', 'jus', 'texted', 'lunch', 'bout', 'txt', 'site', 'nw', 'bone', 'anyones', 'picture', 'cheer', 'cafe', 'open', 'sterm', 'didn\\x92t', 'manageable', 'txts', 'meant', 'dear', 'geva', 'tt', 'til', 'dough', 'childish', 'outta', 'bong', 'sun', 'yeh', 'rstm', 'me', 'touch', 'office', 'parking', 'beendropping', 'bomb', 'asap', 'jd', 'guidance', 'rush', 'surely', 'arng', 'mother', 'lou', 'holy', 'wid', 'bank', 'gently', 'heaven', 'profit', 'note', 'thangam', 'preferably', 'read', 'attend', 'salmon', 'effect', 'someone', 'tot', 'dollar', 'outsomewhere', 'wan', 'wrnog', 'devouring', 'truth', 'qbank', 'i\\x91m', 'balance', 'garbage', 'hi', 'wt', 'pretty', 'pas', 'varma', 'ugh', 'worry', 'stockport', 'peach', 'bslvyl', 'alone', 'unlike', 'present', 'applebees', 'gotmarried', 'idk', 'spree', 'notxt', 'muah', 'arrange', 'club', 'x', 'flaky', 'started', 'hows', 'revealing', 'mojibiola', 'terminated', 'command', 'that\\x91s', 'moving', 'cream', 'pain', 'sudden', 'worth', 'kotees', 'added', 'box', 'weapon', 'another', 'blessing', 'yar', 'zebra', 'okday', 'forget', 'tessy', 'idea', 'enjoyin', 'learn', 'ppm', 'customer', 'figure', 'tog', 'need', 'age', 'strike', 'along', 'anytime', 'big', 'themob', 'da', 'wen', 'eerie', 'tension', 'woot', 'collapsed', 'rich', 'card', 'asked', 'mtmsg', 'senthil', 'ref', 'crossing', 'nite', 'fighting', 'purse', 'diamond', 'drms', 'thru', 'mokka', 'invnted', 'tirunelvali', 'tncs', 'stylish', 'black', 'cup', 'wihtuot', 'afterwards', 'entitled', 'na', 'adult', 'fassyole', 'thatmum', 'networking', 'space', 's', 'list', 'feel', 'misundrstud', 'necessary', 'innocent', 'grownup', 'shah', 'gthr', 'accent', 'including', 'transfered', 'ho', 'schedule', 'lionp', 'hehe', 'shut', 'é', 'squeezed', 'promise', 'fuckinnice', 'okie', 'tip', 'cost£', 'hopeing', 'fyi', 'cme', 'tick', 'hu', 'astrology', 'necessarily', 'dormitory', 'meal', 'hotel', 'waste', 'set', 'ten', 'ruining', 'poor', 'even', 'calm', 'luv', 'meh', 'stretch', 'announcement', 'hello', 'leg', 'wed', 'navigate', 'albi', 'ooooooh', 'pull', 'ill', 'much', 'prabha', 'ritten', 'housewife', 'unlimited', 'dino', 'sneham', 'btwn', 'cool', 'cm', 'thinking', 'executive', 'bill', 'upto', 'nd', 'previous', 'weak', 'obviously', 'alright', 'kidz', 'stuck', 'pap', 'two', 'goigng', 'lovable', 'ennal', 'awesome', 'holder', 'endless', 'pw', 'bathing', 'recently', 'video', 'jamster', 'back', 'sall', 'decent', 'booking', 'ni', 'update', 'v', 'tc', 'safe', 'axel', 'pm', 'benefit', 'bath', 'jumper', 'helloooo', 'fuck', 'pride', 'tonite', 'nimya', 'deer', 'messenger', 'cartoon', 'carry', 'section', 'jacket', 'hopefully', 'photoshop', 'officer', 'direct', 'thing', 'wenever', 'come', 'nt', 'lor', 'thank', 'efreefone', 'best', 'scotsman', 'light', 'return', 'admission', 'there', 'query', 'worse', 'deal', 'sup', 'cost', 'awarded', 'brolly', 'using', 'ringtone¡', 'evening', 'teeth', 'sweet', 'ultimate', 'voice', 'found', 'eaten', 'behind', 'karaoke', 'upcharge', 'computer', 'tscs', 'car', 'print', 'capital', 'passed', 'patrick', 'raj', 'ltd', 'membership', 'goodnite', 'esplanade', 'ashley', 'small', 'basically', 'came', 'influx', 'cold', 'bit', 'giv', 'managed', 'bun', 'totally', 'stuffing', 'rocking', 'ticket', 'meeting', 'gud', 'nonetheless', 'nyt', 'dropped', 'sry', 'tomarrow', 'building', 'school', 'increase', 'await', 'oredi', 'female', 'system', 'farting', 'bread', 'discus', 'brought', 'eyed', 'wuld', 'enjoy', 'downloads', 'helping', 'punto', 'k', 'response', 'user', 'snuggle', 'robinson', 'finger', 'captain', 'nokia', 'give', 'changing', 'weekend', 'margaret', 'failing', 'muht', 'screaming', 'possession', 'feed', 'lotz', 'denis', 'realising', 'henry', 'animation', 'kill', 'prometazine', 'boatin', 'suppose', 'lf', 'wonderful', 'fill', 'available', 'shld', 'walmart', 'chastity', 'infront', 'booty', 'guess', 'dinner', 'stuff', 'orange', 'askd', 'indeed', 'xmas', 'torch', 'forgt', 'wherever', 'dip', 'happiness', 'version', 'uploaded', 'cherish', 'month', 'normal', 'valentine', 'nokias', 'disaster', 'worst', 'birthday', 'memory', 'b', 'wasn\\x91t', 'joy', 'torture', 'business', 'lovly', 'bell', 'attempt', 'mono', 'pee', 'glad', 'diff', 'info', 'enough']\n"
     ]
    }
   ],
   "source": [
    "print(dictionary)"
   ]
  },
  {
   "cell_type": "code",
   "execution_count": 18,
   "id": "bc641d3d",
   "metadata": {},
   "outputs": [
    {
     "data": {
      "text/plain": [
       "2638"
      ]
     },
     "execution_count": 18,
     "metadata": {},
     "output_type": "execute_result"
    }
   ],
   "source": [
    "len(dictionary)"
   ]
  },
  {
   "cell_type": "code",
   "execution_count": 19,
   "id": "b29fe238",
   "metadata": {},
   "outputs": [],
   "source": [
    "def convert(text):\n",
    "    tok = word_tokenize(text)\n",
    "    lemmatizer = WordNetLemmatizer()\n",
    "    lem = [lemmatizer.lemmatize(t) for t in tok]\n",
    "    res = [dictionary.index(i) for i in lem]\n",
    "    return res"
   ]
  },
  {
   "cell_type": "code",
   "execution_count": 20,
   "id": "259c1ba9",
   "metadata": {},
   "outputs": [
    {
     "name": "stdout",
     "output_type": "stream",
     "text": [
      "0                                       [2121, 49, 2077]\n",
      "1      [1279, 2094, 776, 111, 1747, 709, 38, 1131, 44...\n",
      "2                                      [1455, 1267, 216]\n",
      "3                   [1311, 2624, 2028, 2527, 2045, 1079]\n",
      "4      [2435, 849, 1432, 941, 1092, 1092, 902, 1614, ...\n",
      "                             ...                        \n",
      "952    [2297, 1576, 1028, 1819, 1449, 1092, 1109, 209...\n",
      "953                                    [2421, 2031, 684]\n",
      "954             [558, 2333, 1711, 813, 1674, 2135, 1868]\n",
      "955                               [1119, 849, 1311, 877]\n",
      "956                                         [2634, 1447]\n",
      "Name: Message_body, Length: 957, dtype: object\n"
     ]
    }
   ],
   "source": [
    "X_train = X_train.apply(convert)\n",
    "print(X_train)"
   ]
  },
  {
   "cell_type": "code",
   "execution_count": 21,
   "id": "6a1d42bc",
   "metadata": {},
   "outputs": [],
   "source": [
    "def vectorize_sequences(sequences, dimension = 30000):#dims\n",
    "    results = np.zeros((len(sequences), dimension))\n",
    "    for i, sequence in enumerate(sequences):\n",
    "        for j in sequence:\n",
    "            results[i, j] = 1.\n",
    "    return results"
   ]
  },
  {
   "cell_type": "code",
   "execution_count": 22,
   "id": "81a66ebd",
   "metadata": {},
   "outputs": [
    {
     "name": "stdout",
     "output_type": "stream",
     "text": [
      "[[0. 0. 0. ... 0. 0. 0.]\n",
      " [0. 0. 0. ... 0. 0. 0.]\n",
      " [0. 0. 0. ... 0. 0. 0.]\n",
      " ...\n",
      " [0. 0. 0. ... 0. 0. 0.]\n",
      " [0. 0. 0. ... 0. 0. 0.]\n",
      " [0. 0. 0. ... 0. 0. 0.]]\n"
     ]
    }
   ],
   "source": [
    "import numpy as np\n",
    "\n",
    "x_train = vectorize_sequences(X_train)\n",
    "print(x_train)"
   ]
  },
  {
   "cell_type": "code",
   "execution_count": 23,
   "id": "18dd3b88",
   "metadata": {},
   "outputs": [
    {
     "name": "stdout",
     "output_type": "stream",
     "text": [
      "[1. 1. 1. 1. 0. 0. 1. 1. 1. 1. 1. 1. 1. 1. 1. 1. 1. 1. 1. 1. 1. 1. 1. 1.\n",
      " 1. 1. 1. 1. 1. 1. 0. 1. 1. 0. 1. 1. 1. 1. 1. 1. 1. 1. 1. 1. 0. 1. 0. 1.\n",
      " 1. 1. 1. 1. 1. 1. 1. 1. 1. 1. 1. 1. 1. 1. 1. 1. 1. 1. 1. 1. 1. 0. 1. 1.\n",
      " 1. 0. 1. 1. 1. 1. 0. 1. 1. 1. 1. 0. 1. 1. 1. 1. 0. 1. 1. 1. 1. 1. 1. 1.\n",
      " 1. 1. 1. 1. 1. 1. 0. 0. 0. 1. 1. 1. 0. 1. 0. 1. 1. 1. 0. 1. 1. 1. 1. 1.\n",
      " 1. 0. 1. 1. 1. 1. 1. 0. 1. 1. 1. 1. 1. 1. 1. 1. 1. 1. 1. 1. 1. 1. 1. 0.\n",
      " 1. 1. 1. 1. 1. 1. 1. 1. 1. 1. 1. 1. 1. 1. 1. 1. 1. 1. 1. 1. 1. 1. 1. 1.\n",
      " 1. 1. 1. 1. 1. 1. 1. 1. 1. 1. 1. 1. 1. 1. 1. 1. 1. 1. 1. 1. 1. 0. 1. 1.\n",
      " 0. 0. 1. 1. 1. 1. 1. 1. 0. 1. 0. 1. 0. 0. 1. 1. 1. 1. 1. 1. 1. 1. 1. 1.\n",
      " 1. 1. 1. 1. 1. 1. 1. 1. 1. 1. 1. 0. 1. 1. 1. 1. 1. 1. 1. 1. 1. 1. 1. 1.\n",
      " 1. 1. 1. 1. 1. 1. 1. 1. 1. 1. 1. 1. 1. 1. 1. 0. 1. 1. 1. 1. 1. 1. 1. 1.\n",
      " 1. 1. 1. 1. 1. 1. 1. 1. 1. 1. 1. 0. 1. 0. 1. 1. 1. 1. 1. 1. 0. 1. 1. 1.\n",
      " 1. 1. 1. 0. 1. 1. 1. 1. 1. 1. 1. 1. 0. 1. 1. 1. 1. 1. 1. 1. 1. 1. 1. 1.\n",
      " 1. 1. 1. 1. 1. 1. 1. 0. 1. 1. 1. 1. 1. 1. 1. 1. 1. 1. 1. 1. 0. 1. 1. 1.\n",
      " 0. 1. 1. 1. 0. 1. 1. 1. 1. 1. 1. 1. 1. 1. 1. 1. 1. 1. 0. 1. 1. 1. 1. 1.\n",
      " 1. 1. 1. 0. 1. 1. 1. 0. 0. 1. 1. 1. 0. 1. 1. 1. 1. 1. 0. 0. 1. 1. 1. 1.\n",
      " 1. 1. 1. 1. 1. 1. 0. 1. 1. 1. 1. 1. 1. 1. 1. 1. 1. 1. 1. 1. 0. 1. 1. 1.\n",
      " 1. 1. 1. 1. 1. 1. 1. 1. 1. 1. 1. 1. 1. 0. 1. 1. 1. 1. 1. 0. 1. 1. 1. 0.\n",
      " 1. 1. 1. 1. 1. 1. 1. 1. 1. 1. 1. 1. 1. 1. 1. 1. 0. 1. 1. 1. 1. 0. 1. 1.\n",
      " 0. 1. 0. 1. 1. 1. 1. 1. 1. 1. 0. 1. 1. 1. 0. 1. 1. 1. 1. 1. 1. 1. 1. 1.\n",
      " 1. 1. 1. 1. 1. 1. 1. 1. 1. 0. 1. 1. 0. 1. 1. 0. 1. 0. 1. 1. 0. 1. 1. 1.\n",
      " 1. 1. 1. 1. 0. 1. 1. 1. 1. 0. 1. 1. 1. 1. 1. 1. 1. 1. 1. 1. 0. 1. 0. 1.\n",
      " 1. 1. 0. 1. 1. 1. 1. 1. 1. 0. 1. 0. 0. 1. 1. 1. 1. 1. 1. 1. 1. 0. 1. 1.\n",
      " 1. 1. 1. 0. 1. 1. 1. 1. 1. 1. 1. 0. 1. 1. 1. 1. 1. 1. 1. 1. 1. 1. 1. 1.\n",
      " 0. 1. 1. 1. 1. 1. 0. 1. 1. 1. 1. 1. 1. 1. 1. 1. 1. 1. 1. 1. 1. 1. 1. 0.\n",
      " 0. 1. 0. 1. 1. 1. 1. 1. 1. 1. 1. 1. 1. 1. 0. 1. 1. 1. 0. 0. 1. 1. 1. 1.\n",
      " 1. 1. 1. 1. 1. 1. 1. 1. 1. 1. 1. 1. 0. 0. 1. 1. 1. 1. 1. 1. 1. 1. 1. 1.\n",
      " 1. 0. 1. 1. 1. 0. 1. 1. 1. 1. 1. 1. 1. 0. 1. 1. 0. 1. 0. 1. 1. 1. 1. 0.\n",
      " 1. 1. 1. 1. 1. 1. 1. 0. 1. 1. 1. 1. 1. 1. 1. 1. 0. 1. 0. 1. 1. 1. 1. 1.\n",
      " 1. 1. 1. 1. 1. 1. 1. 0. 0. 1. 1. 1. 1. 1. 1. 1. 1. 1. 1. 1. 1. 1. 1. 1.\n",
      " 1. 1. 0. 1. 1. 1. 0. 1. 1. 1. 1. 1. 1. 0. 1. 1. 1. 1. 1. 1. 1. 1. 1. 1.\n",
      " 0. 1. 0. 1. 1. 1. 1. 1. 1. 1. 1. 1. 1. 1. 1. 0. 1. 1. 1. 1. 1. 1. 1. 1.\n",
      " 1. 0. 0. 1. 1. 1. 1. 1. 1. 1. 1. 1. 1. 0. 1. 1. 1. 1. 1. 1. 1. 1. 1. 1.\n",
      " 1. 1. 1. 1. 1. 1. 1. 0. 1. 1. 1. 1. 1. 1. 1. 0. 0. 1. 1. 1. 1. 0. 1. 0.\n",
      " 1. 1. 1. 1. 1. 0. 1. 1. 1. 1. 1. 1. 1. 1. 1. 1. 0. 1. 1. 1. 1. 1. 1. 0.\n",
      " 1. 1. 0. 1. 1. 1. 1. 1. 1. 1. 1. 1. 1. 1. 1. 1. 1. 1. 1. 1. 1. 1. 1. 1.\n",
      " 1. 1. 0. 1. 1. 1. 1. 0. 1. 1. 1. 1. 1. 1. 1. 1. 1. 1. 1. 1. 1. 1. 1. 1.\n",
      " 1. 1. 1. 0. 1. 1. 0. 1. 1. 1. 1. 1. 1. 1. 1. 1. 1. 1. 1. 1. 1. 0. 1. 1.\n",
      " 1. 1. 1. 0. 1. 1. 1. 1. 0. 1. 1. 1. 0. 1. 1. 1. 1. 1. 1. 1. 1. 1. 1. 1.\n",
      " 1. 1. 0. 0. 1. 1. 1. 1. 1. 1. 1. 1. 1. 1. 1. 0. 1. 1. 1. 1. 1.]\n"
     ]
    }
   ],
   "source": [
    "y_train = np.asarray(Y_train).astype(\"float32\")\n",
    "\n",
    "print(y_train)"
   ]
  },
  {
   "cell_type": "code",
   "execution_count": 24,
   "id": "291ebc4f",
   "metadata": {},
   "outputs": [
    {
     "name": "stdout",
     "output_type": "stream",
     "text": [
      "Epoch 1/10\n",
      "2/2 - 1s - loss: 0.6817 - accuracy: 0.7673 - val_loss: 0.6481 - val_accuracy: 0.9323 - 1s/epoch - 584ms/step\n",
      "Epoch 2/10\n",
      "2/2 - 0s - loss: 0.6269 - accuracy: 0.9895 - val_loss: 0.6127 - val_accuracy: 0.9323 - 166ms/epoch - 83ms/step\n",
      "Epoch 3/10\n",
      "2/2 - 0s - loss: 0.5819 - accuracy: 0.9895 - val_loss: 0.5852 - val_accuracy: 0.9375 - 172ms/epoch - 86ms/step\n",
      "Epoch 4/10\n",
      "2/2 - 0s - loss: 0.5454 - accuracy: 0.9922 - val_loss: 0.5620 - val_accuracy: 0.9375 - 178ms/epoch - 89ms/step\n",
      "Epoch 5/10\n",
      "2/2 - 0s - loss: 0.5145 - accuracy: 0.9922 - val_loss: 0.5411 - val_accuracy: 0.9375 - 206ms/epoch - 103ms/step\n",
      "Epoch 6/10\n",
      "2/2 - 0s - loss: 0.4874 - accuracy: 0.9922 - val_loss: 0.5221 - val_accuracy: 0.9375 - 209ms/epoch - 105ms/step\n",
      "Epoch 7/10\n",
      "2/2 - 0s - loss: 0.4633 - accuracy: 0.9922 - val_loss: 0.5052 - val_accuracy: 0.9427 - 189ms/epoch - 94ms/step\n",
      "Epoch 8/10\n",
      "2/2 - 0s - loss: 0.4413 - accuracy: 0.9922 - val_loss: 0.4893 - val_accuracy: 0.9479 - 165ms/epoch - 82ms/step\n",
      "Epoch 9/10\n",
      "2/2 - 0s - loss: 0.4207 - accuracy: 0.9935 - val_loss: 0.4741 - val_accuracy: 0.9531 - 167ms/epoch - 83ms/step\n",
      "Epoch 10/10\n",
      "2/2 - 0s - loss: 0.4018 - accuracy: 0.9935 - val_loss: 0.4603 - val_accuracy: 0.9531 - 155ms/epoch - 77ms/step\n"
     ]
    }
   ],
   "source": [
    "import tensorflow as tf\n",
    "from tensorflow import keras\n",
    "from tensorflow.keras import layers\n",
    "import numpy as np\n",
    "\n",
    "model = keras.Sequential([\n",
    "    layers.Dense(32, activation=\"relu\"),\n",
    "    layers.Dense(1, activation=\"sigmoid\")\n",
    "])\n",
    "\n",
    "model.compile(optimizer=\"rmsprop\",\n",
    "              loss=\"binary_crossentropy\",\n",
    "              metrics=[\"accuracy\"])\n",
    "\n",
    "history = model.fit(x_train,\n",
    "                    y_train,\n",
    "                    epochs=10,\n",
    "                    batch_size=512,\n",
    "                    validation_split=0.2,\n",
    "                    shuffle = True,\n",
    "                    verbose = 2)"
   ]
  },
  {
   "cell_type": "code",
   "execution_count": 27,
   "id": "2e1218d1",
   "metadata": {},
   "outputs": [
    {
     "name": "stdout",
     "output_type": "stream",
     "text": [
      "Model: \"sequential\"\n",
      "_________________________________________________________________\n",
      " Layer (type)                Output Shape              Param #   \n",
      "=================================================================\n",
      " dense (Dense)               (None, 32)                960032    \n",
      "                                                                 \n",
      " dense_1 (Dense)             (None, 1)                 33        \n",
      "                                                                 \n",
      "=================================================================\n",
      "Total params: 960,065\n",
      "Trainable params: 960,065\n",
      "Non-trainable params: 0\n",
      "_________________________________________________________________\n",
      "None\n"
     ]
    }
   ],
   "source": [
    "print(model.summary())"
   ]
  },
  {
   "cell_type": "code",
   "execution_count": 28,
   "id": "d5bb6889",
   "metadata": {},
   "outputs": [
    {
     "data": {
      "text/plain": [
       "dict_keys(['loss', 'accuracy', 'val_loss', 'val_accuracy'])"
      ]
     },
     "execution_count": 28,
     "metadata": {},
     "output_type": "execute_result"
    }
   ],
   "source": [
    "history_dict = history.history\n",
    "history_dict.keys()"
   ]
  },
  {
   "cell_type": "code",
   "execution_count": 25,
   "id": "ec6da3a8",
   "metadata": {
    "scrolled": true
   },
   "outputs": [
    {
     "data": {
      "image/png": "[encoded data removed]",
      "text/plain": [
       "<Figure size 432x288 with 1 Axes>"
      ]
     },
     "metadata": {
      "needs_background": "light"
     },
     "output_type": "display_data"
    }
   ],
   "source": [
    "history_dict = history.history\n",
    "loss_values = history_dict[\"loss\"]\n",
    "val_loss_values = history_dict[\"val_loss\"]\n",
    "epochs = range(1, len(loss_values) + 1)\n",
    "plt.plot(epochs, loss_values, \"bo\", label=\"Training loss\")\n",
    "plt.plot(epochs, val_loss_values, \"b\", label=\"Validation loss\")\n",
    "plt.title(\"Training and validation loss\")\n",
    "plt.xlabel(\"Epochs\")\n",
    "plt.ylabel(\"Loss\")\n",
    "plt.legend()\n",
    "plt.show()"
   ]
  },
  {
   "cell_type": "code",
   "execution_count": null,
   "id": "001b6bab",
   "metadata": {},
   "outputs": [],
   "source": []
  },
  {
   "cell_type": "code",
   "execution_count": 26,
   "id": "cc3f64b8",
   "metadata": {},
   "outputs": [
    {
     "name": "stdout",
     "output_type": "stream",
     "text": [
      "Test score: 0.4008227586746216\n",
      "Test accuracy: 0.985370934009552\n"
     ]
    }
   ],
   "source": [
    "score = model.evaluate(x_train, y_train, verbose=0) \n",
    "print('Test score:', score[0]) \n",
    "print('Test accuracy:', score[1])"
   ]
  },
  {
   "cell_type": "code",
   "execution_count": null,
   "id": "6ad5bc66",
   "metadata": {},
   "outputs": [],
   "source": []
  }
 ],
 "metadata": {
  "kernelspec": {
   "display_name": "Python 3 (ipykernel)",
   "language": "python",
   "name": "python3"
  },
  "language_info": {
   "codemirror_mode": {
    "name": "ipython",
    "version": 3
   },
   "file_extension": ".py",
   "mimetype": "text/x-python",
   "name": "python",
   "nbconvert_exporter": "python",
   "pygments_lexer": "ipython3",
   "version": "3.9.7"
  }
 },
 "nbformat": 4,
 "nbformat_minor": 5
}
