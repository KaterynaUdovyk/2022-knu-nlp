{
 "cells": [
  {
   "cell_type": "code",
   "execution_count": 1,
   "id": "ccbac2b1",
   "metadata": {
    "_cell_guid": "b1076dfc-b9ad-4769-8c92-a6c4dae69d19",
    "_uuid": "8f2839f25d086af736a60e9eeb907d3b93b6e0e5",
    "execution": {
     "iopub.execute_input": "2022-02-06T19:37:10.903282Z",
     "iopub.status.busy": "2022-02-06T19:37:10.901874Z",
     "iopub.status.idle": "2022-02-06T19:37:17.922912Z",
     "shell.execute_reply": "2022-02-06T19:37:17.922129Z",
     "shell.execute_reply.started": "2022-02-06T18:55:15.736043Z"
    },
    "papermill": {
     "duration": 7.034667,
     "end_time": "2022-02-06T19:37:17.923085",
     "exception": false,
     "start_time": "2022-02-06T19:37:10.888418",
     "status": "completed"
    },
    "tags": []
   },
   "outputs": [],
   "source": [
    "from nltk.tokenize import word_tokenize\n",
    "from nltk.corpus import stopwords\n",
    "from nltk.stem import WordNetLemmatizer\n",
    "from collections import Counter\n",
    "import pandas as pd\n",
    "import re\n",
    "import string\n",
    "import matplotlib.pyplot as plt\n",
    "from sklearn.model_selection import train_test_split\n",
    "import tensorflow as tf\n",
    "from tensorflow import keras\n",
    "from tensorflow.keras import layers\n",
    "import numpy as np"
   ]
  },
  {
   "cell_type": "code",
   "execution_count": 2,
   "id": "6a156b99",
   "metadata": {
    "execution": {
     "iopub.execute_input": "2022-02-06T19:37:17.948207Z",
     "iopub.status.busy": "2022-02-06T19:37:17.947558Z",
     "iopub.status.idle": "2022-02-06T19:37:17.998422Z",
     "shell.execute_reply": "2022-02-06T19:37:17.998866Z",
     "shell.execute_reply.started": "2022-02-06T18:55:15.742545Z"
    },
    "papermill": {
     "duration": 0.065448,
     "end_time": "2022-02-06T19:37:17.999027",
     "exception": false,
     "start_time": "2022-02-06T19:37:17.933579",
     "status": "completed"
    },
    "tags": []
   },
   "outputs": [
    {
     "data": {
      "text/html": [
       "<div>\n",
       "<style scoped>\n",
       "    .dataframe tbody tr th:only-of-type {\n",
       "        vertical-align: middle;\n",
       "    }\n",
       "\n",
       "    .dataframe tbody tr th {\n",
       "        vertical-align: top;\n",
       "    }\n",
       "\n",
       "    .dataframe thead th {\n",
       "        text-align: right;\n",
       "    }\n",
       "</style>\n",
       "<table border=\"1\" class=\"dataframe\">\n",
       "  <thead>\n",
       "    <tr style=\"text-align: right;\">\n",
       "      <th></th>\n",
       "      <th>Category</th>\n",
       "      <th>Message</th>\n",
       "    </tr>\n",
       "  </thead>\n",
       "  <tbody>\n",
       "    <tr>\n",
       "      <th>0</th>\n",
       "      <td>ham</td>\n",
       "      <td>Go until jurong point, crazy.. Available only ...</td>\n",
       "    </tr>\n",
       "    <tr>\n",
       "      <th>1</th>\n",
       "      <td>ham</td>\n",
       "      <td>Ok lar... Joking wif u oni...</td>\n",
       "    </tr>\n",
       "    <tr>\n",
       "      <th>2</th>\n",
       "      <td>spam</td>\n",
       "      <td>Free entry in 2 a wkly comp to win FA Cup fina...</td>\n",
       "    </tr>\n",
       "    <tr>\n",
       "      <th>3</th>\n",
       "      <td>ham</td>\n",
       "      <td>U dun say so early hor... U c already then say...</td>\n",
       "    </tr>\n",
       "    <tr>\n",
       "      <th>4</th>\n",
       "      <td>ham</td>\n",
       "      <td>Nah I don't think he goes to usf, he lives aro...</td>\n",
       "    </tr>\n",
       "  </tbody>\n",
       "</table>\n",
       "</div>"
      ],
      "text/plain": [
       "  Category                                            Message\n",
       "0      ham  Go until jurong point, crazy.. Available only ...\n",
       "1      ham                      Ok lar... Joking wif u oni...\n",
       "2     spam  Free entry in 2 a wkly comp to win FA Cup fina...\n",
       "3      ham  U dun say so early hor... U c already then say...\n",
       "4      ham  Nah I don't think he goes to usf, he lives aro..."
      ]
     },
     "execution_count": 2,
     "metadata": {},
     "output_type": "execute_result"
    }
   ],
   "source": [
    "spam_path = \"../input/spam-text-message-classification/SPAM text message 20170820 - Data.csv\"\n",
    "df = pd.read_csv(spam_path)\n",
    "df.head()"
   ]
  },
  {
   "cell_type": "code",
   "execution_count": 3,
   "id": "3b8312dc",
   "metadata": {
    "execution": {
     "iopub.execute_input": "2022-02-06T19:37:18.022153Z",
     "iopub.status.busy": "2022-02-06T19:37:18.021500Z",
     "iopub.status.idle": "2022-02-06T19:37:18.031663Z",
     "shell.execute_reply": "2022-02-06T19:37:18.031106Z",
     "shell.execute_reply.started": "2022-02-06T18:55:15.774646Z"
    },
    "papermill": {
     "duration": 0.022668,
     "end_time": "2022-02-06T19:37:18.031790",
     "exception": false,
     "start_time": "2022-02-06T19:37:18.009122",
     "status": "completed"
    },
    "tags": []
   },
   "outputs": [
    {
     "data": {
      "text/plain": [
       "(0    Go until jurong point, crazy.. Available only ...\n",
       " 1                        Ok lar... Joking wif u oni...\n",
       " 2    Free entry in 2 a wkly comp to win FA Cup fina...\n",
       " Name: Message, dtype: object,\n",
       " 0     ham\n",
       " 1     ham\n",
       " 2    spam\n",
       " Name: Category, dtype: object)"
      ]
     },
     "execution_count": 3,
     "metadata": {},
     "output_type": "execute_result"
    }
   ],
   "source": [
    "X = df.Message\n",
    "Y = df.Category\n",
    "X.head(3), Y.head(3)"
   ]
  },
  {
   "cell_type": "code",
   "execution_count": 4,
   "id": "d0d20732",
   "metadata": {
    "execution": {
     "iopub.execute_input": "2022-02-06T19:37:18.064488Z",
     "iopub.status.busy": "2022-02-06T19:37:18.063840Z",
     "iopub.status.idle": "2022-02-06T19:37:20.306246Z",
     "shell.execute_reply": "2022-02-06T19:37:20.305679Z",
     "shell.execute_reply.started": "2022-02-06T18:55:15.783656Z"
    },
    "papermill": {
     "duration": 2.264682,
     "end_time": "2022-02-06T19:37:20.306400",
     "exception": false,
     "start_time": "2022-02-06T19:37:18.041718",
     "status": "completed"
    },
    "tags": []
   },
   "outputs": [],
   "source": [
    "whole_text = ''\n",
    "for i in X:\n",
    "    whole_text += i + ' '\n",
    "stop_words = stopwords.words(\"english\")\n",
    "def clean_text(text):\n",
    "    text = text.lower()           # converting to lowercase\n",
    "    text = re.sub(\"@\\S+\", \" \", text)  \n",
    "    text = re.sub(\"https*\\S+\", \" \", text)      #\\S - не пробел \n",
    "    text = re.sub(\"www\\S+\", \" \", text)\n",
    "    text = re.sub(\"#\\S+\", \" \", text)\n",
    "    text = re.sub(\"\\d\", \" \", text)        # remove all numbers\n",
    "    text = re.sub('[%s]' % re.escape(string.punctuation), ' ', text)     # remove punctuations\n",
    "    text = re.sub('\\n', ' ', text)        \n",
    "    text = re.sub('\\s{2,}',' ', text)        # remove extra spaces\n",
    "    text = ' '.join([word for word in text.split(' ') if word not in stop_words])\n",
    "    return text\n",
    "whole_text_clean = clean_text(whole_text)\n",
    "tokens = word_tokenize(whole_text_clean)\n",
    "lemmatizer = WordNetLemmatizer()\n",
    "lemtokens= [lemmatizer.lemmatize(t) for t in tokens]\n",
    "dictionary = list(set(lemtokens))"
   ]
  },
  {
   "cell_type": "code",
   "execution_count": 5,
   "id": "e28cebaa",
   "metadata": {
    "execution": {
     "iopub.execute_input": "2022-02-06T19:37:20.346495Z",
     "iopub.status.busy": "2022-02-06T19:37:20.341420Z",
     "iopub.status.idle": "2022-02-06T19:37:25.012202Z",
     "shell.execute_reply": "2022-02-06T19:37:25.012645Z",
     "shell.execute_reply.started": "2022-02-06T18:55:16.393518Z"
    },
    "papermill": {
     "duration": 4.696778,
     "end_time": "2022-02-06T19:37:25.012807",
     "exception": false,
     "start_time": "2022-02-06T19:37:20.316029",
     "status": "completed"
    },
    "tags": []
   },
   "outputs": [
    {
     "data": {
      "text/plain": [
       "0    [7054, 3555, 4778, 2763, 3384, 4411, 2447, 590...\n",
       "1                  [3547, 4421, 2911, 1563, 4810, 725]\n",
       "2    [596, 5193, 2937, 3797, 1982, 3918, 1439, 5510...\n",
       "Name: Message, dtype: object"
      ]
     },
     "execution_count": 5,
     "metadata": {},
     "output_type": "execute_result"
    }
   ],
   "source": [
    "def convert(text):\n",
    "    text = clean_text(text)\n",
    "    tok = word_tokenize(text)\n",
    "    lemmatizer = WordNetLemmatizer()\n",
    "    lem = [lemmatizer.lemmatize(t) for t in tok]\n",
    "    res = [dictionary.index(i) for i in lem]\n",
    "    return res\n",
    "X = X.apply(convert)\n",
    "X.head(3)"
   ]
  },
  {
   "cell_type": "code",
   "execution_count": 6,
   "id": "81460605",
   "metadata": {
    "execution": {
     "iopub.execute_input": "2022-02-06T19:37:25.039797Z",
     "iopub.status.busy": "2022-02-06T19:37:25.039218Z",
     "iopub.status.idle": "2022-02-06T19:37:25.040665Z",
     "shell.execute_reply": "2022-02-06T19:37:25.041036Z",
     "shell.execute_reply.started": "2022-02-06T18:55:23.064053Z"
    },
    "papermill": {
     "duration": 0.018669,
     "end_time": "2022-02-06T19:37:25.041206",
     "exception": false,
     "start_time": "2022-02-06T19:37:25.022537",
     "status": "completed"
    },
    "tags": []
   },
   "outputs": [],
   "source": [
    "def encoding(text):\n",
    "    if text == 'ham':\n",
    "        return 0\n",
    "    elif text == 'spam':\n",
    "        return 1\n",
    "    else:\n",
    "        return -1\n",
    "Y = Y.apply(encoding)"
   ]
  },
  {
   "cell_type": "code",
   "execution_count": 7,
   "id": "3c4e5a88",
   "metadata": {
    "execution": {
     "iopub.execute_input": "2022-02-06T19:37:25.064078Z",
     "iopub.status.busy": "2022-02-06T19:37:25.063523Z",
     "iopub.status.idle": "2022-02-06T19:37:25.069182Z",
     "shell.execute_reply": "2022-02-06T19:37:25.069663Z",
     "shell.execute_reply.started": "2022-02-06T18:55:23.075244Z"
    },
    "papermill": {
     "duration": 0.018551,
     "end_time": "2022-02-06T19:37:25.069816",
     "exception": false,
     "start_time": "2022-02-06T19:37:25.051265",
     "status": "completed"
    },
    "tags": []
   },
   "outputs": [],
   "source": [
    "X_train, X_test, Y_train, Y_test = train_test_split(X, Y, test_size=0.2, random_state=42)\n",
    "y_train = np.asarray(Y_train).astype(\"float32\")\n",
    "y_test = np.asarray(Y_test).astype(\"float32\")"
   ]
  },
  {
   "cell_type": "code",
   "execution_count": 8,
   "id": "fb550de5",
   "metadata": {
    "execution": {
     "iopub.execute_input": "2022-02-06T19:37:25.096014Z",
     "iopub.status.busy": "2022-02-06T19:37:25.095431Z",
     "iopub.status.idle": "2022-02-06T19:37:25.122157Z",
     "shell.execute_reply": "2022-02-06T19:37:25.121686Z",
     "shell.execute_reply.started": "2022-02-06T18:55:23.089828Z"
    },
    "papermill": {
     "duration": 0.0427,
     "end_time": "2022-02-06T19:37:25.122292",
     "exception": false,
     "start_time": "2022-02-06T19:37:25.079592",
     "status": "completed"
    },
    "tags": []
   },
   "outputs": [
    {
     "data": {
      "text/plain": [
       "array([[   0,    0,    0, ..., 2917, 3552, 6983],\n",
       "       [   0,    0,    0, ..., 5917, 1974,  344],\n",
       "       [   0,    0,    0, ..., 1393, 4810, 5901],\n",
       "       ...,\n",
       "       [   0,    0,    0, ..., 3987, 3626,  680],\n",
       "       [   0,    0,    0, ..., 2911, 4490, 5901],\n",
       "       [   0,    0,    0, ..., 3327, 1701, 5543]], dtype=int32)"
      ]
     },
     "execution_count": 8,
     "metadata": {},
     "output_type": "execute_result"
    }
   ],
   "source": [
    "maxlen = 50\n",
    "x_train = keras.preprocessing.sequence.pad_sequences(X_train, maxlen = maxlen)\n",
    "x_test = keras.preprocessing.sequence.pad_sequences(X_test, maxlen = maxlen)\n",
    "x_train"
   ]
  },
  {
   "cell_type": "code",
   "execution_count": 9,
   "id": "7304fd35",
   "metadata": {
    "execution": {
     "iopub.execute_input": "2022-02-06T19:37:25.145638Z",
     "iopub.status.busy": "2022-02-06T19:37:25.145090Z",
     "iopub.status.idle": "2022-02-06T19:37:25.151815Z",
     "shell.execute_reply": "2022-02-06T19:37:25.152290Z",
     "shell.execute_reply.started": "2022-02-06T18:55:23.119694Z"
    },
    "papermill": {
     "duration": 0.020086,
     "end_time": "2022-02-06T19:37:25.152445",
     "exception": false,
     "start_time": "2022-02-06T19:37:25.132359",
     "status": "completed"
    },
    "tags": []
   },
   "outputs": [],
   "source": [
    "class TransformerBlock(layers.Layer):\n",
    "    def __init__(self, embed_dim, num_heads, ff_dim, rate=0.1):\n",
    "        super(TransformerBlock, self).__init__()\n",
    "        self.att = layers.MultiHeadAttention(num_heads=num_heads, key_dim=embed_dim)\n",
    "        self.ffn = keras.Sequential(\n",
    "            [layers.Dense(ff_dim, activation=\"relu\"), layers.Dense(embed_dim),]\n",
    "        )\n",
    "        self.layernorm1 = layers.LayerNormalization(epsilon=1e-6)\n",
    "        self.layernorm2 = layers.LayerNormalization(epsilon=1e-6)\n",
    "        self.dropout1 = layers.Dropout(rate)\n",
    "        self.dropout2 = layers.Dropout(rate)\n",
    "\n",
    "    def call(self, inputs, training):\n",
    "        attn_output = self.att(inputs, inputs)\n",
    "        attn_output = self.dropout1(attn_output, training=training)\n",
    "        out1 = self.layernorm1(inputs + attn_output)\n",
    "        ffn_output = self.ffn(out1)\n",
    "        ffn_output = self.dropout2(ffn_output, training=training)\n",
    "        return self.layernorm2(out1 + ffn_output)"
   ]
  },
  {
   "cell_type": "code",
   "execution_count": 10,
   "id": "0ca2bee0",
   "metadata": {
    "execution": {
     "iopub.execute_input": "2022-02-06T19:37:25.175730Z",
     "iopub.status.busy": "2022-02-06T19:37:25.175174Z",
     "iopub.status.idle": "2022-02-06T19:37:25.179897Z",
     "shell.execute_reply": "2022-02-06T19:37:25.180362Z",
     "shell.execute_reply.started": "2022-02-06T18:55:23.127231Z"
    },
    "papermill": {
     "duration": 0.017737,
     "end_time": "2022-02-06T19:37:25.180517",
     "exception": false,
     "start_time": "2022-02-06T19:37:25.162780",
     "status": "completed"
    },
    "tags": []
   },
   "outputs": [],
   "source": [
    "class TokenAndPositionEmbedding(layers.Layer):\n",
    "    def __init__(self, maxlen, vocab_size, embed_dim):\n",
    "        super(TokenAndPositionEmbedding, self).__init__()\n",
    "        self.token_emb = layers.Embedding(input_dim=vocab_size, output_dim=embed_dim)\n",
    "        self.pos_emb = layers.Embedding(input_dim=maxlen, output_dim=embed_dim)\n",
    "\n",
    "    def call(self, x):\n",
    "        maxlen = tf.shape(x)[-1]\n",
    "        positions = tf.range(start=0, limit=maxlen, delta=1)\n",
    "        positions = self.pos_emb(positions)\n",
    "        x = self.token_emb(x)\n",
    "        return x + positions"
   ]
  },
  {
   "cell_type": "code",
   "execution_count": 11,
   "id": "ac1db14c",
   "metadata": {
    "execution": {
     "iopub.execute_input": "2022-02-06T19:37:25.203197Z",
     "iopub.status.busy": "2022-02-06T19:37:25.202646Z",
     "iopub.status.idle": "2022-02-06T19:37:43.458300Z",
     "shell.execute_reply": "2022-02-06T19:37:43.458870Z"
    },
    "papermill": {
     "duration": 18.268485,
     "end_time": "2022-02-06T19:37:43.459077",
     "exception": false,
     "start_time": "2022-02-06T19:37:25.190592",
     "status": "completed"
    },
    "tags": []
   },
   "outputs": [
    {
     "name": "stderr",
     "output_type": "stream",
     "text": [
      "\n",
      "User settings:\n",
      "\n",
      "   KMP_AFFINITY=granularity=fine,noverbose,compact,1,0\n",
      "   KMP_BLOCKTIME=0\n",
      "   KMP_DUPLICATE_LIB_OK=True\n",
      "   KMP_INIT_AT_FORK=FALSE\n",
      "   KMP_SETTINGS=1\n",
      "   KMP_WARNINGS=0\n",
      "\n",
      "Effective settings:\n",
      "\n",
      "   KMP_ABORT_DELAY=0\n",
      "   KMP_ADAPTIVE_LOCK_PROPS='1,1024'\n",
      "   KMP_ALIGN_ALLOC=64\n",
      "   KMP_ALL_THREADPRIVATE=128\n",
      "   KMP_ATOMIC_MODE=2\n",
      "   KMP_BLOCKTIME=0\n",
      "   KMP_CPUINFO_FILE: value is not defined\n",
      "   KMP_DETERMINISTIC_REDUCTION=false\n",
      "   KMP_DEVICE_THREAD_LIMIT=2147483647\n",
      "   KMP_DISP_NUM_BUFFERS=7\n",
      "   KMP_DUPLICATE_LIB_OK=true\n",
      "   KMP_ENABLE_TASK_THROTTLING=true\n",
      "   KMP_FORCE_REDUCTION: value is not defined\n",
      "   KMP_FOREIGN_THREADS_THREADPRIVATE=true\n",
      "   KMP_FORKJOIN_BARRIER='2,2'\n",
      "   KMP_FORKJOIN_BARRIER_PATTERN='hyper,hyper'\n",
      "   KMP_GTID_MODE=3\n",
      "   KMP_HANDLE_SIGNALS=false\n",
      "   KMP_HOT_TEAMS_MAX_LEVEL=1\n",
      "   KMP_HOT_TEAMS_MODE=0\n",
      "   KMP_INIT_AT_FORK=true\n",
      "   KMP_LIBRARY=throughput\n",
      "   KMP_LOCK_KIND=queuing\n",
      "   KMP_MALLOC_POOL_INCR=1M\n",
      "   KMP_NUM_LOCKS_IN_BLOCK=1\n",
      "   KMP_PLAIN_BARRIER='2,2'\n",
      "   KMP_PLAIN_BARRIER_PATTERN='hyper,hyper'\n",
      "   KMP_REDUCTION_BARRIER='1,1'\n",
      "   KMP_REDUCTION_BARRIER_PATTERN='hyper,hyper'\n",
      "   KMP_SCHEDULE='static,balanced;guided,iterative'\n",
      "   KMP_SETTINGS=true\n",
      "   KMP_SPIN_BACKOFF_PARAMS='4096,100'\n",
      "   KMP_STACKOFFSET=64\n",
      "   KMP_STACKPAD=0\n",
      "   KMP_STACKSIZE=8M\n",
      "   KMP_STORAGE_MAP=false\n",
      "   KMP_TASKING=2\n",
      "   KMP_TASKLOOP_MIN_TASKS=0\n",
      "   KMP_TASK_STEALING_CONSTRAINT=1\n",
      "   KMP_TEAMS_THREAD_LIMIT=4\n",
      "   KMP_TOPOLOGY_METHOD=all\n",
      "   KMP_USE_YIELD=1\n",
      "   KMP_VERSION=false\n",
      "   KMP_WARNINGS=false\n",
      "   OMP_AFFINITY_FORMAT='OMP: pid %P tid %i thread %n bound to OS proc set {%A}'\n",
      "   OMP_ALLOCATOR=omp_default_mem_alloc\n",
      "   OMP_CANCELLATION=false\n",
      "   OMP_DEFAULT_DEVICE=0\n",
      "   OMP_DISPLAY_AFFINITY=false\n",
      "   OMP_DISPLAY_ENV=false\n",
      "   OMP_DYNAMIC=false\n",
      "   OMP_MAX_ACTIVE_LEVELS=1\n",
      "   OMP_MAX_TASK_PRIORITY=0\n",
      "   OMP_NESTED: deprecated; max-active-levels-var=1\n",
      "   OMP_NUM_THREADS: value is not defined\n",
      "   OMP_PLACES: value is not defined\n",
      "   OMP_PROC_BIND='intel'\n",
      "   OMP_SCHEDULE='static'\n",
      "   OMP_STACKSIZE=8M\n",
      "   OMP_TARGET_OFFLOAD=DEFAULT\n",
      "   OMP_THREAD_LIMIT=2147483647\n",
      "   OMP_WAIT_POLICY=PASSIVE\n",
      "   KMP_AFFINITY='noverbose,warnings,respect,granularity=fine,compact,1,0'\n",
      "\n",
      "2022-02-06 19:37:25.305970: I tensorflow/core/common_runtime/process_util.cc:146] Creating new thread pool with default inter op setting: 2. Tune using inter_op_parallelism_threads for best performance.\n",
      "2022-02-06 19:37:25.641110: I tensorflow/compiler/mlir/mlir_graph_optimization_pass.cc:185] None of the MLIR Optimization Passes are enabled (registered 2)\n"
     ]
    },
    {
     "name": "stdout",
     "output_type": "stream",
     "text": [
      "Epoch 1/10\n",
      "8/8 [==============================] - 4s 239ms/step - loss: 0.5844 - accuracy: 0.7840 - val_loss: 0.5161 - val_accuracy: 0.8576\n",
      "Epoch 2/10\n",
      "8/8 [==============================] - 1s 186ms/step - loss: 0.5069 - accuracy: 0.8303 - val_loss: 0.3835 - val_accuracy: 0.8576\n",
      "Epoch 3/10\n",
      "8/8 [==============================] - 2s 190ms/step - loss: 0.4393 - accuracy: 0.8468 - val_loss: 0.3501 - val_accuracy: 0.8576\n",
      "Epoch 4/10\n",
      "8/8 [==============================] - 2s 191ms/step - loss: 0.3751 - accuracy: 0.8603 - val_loss: 0.3281 - val_accuracy: 0.8576\n",
      "Epoch 5/10\n",
      "8/8 [==============================] - 2s 192ms/step - loss: 0.3117 - accuracy: 0.8842 - val_loss: 0.2294 - val_accuracy: 0.8834\n",
      "Epoch 6/10\n",
      "8/8 [==============================] - 2s 190ms/step - loss: 0.2275 - accuracy: 0.9181 - val_loss: 0.1676 - val_accuracy: 0.9496\n",
      "Epoch 7/10\n",
      "8/8 [==============================] - 2s 220ms/step - loss: 0.1632 - accuracy: 0.9506 - val_loss: 0.1264 - val_accuracy: 0.9596\n",
      "Epoch 8/10\n",
      "8/8 [==============================] - 1s 186ms/step - loss: 0.0942 - accuracy: 0.9792 - val_loss: 0.0917 - val_accuracy: 0.9664\n",
      "Epoch 9/10\n",
      "8/8 [==============================] - 1s 187ms/step - loss: 0.0603 - accuracy: 0.9868 - val_loss: 0.0898 - val_accuracy: 0.9742\n",
      "Epoch 10/10\n",
      "8/8 [==============================] - 1s 187ms/step - loss: 0.0418 - accuracy: 0.9913 - val_loss: 0.0722 - val_accuracy: 0.9798\n",
      "Model: \"model\"\n",
      "_________________________________________________________________\n",
      "Layer (type)                 Output Shape              Param #   \n",
      "=================================================================\n",
      "input_1 (InputLayer)         [(None, 50)]              0         \n",
      "_________________________________________________________________\n",
      "token_and_position_embedding (None, 50, 64)            515200    \n",
      "_________________________________________________________________\n",
      "transformer_block (Transform (None, 50, 64)            41792     \n",
      "_________________________________________________________________\n",
      "global_average_pooling1d (Gl (None, 64)                0         \n",
      "_________________________________________________________________\n",
      "dropout_2 (Dropout)          (None, 64)                0         \n",
      "_________________________________________________________________\n",
      "dense_2 (Dense)              (None, 20)                1300      \n",
      "_________________________________________________________________\n",
      "dropout_3 (Dropout)          (None, 20)                0         \n",
      "_________________________________________________________________\n",
      "dense_3 (Dense)              (None, 2)                 42        \n",
      "=================================================================\n",
      "Total params: 558,334\n",
      "Trainable params: 558,334\n",
      "Non-trainable params: 0\n",
      "_________________________________________________________________\n"
     ]
    }
   ],
   "source": [
    "my_callbacks = [tf.keras.callbacks.EarlyStopping(patience=2)]\n",
    "max_features = 8000\n",
    "embed_dim = 64  # Embedding size for each token\n",
    "num_heads = 2  # Number of attention heads\n",
    "ff_dim = 64 # Hidden layer size in feed forward network inside transformer\n",
    "\n",
    "inputs = layers.Input(shape=(maxlen,))\n",
    "embedding_layer = TokenAndPositionEmbedding(maxlen, max_features, embed_dim)\n",
    "x = embedding_layer(inputs)\n",
    "transformer_block = TransformerBlock(embed_dim, num_heads, ff_dim)\n",
    "x = transformer_block(x)\n",
    "x = layers.GlobalAveragePooling1D()(x)\n",
    "x = layers.Dropout(0.2)(x)\n",
    "x = layers.Dense(20, activation=\"tanh\")(x)\n",
    "x = layers.Dropout(0.5)(x)\n",
    "outputs = layers.Dense(2, activation=\"softmax\")(x)\n",
    "\n",
    "model = keras.Model(inputs=inputs, outputs=outputs)\n",
    "model.compile(optimizer=\"adam\", loss=\"sparse_categorical_crossentropy\", metrics=[\"accuracy\"])\n",
    "history = model.fit( x_train, y_train, \n",
    "                    batch_size=500, \n",
    "                    epochs=10, \n",
    "                    validation_split=0.2,\n",
    "                    validation_data=(x_test, y_test), \n",
    "                    shuffle = True,\n",
    "                    callbacks = my_callbacks )\n",
    "model.summary()"
   ]
  },
  {
   "cell_type": "code",
   "execution_count": 12,
   "id": "ee86dfec",
   "metadata": {
    "execution": {
     "iopub.execute_input": "2022-02-06T19:37:43.527363Z",
     "iopub.status.busy": "2022-02-06T19:37:43.526455Z",
     "iopub.status.idle": "2022-02-06T19:37:43.841190Z",
     "shell.execute_reply": "2022-02-06T19:37:43.842031Z",
     "shell.execute_reply.started": "2022-02-06T19:23:58.074622Z"
    },
    "papermill": {
     "duration": 0.350621,
     "end_time": "2022-02-06T19:37:43.842342",
     "exception": false,
     "start_time": "2022-02-06T19:37:43.491721",
     "status": "completed"
    },
    "tags": []
   },
   "outputs": [
    {
     "name": "stdout",
     "output_type": "stream",
     "text": [
      "Test score: 0.06664438545703888\n",
      "Test accuracy: 0.9802690744400024\n"
     ]
    }
   ],
   "source": [
    "score = model.evaluate(x_test, y_test, verbose=0) \n",
    "print('Test score:', score[0]) \n",
    "print('Test accuracy:', score[1])"
   ]
  },
  {
   "cell_type": "code",
   "execution_count": 13,
   "id": "f35342a8",
   "metadata": {
    "execution": {
     "iopub.execute_input": "2022-02-06T19:37:43.910495Z",
     "iopub.status.busy": "2022-02-06T19:37:43.909590Z",
     "iopub.status.idle": "2022-02-06T19:37:44.135843Z",
     "shell.execute_reply": "2022-02-06T19:37:44.134938Z",
     "shell.execute_reply.started": "2022-02-06T19:23:18.899998Z"
    },
    "papermill": {
     "duration": 0.260611,
     "end_time": "2022-02-06T19:37:44.135989",
     "exception": false,
     "start_time": "2022-02-06T19:37:43.875378",
     "status": "completed"
    },
    "tags": []
   },
   "outputs": [
    {
     "data": {
      "image/png": "[encoded data removed]",
      "text/plain": [
       "<Figure size 432x288 with 1 Axes>"
      ]
     },
     "metadata": {
      "needs_background": "light"
     },
     "output_type": "display_data"
    }
   ],
   "source": [
    "history_dict = history.history\n",
    "history_dict.keys()\n",
    "history_dict = history.history\n",
    "loss_values = history_dict[\"loss\"]\n",
    "val_loss_values = history_dict[\"val_loss\"]\n",
    "epochs = range(1, len(loss_values) + 1)\n",
    "plt.plot(epochs, loss_values, \"bo\", label=\"Training loss\")\n",
    "plt.plot(epochs, val_loss_values, \"b\", label=\"Validation loss\")\n",
    "plt.title(\"Training and validation loss\")\n",
    "plt.xlabel(\"Epochs\")\n",
    "plt.ylabel(\"Loss\")\n",
    "plt.legend()\n",
    "plt.show()"
   ]
  }
 ],
 "metadata": {
  "kernelspec": {
   "display_name": "Python 3",
   "language": "python",
   "name": "python3"
  },
  "language_info": {
   "codemirror_mode": {
    "name": "ipython",
    "version": 3
   },
   "file_extension": ".py",
   "mimetype": "text/x-python",
   "name": "python",
   "nbconvert_exporter": "python",
   "pygments_lexer": "ipython3",
   "version": "3.7.12"
  },
  "papermill": {
   "default_parameters": {},
   "duration": 44.509642,
   "end_time": "2022-02-06T19:37:46.963863",
   "environment_variables": {},
   "exception": null,
   "input_path": "__notebook__.ipynb",
   "output_path": "__notebook__.ipynb",
   "parameters": {},
   "start_time": "2022-02-06T19:37:02.454221",
   "version": "2.3.3"
  }
 },
 "nbformat": 4,
 "nbformat_minor": 5
}
