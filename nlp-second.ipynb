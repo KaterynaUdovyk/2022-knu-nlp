{
 "cells": [
  {
   "cell_type": "code",
   "execution_count": 1,
   "id": "a9375ad4",
   "metadata": {
    "_cell_guid": "b1076dfc-b9ad-4769-8c92-a6c4dae69d19",
    "_uuid": "8f2839f25d086af736a60e9eeb907d3b93b6e0e5",
    "execution": {
     "iopub.execute_input": "2022-01-27T09:16:41.359890Z",
     "iopub.status.busy": "2022-01-27T09:16:41.358400Z",
     "iopub.status.idle": "2022-01-27T09:16:47.373252Z",
     "shell.execute_reply": "2022-01-27T09:16:47.372661Z",
     "shell.execute_reply.started": "2022-01-27T09:04:36.539366Z"
    },
    "papermill": {
     "duration": 6.037273,
     "end_time": "2022-01-27T09:16:47.373436",
     "exception": false,
     "start_time": "2022-01-27T09:16:41.336163",
     "status": "completed"
    },
    "tags": []
   },
   "outputs": [],
   "source": [
    "from nltk.tokenize import word_tokenize\n",
    "from nltk.corpus import stopwords\n",
    "from nltk.stem import WordNetLemmatizer\n",
    "from collections import Counter\n",
    "import pandas as pd\n",
    "import re\n",
    "import string\n",
    "import matplotlib.pyplot as plt\n",
    "from wordcloud import WordCloud\n",
    "from sklearn.model_selection import train_test_split\n",
    "import tensorflow as tf\n",
    "from tensorflow import keras\n",
    "from tensorflow.keras import layers\n",
    "import numpy as np"
   ]
  },
  {
   "cell_type": "code",
   "execution_count": 2,
   "id": "627057fa",
   "metadata": {
    "execution": {
     "iopub.execute_input": "2022-01-27T09:16:47.412275Z",
     "iopub.status.busy": "2022-01-27T09:16:47.411763Z",
     "iopub.status.idle": "2022-01-27T09:16:47.728722Z",
     "shell.execute_reply": "2022-01-27T09:16:47.729182Z",
     "shell.execute_reply.started": "2022-01-27T09:04:49.420077Z"
    },
    "papermill": {
     "duration": 0.337463,
     "end_time": "2022-01-27T09:16:47.729354",
     "exception": false,
     "start_time": "2022-01-27T09:16:47.391891",
     "status": "completed"
    },
    "tags": []
   },
   "outputs": [],
   "source": [
    "path_train = \"../input/covid-19-nlp-text-classification/Corona_NLP_train.csv\"\n",
    "path_test = \"../input/covid-19-nlp-text-classification/Corona_NLP_test.csv\"\n",
    "df_train = pd.read_csv(path_train, encoding = 'latin1')\n",
    "df_test = pd.read_csv(path_test, encoding = 'latin1')"
   ]
  },
  {
   "cell_type": "code",
   "execution_count": 3,
   "id": "bf18f1d8",
   "metadata": {
    "execution": {
     "iopub.execute_input": "2022-01-27T09:16:47.769619Z",
     "iopub.status.busy": "2022-01-27T09:16:47.768786Z",
     "iopub.status.idle": "2022-01-27T09:16:47.782976Z",
     "shell.execute_reply": "2022-01-27T09:16:47.783416Z",
     "shell.execute_reply.started": "2022-01-27T09:04:53.629294Z"
    },
    "papermill": {
     "duration": 0.03771,
     "end_time": "2022-01-27T09:16:47.783551",
     "exception": false,
     "start_time": "2022-01-27T09:16:47.745841",
     "status": "completed"
    },
    "tags": []
   },
   "outputs": [
    {
     "data": {
      "text/html": [
       "<div>\n",
       "<style scoped>\n",
       "    .dataframe tbody tr th:only-of-type {\n",
       "        vertical-align: middle;\n",
       "    }\n",
       "\n",
       "    .dataframe tbody tr th {\n",
       "        vertical-align: top;\n",
       "    }\n",
       "\n",
       "    .dataframe thead th {\n",
       "        text-align: right;\n",
       "    }\n",
       "</style>\n",
       "<table border=\"1\" class=\"dataframe\">\n",
       "  <thead>\n",
       "    <tr style=\"text-align: right;\">\n",
       "      <th></th>\n",
       "      <th>UserName</th>\n",
       "      <th>ScreenName</th>\n",
       "      <th>Location</th>\n",
       "      <th>TweetAt</th>\n",
       "      <th>OriginalTweet</th>\n",
       "      <th>Sentiment</th>\n",
       "    </tr>\n",
       "  </thead>\n",
       "  <tbody>\n",
       "    <tr>\n",
       "      <th>0</th>\n",
       "      <td>3799</td>\n",
       "      <td>48751</td>\n",
       "      <td>London</td>\n",
       "      <td>16-03-2020</td>\n",
       "      <td>@MeNyrbie @Phil_Gahan @Chrisitv https://t.co/i...</td>\n",
       "      <td>Neutral</td>\n",
       "    </tr>\n",
       "    <tr>\n",
       "      <th>1</th>\n",
       "      <td>3800</td>\n",
       "      <td>48752</td>\n",
       "      <td>UK</td>\n",
       "      <td>16-03-2020</td>\n",
       "      <td>advice Talk to your neighbours family to excha...</td>\n",
       "      <td>Positive</td>\n",
       "    </tr>\n",
       "    <tr>\n",
       "      <th>2</th>\n",
       "      <td>3801</td>\n",
       "      <td>48753</td>\n",
       "      <td>Vagabonds</td>\n",
       "      <td>16-03-2020</td>\n",
       "      <td>Coronavirus Australia: Woolworths to give elde...</td>\n",
       "      <td>Positive</td>\n",
       "    </tr>\n",
       "    <tr>\n",
       "      <th>3</th>\n",
       "      <td>3802</td>\n",
       "      <td>48754</td>\n",
       "      <td>NaN</td>\n",
       "      <td>16-03-2020</td>\n",
       "      <td>My food stock is not the only one which is emp...</td>\n",
       "      <td>Positive</td>\n",
       "    </tr>\n",
       "    <tr>\n",
       "      <th>4</th>\n",
       "      <td>3803</td>\n",
       "      <td>48755</td>\n",
       "      <td>NaN</td>\n",
       "      <td>16-03-2020</td>\n",
       "      <td>Me, ready to go at supermarket during the #COV...</td>\n",
       "      <td>Extremely Negative</td>\n",
       "    </tr>\n",
       "  </tbody>\n",
       "</table>\n",
       "</div>"
      ],
      "text/plain": [
       "   UserName  ScreenName   Location     TweetAt  \\\n",
       "0      3799       48751     London  16-03-2020   \n",
       "1      3800       48752         UK  16-03-2020   \n",
       "2      3801       48753  Vagabonds  16-03-2020   \n",
       "3      3802       48754        NaN  16-03-2020   \n",
       "4      3803       48755        NaN  16-03-2020   \n",
       "\n",
       "                                       OriginalTweet           Sentiment  \n",
       "0  @MeNyrbie @Phil_Gahan @Chrisitv https://t.co/i...             Neutral  \n",
       "1  advice Talk to your neighbours family to excha...            Positive  \n",
       "2  Coronavirus Australia: Woolworths to give elde...            Positive  \n",
       "3  My food stock is not the only one which is emp...            Positive  \n",
       "4  Me, ready to go at supermarket during the #COV...  Extremely Negative  "
      ]
     },
     "execution_count": 3,
     "metadata": {},
     "output_type": "execute_result"
    }
   ],
   "source": [
    "df_train.head()"
   ]
  },
  {
   "cell_type": "code",
   "execution_count": 4,
   "id": "8b46b900",
   "metadata": {
    "execution": {
     "iopub.execute_input": "2022-01-27T09:16:47.824710Z",
     "iopub.status.busy": "2022-01-27T09:16:47.824034Z",
     "iopub.status.idle": "2022-01-27T09:16:47.830074Z",
     "shell.execute_reply": "2022-01-27T09:16:47.829649Z",
     "shell.execute_reply.started": "2022-01-27T09:04:58.430014Z"
    },
    "papermill": {
     "duration": 0.030115,
     "end_time": "2022-01-27T09:16:47.830176",
     "exception": false,
     "start_time": "2022-01-27T09:16:47.800061",
     "status": "completed"
    },
    "tags": []
   },
   "outputs": [],
   "source": [
    "#drop the columns we don't need\n",
    "df_train.drop(['UserName', 'ScreenName', 'Location', 'TweetAt'], axis = 1, inplace = True)\n",
    "df_test.drop(['UserName', 'ScreenName', 'Location', 'TweetAt'], axis = 1, inplace = True)"
   ]
  },
  {
   "cell_type": "code",
   "execution_count": 5,
   "id": "fdd3f312",
   "metadata": {
    "execution": {
     "iopub.execute_input": "2022-01-27T09:16:47.867180Z",
     "iopub.status.busy": "2022-01-27T09:16:47.865661Z",
     "iopub.status.idle": "2022-01-27T09:16:47.867816Z",
     "shell.execute_reply": "2022-01-27T09:16:47.868211Z"
    },
    "papermill": {
     "duration": 0.021788,
     "end_time": "2022-01-27T09:16:47.868351",
     "exception": false,
     "start_time": "2022-01-27T09:16:47.846563",
     "status": "completed"
    },
    "tags": []
   },
   "outputs": [],
   "source": [
    "#as in the first step we'll consider everything either positive or negative\n",
    "#and drop neutral"
   ]
  },
  {
   "cell_type": "code",
   "execution_count": 6,
   "id": "c04bc3ac",
   "metadata": {
    "execution": {
     "iopub.execute_input": "2022-01-27T09:16:47.918568Z",
     "iopub.status.busy": "2022-01-27T09:16:47.912121Z",
     "iopub.status.idle": "2022-01-27T09:16:47.937982Z",
     "shell.execute_reply": "2022-01-27T09:16:47.937582Z",
     "shell.execute_reply.started": "2022-01-27T09:05:02.796491Z"
    },
    "papermill": {
     "duration": 0.053535,
     "end_time": "2022-01-27T09:16:47.938095",
     "exception": false,
     "start_time": "2022-01-27T09:16:47.884560",
     "status": "completed"
    },
    "tags": []
   },
   "outputs": [],
   "source": [
    "df_train = df_train[(df_train.Sentiment == 'Extremely Positive') | (df_train.Sentiment == 'Positive') | (df_train.Sentiment == 'Extremely Negative') | (df_train.Sentiment == 'Negative')]\n",
    "df_test = df_test[(df_test.Sentiment == 'Extremely Positive') | (df_test.Sentiment == 'Positive') | (df_test.Sentiment == 'Extremely Negative') | (df_test.Sentiment == 'Negative')]"
   ]
  },
  {
   "cell_type": "code",
   "execution_count": 7,
   "id": "2c6dbfcf",
   "metadata": {
    "execution": {
     "iopub.execute_input": "2022-01-27T09:16:47.975089Z",
     "iopub.status.busy": "2022-01-27T09:16:47.974433Z",
     "iopub.status.idle": "2022-01-27T09:16:47.976933Z",
     "shell.execute_reply": "2022-01-27T09:16:47.976523Z",
     "shell.execute_reply.started": "2022-01-27T09:05:06.498930Z"
    },
    "papermill": {
     "duration": 0.022553,
     "end_time": "2022-01-27T09:16:47.977037",
     "exception": false,
     "start_time": "2022-01-27T09:16:47.954484",
     "status": "completed"
    },
    "tags": []
   },
   "outputs": [],
   "source": [
    "def blackNwhite(text):\n",
    "    if text in ['Extremely Positive', 'Positive']:\n",
    "        return 'positive'\n",
    "    elif text in ['Extremely Negative', 'Negative']:\n",
    "        return 'negative'\n",
    "    else:\n",
    "        return text"
   ]
  },
  {
   "cell_type": "code",
   "execution_count": 8,
   "id": "78b213ac",
   "metadata": {
    "execution": {
     "iopub.execute_input": "2022-01-27T09:16:48.012678Z",
     "iopub.status.busy": "2022-01-27T09:16:48.011865Z",
     "iopub.status.idle": "2022-01-27T09:16:48.026529Z",
     "shell.execute_reply": "2022-01-27T09:16:48.026006Z",
     "shell.execute_reply.started": "2022-01-27T09:05:09.501689Z"
    },
    "papermill": {
     "duration": 0.033275,
     "end_time": "2022-01-27T09:16:48.026639",
     "exception": false,
     "start_time": "2022-01-27T09:16:47.993364",
     "status": "completed"
    },
    "tags": []
   },
   "outputs": [],
   "source": [
    "df_train.Sentiment = df_train.Sentiment.apply(blackNwhite)\n",
    "df_test.Sentiment = df_test.Sentiment.apply(blackNwhite)"
   ]
  },
  {
   "cell_type": "code",
   "execution_count": 9,
   "id": "ed6ad419",
   "metadata": {
    "execution": {
     "iopub.execute_input": "2022-01-27T09:16:48.068447Z",
     "iopub.status.busy": "2022-01-27T09:16:48.067523Z",
     "iopub.status.idle": "2022-01-27T09:16:48.069434Z",
     "shell.execute_reply": "2022-01-27T09:16:48.069942Z",
     "shell.execute_reply.started": "2022-01-27T09:05:14.629586Z"
    },
    "papermill": {
     "duration": 0.025042,
     "end_time": "2022-01-27T09:16:48.070069",
     "exception": false,
     "start_time": "2022-01-27T09:16:48.045027",
     "status": "completed"
    },
    "tags": []
   },
   "outputs": [],
   "source": [
    "X_train = df_train.OriginalTweet\n",
    "Y_train = df_train.Sentiment\n",
    "X_test = df_test.OriginalTweet\n",
    "Y_test = df_test.Sentiment"
   ]
  },
  {
   "cell_type": "code",
   "execution_count": 10,
   "id": "7028a71e",
   "metadata": {
    "execution": {
     "iopub.execute_input": "2022-01-27T09:16:48.113892Z",
     "iopub.status.busy": "2022-01-27T09:16:48.113161Z",
     "iopub.status.idle": "2022-01-27T09:16:48.121173Z",
     "shell.execute_reply": "2022-01-27T09:16:48.120721Z",
     "shell.execute_reply.started": "2022-01-27T09:05:20.199266Z"
    },
    "papermill": {
     "duration": 0.033023,
     "end_time": "2022-01-27T09:16:48.121280",
     "exception": false,
     "start_time": "2022-01-27T09:16:48.088257",
     "status": "completed"
    },
    "tags": []
   },
   "outputs": [],
   "source": [
    "stop_words = stopwords.words(\"english\")\n",
    "def clean_text(text):\n",
    "    text = text.lower()           # converting to lowercase\n",
    "    text = re.sub(\"@\\S+\", \" \", text)  \n",
    "    text = re.sub(\"https*\\S+\", \" \", text)      #\\S - не пробел \n",
    "    text = re.sub(\"www\\S+\", \" \", text)\n",
    "    text = re.sub(\"#\\S+\", \" \", text)\n",
    "    text = re.sub(\"\\d\", \" \", text)        # remove all numbers\n",
    "    text = re.sub('[%s]' % re.escape(string.punctuation), ' ', text)     # remove punctuations\n",
    "    text = re.sub('\\n', ' ', text)        \n",
    "    text = re.sub('\\s{2,}',' ', text)        # remove extra spaces\n",
    "    text = ' '.join([word for word in text.split(' ') if word not in stop_words])\n",
    "    return text"
   ]
  },
  {
   "cell_type": "code",
   "execution_count": 11,
   "id": "e97e00a2",
   "metadata": {
    "execution": {
     "iopub.execute_input": "2022-01-27T09:16:48.160409Z",
     "iopub.status.busy": "2022-01-27T09:16:48.159624Z",
     "iopub.status.idle": "2022-01-27T09:16:48.161564Z",
     "shell.execute_reply": "2022-01-27T09:16:48.161967Z",
     "shell.execute_reply.started": "2022-01-27T09:05:27.300498Z"
    },
    "papermill": {
     "duration": 0.02249,
     "end_time": "2022-01-27T09:16:48.162083",
     "exception": false,
     "start_time": "2022-01-27T09:16:48.139593",
     "status": "completed"
    },
    "tags": []
   },
   "outputs": [],
   "source": [
    "def makediglabel(text):\n",
    "    if text == 'positive':\n",
    "        return 0.0\n",
    "    elif text == 'negative':\n",
    "        return 1.0\n",
    "    else:\n",
    "        return -1.0"
   ]
  },
  {
   "cell_type": "code",
   "execution_count": 12,
   "id": "d2e00741",
   "metadata": {
    "execution": {
     "iopub.execute_input": "2022-01-27T09:16:48.230602Z",
     "iopub.status.busy": "2022-01-27T09:16:48.215243Z",
     "iopub.status.idle": "2022-01-27T09:16:50.932665Z",
     "shell.execute_reply": "2022-01-27T09:16:50.931747Z",
     "shell.execute_reply.started": "2022-01-27T09:05:30.929388Z"
    },
    "papermill": {
     "duration": 2.754096,
     "end_time": "2022-01-27T09:16:50.932815",
     "exception": false,
     "start_time": "2022-01-27T09:16:48.178719",
     "status": "completed"
    },
    "tags": []
   },
   "outputs": [],
   "source": [
    "X_train = X_train.apply(clean_text)\n",
    "X_test = X_test.apply(clean_text)\n",
    "Y_train = Y_train.apply(makediglabel)\n",
    "Y_test = Y_test.apply(makediglabel)"
   ]
  },
  {
   "cell_type": "code",
   "execution_count": 13,
   "id": "ceb1dcc0",
   "metadata": {
    "execution": {
     "iopub.execute_input": "2022-01-27T09:16:50.988005Z",
     "iopub.status.busy": "2022-01-27T09:16:50.983680Z",
     "iopub.status.idle": "2022-01-27T09:16:50.990546Z",
     "shell.execute_reply": "2022-01-27T09:16:50.990064Z",
     "shell.execute_reply.started": "2022-01-27T09:05:40.833369Z"
    },
    "papermill": {
     "duration": 0.041186,
     "end_time": "2022-01-27T09:16:50.990669",
     "exception": false,
     "start_time": "2022-01-27T09:16:50.949483",
     "status": "completed"
    },
    "tags": []
   },
   "outputs": [],
   "source": [
    "whole_text = \"\"\n",
    "for i in X_train:\n",
    "    whole_text += i + ' '\n",
    "for i in X_test:\n",
    "    whole_text += i + ' '"
   ]
  },
  {
   "cell_type": "code",
   "execution_count": 14,
   "id": "a32674ba",
   "metadata": {
    "execution": {
     "iopub.execute_input": "2022-01-27T09:16:51.027699Z",
     "iopub.status.busy": "2022-01-27T09:16:51.026984Z",
     "iopub.status.idle": "2022-01-27T09:17:01.065808Z",
     "shell.execute_reply": "2022-01-27T09:17:01.065144Z",
     "shell.execute_reply.started": "2022-01-27T09:05:56.039673Z"
    },
    "papermill": {
     "duration": 10.058891,
     "end_time": "2022-01-27T09:17:01.065946",
     "exception": false,
     "start_time": "2022-01-27T09:16:51.007055",
     "status": "completed"
    },
    "tags": []
   },
   "outputs": [],
   "source": [
    "tokens = word_tokenize(whole_text)\n",
    "lemmatizer = WordNetLemmatizer()\n",
    "lemtok = [lemmatizer.lemmatize(t) for t in tokens]\n",
    "dictionary = list(set(lemtok))"
   ]
  },
  {
   "cell_type": "code",
   "execution_count": 15,
   "id": "a88e48e0",
   "metadata": {
    "execution": {
     "iopub.execute_input": "2022-01-27T09:17:01.110456Z",
     "iopub.status.busy": "2022-01-27T09:17:01.109630Z",
     "iopub.status.idle": "2022-01-27T09:17:01.113832Z",
     "shell.execute_reply": "2022-01-27T09:17:01.113230Z",
     "shell.execute_reply.started": "2022-01-27T09:06:21.968309Z"
    },
    "papermill": {
     "duration": 0.028265,
     "end_time": "2022-01-27T09:17:01.113946",
     "exception": false,
     "start_time": "2022-01-27T09:17:01.085681",
     "status": "completed"
    },
    "tags": []
   },
   "outputs": [
    {
     "data": {
      "text/plain": [
       "29574"
      ]
     },
     "execution_count": 15,
     "metadata": {},
     "output_type": "execute_result"
    }
   ],
   "source": [
    "len(dictionary)"
   ]
  },
  {
   "cell_type": "code",
   "execution_count": 16,
   "id": "774f2cff",
   "metadata": {
    "execution": {
     "iopub.execute_input": "2022-01-27T09:17:01.156923Z",
     "iopub.status.busy": "2022-01-27T09:17:01.155639Z",
     "iopub.status.idle": "2022-01-27T09:17:01.157933Z",
     "shell.execute_reply": "2022-01-27T09:17:01.158451Z",
     "shell.execute_reply.started": "2022-01-27T09:06:25.789966Z"
    },
    "papermill": {
     "duration": 0.026389,
     "end_time": "2022-01-27T09:17:01.158585",
     "exception": false,
     "start_time": "2022-01-27T09:17:01.132196",
     "status": "completed"
    },
    "tags": []
   },
   "outputs": [],
   "source": [
    "def convert(text):\n",
    "    tok = word_tokenize(text)\n",
    "    lemmatizer = WordNetLemmatizer()\n",
    "    lem = [lemmatizer.lemmatize(t) for t in tok]\n",
    "    res = [dictionary.index(i) for i in lem]\n",
    "    return res"
   ]
  },
  {
   "cell_type": "code",
   "execution_count": 17,
   "id": "6b2e788a",
   "metadata": {
    "execution": {
     "iopub.execute_input": "2022-01-27T09:17:01.271442Z",
     "iopub.status.busy": "2022-01-27T09:17:01.232250Z",
     "iopub.status.idle": "2022-01-27T09:21:17.469767Z",
     "shell.execute_reply": "2022-01-27T09:21:17.469234Z",
     "shell.execute_reply.started": "2022-01-27T09:06:33.262172Z"
    },
    "papermill": {
     "duration": 256.292815,
     "end_time": "2022-01-27T09:21:17.469910",
     "exception": false,
     "start_time": "2022-01-27T09:17:01.177095",
     "status": "completed"
    },
    "tags": []
   },
   "outputs": [],
   "source": [
    "X_train = X_train.apply(convert)\n",
    "X_test = X_test.apply(convert)"
   ]
  },
  {
   "cell_type": "code",
   "execution_count": 18,
   "id": "7eb13cd0",
   "metadata": {
    "execution": {
     "iopub.execute_input": "2022-01-27T09:21:17.509465Z",
     "iopub.status.busy": "2022-01-27T09:21:17.508688Z",
     "iopub.status.idle": "2022-01-27T09:21:17.511109Z",
     "shell.execute_reply": "2022-01-27T09:21:17.510713Z",
     "shell.execute_reply.started": "2022-01-27T09:12:13.607002Z"
    },
    "papermill": {
     "duration": 0.024041,
     "end_time": "2022-01-27T09:21:17.511214",
     "exception": false,
     "start_time": "2022-01-27T09:21:17.487173",
     "status": "completed"
    },
    "tags": []
   },
   "outputs": [],
   "source": [
    "def vectorize_sequences(sequences, dimension = 30000):#dims\n",
    "    results = np.zeros((len(sequences), dimension))\n",
    "    for i, sequence in enumerate(sequences):\n",
    "        for j in sequence:\n",
    "            results[i, j] = 1.\n",
    "    return results"
   ]
  },
  {
   "cell_type": "code",
   "execution_count": 19,
   "id": "14567818",
   "metadata": {
    "execution": {
     "iopub.execute_input": "2022-01-27T09:21:17.568144Z",
     "iopub.status.busy": "2022-01-27T09:21:17.558193Z",
     "iopub.status.idle": "2022-01-27T09:21:18.967938Z",
     "shell.execute_reply": "2022-01-27T09:21:18.968645Z",
     "shell.execute_reply.started": "2022-01-27T09:12:30.599535Z"
    },
    "papermill": {
     "duration": 1.4408,
     "end_time": "2022-01-27T09:21:18.968880",
     "exception": false,
     "start_time": "2022-01-27T09:21:17.528080",
     "status": "completed"
    },
    "tags": []
   },
   "outputs": [],
   "source": [
    "x_train = vectorize_sequences(X_train)\n",
    "x_test = vectorize_sequences(X_test)"
   ]
  },
  {
   "cell_type": "code",
   "execution_count": 20,
   "id": "c583c85a",
   "metadata": {
    "execution": {
     "iopub.execute_input": "2022-01-27T09:21:19.029770Z",
     "iopub.status.busy": "2022-01-27T09:21:19.028904Z",
     "iopub.status.idle": "2022-01-27T09:21:19.031188Z",
     "shell.execute_reply": "2022-01-27T09:21:19.030516Z",
     "shell.execute_reply.started": "2022-01-27T09:13:12.800585Z"
    },
    "papermill": {
     "duration": 0.036341,
     "end_time": "2022-01-27T09:21:19.031363",
     "exception": false,
     "start_time": "2022-01-27T09:21:18.995022",
     "status": "completed"
    },
    "tags": []
   },
   "outputs": [],
   "source": [
    "y_train = np.asarray(Y_train).astype(\"float32\")\n",
    "y_test = np.asarray(Y_test).astype(\"float32\")"
   ]
  },
  {
   "cell_type": "code",
   "execution_count": 21,
   "id": "986c73ff",
   "metadata": {
    "execution": {
     "iopub.execute_input": "2022-01-27T09:21:19.096167Z",
     "iopub.status.busy": "2022-01-27T09:21:19.095345Z",
     "iopub.status.idle": "2022-01-27T09:22:10.656701Z",
     "shell.execute_reply": "2022-01-27T09:22:10.656126Z",
     "shell.execute_reply.started": "2022-01-27T09:14:05.700921Z"
    },
    "papermill": {
     "duration": 51.598603,
     "end_time": "2022-01-27T09:22:10.656846",
     "exception": false,
     "start_time": "2022-01-27T09:21:19.058243",
     "status": "completed"
    },
    "tags": []
   },
   "outputs": [
    {
     "name": "stderr",
     "output_type": "stream",
     "text": [
      "2022-01-27 09:21:19.184550: I tensorflow/stream_executor/cuda/cuda_gpu_executor.cc:937] successful NUMA node read from SysFS had negative value (-1), but there must be at least one NUMA node, so returning NUMA node zero\n",
      "2022-01-27 09:21:19.288986: I tensorflow/stream_executor/cuda/cuda_gpu_executor.cc:937] successful NUMA node read from SysFS had negative value (-1), but there must be at least one NUMA node, so returning NUMA node zero\n",
      "2022-01-27 09:21:19.290010: I tensorflow/stream_executor/cuda/cuda_gpu_executor.cc:937] successful NUMA node read from SysFS had negative value (-1), but there must be at least one NUMA node, so returning NUMA node zero\n",
      "2022-01-27 09:21:19.292973: I tensorflow/core/platform/cpu_feature_guard.cc:142] This TensorFlow binary is optimized with oneAPI Deep Neural Network Library (oneDNN) to use the following CPU instructions in performance-critical operations:  AVX2 AVX512F FMA\n",
      "To enable them in other operations, rebuild TensorFlow with the appropriate compiler flags.\n",
      "2022-01-27 09:21:19.294051: I tensorflow/stream_executor/cuda/cuda_gpu_executor.cc:937] successful NUMA node read from SysFS had negative value (-1), but there must be at least one NUMA node, so returning NUMA node zero\n",
      "2022-01-27 09:21:19.295279: I tensorflow/stream_executor/cuda/cuda_gpu_executor.cc:937] successful NUMA node read from SysFS had negative value (-1), but there must be at least one NUMA node, so returning NUMA node zero\n",
      "2022-01-27 09:21:19.296464: I tensorflow/stream_executor/cuda/cuda_gpu_executor.cc:937] successful NUMA node read from SysFS had negative value (-1), but there must be at least one NUMA node, so returning NUMA node zero\n",
      "2022-01-27 09:21:21.158077: I tensorflow/stream_executor/cuda/cuda_gpu_executor.cc:937] successful NUMA node read from SysFS had negative value (-1), but there must be at least one NUMA node, so returning NUMA node zero\n",
      "2022-01-27 09:21:21.158956: I tensorflow/stream_executor/cuda/cuda_gpu_executor.cc:937] successful NUMA node read from SysFS had negative value (-1), but there must be at least one NUMA node, so returning NUMA node zero\n",
      "2022-01-27 09:21:21.159652: I tensorflow/stream_executor/cuda/cuda_gpu_executor.cc:937] successful NUMA node read from SysFS had negative value (-1), but there must be at least one NUMA node, so returning NUMA node zero\n",
      "2022-01-27 09:21:21.160218: I tensorflow/core/common_runtime/gpu/gpu_device.cc:1510] Created device /job:localhost/replica:0/task:0/device:GPU:0 with 15403 MB memory:  -> device: 0, name: Tesla P100-PCIE-16GB, pci bus id: 0000:00:04.0, compute capability: 6.0\n",
      "2022-01-27 09:21:23.508835: W tensorflow/core/framework/cpu_allocator_impl.cc:80] Allocation of 3210600000 exceeds 10% of free system memory.\n",
      "2022-01-27 09:21:26.705451: W tensorflow/core/framework/cpu_allocator_impl.cc:80] Allocation of 3210600000 exceeds 10% of free system memory.\n",
      "2022-01-27 09:21:29.015825: I tensorflow/compiler/mlir/mlir_graph_optimization_pass.cc:185] None of the MLIR Optimization Passes are enabled (registered 2)\n"
     ]
    },
    {
     "name": "stdout",
     "output_type": "stream",
     "text": [
      "Epoch 1/10\n"
     ]
    },
    {
     "name": "stderr",
     "output_type": "stream",
     "text": [
      "2022-01-27 09:21:33.251902: W tensorflow/core/framework/cpu_allocator_impl.cc:80] Allocation of 802680000 exceeds 10% of free system memory.\n",
      "2022-01-27 09:21:34.049121: W tensorflow/core/framework/cpu_allocator_impl.cc:80] Allocation of 802680000 exceeds 10% of free system memory.\n"
     ]
    },
    {
     "name": "stdout",
     "output_type": "stream",
     "text": [
      "53/53 - 6s - loss: 0.5837 - accuracy: 0.7535 - val_loss: 0.5044 - val_accuracy: 0.8128\n",
      "Epoch 2/10\n",
      "53/53 - 3s - loss: 0.4276 - accuracy: 0.8611 - val_loss: 0.4149 - val_accuracy: 0.8447\n",
      "Epoch 3/10\n",
      "53/53 - 3s - loss: 0.3343 - accuracy: 0.8952 - val_loss: 0.3626 - val_accuracy: 0.8571\n",
      "Epoch 4/10\n",
      "53/53 - 3s - loss: 0.2729 - accuracy: 0.9153 - val_loss: 0.3299 - val_accuracy: 0.8677\n",
      "Epoch 5/10\n",
      "53/53 - 3s - loss: 0.2306 - accuracy: 0.9283 - val_loss: 0.3123 - val_accuracy: 0.8717\n",
      "Epoch 6/10\n",
      "53/53 - 3s - loss: 0.2000 - accuracy: 0.9381 - val_loss: 0.3060 - val_accuracy: 0.8737\n",
      "Epoch 7/10\n",
      "53/53 - 3s - loss: 0.1766 - accuracy: 0.9453 - val_loss: 0.3047 - val_accuracy: 0.8767\n",
      "Epoch 8/10\n",
      "53/53 - 3s - loss: 0.1585 - accuracy: 0.9506 - val_loss: 0.3080 - val_accuracy: 0.8765\n",
      "Epoch 9/10\n",
      "53/53 - 3s - loss: 0.1433 - accuracy: 0.9554 - val_loss: 0.3147 - val_accuracy: 0.8783\n",
      "Epoch 10/10\n",
      "53/53 - 3s - loss: 0.1317 - accuracy: 0.9588 - val_loss: 0.3223 - val_accuracy: 0.8743\n"
     ]
    }
   ],
   "source": [
    "model = keras.Sequential([\n",
    "    layers.Dense(32, activation=\"relu\"),\n",
    "    layers.Dense(1, activation=\"sigmoid\")\n",
    "])\n",
    "\n",
    "model.compile(optimizer=\"rmsprop\",\n",
    "              loss=\"binary_crossentropy\",\n",
    "              metrics=[\"accuracy\"])\n",
    "\n",
    "history = model.fit(x_train,\n",
    "                    y_train,\n",
    "                    epochs=10,\n",
    "                    batch_size=512,\n",
    "                    validation_split=0.2,\n",
    "                    shuffle = True,\n",
    "                    verbose = 2)"
   ]
  },
  {
   "cell_type": "code",
   "execution_count": 22,
   "id": "a984c84c",
   "metadata": {
    "execution": {
     "iopub.execute_input": "2022-01-27T09:22:10.715280Z",
     "iopub.status.busy": "2022-01-27T09:22:10.714427Z",
     "iopub.status.idle": "2022-01-27T09:22:10.909401Z",
     "shell.execute_reply": "2022-01-27T09:22:10.908951Z",
     "shell.execute_reply.started": "2022-01-27T09:15:40.308533Z"
    },
    "papermill": {
     "duration": 0.228839,
     "end_time": "2022-01-27T09:22:10.909539",
     "exception": false,
     "start_time": "2022-01-27T09:22:10.680700",
     "status": "completed"
    },
    "tags": []
   },
   "outputs": [
    {
     "data": {
      "image/png": "[encoded data removed]",
      "text/plain": [
       "<Figure size 432x288 with 1 Axes>"
      ]
     },
     "metadata": {
      "needs_background": "light"
     },
     "output_type": "display_data"
    }
   ],
   "source": [
    "history_dict = history.history\n",
    "loss_values = history_dict[\"loss\"]\n",
    "val_loss_values = history_dict[\"val_loss\"]\n",
    "epochs = range(1, len(loss_values) + 1)\n",
    "plt.plot(epochs, loss_values, \"bo\", label=\"Training loss\")\n",
    "plt.plot(epochs, val_loss_values, \"b\", label=\"Validation loss\")\n",
    "plt.title(\"Training and validation loss\")\n",
    "plt.xlabel(\"Epochs\")\n",
    "plt.ylabel(\"Loss\")\n",
    "plt.legend()\n",
    "plt.show()"
   ]
  },
  {
   "cell_type": "code",
   "execution_count": 23,
   "id": "b55149fd",
   "metadata": {
    "execution": {
     "iopub.execute_input": "2022-01-27T09:22:10.962427Z",
     "iopub.status.busy": "2022-01-27T09:22:10.961577Z",
     "iopub.status.idle": "2022-01-27T09:22:12.154628Z",
     "shell.execute_reply": "2022-01-27T09:22:12.155218Z",
     "shell.execute_reply.started": "2022-01-27T09:15:59.427716Z"
    },
    "papermill": {
     "duration": 1.221888,
     "end_time": "2022-01-27T09:22:12.155425",
     "exception": false,
     "start_time": "2022-01-27T09:22:10.933537",
     "status": "completed"
    },
    "tags": []
   },
   "outputs": [
    {
     "name": "stdout",
     "output_type": "stream",
     "text": [
      "Test score: 0.37078073620796204\n",
      "Test accuracy: 0.8615916967391968\n"
     ]
    }
   ],
   "source": [
    "score = model.evaluate(x_test, y_test, verbose=0) \n",
    "print('Test score:', score[0]) \n",
    "print('Test accuracy:', score[1])"
   ]
  }
 ],
 "metadata": {
  "kernelspec": {
   "display_name": "Python 3",
   "language": "python",
   "name": "python3"
  },
  "language_info": {
   "codemirror_mode": {
    "name": "ipython",
    "version": 3
   },
   "file_extension": ".py",
   "mimetype": "text/x-python",
   "name": "python",
   "nbconvert_exporter": "python",
   "pygments_lexer": "ipython3",
   "version": "3.7.12"
  },
  "papermill": {
   "default_parameters": {},
   "duration": 342.44288,
   "end_time": "2022-01-27T09:22:15.761350",
   "environment_variables": {},
   "exception": null,
   "input_path": "__notebook__.ipynb",
   "output_path": "__notebook__.ipynb",
   "parameters": {},
   "start_time": "2022-01-27T09:16:33.318470",
   "version": "2.3.3"
  }
 },
 "nbformat": 4,
 "nbformat_minor": 5
}
