{
 "cells": [
  {
   "cell_type": "markdown",
   "id": "f6cceb33",
   "metadata": {},
   "source": [
    "# E-Mail classification NLP (step 2)"
   ]
  },
  {
   "cell_type": "markdown",
   "id": "0f3c0ad8",
   "metadata": {},
   "source": [
    "## Text classification data"
   ]
  },
  {
   "cell_type": "code",
   "execution_count": 22,
   "id": "70a7ed81",
   "metadata": {},
   "outputs": [
    {
     "name": "stdout",
     "output_type": "stream",
     "text": [
      "LOG file id =  1HqD1LueAC1We0Bgum4qNxxCU6VJZW3yW\n",
      "LOG download url =  https://drive.google.com/uc?id=1HqD1LueAC1We0Bgum4qNxxCU6VJZW3yW\n"
     ]
    }
   ],
   "source": [
    "import pandas as pd\n",
    "import matplotlib.pyplot as plt\n",
    "\n",
    "#from nltk.tokenize import word_tokenize\n",
    "#from nltk.corpus import stopwords\n",
    "#from nltk.stem import WordNetLemmatizer\n",
    "\n",
    "from collections import Counter\n",
    "import re\n",
    "import string\n",
    "\n",
    "\n",
    "#url_testDATA='https://drive.google.com/file/d/1q8_G19zYuD4C2l8u4CrGe_yiitjI1h2I/view?usp=sharing'\n",
    "url_trainDATA='https://drive.google.com/file/d/1HqD1LueAC1We0Bgum4qNxxCU6VJZW3yW/view?usp=sharing'\n",
    "\n",
    "#https://www.kaggle.com/datatattle/email-classification-nlp?select=SMS_train.csv\n",
    "url=url_trainDATA\n",
    "file_id=url.split('/')[-2]\n",
    "print('LOG file id = ',file_id)\n",
    "dwn_url='https://drive.google.com/uc?id=' + file_id\n",
    "print('LOG download url = ', dwn_url)\n",
    "\n",
    "df = pd.read_csv(dwn_url, encoding = \"ISO-8859-1\")"
   ]
  },
  {
   "cell_type": "code",
   "execution_count": 23,
   "id": "a4bc4812",
   "metadata": {},
   "outputs": [
    {
     "data": {
      "text/html": [
       "<div>\n",
       "<style scoped>\n",
       "    .dataframe tbody tr th:only-of-type {\n",
       "        vertical-align: middle;\n",
       "    }\n",
       "\n",
       "    .dataframe tbody tr th {\n",
       "        vertical-align: top;\n",
       "    }\n",
       "\n",
       "    .dataframe thead th {\n",
       "        text-align: right;\n",
       "    }\n",
       "</style>\n",
       "<table border=\"1\" class=\"dataframe\">\n",
       "  <thead>\n",
       "    <tr style=\"text-align: right;\">\n",
       "      <th></th>\n",
       "      <th>S. No.</th>\n",
       "      <th>Message_body</th>\n",
       "      <th>Label</th>\n",
       "    </tr>\n",
       "  </thead>\n",
       "  <tbody>\n",
       "    <tr>\n",
       "      <th>0</th>\n",
       "      <td>1</td>\n",
       "      <td>Rofl. Its true to its name</td>\n",
       "      <td>Non-Spam</td>\n",
       "    </tr>\n",
       "    <tr>\n",
       "      <th>1</th>\n",
       "      <td>2</td>\n",
       "      <td>The guy did some bitching but I acted like i'd...</td>\n",
       "      <td>Non-Spam</td>\n",
       "    </tr>\n",
       "    <tr>\n",
       "      <th>2</th>\n",
       "      <td>3</td>\n",
       "      <td>Pity, * was in mood for that. So...any other s...</td>\n",
       "      <td>Non-Spam</td>\n",
       "    </tr>\n",
       "    <tr>\n",
       "      <th>3</th>\n",
       "      <td>4</td>\n",
       "      <td>Will ü b going to esplanade fr home?</td>\n",
       "      <td>Non-Spam</td>\n",
       "    </tr>\n",
       "    <tr>\n",
       "      <th>4</th>\n",
       "      <td>5</td>\n",
       "      <td>This is the 2nd time we have tried 2 contact u...</td>\n",
       "      <td>Spam</td>\n",
       "    </tr>\n",
       "  </tbody>\n",
       "</table>\n",
       "</div>"
      ],
      "text/plain": [
       "   S. No.                                       Message_body     Label\n",
       "0       1                         Rofl. Its true to its name  Non-Spam\n",
       "1       2  The guy did some bitching but I acted like i'd...  Non-Spam\n",
       "2       3  Pity, * was in mood for that. So...any other s...  Non-Spam\n",
       "3       4               Will ü b going to esplanade fr home?  Non-Spam\n",
       "4       5  This is the 2nd time we have tried 2 contact u...      Spam"
      ]
     },
     "execution_count": 23,
     "metadata": {},
     "output_type": "execute_result"
    }
   ],
   "source": [
    "df.head()"
   ]
  },
  {
   "cell_type": "code",
   "execution_count": 24,
   "id": "31d126a0",
   "metadata": {},
   "outputs": [],
   "source": [
    "df.drop(['S. No.'], axis = 1, inplace = True)"
   ]
  },
  {
   "cell_type": "code",
   "execution_count": 25,
   "id": "a3fad657",
   "metadata": {},
   "outputs": [
    {
     "name": "stdout",
     "output_type": "stream",
     "text": [
      "\n",
      "TEXT OF THE MESSAGE:\n",
      " 0                             Rofl. Its true to its name\n",
      "1      The guy did some bitching but I acted like i'd...\n",
      "2      Pity, * was in mood for that. So...any other s...\n",
      "3                   Will ü b going to esplanade fr home?\n",
      "4      This is the 2nd time we have tried 2 contact u...\n",
      "                             ...                        \n",
      "952    hows my favourite person today? r u workin har...\n",
      "953                        How much you got for cleaning\n",
      "954    Sorry da. I gone mad so many pending works wha...\n",
      "955                                   Wat time ü finish?\n",
      "956                      Just glad to be talking to you.\n",
      "Name: Message_body, Length: 957, dtype: object\n",
      "\n",
      "CLASSIFICATION:\n",
      " 0      Non-Spam\n",
      "1      Non-Spam\n",
      "2      Non-Spam\n",
      "3      Non-Spam\n",
      "4          Spam\n",
      "         ...   \n",
      "952    Non-Spam\n",
      "953    Non-Spam\n",
      "954    Non-Spam\n",
      "955    Non-Spam\n",
      "956    Non-Spam\n",
      "Name: Label, Length: 957, dtype: object\n"
     ]
    }
   ],
   "source": [
    "X_train = df.Message_body\n",
    "Y_train = df.Label\n",
    "\n",
    "print(\"\\nTEXT OF THE MESSAGE:\\n\",  X_train)\n",
    "print(\"\\nCLASSIFICATION:\\n\", Y_train)"
   ]
  },
  {
   "cell_type": "code",
   "execution_count": 26,
   "id": "6963566a",
   "metadata": {},
   "outputs": [
    {
     "name": "stdout",
     "output_type": "stream",
     "text": [
      "                                          Message_body     Label\n",
      "0                           Rofl. Its true to its name  Non-Spam\n",
      "1    The guy did some bitching but I acted like i'd...  Non-Spam\n",
      "2    Pity, * was in mood for that. So...any other s...  Non-Spam\n",
      "3                 Will ü b going to esplanade fr home?  Non-Spam\n",
      "4    This is the 2nd time we have tried 2 contact u...      Spam\n",
      "..                                                 ...       ...\n",
      "952  hows my favourite person today? r u workin har...  Non-Spam\n",
      "953                      How much you got for cleaning  Non-Spam\n",
      "954  Sorry da. I gone mad so many pending works wha...  Non-Spam\n",
      "955                                 Wat time ü finish?  Non-Spam\n",
      "956                    Just glad to be talking to you.  Non-Spam\n",
      "\n",
      "[957 rows x 2 columns]\n"
     ]
    }
   ],
   "source": [
    "df = df[(df.Label == 'Non-Spam') | (df.Label == 'Spam')]\n",
    "print(df)"
   ]
  },
  {
   "cell_type": "code",
   "execution_count": 27,
   "id": "a8bc804b",
   "metadata": {},
   "outputs": [],
   "source": [
    "def Sort_Sp_NSp(text):\n",
    "    if text in ['Non-Spam']:\n",
    "        return 'important_message'\n",
    "    elif text in ['Spam']:\n",
    "        return 'spammmm'\n",
    "    else:\n",
    "        return text"
   ]
  },
  {
   "cell_type": "code",
   "execution_count": 28,
   "id": "247c9f41",
   "metadata": {},
   "outputs": [
    {
     "name": "stdout",
     "output_type": "stream",
     "text": [
      "0      important_message\n",
      "1      important_message\n",
      "2      important_message\n",
      "3      important_message\n",
      "4                spammmm\n",
      "             ...        \n",
      "952    important_message\n",
      "953    important_message\n",
      "954    important_message\n",
      "955    important_message\n",
      "956    important_message\n",
      "Name: Label, Length: 957, dtype: object\n"
     ]
    }
   ],
   "source": [
    "df.Label = df.Label.apply(Sort_Sp_NSp)\n",
    "print(df.Label)"
   ]
  },
  {
   "cell_type": "code",
   "execution_count": 29,
   "id": "931b74cd",
   "metadata": {},
   "outputs": [],
   "source": [
    "X_train = df.Message_body\n",
    "Y_train = df.Label"
   ]
  },
  {
   "cell_type": "code",
   "execution_count": 30,
   "id": "3c24854d",
   "metadata": {},
   "outputs": [],
   "source": [
    "from nltk.tokenize import word_tokenize\n",
    "from nltk.corpus import stopwords\n",
    "from nltk.stem import WordNetLemmatizer\n",
    "\n",
    "stop_words = stopwords.words(\"english\")\n",
    "def clean_text(text):\n",
    "    text = text.lower()           # converting to lowercase\n",
    "    text = re.sub(\"@\\S+\", \" \", text)  \n",
    "    text = re.sub(\"https*\\S+\", \" \", text)      #\\S - не пробел \n",
    "    text = re.sub(\"www\\S+\", \" \", text)\n",
    "    text = re.sub(\"#\\S+\", \" \", text)\n",
    "    text = re.sub(\"\\d\", \" \", text)        # remove all numbers\n",
    "    text = re.sub('[%s]' % re.escape(string.punctuation), ' ', text)     # remove punctuations\n",
    "    text = re.sub('\\n', ' ', text)        \n",
    "    text = re.sub('\\s{2,}',' ', text)        # remove extra spaces\n",
    "    text = ' '.join([word for word in text.split(' ') if word not in stop_words])\n",
    "    return text"
   ]
  },
  {
   "cell_type": "code",
   "execution_count": 31,
   "id": "fb9501e1",
   "metadata": {},
   "outputs": [],
   "source": [
    "def digital_label(text):\n",
    "    if text == 'important_message':\n",
    "        return 1.0\n",
    "    elif text == 'spammmm':\n",
    "        return 0.0"
   ]
  },
  {
   "cell_type": "code",
   "execution_count": 32,
   "id": "8f6bf538",
   "metadata": {},
   "outputs": [
    {
     "name": "stdout",
     "output_type": "stream",
     "text": [
      "0                                         rofl true name\n",
      "1      guy bitching acted like interested buying some...\n",
      "2                                 pity mood suggestions \n",
      "3                           ü b going esplanade fr home \n",
      "4      nd time tried contact u u £ pound prize claim ...\n",
      "                             ...                        \n",
      "952    hows favourite person today r u workin hard sl...\n",
      "953                                    much got cleaning\n",
      "954                sorry da gone mad many pending works \n",
      "955                                   wat time ü finish \n",
      "956                                        glad talking \n",
      "Name: Message_body, Length: 957, dtype: object\n",
      "0      1.0\n",
      "1      1.0\n",
      "2      1.0\n",
      "3      1.0\n",
      "4      0.0\n",
      "      ... \n",
      "952    1.0\n",
      "953    1.0\n",
      "954    1.0\n",
      "955    1.0\n",
      "956    1.0\n",
      "Name: Label, Length: 957, dtype: float64\n"
     ]
    }
   ],
   "source": [
    "X_train = X_train.apply(clean_text)\n",
    "Y_train = Y_train.apply(digital_label)\n",
    "print(X_train)\n",
    "print(Y_train)"
   ]
  },
  {
   "cell_type": "code",
   "execution_count": 33,
   "id": "1b74a846",
   "metadata": {},
   "outputs": [],
   "source": [
    "whole_text = \"\"\n",
    "for i in X_train:\n",
    "    whole_text += i + ' '"
   ]
  },
  {
   "cell_type": "code",
   "execution_count": 34,
   "id": "6784e36e",
   "metadata": {},
   "outputs": [],
   "source": [
    "tokens = word_tokenize(whole_text)\n",
    "lemmatizer = WordNetLemmatizer()\n",
    "lemtok = [lemmatizer.lemmatize(t) for t in tokens]\n",
    "dictionary = list(set(lemtok))"
   ]
  },
  {
   "cell_type": "code",
   "execution_count": 35,
   "id": "c8ccad80",
   "metadata": {},
   "outputs": [
    {
     "data": {
      "text/plain": [
       "2638"
      ]
     },
     "execution_count": 35,
     "metadata": {},
     "output_type": "execute_result"
    }
   ],
   "source": [
    "len(dictionary)"
   ]
  },
  {
   "cell_type": "code",
   "execution_count": 36,
   "id": "76c47fa6",
   "metadata": {},
   "outputs": [],
   "source": [
    "def convert(text):\n",
    "    tok = word_tokenize(text)\n",
    "    lemmatizer = WordNetLemmatizer()\n",
    "    lem = [lemmatizer.lemmatize(t) for t in tok]\n",
    "    res = [dictionary.index(i) for i in lem]\n",
    "    return res"
   ]
  },
  {
   "cell_type": "code",
   "execution_count": 37,
   "id": "3ed022d7",
   "metadata": {},
   "outputs": [
    {
     "name": "stdout",
     "output_type": "stream",
     "text": [
      "0                                         [7, 146, 2470]\n",
      "1      [1702, 1065, 1064, 1787, 429, 2186, 1785, 896,...\n",
      "2                                      [554, 2599, 1703]\n",
      "3                      [502, 1778, 124, 1514, 1402, 174]\n",
      "4      [1910, 917, 2454, 375, 1658, 1658, 2173, 2235,...\n",
      "                             ...                        \n",
      "952    [1186, 864, 1989, 1378, 1699, 1658, 748, 405, ...\n",
      "953                                     [1904, 284, 113]\n",
      "954                 [2184, 21, 851, 737, 23, 1647, 1764]\n",
      "955                               [2430, 917, 502, 2451]\n",
      "956                                           [426, 797]\n",
      "Name: Message_body, Length: 957, dtype: object\n"
     ]
    }
   ],
   "source": [
    "X_train = X_train.apply(convert)\n",
    "print(X_train)"
   ]
  },
  {
   "cell_type": "code",
   "execution_count": 38,
   "id": "384bdca6",
   "metadata": {},
   "outputs": [],
   "source": [
    "#def vectorize_sequences(sequences, dimension = 30000):#dims\n",
    "#    results = np.zeros((len(sequences), dimension))\n",
    "#    for i, sequence in enumerate(sequences):\n",
    "#        for j in sequence:\n",
    "#            results[i, j] = 1.\n",
    "#    return results"
   ]
  },
  {
   "cell_type": "code",
   "execution_count": 39,
   "id": "3d5edd35",
   "metadata": {},
   "outputs": [
    {
     "name": "stdout",
     "output_type": "stream",
     "text": [
      "[[0. 0. 0. ... 0. 0. 0.]\n",
      " [0. 0. 0. ... 0. 0. 0.]\n",
      " [0. 0. 0. ... 0. 0. 0.]\n",
      " ...\n",
      " [0. 0. 0. ... 0. 0. 0.]\n",
      " [0. 0. 0. ... 0. 0. 0.]\n",
      " [0. 0. 0. ... 0. 0. 0.]]\n"
     ]
    }
   ],
   "source": [
    "import numpy as np\n",
    "\n",
    "x_train = vectorize_sequences(X_train)\n",
    "print(x_train)"
   ]
  },
  {
   "cell_type": "code",
   "execution_count": 40,
   "id": "1fa4a0f7",
   "metadata": {},
   "outputs": [],
   "source": [
    "y_train = np.asarray(Y_train).astype(\"float32\")\n",
    "\n",
    "#print(y_train)"
   ]
  },
  {
   "cell_type": "code",
   "execution_count": 41,
   "id": "ecab7f81",
   "metadata": {},
   "outputs": [],
   "source": [
    "import tensorflow as tf\n",
    "import numpy as np\n",
    "from tensorflow import keras\n",
    "from tensorflow.keras import layers\n",
    "\n",
    "max_seq_len = 80\n",
    "max_features = 30000\n",
    "x_train = keras.preprocessing.sequence.pad_sequences(X_train, maxlen = max_seq_len)\n",
    "emb_dim = 128\n",
    "\n",
    "model = keras.Sequential()\n",
    "model.add(layers.Embedding(max_features, emb_dim))\n",
    "model.add(layers.LSTM(128))\n",
    "model.add(layers.Dense(1, activation = 'sigmoid'))"
   ]
  },
  {
   "cell_type": "code",
   "execution_count": 42,
   "id": "23fa83e7",
   "metadata": {},
   "outputs": [
    {
     "name": "stdout",
     "output_type": "stream",
     "text": [
      "Epoch 1/5\n",
      "6/6 [==============================] - 6s 617ms/step - loss: 0.6182 - accuracy: 0.8366 - val_loss: 0.4101 - val_accuracy: 0.8802\n",
      "Epoch 2/5\n",
      "6/6 [==============================] - 3s 429ms/step - loss: 0.3607 - accuracy: 0.8706 - val_loss: 0.2925 - val_accuracy: 0.8802\n",
      "Epoch 3/5\n",
      "6/6 [==============================] - 2s 410ms/step - loss: 0.2967 - accuracy: 0.8706 - val_loss: 0.2617 - val_accuracy: 0.8802\n",
      "Epoch 4/5\n",
      "6/6 [==============================] - 3s 447ms/step - loss: 0.2244 - accuracy: 0.8758 - val_loss: 0.1930 - val_accuracy: 0.8958\n",
      "Epoch 5/5\n",
      "6/6 [==============================] - 2s 413ms/step - loss: 0.1421 - accuracy: 0.9569 - val_loss: 0.1330 - val_accuracy: 0.9583\n"
     ]
    }
   ],
   "source": [
    "model.compile(optimizer = \"adam\",\n",
    "              loss = \"binary_crossentropy\",\n",
    "              metrics = [\"accuracy\"])\n",
    "\n",
    "history = model.fit(x_train,\n",
    "                    y_train,\n",
    "                    epochs = 5,\n",
    "                    batch_size = 128,\n",
    "                    validation_split = 0.2,\n",
    "                    shuffle = True,\n",
    "                    verbose = 1)"
   ]
  },
  {
   "cell_type": "code",
   "execution_count": 43,
   "id": "aa3a359e",
   "metadata": {},
   "outputs": [
    {
     "name": "stdout",
     "output_type": "stream",
     "text": [
      "Model: \"sequential\"\n",
      "_________________________________________________________________\n",
      " Layer (type)                Output Shape              Param #   \n",
      "=================================================================\n",
      " embedding (Embedding)       (None, None, 128)         3840000   \n",
      "                                                                 \n",
      " lstm (LSTM)                 (None, 128)               131584    \n",
      "                                                                 \n",
      " dense (Dense)               (None, 1)                 129       \n",
      "                                                                 \n",
      "=================================================================\n",
      "Total params: 3,971,713\n",
      "Trainable params: 3,971,713\n",
      "Non-trainable params: 0\n",
      "_________________________________________________________________\n",
      "None\n"
     ]
    }
   ],
   "source": [
    "print(model.summary())"
   ]
  },
  {
   "cell_type": "code",
   "execution_count": 45,
   "id": "df03466d",
   "metadata": {},
   "outputs": [
    {
     "name": "stdout",
     "output_type": "stream",
     "text": [
      "Test score: 0.10772370547056198\n",
      "Test accuracy: 0.9811912178993225\n"
     ]
    }
   ],
   "source": [
    "score = model.evaluate(x_train, y_train, verbose=0) \n",
    "print('Test score:', score[0]) \n",
    "print('Test accuracy:', score[1])"
   ]
  },
  {
   "cell_type": "code",
   "execution_count": null,
   "id": "045dccd0",
   "metadata": {},
   "outputs": [],
   "source": []
  }
 ],
 "metadata": {
  "kernelspec": {
   "display_name": "Python 3 (ipykernel)",
   "language": "python",
   "name": "python3"
  },
  "language_info": {
   "codemirror_mode": {
    "name": "ipython",
    "version": 3
   },
   "file_extension": ".py",
   "mimetype": "text/x-python",
   "name": "python",
   "nbconvert_exporter": "python",
   "pygments_lexer": "ipython3",
   "version": "3.9.7"
  }
 },
 "nbformat": 4,
 "nbformat_minor": 5
}
