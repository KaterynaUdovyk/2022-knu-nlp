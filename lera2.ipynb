{
 "cells": [
  {
   "cell_type": "code",
   "execution_count": 1,
   "id": "03a2a7c8",
   "metadata": {
    "_cell_guid": "b1076dfc-b9ad-4769-8c92-a6c4dae69d19",
    "_uuid": "8f2839f25d086af736a60e9eeb907d3b93b6e0e5",
    "execution": {
     "iopub.execute_input": "2022-01-30T18:01:51.852224Z",
     "iopub.status.busy": "2022-01-30T18:01:51.851617Z",
     "iopub.status.idle": "2022-01-30T18:01:53.314428Z",
     "shell.execute_reply": "2022-01-30T18:01:53.314993Z",
     "shell.execute_reply.started": "2022-01-30T18:00:39.561770Z"
    },
    "papermill": {
     "duration": 1.493929,
     "end_time": "2022-01-30T18:01:53.315285",
     "exception": false,
     "start_time": "2022-01-30T18:01:51.821356",
     "status": "completed"
    },
    "tags": []
   },
   "outputs": [],
   "source": [
    "from nltk.tokenize import word_tokenize\n",
    "from nltk.corpus import stopwords\n",
    "from nltk.stem import WordNetLemmatizer\n",
    "from collections import Counter\n",
    "import pandas as pd\n",
    "import re\n",
    "import string\n",
    "import matplotlib.pyplot as plt"
   ]
  },
  {
   "cell_type": "code",
   "execution_count": 2,
   "id": "b27f4d8a",
   "metadata": {
    "execution": {
     "iopub.execute_input": "2022-01-30T18:01:53.362120Z",
     "iopub.status.busy": "2022-01-30T18:01:53.361376Z",
     "iopub.status.idle": "2022-01-30T18:01:58.560783Z",
     "shell.execute_reply": "2022-01-30T18:01:58.560212Z",
     "shell.execute_reply.started": "2022-01-30T18:00:41.065068Z"
    },
    "papermill": {
     "duration": 5.223683,
     "end_time": "2022-01-30T18:01:58.560918",
     "exception": false,
     "start_time": "2022-01-30T18:01:53.337235",
     "status": "completed"
    },
    "tags": []
   },
   "outputs": [],
   "source": [
    "from sklearn.model_selection import train_test_split\n",
    "import tensorflow as tf\n",
    "from tensorflow import keras\n",
    "from tensorflow.keras import layers\n",
    "import numpy as np"
   ]
  },
  {
   "cell_type": "code",
   "execution_count": 3,
   "id": "5a33300d",
   "metadata": {
    "execution": {
     "iopub.execute_input": "2022-01-30T18:01:58.603557Z",
     "iopub.status.busy": "2022-01-30T18:01:58.602946Z",
     "iopub.status.idle": "2022-01-30T18:01:58.652021Z",
     "shell.execute_reply": "2022-01-30T18:01:58.652500Z",
     "shell.execute_reply.started": "2022-01-30T18:00:46.788398Z"
    },
    "papermill": {
     "duration": 0.072066,
     "end_time": "2022-01-30T18:01:58.652676",
     "exception": false,
     "start_time": "2022-01-30T18:01:58.580610",
     "status": "completed"
    },
    "tags": []
   },
   "outputs": [
    {
     "data": {
      "text/html": [
       "<div>\n",
       "<style scoped>\n",
       "    .dataframe tbody tr th:only-of-type {\n",
       "        vertical-align: middle;\n",
       "    }\n",
       "\n",
       "    .dataframe tbody tr th {\n",
       "        vertical-align: top;\n",
       "    }\n",
       "\n",
       "    .dataframe thead th {\n",
       "        text-align: right;\n",
       "    }\n",
       "</style>\n",
       "<table border=\"1\" class=\"dataframe\">\n",
       "  <thead>\n",
       "    <tr style=\"text-align: right;\">\n",
       "      <th></th>\n",
       "      <th>Category</th>\n",
       "      <th>Message</th>\n",
       "    </tr>\n",
       "  </thead>\n",
       "  <tbody>\n",
       "    <tr>\n",
       "      <th>0</th>\n",
       "      <td>ham</td>\n",
       "      <td>Go until jurong point, crazy.. Available only ...</td>\n",
       "    </tr>\n",
       "    <tr>\n",
       "      <th>1</th>\n",
       "      <td>ham</td>\n",
       "      <td>Ok lar... Joking wif u oni...</td>\n",
       "    </tr>\n",
       "    <tr>\n",
       "      <th>2</th>\n",
       "      <td>spam</td>\n",
       "      <td>Free entry in 2 a wkly comp to win FA Cup fina...</td>\n",
       "    </tr>\n",
       "    <tr>\n",
       "      <th>3</th>\n",
       "      <td>ham</td>\n",
       "      <td>U dun say so early hor... U c already then say...</td>\n",
       "    </tr>\n",
       "    <tr>\n",
       "      <th>4</th>\n",
       "      <td>ham</td>\n",
       "      <td>Nah I don't think he goes to usf, he lives aro...</td>\n",
       "    </tr>\n",
       "  </tbody>\n",
       "</table>\n",
       "</div>"
      ],
      "text/plain": [
       "  Category                                            Message\n",
       "0      ham  Go until jurong point, crazy.. Available only ...\n",
       "1      ham                      Ok lar... Joking wif u oni...\n",
       "2     spam  Free entry in 2 a wkly comp to win FA Cup fina...\n",
       "3      ham  U dun say so early hor... U c already then say...\n",
       "4      ham  Nah I don't think he goes to usf, he lives aro..."
      ]
     },
     "execution_count": 3,
     "metadata": {},
     "output_type": "execute_result"
    }
   ],
   "source": [
    "spam_path = \"../input/spam-text-message-classification/SPAM text message 20170820 - Data.csv\"\n",
    "df = pd.read_csv(spam_path)\n",
    "df.head()"
   ]
  },
  {
   "cell_type": "code",
   "execution_count": 4,
   "id": "23afcc7b",
   "metadata": {
    "execution": {
     "iopub.execute_input": "2022-01-30T18:01:58.696851Z",
     "iopub.status.busy": "2022-01-30T18:01:58.696227Z",
     "iopub.status.idle": "2022-01-30T18:01:58.705320Z",
     "shell.execute_reply": "2022-01-30T18:01:58.705807Z",
     "shell.execute_reply.started": "2022-01-30T18:00:46.842451Z"
    },
    "papermill": {
     "duration": 0.032484,
     "end_time": "2022-01-30T18:01:58.705975",
     "exception": false,
     "start_time": "2022-01-30T18:01:58.673491",
     "status": "completed"
    },
    "tags": []
   },
   "outputs": [
    {
     "data": {
      "text/plain": [
       "(0    Go until jurong point, crazy.. Available only ...\n",
       " 1                        Ok lar... Joking wif u oni...\n",
       " 2    Free entry in 2 a wkly comp to win FA Cup fina...\n",
       " Name: Message, dtype: object,\n",
       " 0     ham\n",
       " 1     ham\n",
       " 2    spam\n",
       " Name: Category, dtype: object)"
      ]
     },
     "execution_count": 4,
     "metadata": {},
     "output_type": "execute_result"
    }
   ],
   "source": [
    "X = df.Message\n",
    "Y = df.Category\n",
    "X.head(3), Y.head(3)"
   ]
  },
  {
   "cell_type": "code",
   "execution_count": 5,
   "id": "16bbfda9",
   "metadata": {
    "execution": {
     "iopub.execute_input": "2022-01-30T18:01:58.755436Z",
     "iopub.status.busy": "2022-01-30T18:01:58.754644Z",
     "iopub.status.idle": "2022-01-30T18:01:58.756487Z",
     "shell.execute_reply": "2022-01-30T18:01:58.756999Z",
     "shell.execute_reply.started": "2022-01-30T18:00:46.852910Z"
    },
    "papermill": {
     "duration": 0.030929,
     "end_time": "2022-01-30T18:01:58.757160",
     "exception": false,
     "start_time": "2022-01-30T18:01:58.726231",
     "status": "completed"
    },
    "tags": []
   },
   "outputs": [],
   "source": [
    "whole_text = ''\n",
    "for i in X:\n",
    "    whole_text += i + ' '"
   ]
  },
  {
   "cell_type": "code",
   "execution_count": 6,
   "id": "e95b304b",
   "metadata": {
    "execution": {
     "iopub.execute_input": "2022-01-30T18:01:58.806397Z",
     "iopub.status.busy": "2022-01-30T18:01:58.805772Z",
     "iopub.status.idle": "2022-01-30T18:01:58.814197Z",
     "shell.execute_reply": "2022-01-30T18:01:58.813632Z",
     "shell.execute_reply.started": "2022-01-30T18:00:46.865887Z"
    },
    "papermill": {
     "duration": 0.036833,
     "end_time": "2022-01-30T18:01:58.814322",
     "exception": false,
     "start_time": "2022-01-30T18:01:58.777489",
     "status": "completed"
    },
    "tags": []
   },
   "outputs": [],
   "source": [
    "stop_words = stopwords.words(\"english\")\n",
    "def clean_text(text):\n",
    "    text = text.lower()           # converting to lowercase\n",
    "    text = re.sub(\"@\\S+\", \" \", text)  \n",
    "    text = re.sub(\"https*\\S+\", \" \", text)      #\\S - не пробел \n",
    "    text = re.sub(\"www\\S+\", \" \", text)\n",
    "    text = re.sub(\"#\\S+\", \" \", text)\n",
    "    text = re.sub(\"\\d\", \" \", text)        # remove all numbers\n",
    "    text = re.sub('[%s]' % re.escape(string.punctuation), ' ', text)     # remove punctuations\n",
    "    text = re.sub('\\n', ' ', text)        \n",
    "    text = re.sub('\\s{2,}',' ', text)        # remove extra spaces\n",
    "    text = ' '.join([word for word in text.split(' ') if word not in stop_words])\n",
    "    return text"
   ]
  },
  {
   "cell_type": "code",
   "execution_count": 7,
   "id": "47ca9cbd",
   "metadata": {
    "execution": {
     "iopub.execute_input": "2022-01-30T18:01:58.944014Z",
     "iopub.status.busy": "2022-01-30T18:01:58.922094Z",
     "iopub.status.idle": "2022-01-30T18:01:59.082083Z",
     "shell.execute_reply": "2022-01-30T18:01:59.081587Z",
     "shell.execute_reply.started": "2022-01-30T18:00:46.883379Z"
    },
    "papermill": {
     "duration": 0.246643,
     "end_time": "2022-01-30T18:01:59.082218",
     "exception": false,
     "start_time": "2022-01-30T18:01:58.835575",
     "status": "completed"
    },
    "tags": []
   },
   "outputs": [
    {
     "data": {
      "text/plain": [
       "'go jurong point crazy available bugis n great world la e buffet cine got amore wat ok lar joking wif u oni free entry wk'"
      ]
     },
     "execution_count": 7,
     "metadata": {},
     "output_type": "execute_result"
    }
   ],
   "source": [
    "whole_text_clean = clean_text(whole_text)\n",
    "whole_text_clean[:120]"
   ]
  },
  {
   "cell_type": "code",
   "execution_count": 8,
   "id": "bfa9e0da",
   "metadata": {
    "execution": {
     "iopub.execute_input": "2022-01-30T18:01:59.128148Z",
     "iopub.status.busy": "2022-01-30T18:01:59.127506Z",
     "iopub.status.idle": "2022-01-30T18:01:59.547128Z",
     "shell.execute_reply": "2022-01-30T18:01:59.547630Z",
     "shell.execute_reply.started": "2022-01-30T18:00:47.114909Z"
    },
    "papermill": {
     "duration": 0.444723,
     "end_time": "2022-01-30T18:01:59.547794",
     "exception": false,
     "start_time": "2022-01-30T18:01:59.103071",
     "status": "completed"
    },
    "tags": []
   },
   "outputs": [
    {
     "data": {
      "text/plain": [
       "['go', 'jurong', 'point', 'crazy', 'available', 'bugis', 'n', 'great', 'world']"
      ]
     },
     "execution_count": 8,
     "metadata": {},
     "output_type": "execute_result"
    }
   ],
   "source": [
    "tokens = word_tokenize(whole_text_clean)\n",
    "tokens[:9]"
   ]
  },
  {
   "cell_type": "code",
   "execution_count": 9,
   "id": "0130bc19",
   "metadata": {
    "execution": {
     "iopub.execute_input": "2022-01-30T18:01:59.594230Z",
     "iopub.status.busy": "2022-01-30T18:01:59.593591Z",
     "iopub.status.idle": "2022-01-30T18:02:01.944405Z",
     "shell.execute_reply": "2022-01-30T18:02:01.944930Z",
     "shell.execute_reply.started": "2022-01-30T18:00:47.535725Z"
    },
    "papermill": {
     "duration": 2.375417,
     "end_time": "2022-01-30T18:02:01.945105",
     "exception": false,
     "start_time": "2022-01-30T18:01:59.569688",
     "status": "completed"
    },
    "tags": []
   },
   "outputs": [
    {
     "data": {
      "text/plain": [
       "['go', 'jurong', 'point', 'crazy', 'available', 'bugis', 'n', 'great', 'world']"
      ]
     },
     "execution_count": 9,
     "metadata": {},
     "output_type": "execute_result"
    }
   ],
   "source": [
    "lemmatizer = WordNetLemmatizer()\n",
    "lemtokens= [lemmatizer.lemmatize(t) for t in tokens]\n",
    "lemtokens[:9]"
   ]
  },
  {
   "cell_type": "code",
   "execution_count": 10,
   "id": "9494e98d",
   "metadata": {
    "execution": {
     "iopub.execute_input": "2022-01-30T18:02:01.997517Z",
     "iopub.status.busy": "2022-01-30T18:02:01.996792Z",
     "iopub.status.idle": "2022-01-30T18:02:02.000206Z",
     "shell.execute_reply": "2022-01-30T18:02:01.999628Z",
     "shell.execute_reply.started": "2022-01-30T18:00:50.022844Z"
    },
    "papermill": {
     "duration": 0.033557,
     "end_time": "2022-01-30T18:02:02.000334",
     "exception": false,
     "start_time": "2022-01-30T18:02:01.966777",
     "status": "completed"
    },
    "tags": []
   },
   "outputs": [
    {
     "data": {
      "text/plain": [
       "['professional', 'dhoni', 'cribbs', 'reache', 'dey', 'like', 'txtauction']"
      ]
     },
     "execution_count": 10,
     "metadata": {},
     "output_type": "execute_result"
    }
   ],
   "source": [
    "dictionary = list(set(lemtokens)) \n",
    "dictionary[:7]"
   ]
  },
  {
   "cell_type": "code",
   "execution_count": 11,
   "id": "8f6a19ff",
   "metadata": {
    "execution": {
     "iopub.execute_input": "2022-01-30T18:02:02.050629Z",
     "iopub.status.busy": "2022-01-30T18:02:02.049988Z",
     "iopub.status.idle": "2022-01-30T18:02:02.052420Z",
     "shell.execute_reply": "2022-01-30T18:02:02.051908Z",
     "shell.execute_reply.started": "2022-01-30T18:00:50.033905Z"
    },
    "papermill": {
     "duration": 0.030416,
     "end_time": "2022-01-30T18:02:02.052560",
     "exception": false,
     "start_time": "2022-01-30T18:02:02.022144",
     "status": "completed"
    },
    "tags": []
   },
   "outputs": [],
   "source": [
    "#dims = len(dictionary) dims - 7133"
   ]
  },
  {
   "cell_type": "code",
   "execution_count": 12,
   "id": "3064eb03",
   "metadata": {
    "execution": {
     "iopub.execute_input": "2022-01-30T18:02:02.099705Z",
     "iopub.status.busy": "2022-01-30T18:02:02.099080Z",
     "iopub.status.idle": "2022-01-30T18:02:02.103277Z",
     "shell.execute_reply": "2022-01-30T18:02:02.103836Z",
     "shell.execute_reply.started": "2022-01-30T18:00:50.043977Z"
    },
    "papermill": {
     "duration": 0.028956,
     "end_time": "2022-01-30T18:02:02.104015",
     "exception": false,
     "start_time": "2022-01-30T18:02:02.075059",
     "status": "completed"
    },
    "tags": []
   },
   "outputs": [],
   "source": [
    "def convert(text):\n",
    "    text = clean_text(text)\n",
    "    tok = word_tokenize(text)\n",
    "    lemmatizer = WordNetLemmatizer()\n",
    "    lem = [lemmatizer.lemmatize(t) for t in tok]\n",
    "    res = [dictionary.index(i) for i in lem]\n",
    "    return res"
   ]
  },
  {
   "cell_type": "code",
   "execution_count": 13,
   "id": "de8fb110",
   "metadata": {
    "execution": {
     "iopub.execute_input": "2022-01-30T18:02:02.152281Z",
     "iopub.status.busy": "2022-01-30T18:02:02.151646Z",
     "iopub.status.idle": "2022-01-30T18:02:07.422960Z",
     "shell.execute_reply": "2022-01-30T18:02:07.422450Z",
     "shell.execute_reply.started": "2022-01-30T18:00:50.054544Z"
    },
    "papermill": {
     "duration": 5.296222,
     "end_time": "2022-01-30T18:02:07.423110",
     "exception": false,
     "start_time": "2022-01-30T18:02:02.126888",
     "status": "completed"
    },
    "tags": []
   },
   "outputs": [
    {
     "data": {
      "text/plain": [
       "0    [1071, 6257, 922, 7088, 2100, 3574, 1609, 4722...\n",
       "1                  [2720, 5906, 4111, 5061, 5164, 630]\n",
       "2    [3195, 3058, 33, 4315, 5718, 3071, 3031, 5813,...\n",
       "Name: Message, dtype: object"
      ]
     },
     "execution_count": 13,
     "metadata": {},
     "output_type": "execute_result"
    }
   ],
   "source": [
    "X = X.apply(convert)\n",
    "X.head(3)"
   ]
  },
  {
   "cell_type": "code",
   "execution_count": 14,
   "id": "485a8242",
   "metadata": {
    "execution": {
     "iopub.execute_input": "2022-01-30T18:02:07.473939Z",
     "iopub.status.busy": "2022-01-30T18:02:07.473132Z",
     "iopub.status.idle": "2022-01-30T18:02:07.475715Z",
     "shell.execute_reply": "2022-01-30T18:02:07.475068Z",
     "shell.execute_reply.started": "2022-01-30T18:00:55.509639Z"
    },
    "papermill": {
     "duration": 0.030453,
     "end_time": "2022-01-30T18:02:07.475850",
     "exception": false,
     "start_time": "2022-01-30T18:02:07.445397",
     "status": "completed"
    },
    "tags": []
   },
   "outputs": [],
   "source": [
    "def encoding(text):\n",
    "    if text == 'ham':\n",
    "        return 0\n",
    "    elif text == 'spam':\n",
    "        return 1\n",
    "    else:\n",
    "        return -1"
   ]
  },
  {
   "cell_type": "code",
   "execution_count": 15,
   "id": "199b6370",
   "metadata": {
    "execution": {
     "iopub.execute_input": "2022-01-30T18:02:07.531749Z",
     "iopub.status.busy": "2022-01-30T18:02:07.531124Z",
     "iopub.status.idle": "2022-01-30T18:02:07.534571Z",
     "shell.execute_reply": "2022-01-30T18:02:07.534018Z",
     "shell.execute_reply.started": "2022-01-30T18:00:55.516180Z"
    },
    "papermill": {
     "duration": 0.035954,
     "end_time": "2022-01-30T18:02:07.534713",
     "exception": false,
     "start_time": "2022-01-30T18:02:07.498759",
     "status": "completed"
    },
    "tags": []
   },
   "outputs": [
    {
     "data": {
      "text/plain": [
       "0    0\n",
       "1    0\n",
       "2    1\n",
       "Name: Category, dtype: int64"
      ]
     },
     "execution_count": 15,
     "metadata": {},
     "output_type": "execute_result"
    }
   ],
   "source": [
    "Y = Y.apply(encoding) \n",
    "Y.head(3)             "
   ]
  },
  {
   "cell_type": "code",
   "execution_count": 16,
   "id": "2c07cd04",
   "metadata": {
    "execution": {
     "iopub.execute_input": "2022-01-30T18:02:07.584975Z",
     "iopub.status.busy": "2022-01-30T18:02:07.584300Z",
     "iopub.status.idle": "2022-01-30T18:02:07.589360Z",
     "shell.execute_reply": "2022-01-30T18:02:07.589844Z",
     "shell.execute_reply.started": "2022-01-30T18:00:55.545302Z"
    },
    "papermill": {
     "duration": 0.03272,
     "end_time": "2022-01-30T18:02:07.590012",
     "exception": false,
     "start_time": "2022-01-30T18:02:07.557292",
     "status": "completed"
    },
    "tags": []
   },
   "outputs": [],
   "source": [
    "# делим свою выборку на тренировочную и тестовую часть\n",
    "X_train, X_test, Y_train, Y_test = train_test_split(X, Y, test_size=0.2, random_state=42)                "
   ]
  },
  {
   "cell_type": "code",
   "execution_count": 17,
   "id": "e7868010",
   "metadata": {
    "execution": {
     "iopub.execute_input": "2022-01-30T18:02:07.640599Z",
     "iopub.status.busy": "2022-01-30T18:02:07.637476Z",
     "iopub.status.idle": "2022-01-30T18:02:07.642364Z",
     "shell.execute_reply": "2022-01-30T18:02:07.642962Z",
     "shell.execute_reply.started": "2022-01-30T18:00:55.554810Z"
    },
    "papermill": {
     "duration": 0.030368,
     "end_time": "2022-01-30T18:02:07.643125",
     "exception": false,
     "start_time": "2022-01-30T18:02:07.612757",
     "status": "completed"
    },
    "tags": []
   },
   "outputs": [],
   "source": [
    "def vectorize_sequences(sequences, dimension = 10000):\n",
    "    results = np.zeros((len(sequences), dimension)) \n",
    "    for i, sequence in enumerate(sequences): \n",
    "        for j in sequence:\n",
    "            results[i, j] = 1.\n",
    "    return results"
   ]
  },
  {
   "cell_type": "code",
   "execution_count": 18,
   "id": "a7ea7001",
   "metadata": {
    "execution": {
     "iopub.execute_input": "2022-01-30T18:02:07.690709Z",
     "iopub.status.busy": "2022-01-30T18:02:07.689796Z",
     "iopub.status.idle": "2022-01-30T18:02:07.797064Z",
     "shell.execute_reply": "2022-01-30T18:02:07.797652Z",
     "shell.execute_reply.started": "2022-01-30T18:00:55.561736Z"
    },
    "papermill": {
     "duration": 0.132593,
     "end_time": "2022-01-30T18:02:07.797846",
     "exception": false,
     "start_time": "2022-01-30T18:02:07.665253",
     "status": "completed"
    },
    "tags": []
   },
   "outputs": [
    {
     "data": {
      "text/plain": [
       "array([0., 0., 0., ..., 0., 0., 0.])"
      ]
     },
     "execution_count": 18,
     "metadata": {},
     "output_type": "execute_result"
    }
   ],
   "source": [
    "x_train = vectorize_sequences(X_train)\n",
    "x_test = vectorize_sequences(X_test)\n",
    "x_train[1]"
   ]
  },
  {
   "cell_type": "code",
   "execution_count": 19,
   "id": "a4d46d3e",
   "metadata": {
    "execution": {
     "iopub.execute_input": "2022-01-30T18:02:07.851709Z",
     "iopub.status.busy": "2022-01-30T18:02:07.851039Z",
     "iopub.status.idle": "2022-01-30T18:02:07.853751Z",
     "shell.execute_reply": "2022-01-30T18:02:07.853154Z",
     "shell.execute_reply.started": "2022-01-30T18:00:55.686224Z"
    },
    "papermill": {
     "duration": 0.031797,
     "end_time": "2022-01-30T18:02:07.853888",
     "exception": false,
     "start_time": "2022-01-30T18:02:07.822091",
     "status": "completed"
    },
    "tags": []
   },
   "outputs": [],
   "source": [
    "y_train = np.asarray(Y_train).astype(\"float32\")\n",
    "y_test = np.asarray(Y_test).astype(\"float32\")"
   ]
  },
  {
   "cell_type": "code",
   "execution_count": 20,
   "id": "e511d0e0",
   "metadata": {
    "execution": {
     "iopub.execute_input": "2022-01-30T18:02:07.908550Z",
     "iopub.status.busy": "2022-01-30T18:02:07.907919Z",
     "iopub.status.idle": "2022-01-30T18:02:10.708886Z",
     "shell.execute_reply": "2022-01-30T18:02:10.708255Z",
     "shell.execute_reply.started": "2022-01-30T18:01:23.443083Z"
    },
    "papermill": {
     "duration": 2.831272,
     "end_time": "2022-01-30T18:02:10.709033",
     "exception": false,
     "start_time": "2022-01-30T18:02:07.877761",
     "status": "completed"
    },
    "tags": []
   },
   "outputs": [
    {
     "name": "stderr",
     "output_type": "stream",
     "text": [
      "\n",
      "User settings:\n",
      "\n",
      "   KMP_AFFINITY=granularity=fine,verbose,compact,1,0\n",
      "   KMP_BLOCKTIME=0\n",
      "   KMP_DUPLICATE_LIB_OK=True\n",
      "   KMP_INIT_AT_FORK=FALSE\n",
      "   KMP_SETTINGS=1\n",
      "   KMP_WARNINGS=0\n",
      "\n",
      "Effective settings:\n",
      "\n",
      "   KMP_ABORT_DELAY=0\n",
      "   KMP_ADAPTIVE_LOCK_PROPS='1,1024'\n",
      "   KMP_ALIGN_ALLOC=64\n",
      "   KMP_ALL_THREADPRIVATE=128\n",
      "   KMP_ATOMIC_MODE=2\n",
      "   KMP_BLOCKTIME=0\n",
      "   KMP_CPUINFO_FILE: value is not defined\n",
      "   KMP_DETERMINISTIC_REDUCTION=false\n",
      "   KMP_DEVICE_THREAD_LIMIT=2147483647\n",
      "   KMP_DISP_NUM_BUFFERS=7\n",
      "   KMP_DUPLICATE_LIB_OK=true\n",
      "   KMP_ENABLE_TASK_THROTTLING=true\n",
      "   KMP_FORCE_REDUCTION: value is not defined\n",
      "   KMP_FOREIGN_THREADS_THREADPRIVATE=true\n",
      "   KMP_FORKJOIN_BARRIER='2,2'\n",
      "   KMP_FORKJOIN_BARRIER_PATTERN='hyper,hyper'\n",
      "   KMP_GTID_MODE=3\n",
      "   KMP_HANDLE_SIGNALS=false\n",
      "   KMP_HOT_TEAMS_MAX_LEVEL=1\n",
      "   KMP_HOT_TEAMS_MODE=0\n",
      "   KMP_INIT_AT_FORK=true\n",
      "   KMP_LIBRARY=throughput\n",
      "   KMP_LOCK_KIND=queuing\n",
      "   KMP_MALLOC_POOL_INCR=1M\n",
      "   KMP_NUM_LOCKS_IN_BLOCK=1\n",
      "   KMP_PLAIN_BARRIER='2,2'\n",
      "   KMP_PLAIN_BARRIER_PATTERN='hyper,hyper'\n",
      "   KMP_REDUCTION_BARRIER='1,1'\n",
      "   KMP_REDUCTION_BARRIER_PATTERN='hyper,hyper'\n",
      "   KMP_SCHEDULE='static,balanced;guided,iterative'\n",
      "   KMP_SETTINGS=true\n",
      "   KMP_SPIN_BACKOFF_PARAMS='4096,100'\n",
      "   KMP_STACKOFFSET=64\n",
      "   KMP_STACKPAD=0\n",
      "   KMP_STACKSIZE=8M\n",
      "   KMP_STORAGE_MAP=false\n",
      "   KMP_TASKING=2\n",
      "   KMP_TASKLOOP_MIN_TASKS=0\n",
      "   KMP_TASK_STEALING_CONSTRAINT=1\n",
      "   KMP_TEAMS_THREAD_LIMIT=4\n",
      "   KMP_TOPOLOGY_METHOD=all\n",
      "   KMP_USE_YIELD=1\n",
      "   KMP_VERSION=false\n",
      "   KMP_WARNINGS=false\n",
      "   OMP_AFFINITY_FORMAT='OMP: pid %P tid %i thread %n bound to OS proc set {%A}'\n",
      "   OMP_ALLOCATOR=omp_default_mem_alloc\n",
      "   OMP_CANCELLATION=false\n",
      "   OMP_DEFAULT_DEVICE=0\n",
      "   OMP_DISPLAY_AFFINITY=false\n",
      "   OMP_DISPLAY_ENV=false\n",
      "   OMP_DYNAMIC=false\n",
      "   OMP_MAX_ACTIVE_LEVELS=1\n",
      "   OMP_MAX_TASK_PRIORITY=0\n",
      "   OMP_NESTED: deprecated; max-active-levels-var=1\n",
      "   OMP_NUM_THREADS: value is not defined\n",
      "   OMP_PLACES: value is not defined\n",
      "   OMP_PROC_BIND='intel'\n",
      "   OMP_SCHEDULE='static'\n",
      "   OMP_STACKSIZE=8M\n",
      "   OMP_TARGET_OFFLOAD=DEFAULT\n",
      "   OMP_THREAD_LIMIT=2147483647\n",
      "   OMP_WAIT_POLICY=PASSIVE\n",
      "   KMP_AFFINITY='verbose,warnings,respect,granularity=fine,compact,1,0'\n",
      "\n",
      "2022-01-30 18:02:07.945090: I tensorflow/core/common_runtime/process_util.cc:146] Creating new thread pool with default inter op setting: 2. Tune using inter_op_parallelism_threads for best performance.\n",
      "2022-01-30 18:02:08.302514: I tensorflow/compiler/mlir/mlir_graph_optimization_pass.cc:185] None of the MLIR Optimization Passes are enabled (registered 2)\n"
     ]
    },
    {
     "name": "stdout",
     "output_type": "stream",
     "text": [
      "Epoch 1/10\n",
      "7/7 - 1s - loss: 0.6339 - accuracy: 0.8724 - val_loss: 0.5663 - val_accuracy: 0.9473\n",
      "Epoch 2/10\n",
      "7/7 - 0s - loss: 0.5206 - accuracy: 0.9731 - val_loss: 0.4859 - val_accuracy: 0.9596\n",
      "Epoch 3/10\n",
      "7/7 - 0s - loss: 0.4438 - accuracy: 0.9795 - val_loss: 0.4257 - val_accuracy: 0.9652\n",
      "Epoch 4/10\n",
      "7/7 - 0s - loss: 0.3844 - accuracy: 0.9815 - val_loss: 0.3768 - val_accuracy: 0.9697\n",
      "Epoch 5/10\n",
      "7/7 - 0s - loss: 0.3354 - accuracy: 0.9857 - val_loss: 0.3358 - val_accuracy: 0.9709\n",
      "Epoch 6/10\n",
      "7/7 - 0s - loss: 0.2937 - accuracy: 0.9882 - val_loss: 0.3006 - val_accuracy: 0.9709\n",
      "Epoch 7/10\n",
      "7/7 - 0s - loss: 0.2578 - accuracy: 0.9896 - val_loss: 0.2701 - val_accuracy: 0.9731\n",
      "Epoch 8/10\n",
      "7/7 - 0s - loss: 0.2267 - accuracy: 0.9905 - val_loss: 0.2437 - val_accuracy: 0.9731\n",
      "Epoch 9/10\n",
      "7/7 - 0s - loss: 0.1996 - accuracy: 0.9916 - val_loss: 0.2209 - val_accuracy: 0.9731\n",
      "Epoch 10/10\n",
      "7/7 - 0s - loss: 0.1759 - accuracy: 0.9921 - val_loss: 0.2008 - val_accuracy: 0.9753\n"
     ]
    }
   ],
   "source": [
    "model = keras.Sequential([\n",
    "    layers.Dense(32, activation=\"relu\"),\n",
    "    layers.Dense(1, activation=\"sigmoid\")\n",
    "])\n",
    "\n",
    "model.compile(optimizer=\"rmsprop\",\n",
    "              loss=\"binary_crossentropy\",\n",
    "              metrics=[\"accuracy\"])\n",
    "\n",
    "history = model.fit(x_train,\n",
    "                    y_train,\n",
    "                    epochs=10,\n",
    "                    batch_size=512, #Обучаем модель, перебирая данные в пакетах по 512 примера\n",
    "                    validation_split=0.2,\n",
    "                    shuffle = True,\n",
    "                    verbose = 2)"
   ]
  },
  {
   "cell_type": "code",
   "execution_count": 21,
   "id": "59e87c44",
   "metadata": {
    "execution": {
     "iopub.execute_input": "2022-01-30T18:02:10.770700Z",
     "iopub.status.busy": "2022-01-30T18:02:10.770089Z",
     "iopub.status.idle": "2022-01-30T18:02:10.776876Z",
     "shell.execute_reply": "2022-01-30T18:02:10.777371Z",
     "shell.execute_reply.started": "2022-01-30T18:00:58.822868Z"
    },
    "papermill": {
     "duration": 0.038966,
     "end_time": "2022-01-30T18:02:10.777521",
     "exception": false,
     "start_time": "2022-01-30T18:02:10.738555",
     "status": "completed"
    },
    "tags": []
   },
   "outputs": [
    {
     "name": "stdout",
     "output_type": "stream",
     "text": [
      "Model: \"sequential\"\n",
      "_________________________________________________________________\n",
      "Layer (type)                 Output Shape              Param #   \n",
      "=================================================================\n",
      "dense (Dense)                (None, 32)                320032    \n",
      "_________________________________________________________________\n",
      "dense_1 (Dense)              (None, 1)                 33        \n",
      "=================================================================\n",
      "Total params: 320,065\n",
      "Trainable params: 320,065\n",
      "Non-trainable params: 0\n",
      "_________________________________________________________________\n",
      "None\n"
     ]
    }
   ],
   "source": [
    "print(model.summary())"
   ]
  },
  {
   "cell_type": "code",
   "execution_count": 22,
   "id": "61eae61d",
   "metadata": {
    "execution": {
     "iopub.execute_input": "2022-01-30T18:02:10.841870Z",
     "iopub.status.busy": "2022-01-30T18:02:10.841236Z",
     "iopub.status.idle": "2022-01-30T18:02:10.845016Z",
     "shell.execute_reply": "2022-01-30T18:02:10.845451Z",
     "shell.execute_reply.started": "2022-01-30T18:00:58.834424Z"
    },
    "papermill": {
     "duration": 0.038497,
     "end_time": "2022-01-30T18:02:10.845627",
     "exception": false,
     "start_time": "2022-01-30T18:02:10.807130",
     "status": "completed"
    },
    "tags": []
   },
   "outputs": [
    {
     "data": {
      "text/plain": [
       "dict_keys(['loss', 'accuracy', 'val_loss', 'val_accuracy'])"
      ]
     },
     "execution_count": 22,
     "metadata": {},
     "output_type": "execute_result"
    }
   ],
   "source": [
    "history_dict = history.history # записывает показатели обучения для каждой эпохи \n",
    "history_dict.keys()"
   ]
  },
  {
   "cell_type": "code",
   "execution_count": 23,
   "id": "bc06f62b",
   "metadata": {
    "execution": {
     "iopub.execute_input": "2022-01-30T18:02:10.913229Z",
     "iopub.status.busy": "2022-01-30T18:02:10.912611Z",
     "iopub.status.idle": "2022-01-30T18:02:11.134379Z",
     "shell.execute_reply": "2022-01-30T18:02:11.133870Z",
     "shell.execute_reply.started": "2022-01-30T18:00:58.845680Z"
    },
    "papermill": {
     "duration": 0.258864,
     "end_time": "2022-01-30T18:02:11.134535",
     "exception": false,
     "start_time": "2022-01-30T18:02:10.875671",
     "status": "completed"
    },
    "tags": []
   },
   "outputs": [
    {
     "data": {
      "image/png": "[encoded data removed]",
      "text/plain": [
       "<Figure size 432x288 with 1 Axes>"
      ]
     },
     "metadata": {
      "needs_background": "light"
     },
     "output_type": "display_data"
    }
   ],
   "source": [
    "history_dict = history.history\n",
    "loss_values = history_dict[\"loss\"]\n",
    "val_loss_values = history_dict[\"val_loss\"]\n",
    "epochs = range(1, len(loss_values) + 1)\n",
    "plt.plot(epochs, loss_values, \"bo\", label=\"Training loss\")\n",
    "plt.plot(epochs, val_loss_values, \"b\", label=\"Validation loss\")\n",
    "plt.title(\"Training and validation loss\")\n",
    "plt.xlabel(\"Epochs\")\n",
    "plt.ylabel(\"Loss\")\n",
    "plt.legend()\n",
    "plt.show()"
   ]
  },
  {
   "cell_type": "code",
   "execution_count": 24,
   "id": "3e9598f1",
   "metadata": {
    "execution": {
     "iopub.execute_input": "2022-01-30T18:02:11.203447Z",
     "iopub.status.busy": "2022-01-30T18:02:11.202806Z",
     "iopub.status.idle": "2022-01-30T18:02:11.348806Z",
     "shell.execute_reply": "2022-01-30T18:02:11.348048Z",
     "shell.execute_reply.started": "2022-01-30T18:00:59.087979Z"
    },
    "papermill": {
     "duration": 0.182383,
     "end_time": "2022-01-30T18:02:11.349001",
     "exception": false,
     "start_time": "2022-01-30T18:02:11.166618",
     "status": "completed"
    },
    "tags": []
   },
   "outputs": [
    {
     "name": "stdout",
     "output_type": "stream",
     "text": [
      "Test score: 0.20084334909915924\n",
      "Test accuracy: 0.9802690744400024\n"
     ]
    }
   ],
   "source": [
    "score = model.evaluate(x_test, y_test, verbose=0) \n",
    "print('Test score:', score[0]) \n",
    "print('Test accuracy:', score[1])"
   ]
  }
 ],
 "metadata": {
  "kernelspec": {
   "display_name": "Python 3",
   "language": "python",
   "name": "python3"
  },
  "language_info": {
   "codemirror_mode": {
    "name": "ipython",
    "version": 3
   },
   "file_extension": ".py",
   "mimetype": "text/x-python",
   "name": "python",
   "nbconvert_exporter": "python",
   "pygments_lexer": "ipython3",
   "version": "3.7.12"
  },
  "papermill": {
   "default_parameters": {},
   "duration": 31.506718,
   "end_time": "2022-01-30T18:02:14.131809",
   "environment_variables": {},
   "exception": null,
   "input_path": "__notebook__.ipynb",
   "output_path": "__notebook__.ipynb",
   "parameters": {},
   "start_time": "2022-01-30T18:01:42.625091",
   "version": "2.3.3"
  }
 },
 "nbformat": 4,
 "nbformat_minor": 5
}
