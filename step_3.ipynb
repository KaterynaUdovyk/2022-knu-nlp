{
 "cells": [
  {
   "cell_type": "markdown",
   "id": "varied-irrigation",
   "metadata": {},
   "source": [
    "# Step 3 - Classification of text data using recurrent neural networks (LSTM)"
   ]
  },
  {
   "cell_type": "code",
   "execution_count": 1,
   "id": "legendary-stupid",
   "metadata": {},
   "outputs": [],
   "source": [
    "import pandas as pd\n",
    "import numpy as np\n",
    "from tensorflow import keras\n",
    "from tensorflow.keras import layers\n",
    "from keras.callbacks import EarlyStopping\n",
    "import matplotlib.pyplot as plt\n",
    "from sklearn.model_selection import train_test_split"
   ]
  },
  {
   "cell_type": "markdown",
   "id": "provincial-dryer",
   "metadata": {},
   "source": [
    "### Get the Data"
   ]
  },
  {
   "cell_type": "code",
   "execution_count": 2,
   "id": "communist-balloon",
   "metadata": {},
   "outputs": [],
   "source": [
    "# https://www.kaggle.com/adarshsng/predicting-job-type-category-by-job-description\n",
    "def str_to_lst(x):\n",
    "    return x.replace(\"'\", \"\").replace(\"[\", \"\").replace(\"]\", \"\").split(\", \")"
   ]
  },
  {
   "cell_type": "code",
   "execution_count": 3,
   "id": "delayed-fruit",
   "metadata": {},
   "outputs": [
    {
     "data": {
      "text/html": [
       "<div>\n",
       "<style scoped>\n",
       "    .dataframe tbody tr th:only-of-type {\n",
       "        vertical-align: middle;\n",
       "    }\n",
       "\n",
       "    .dataframe tbody tr th {\n",
       "        vertical-align: top;\n",
       "    }\n",
       "\n",
       "    .dataframe thead th {\n",
       "        text-align: right;\n",
       "    }\n",
       "</style>\n",
       "<table border=\"1\" class=\"dataframe\">\n",
       "  <thead>\n",
       "    <tr style=\"text-align: right;\">\n",
       "      <th></th>\n",
       "      <th>job_no</th>\n",
       "      <th>job_description</th>\n",
       "      <th>job_type</th>\n",
       "      <th>category</th>\n",
       "    </tr>\n",
       "  </thead>\n",
       "  <tbody>\n",
       "    <tr>\n",
       "      <th>0</th>\n",
       "      <td>Id-12765</td>\n",
       "      <td>[zest, scientif, search, accomplish, scientif,...</td>\n",
       "      <td>Permanent</td>\n",
       "      <td>Pharmaceutical, Healthcare and Medical Sales</td>\n",
       "    </tr>\n",
       "    <tr>\n",
       "      <th>1</th>\n",
       "      <td>Id-1321</td>\n",
       "      <td>[asha, mistri, umbil, life, recruit, experienc...</td>\n",
       "      <td>Contract/Interim</td>\n",
       "      <td>Pharmaceutical Marketing</td>\n",
       "    </tr>\n",
       "    <tr>\n",
       "      <th>2</th>\n",
       "      <td>Id-9473</td>\n",
       "      <td>[sale, repres, laser, der, medizintechnik, mun...</td>\n",
       "      <td>Permanent</td>\n",
       "      <td>Pharmaceutical, Healthcare and Medical Sales</td>\n",
       "    </tr>\n",
       "    <tr>\n",
       "      <th>3</th>\n",
       "      <td>Id-14952</td>\n",
       "      <td>[field, servic, engin, life, scienc, cambridg,...</td>\n",
       "      <td>Permanent</td>\n",
       "      <td>Manufacturing &amp; Operations</td>\n",
       "    </tr>\n",
       "    <tr>\n",
       "      <th>4</th>\n",
       "      <td>Id-16692</td>\n",
       "      <td>[due, increas, busi, demand, award, win, world...</td>\n",
       "      <td>Permanent</td>\n",
       "      <td>Pharmaceutical, Healthcare and Medical Sales</td>\n",
       "    </tr>\n",
       "  </tbody>\n",
       "</table>\n",
       "</div>"
      ],
      "text/plain": [
       "     job_no                                    job_description  \\\n",
       "0  Id-12765  [zest, scientif, search, accomplish, scientif,...   \n",
       "1   Id-1321  [asha, mistri, umbil, life, recruit, experienc...   \n",
       "2   Id-9473  [sale, repres, laser, der, medizintechnik, mun...   \n",
       "3  Id-14952  [field, servic, engin, life, scienc, cambridg,...   \n",
       "4  Id-16692  [due, increas, busi, demand, award, win, world...   \n",
       "\n",
       "           job_type                                      category  \n",
       "0         Permanent  Pharmaceutical, Healthcare and Medical Sales  \n",
       "1  Contract/Interim                      Pharmaceutical Marketing  \n",
       "2         Permanent  Pharmaceutical, Healthcare and Medical Sales  \n",
       "3         Permanent                    Manufacturing & Operations  \n",
       "4         Permanent  Pharmaceutical, Healthcare and Medical Sales  "
      ]
     },
     "execution_count": 3,
     "metadata": {},
     "output_type": "execute_result"
    }
   ],
   "source": [
    "df = pd.read_csv(\"preprocessed_train.csv\")\n",
    "df['job_description'] = df['job_description'].apply(lambda x: str_to_lst(x))\n",
    "df.head()"
   ]
  },
  {
   "cell_type": "markdown",
   "id": "congressional-asbestos",
   "metadata": {},
   "source": [
    "### Job Type"
   ]
  },
  {
   "cell_type": "code",
   "execution_count": 4,
   "id": "charitable-shaft",
   "metadata": {},
   "outputs": [
    {
     "data": {
      "text/html": [
       "<div>\n",
       "<style scoped>\n",
       "    .dataframe tbody tr th:only-of-type {\n",
       "        vertical-align: middle;\n",
       "    }\n",
       "\n",
       "    .dataframe tbody tr th {\n",
       "        vertical-align: top;\n",
       "    }\n",
       "\n",
       "    .dataframe thead th {\n",
       "        text-align: right;\n",
       "    }\n",
       "</style>\n",
       "<table border=\"1\" class=\"dataframe\">\n",
       "  <thead>\n",
       "    <tr style=\"text-align: right;\">\n",
       "      <th></th>\n",
       "      <th>job_no</th>\n",
       "      <th>job_description</th>\n",
       "      <th>job_type</th>\n",
       "      <th>category</th>\n",
       "      <th>labels</th>\n",
       "    </tr>\n",
       "  </thead>\n",
       "  <tbody>\n",
       "    <tr>\n",
       "      <th>0</th>\n",
       "      <td>Id-12765</td>\n",
       "      <td>[zest, scientif, search, accomplish, scientif,...</td>\n",
       "      <td>Permanent</td>\n",
       "      <td>Pharmaceutical, Healthcare and Medical Sales</td>\n",
       "      <td>0</td>\n",
       "    </tr>\n",
       "    <tr>\n",
       "      <th>1</th>\n",
       "      <td>Id-1321</td>\n",
       "      <td>[asha, mistri, umbil, life, recruit, experienc...</td>\n",
       "      <td>Contract/Interim</td>\n",
       "      <td>Pharmaceutical Marketing</td>\n",
       "      <td>1</td>\n",
       "    </tr>\n",
       "    <tr>\n",
       "      <th>2</th>\n",
       "      <td>Id-9473</td>\n",
       "      <td>[sale, repres, laser, der, medizintechnik, mun...</td>\n",
       "      <td>Permanent</td>\n",
       "      <td>Pharmaceutical, Healthcare and Medical Sales</td>\n",
       "      <td>0</td>\n",
       "    </tr>\n",
       "    <tr>\n",
       "      <th>3</th>\n",
       "      <td>Id-14952</td>\n",
       "      <td>[field, servic, engin, life, scienc, cambridg,...</td>\n",
       "      <td>Permanent</td>\n",
       "      <td>Manufacturing &amp; Operations</td>\n",
       "      <td>0</td>\n",
       "    </tr>\n",
       "    <tr>\n",
       "      <th>4</th>\n",
       "      <td>Id-16692</td>\n",
       "      <td>[due, increas, busi, demand, award, win, world...</td>\n",
       "      <td>Permanent</td>\n",
       "      <td>Pharmaceutical, Healthcare and Medical Sales</td>\n",
       "      <td>0</td>\n",
       "    </tr>\n",
       "  </tbody>\n",
       "</table>\n",
       "</div>"
      ],
      "text/plain": [
       "     job_no                                    job_description  \\\n",
       "0  Id-12765  [zest, scientif, search, accomplish, scientif,...   \n",
       "1   Id-1321  [asha, mistri, umbil, life, recruit, experienc...   \n",
       "2   Id-9473  [sale, repres, laser, der, medizintechnik, mun...   \n",
       "3  Id-14952  [field, servic, engin, life, scienc, cambridg,...   \n",
       "4  Id-16692  [due, increas, busi, demand, award, win, world...   \n",
       "\n",
       "           job_type                                      category  labels  \n",
       "0         Permanent  Pharmaceutical, Healthcare and Medical Sales       0  \n",
       "1  Contract/Interim                      Pharmaceutical Marketing       1  \n",
       "2         Permanent  Pharmaceutical, Healthcare and Medical Sales       0  \n",
       "3         Permanent                    Manufacturing & Operations       0  \n",
       "4         Permanent  Pharmaceutical, Healthcare and Medical Sales       0  "
      ]
     },
     "execution_count": 4,
     "metadata": {},
     "output_type": "execute_result"
    }
   ],
   "source": [
    "Job_type = {\n",
    "    'Permanent':0,\n",
    "    'Contract/Interim':1,\n",
    "    'Contract/Temp':2,\n",
    "    'Temporary/Seasonal':3,\n",
    "    'Any':4,\n",
    "    'Part-Time':5\n",
    "    }\n",
    "\n",
    "def set_label(x):\n",
    "    return Job_type[x]\n",
    "\n",
    "\n",
    "df['labels'] = df['job_type'].apply(lambda x: set_label(x))\n",
    "df.head()"
   ]
  },
  {
   "cell_type": "markdown",
   "id": "interpreted-passion",
   "metadata": {},
   "source": [
    "### Vectorization"
   ]
  },
  {
   "cell_type": "code",
   "execution_count": 5,
   "id": "mobile-hamburg",
   "metadata": {},
   "outputs": [],
   "source": [
    "X_train, X_test, Y_train, Y_test = train_test_split(df['job_description'], \n",
    "                                                    df['labels'], \n",
    "                                                    test_size=0.20, \n",
    "                                                    random_state=42)"
   ]
  },
  {
   "cell_type": "code",
   "execution_count": 6,
   "id": "animated-pasta",
   "metadata": {},
   "outputs": [],
   "source": [
    "tokens = []\n",
    "\n",
    "for lst in df[\"job_description\"]:\n",
    "    tokens += lst\n",
    "    \n",
    "dictionary = list(set(tokens))\n",
    "\n",
    "def tokens_to_num(lst):\n",
    "    res = [dictionary.index(i) for i in lst]\n",
    "    return res"
   ]
  },
  {
   "cell_type": "code",
   "execution_count": 7,
   "id": "aggressive-pursuit",
   "metadata": {},
   "outputs": [],
   "source": [
    "X_train = X_train.apply(tokens_to_num)\n",
    "X_test = X_test.apply(tokens_to_num)"
   ]
  },
  {
   "cell_type": "code",
   "execution_count": 8,
   "id": "sudden-consideration",
   "metadata": {},
   "outputs": [],
   "source": [
    "def vectorize_sequences(sequences, dimension = 15000):\n",
    "    results = np.zeros((len(sequences), dimension))\n",
    "    for i, sequence in enumerate(sequences):\n",
    "        for j in sequence:\n",
    "            results[i, j] = 1.\n",
    "    return results"
   ]
  },
  {
   "cell_type": "code",
   "execution_count": 9,
   "id": "stock-hearts",
   "metadata": {},
   "outputs": [],
   "source": [
    "x_train = vectorize_sequences(X_train)\n",
    "x_test = vectorize_sequences(X_test)\n",
    "y_train = np.asarray(Y_train).astype(\"float32\")\n",
    "y_test = np.asarray(Y_test).astype(\"float32\")"
   ]
  },
  {
   "cell_type": "markdown",
   "id": "available-yield",
   "metadata": {},
   "source": [
    "### Train a recurrent neural network"
   ]
  },
  {
   "cell_type": "code",
   "execution_count": 10,
   "id": "portable-thanks",
   "metadata": {},
   "outputs": [],
   "source": [
    "model = keras.Sequential()\n",
    "model.add(layers.Embedding(15000, 128)) # max features, embedding dim\n",
    "model.add(layers.LSTM(32))\n",
    "model.add(layers.Dense(1, activation = 'sigmoid'))\n",
    "\n",
    "model.compile(optimizer = \"rmsprop\",\n",
    "              loss = \"mse\",\n",
    "              metrics = [\"accuracy\"])"
   ]
  },
  {
   "cell_type": "code",
   "execution_count": null,
   "id": "decreased-chosen",
   "metadata": {},
   "outputs": [],
   "source": [
    "history = model.fit(x_train,\n",
    "                    y_train,\n",
    "                    epochs = 5,\n",
    "                    batch_size = 128,\n",
    "                    validation_split = 0.1,\n",
    "                    shuffle = True,\n",
    "                    verbose = 1,\n",
    "                    callbacks=[EarlyStopping(monitor='val_loss', patience=3, min_delta=0.0001)])"
   ]
  },
  {
   "cell_type": "code",
   "execution_count": null,
   "id": "limiting-immigration",
   "metadata": {},
   "outputs": [],
   "source": [
    "print(model.summary())"
   ]
  },
  {
   "cell_type": "code",
   "execution_count": null,
   "id": "neither-reader",
   "metadata": {},
   "outputs": [],
   "source": [
    "score = model.evaluate(x_test, y_test, verbose=0) \n",
    "print('Test score:', score[0]) \n",
    "print('Test accuracy:', score[1])"
   ]
  },
  {
   "cell_type": "code",
   "execution_count": null,
   "id": "previous-hostel",
   "metadata": {},
   "outputs": [],
   "source": []
  }
 ],
 "metadata": {
  "kernelspec": {
   "display_name": "Python 3",
   "language": "python",
   "name": "python3"
  },
  "language_info": {
   "codemirror_mode": {
    "name": "ipython",
    "version": 3
   },
   "file_extension": ".py",
   "mimetype": "text/x-python",
   "name": "python",
   "nbconvert_exporter": "python",
   "pygments_lexer": "ipython3",
   "version": "3.8.10"
  }
 },
 "nbformat": 4,
 "nbformat_minor": 5
}
