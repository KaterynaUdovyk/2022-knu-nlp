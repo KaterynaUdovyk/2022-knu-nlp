{
 "cells": [
  {
   "cell_type": "markdown",
   "id": "coordinate-railway",
   "metadata": {},
   "source": [
    "# Step 3 - Classification of text data using recurrent neural networks (LSTM)"
   ]
  },
  {
   "cell_type": "code",
   "execution_count": 1,
   "id": "insured-eagle",
   "metadata": {},
   "outputs": [],
   "source": [
    "import pandas as pd\n",
    "import numpy as np\n",
    "import tensorflow as tf\n",
    "from tensorflow import keras\n",
    "from tensorflow.keras import layers\n",
    "from keras.callbacks import EarlyStopping\n",
    "import matplotlib.pyplot as plt\n",
    "from sklearn.model_selection import train_test_split"
   ]
  },
  {
   "cell_type": "markdown",
   "id": "collected-connection",
   "metadata": {},
   "source": [
    "### Job Type"
   ]
  },
  {
   "cell_type": "code",
   "execution_count": null,
   "id": "controversial-prospect",
   "metadata": {},
   "outputs": [],
   "source": [
    "def str_to_num_lst(x):\n",
    "    x = x.replace(\"'\", \"\").replace(\"[\", \"\").replace(\"]\", \"\").split(\", \")\n",
    "    return list(map(int, x))"
   ]
  },
  {
   "cell_type": "code",
   "execution_count": 4,
   "id": "subject-jewel",
   "metadata": {},
   "outputs": [],
   "source": [
    "train_df = pd.read_csv(\"data/tmp_type_train.csv\")\n",
    "train_df['job_description'] = train_df['job_description'].apply(lambda x: str_to_num_lst(x))\n",
    "X_train = train_df[\"job_description\"]\n",
    "Y_train = train_df[\"y\"]\n",
    "y_train = np.asarray(Y_train).astype(\"float32\")\n",
    "\n",
    "test_df = pd.read_csv(\"data/tmp_type_test.csv\")\n",
    "test_df['job_description'] = test_df['job_description'].apply(lambda x: str_to_num_lst(x))\n",
    "X_test = test_df[\"job_description\"]\n",
    "Y_test = test_df[\"y\"]\n",
    "y_test = np.asarray(Y_test).astype(\"float32\")"
   ]
  },
  {
   "cell_type": "markdown",
   "id": "pursuant-pennsylvania",
   "metadata": {},
   "source": [
    "### Train a recurrent neural network"
   ]
  },
  {
   "cell_type": "code",
   "execution_count": 5,
   "id": "coated-limitation",
   "metadata": {},
   "outputs": [],
   "source": [
    "max_seq_len = 80\n",
    "max_features = 30000\n",
    "\n",
    "x_train = keras.preprocessing.sequence.pad_sequences(X_train, maxlen = max_seq_len)\n",
    "x_test = keras.preprocessing.sequence.pad_sequences(X_test, maxlen = max_seq_len)"
   ]
  },
  {
   "cell_type": "code",
   "execution_count": 6,
   "id": "collaborative-drunk",
   "metadata": {},
   "outputs": [],
   "source": [
    "emb_dim = 128\n",
    "\n",
    "model_type = keras.Sequential()\n",
    "model_type.add(layers.Embedding(max_features, emb_dim))\n",
    "model_type.add(layers.LSTM(128))\n",
    "model_type.add(layers.Dense(1, activation = 'sigmoid'))"
   ]
  },
  {
   "cell_type": "code",
   "execution_count": 7,
   "id": "absolute-idaho",
   "metadata": {
    "scrolled": true
   },
   "outputs": [
    {
     "name": "stdout",
     "output_type": "stream",
     "text": [
      "Epoch 1/5\n",
      "89/89 [==============================] - 23s 239ms/step - loss: 0.1728 - accuracy: 0.9028 - val_loss: 0.2002 - val_accuracy: 0.9126\n",
      "Epoch 2/5\n",
      "89/89 [==============================] - 21s 240ms/step - loss: 0.1248 - accuracy: 0.9368 - val_loss: 0.1987 - val_accuracy: 0.9338\n",
      "Epoch 3/5\n",
      "89/89 [==============================] - 30s 337ms/step - loss: 0.1191 - accuracy: 0.9426 - val_loss: 0.2462 - val_accuracy: 0.8758\n",
      "Epoch 4/5\n",
      "89/89 [==============================] - 29s 322ms/step - loss: 0.1308 - accuracy: 0.9298 - val_loss: 0.1591 - val_accuracy: 0.9331\n",
      "Epoch 5/5\n",
      "89/89 [==============================] - 20s 226ms/step - loss: 0.1022 - accuracy: 0.9533 - val_loss: 0.1643 - val_accuracy: 0.9292\n"
     ]
    }
   ],
   "source": [
    "model_type.compile(optimizer = \"rmsprop\",\n",
    "              loss = \"mse\",\n",
    "              metrics = [\"accuracy\"])\n",
    "\n",
    "my_callbacks = [tf.keras.callbacks.EarlyStopping(patience=2)]\n",
    "\n",
    "history = model_type.fit(x_train,\n",
    "                    y_train,\n",
    "                    epochs = 5,\n",
    "                    batch_size = 128,\n",
    "                    validation_split = 0.2,\n",
    "                    shuffle = True,\n",
    "                    verbose = 1,\n",
    "                    callbacks = my_callbacks)"
   ]
  },
  {
   "cell_type": "code",
   "execution_count": 8,
   "id": "upset-duplicate",
   "metadata": {},
   "outputs": [
    {
     "name": "stdout",
     "output_type": "stream",
     "text": [
      "Model: \"sequential\"\n",
      "_________________________________________________________________\n",
      " Layer (type)                Output Shape              Param #   \n",
      "=================================================================\n",
      " embedding (Embedding)       (None, None, 128)         3840000   \n",
      "                                                                 \n",
      " lstm (LSTM)                 (None, 128)               131584    \n",
      "                                                                 \n",
      " dense (Dense)               (None, 1)                 129       \n",
      "                                                                 \n",
      "=================================================================\n",
      "Total params: 3,971,713\n",
      "Trainable params: 3,971,713\n",
      "Non-trainable params: 0\n",
      "_________________________________________________________________\n",
      "None\n"
     ]
    }
   ],
   "source": [
    "print(model_type.summary())"
   ]
  },
  {
   "cell_type": "code",
   "execution_count": 9,
   "id": "responsible-compilation",
   "metadata": {},
   "outputs": [
    {
     "name": "stdout",
     "output_type": "stream",
     "text": [
      "Test score: 0.12206569314002991\n",
      "Test accuracy: 0.9283692240715027\n"
     ]
    }
   ],
   "source": [
    "score = model_type.evaluate(x_test, y_test, verbose=0) \n",
    "print('Test score:', score[0]) \n",
    "print('Test accuracy:', score[1])"
   ]
  },
  {
   "cell_type": "markdown",
   "id": "wired-naples",
   "metadata": {},
   "source": [
    "### Job Category"
   ]
  },
  {
   "cell_type": "code",
   "execution_count": 13,
   "id": "likely-trail",
   "metadata": {},
   "outputs": [],
   "source": [
    "train_df = pd.read_csv(\"data/tmp_category_train.csv\")\n",
    "train_df['job_description'] = train_df['job_description'].apply(lambda x: str_to_num_lst(x))\n",
    "X_train = train_df[\"job_description\"]\n",
    "Y_train = train_df[\"y\"]\n",
    "y_train = np.asarray(Y_train).astype(\"float32\")\n",
    "\n",
    "test_df = pd.read_csv(\"data/tmp_category_test.csv\")\n",
    "test_df['job_description'] = test_df['job_description'].apply(lambda x: str_to_num_lst(x))\n",
    "X_test = test_df[\"job_description\"]\n",
    "Y_test = test_df[\"y\"]\n",
    "y_test = np.asarray(Y_test).astype(\"float32\")"
   ]
  },
  {
   "cell_type": "code",
   "execution_count": 21,
   "id": "enormous-tender",
   "metadata": {},
   "outputs": [],
   "source": [
    "max_seq_len = 80\n",
    "max_features = 20000\n",
    "\n",
    "x_train = keras.preprocessing.sequence.pad_sequences(X_train, maxlen = max_seq_len)\n",
    "x_test = keras.preprocessing.sequence.pad_sequences(X_test, maxlen = max_seq_len)"
   ]
  },
  {
   "cell_type": "code",
   "execution_count": 22,
   "id": "arbitrary-president",
   "metadata": {},
   "outputs": [],
   "source": [
    "emb_dim = 128\n",
    "\n",
    "model_category = keras.Sequential()\n",
    "model_category.add(layers.Embedding(max_features, emb_dim))\n",
    "model_category.add(layers.LSTM(128))\n",
    "model_category.add(layers.Dense(1, activation = 'sigmoid'))"
   ]
  },
  {
   "cell_type": "code",
   "execution_count": 23,
   "id": "seasonal-insert",
   "metadata": {
    "scrolled": false
   },
   "outputs": [
    {
     "name": "stdout",
     "output_type": "stream",
     "text": [
      "Epoch 1/5\n",
      "89/89 [==============================] - 22s 231ms/step - loss: 10.6735 - accuracy: 0.1804 - val_loss: 10.5749 - val_accuracy: 0.1759\n",
      "Epoch 2/5\n",
      "89/89 [==============================] - 29s 331ms/step - loss: 10.6097 - accuracy: 0.1796 - val_loss: 10.5749 - val_accuracy: 0.1759\n",
      "Epoch 3/5\n",
      "89/89 [==============================] - 18s 204ms/step - loss: 10.6096 - accuracy: 0.1796 - val_loss: 10.5749 - val_accuracy: 0.1759\n",
      "Epoch 4/5\n",
      "89/89 [==============================] - 19s 217ms/step - loss: 10.6096 - accuracy: 0.1796 - val_loss: 10.5749 - val_accuracy: 0.1759\n"
     ]
    }
   ],
   "source": [
    "model_category.compile(optimizer = \"rmsprop\",\n",
    "              loss = \"mse\",\n",
    "              metrics = [\"accuracy\"])\n",
    "\n",
    "\n",
    "my_callbacks = [tf.keras.callbacks.EarlyStopping(patience=2)]\n",
    "\n",
    "history = model_category.fit(x_train,\n",
    "                    y_train,\n",
    "                    epochs = 5,\n",
    "                    batch_size = 128,\n",
    "                    validation_split = 0.2,\n",
    "                    shuffle = True,\n",
    "                    verbose = 1,\n",
    "                    callbacks = my_callbacks)\n"
   ]
  },
  {
   "cell_type": "code",
   "execution_count": 24,
   "id": "outdoor-action",
   "metadata": {},
   "outputs": [
    {
     "name": "stdout",
     "output_type": "stream",
     "text": [
      "Model: \"sequential_4\"\n",
      "_________________________________________________________________\n",
      " Layer (type)                Output Shape              Param #   \n",
      "=================================================================\n",
      " embedding_4 (Embedding)     (None, None, 128)         2560000   \n",
      "                                                                 \n",
      " lstm_4 (LSTM)               (None, 128)               131584    \n",
      "                                                                 \n",
      " dense_4 (Dense)             (None, 1)                 129       \n",
      "                                                                 \n",
      "=================================================================\n",
      "Total params: 2,691,713\n",
      "Trainable params: 2,691,713\n",
      "Non-trainable params: 0\n",
      "_________________________________________________________________\n",
      "None\n"
     ]
    }
   ],
   "source": [
    "print(model_category.summary())"
   ]
  },
  {
   "cell_type": "code",
   "execution_count": 25,
   "id": "tracked-health",
   "metadata": {},
   "outputs": [
    {
     "name": "stdout",
     "output_type": "stream",
     "text": [
      "Test score: 10.039920806884766\n",
      "Test accuracy: 0.18261608481407166\n"
     ]
    }
   ],
   "source": [
    "score = model_category.evaluate(x_test, y_test, verbose=0) \n",
    "print('Test score:', score[0]) \n",
    "print('Test accuracy:', score[1])"
   ]
  }
 ],
 "metadata": {
  "kernelspec": {
   "display_name": "Python 3",
   "language": "python",
   "name": "python3"
  },
  "language_info": {
   "codemirror_mode": {
    "name": "ipython",
    "version": 3
   },
   "file_extension": ".py",
   "mimetype": "text/x-python",
   "name": "python",
   "nbconvert_exporter": "python",
   "pygments_lexer": "ipython3",
   "version": "3.8.10"
  }
 },
 "nbformat": 4,
 "nbformat_minor": 5
}
