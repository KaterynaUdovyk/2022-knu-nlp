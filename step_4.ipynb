{
 "cells": [
  {
   "cell_type": "markdown",
   "id": "agricultural-police",
   "metadata": {},
   "source": [
    "# Step 4 - Text classification with Transformer"
   ]
  },
  {
   "cell_type": "code",
   "execution_count": 1,
   "id": "serious-coffee",
   "metadata": {},
   "outputs": [],
   "source": [
    "import pandas as pd\n",
    "import numpy as np\n",
    "import tensorflow as tf\n",
    "from tensorflow import keras\n",
    "from tensorflow.keras import layers\n",
    "from keras.callbacks import EarlyStopping\n",
    "import matplotlib.pyplot as plt\n",
    "from sklearn.model_selection import train_test_split"
   ]
  },
  {
   "cell_type": "markdown",
   "id": "exact-efficiency",
   "metadata": {},
   "source": [
    "### Job Type"
   ]
  },
  {
   "cell_type": "code",
   "execution_count": 2,
   "id": "separate-senior",
   "metadata": {},
   "outputs": [],
   "source": [
    "def str_to_num_lst(x):\n",
    "    x = x.replace(\"'\", \"\").replace(\"[\", \"\").replace(\"]\", \"\").split(\", \")\n",
    "    return list(map(int, x))"
   ]
  },
  {
   "cell_type": "code",
   "execution_count": 3,
   "id": "limited-consultancy",
   "metadata": {},
   "outputs": [],
   "source": [
    "train_df = pd.read_csv(\"data/tmp_type_train.csv\")\n",
    "train_df['job_description'] = train_df['job_description'].apply(lambda x: str_to_num_lst(x))\n",
    "X_train = train_df[\"job_description\"]\n",
    "Y_train = train_df[\"y\"]\n",
    "y_train = np.asarray(Y_train).astype(\"float32\")\n",
    "\n",
    "test_df = pd.read_csv(\"data/tmp_type_test.csv\")\n",
    "test_df['job_description'] = test_df['job_description'].apply(lambda x: str_to_num_lst(x))\n",
    "X_test = test_df[\"job_description\"]\n",
    "Y_test = test_df[\"y\"]\n",
    "y_test = np.asarray(Y_test).astype(\"float32\")"
   ]
  },
  {
   "cell_type": "code",
   "execution_count": 4,
   "id": "stylish-triple",
   "metadata": {},
   "outputs": [],
   "source": [
    "max_seq_len = 80\n",
    "max_features = 30000 \n",
    "\n",
    "x_train = keras.preprocessing.sequence.pad_sequences(X_train, maxlen = max_seq_len)\n",
    "x_test = keras.preprocessing.sequence.pad_sequences(X_test, maxlen = max_seq_len)"
   ]
  },
  {
   "cell_type": "code",
   "execution_count": 5,
   "id": "essential-leadership",
   "metadata": {},
   "outputs": [],
   "source": [
    "class TransformerBlock(layers.Layer):\n",
    "    def __init__(self, embed_dim, num_heads, ff_dim, rate=0.1):\n",
    "        super(TransformerBlock, self).__init__()\n",
    "        self.att = layers.MultiHeadAttention(num_heads=num_heads, key_dim=embed_dim)\n",
    "        self.ffn = keras.Sequential(\n",
    "            [layers.Dense(ff_dim, activation=\"relu\"), layers.Dense(embed_dim),]\n",
    "        )\n",
    "        self.layernorm1 = layers.LayerNormalization(epsilon=1e-6)\n",
    "        self.layernorm2 = layers.LayerNormalization(epsilon=1e-6)\n",
    "        self.dropout1 = layers.Dropout(rate)\n",
    "        self.dropout2 = layers.Dropout(rate)\n",
    "\n",
    "    def call(self, inputs, training):\n",
    "        attn_output = self.att(inputs, inputs)\n",
    "        attn_output = self.dropout1(attn_output, training=training)\n",
    "        out1 = self.layernorm1(inputs + attn_output)\n",
    "        ffn_output = self.ffn(out1)\n",
    "        ffn_output = self.dropout2(ffn_output, training=training)\n",
    "        return self.layernorm2(out1 + ffn_output)"
   ]
  },
  {
   "cell_type": "code",
   "execution_count": 6,
   "id": "spatial-grounds",
   "metadata": {},
   "outputs": [],
   "source": [
    "class TokenAndPositionEmbedding(layers.Layer):\n",
    "    def __init__(self, maxlen, vocab_size, embed_dim):\n",
    "        super(TokenAndPositionEmbedding, self).__init__()\n",
    "        self.token_emb = layers.Embedding(input_dim=vocab_size, output_dim=embed_dim)\n",
    "        self.pos_emb = layers.Embedding(input_dim=maxlen, output_dim=embed_dim)\n",
    "\n",
    "    def call(self, x):\n",
    "        maxlen = tf.shape(x)[-1]\n",
    "        positions = tf.range(start=0, limit=maxlen, delta=1)\n",
    "        positions = self.pos_emb(positions)\n",
    "        x = self.token_emb(x)\n",
    "        return x + positions"
   ]
  },
  {
   "cell_type": "code",
   "execution_count": 7,
   "id": "talented-convergence",
   "metadata": {},
   "outputs": [
    {
     "name": "stdout",
     "output_type": "stream",
     "text": [
      "Epoch 1/3\n",
      "442/442 [==============================] - 25s 51ms/step - loss: 0.3681 - accuracy: 0.4995 - val_loss: 0.3587 - val_accuracy: 0.0841\n",
      "Epoch 2/3\n",
      "442/442 [==============================] - 23s 53ms/step - loss: 0.3678 - accuracy: 0.4799 - val_loss: 0.3587 - val_accuracy: 0.8901\n",
      "Epoch 3/3\n",
      "442/442 [==============================] - 22s 51ms/step - loss: 0.3678 - accuracy: 0.4831 - val_loss: 0.3587 - val_accuracy: 0.0841\n"
     ]
    }
   ],
   "source": [
    "my_callbacks = [tf.keras.callbacks.EarlyStopping(patience=2)]\n",
    "\n",
    "embed_dim = 32  # Embedding size for each token\n",
    "num_heads = 4  # Number of attention heads\n",
    "ff_dim = 32  # Hidden layer size in feed forward network inside transformer\n",
    "\n",
    "inputs = layers.Input(shape=(max_seq_len,))\n",
    "embedding_layer = TokenAndPositionEmbedding(max_seq_len, max_features, embed_dim)\n",
    "x = embedding_layer(inputs)\n",
    "transformer_block = TransformerBlock(embed_dim, num_heads, ff_dim)\n",
    "x = transformer_block(x)\n",
    "x = layers.GlobalAveragePooling1D()(x)\n",
    "x = layers.Dropout(0.2)(x)\n",
    "x = layers.Dense(32, activation=\"relu\")(x)\n",
    "x = layers.Dropout(0.2)(x)\n",
    "outputs = layers.Dense(2, activation=\"softmax\")(x)\n",
    "\n",
    "model_type = keras.Model(inputs=inputs, outputs=outputs)\n",
    "model_type.compile(optimizer=\"rmsprop\", loss=\"mse\", metrics=[\"accuracy\"])\n",
    "history = model_type.fit(\n",
    "    x_train, \n",
    "    y_train, \n",
    "    batch_size=32, \n",
    "    epochs=3, \n",
    "    validation_data=(x_test, y_test),\n",
    "    callbacks = my_callbacks\n",
    ")"
   ]
  },
  {
   "cell_type": "code",
   "execution_count": null,
   "id": "colonial-iraqi",
   "metadata": {},
   "outputs": [],
   "source": [
    "history_dict = history.history\n",
    "history_dict.keys()\n",
    "history_dict = history.history\n",
    "loss_values = history_dict[\"loss\"]\n",
    "val_loss_values = history_dict[\"val_loss\"]\n",
    "epochs = range(1, len(loss_values) + 1)\n",
    "plt.plot(epochs, loss_values, \"bo\", label=\"Training loss\")\n",
    "plt.plot(epochs, val_loss_values, \"b\", label=\"Validation loss\")\n",
    "plt.title(\"Training and validation loss\")\n",
    "plt.xlabel(\"Epochs\")\n",
    "plt.ylabel(\"Loss\")\n",
    "plt.legend()\n",
    "plt.show()"
   ]
  },
  {
   "cell_type": "code",
   "execution_count": 8,
   "id": "fossil-illness",
   "metadata": {},
   "outputs": [
    {
     "name": "stdout",
     "output_type": "stream",
     "text": [
      "Test score: 0.3587202727794647\n",
      "Test accuracy: 0.08408833295106888\n"
     ]
    }
   ],
   "source": [
    "score = model_type.evaluate(x_test, y_test, verbose=0) \n",
    "print('Test score:', score[0]) \n",
    "print('Test accuracy:', score[1])"
   ]
  },
  {
   "cell_type": "markdown",
   "id": "indoor-scottish",
   "metadata": {},
   "source": [
    "### Job Category"
   ]
  },
  {
   "cell_type": "code",
   "execution_count": 9,
   "id": "thick-kingston",
   "metadata": {},
   "outputs": [],
   "source": [
    "train_df = pd.read_csv(\"data/tmp_category_train.csv\")\n",
    "train_df['job_description'] = train_df['job_description'].apply(lambda x: str_to_num_lst(x))\n",
    "X_train = train_df[\"job_description\"]\n",
    "Y_train = train_df[\"y\"]\n",
    "y_train = np.asarray(Y_train).astype(\"float32\")\n",
    "\n",
    "test_df = pd.read_csv(\"data/tmp_category_test.csv\")\n",
    "test_df['job_description'] = test_df['job_description'].apply(lambda x: str_to_num_lst(x))\n",
    "X_test = test_df[\"job_description\"]\n",
    "Y_test = test_df[\"y\"]\n",
    "y_test = np.asarray(Y_test).astype(\"float32\")"
   ]
  },
  {
   "cell_type": "code",
   "execution_count": 10,
   "id": "taken-psychology",
   "metadata": {},
   "outputs": [],
   "source": [
    "max_seq_len = 80\n",
    "max_features = 30000 # 15000\n",
    "\n",
    "x_train = keras.preprocessing.sequence.pad_sequences(X_train, maxlen = max_seq_len)\n",
    "x_test = keras.preprocessing.sequence.pad_sequences(X_test, maxlen = max_seq_len)"
   ]
  },
  {
   "cell_type": "code",
   "execution_count": 11,
   "id": "chicken-desktop",
   "metadata": {},
   "outputs": [
    {
     "name": "stdout",
     "output_type": "stream",
     "text": [
      "Epoch 1/3\n",
      "442/442 [==============================] - 24s 50ms/step - loss: 12.7046 - accuracy: 0.2093 - val_loss: 12.0881 - val_accuracy: 0.2523\n",
      "Epoch 2/3\n",
      "442/442 [==============================] - 22s 51ms/step - loss: 12.7042 - accuracy: 0.2152 - val_loss: 12.0881 - val_accuracy: 0.1826\n",
      "Epoch 3/3\n",
      "442/442 [==============================] - 22s 51ms/step - loss: 12.7042 - accuracy: 0.2178 - val_loss: 12.0881 - val_accuracy: 0.2523\n"
     ]
    }
   ],
   "source": [
    "my_callbacks = [tf.keras.callbacks.EarlyStopping(patience=2)]\n",
    "\n",
    "embed_dim = 32  # Embedding size for each token\n",
    "num_heads = 4  # Number of attention heads\n",
    "ff_dim = 32  # Hidden layer size in feed forward network inside transformer\n",
    "\n",
    "inputs = layers.Input(shape=(max_seq_len,))\n",
    "embedding_layer = TokenAndPositionEmbedding(max_seq_len, max_features, embed_dim)\n",
    "x = embedding_layer(inputs)\n",
    "transformer_block = TransformerBlock(embed_dim, num_heads, ff_dim)\n",
    "x = transformer_block(x)\n",
    "x = layers.GlobalAveragePooling1D()(x)\n",
    "x = layers.Dropout(0.2)(x)\n",
    "x = layers.Dense(32, activation=\"relu\")(x)\n",
    "x = layers.Dropout(0.2)(x)\n",
    "outputs = layers.Dense(2, activation=\"softmax\")(x)\n",
    "\n",
    "model_category = keras.Model(inputs=inputs, outputs=outputs)\n",
    "#model_category.compile(optimizer=\"rmsprop\", loss=\"mse\", metrics=[\"accuracy\"])\n",
    "#model_category.compile(optimizer=\"adam\", loss=\"sparse_categorical_crossentropy\", metrics=[\"accuracy\"])\n",
    "history = model_category.fit(\n",
    "    x_train, \n",
    "    y_train, \n",
    "    batch_size=32, \n",
    "    epochs=3, \n",
    "    validation_data=(x_test, y_test),\n",
    "    callbacks = my_callbacks\n",
    ")"
   ]
  },
  {
   "cell_type": "code",
   "execution_count": null,
   "id": "compliant-mining",
   "metadata": {},
   "outputs": [],
   "source": [
    "history_dict = history.history\n",
    "history_dict.keys()\n",
    "history_dict = history.history\n",
    "loss_values = history_dict[\"loss\"]\n",
    "val_loss_values = history_dict[\"val_loss\"]\n",
    "epochs = range(1, len(loss_values) + 1)\n",
    "plt.plot(epochs, loss_values, \"bo\", label=\"Training loss\")\n",
    "plt.plot(epochs, val_loss_values, \"b\", label=\"Validation loss\")\n",
    "plt.title(\"Training and validation loss\")\n",
    "plt.xlabel(\"Epochs\")\n",
    "plt.ylabel(\"Loss\")\n",
    "plt.legend()\n",
    "plt.show()"
   ]
  },
  {
   "cell_type": "code",
   "execution_count": 12,
   "id": "latter-secret",
   "metadata": {},
   "outputs": [
    {
     "name": "stdout",
     "output_type": "stream",
     "text": [
      "Test score: 12.088051795959473\n",
      "Test accuracy: 0.25226500630378723\n"
     ]
    }
   ],
   "source": [
    "score = model_category.evaluate(x_test, y_test, verbose=0) \n",
    "print('Test score:', score[0]) \n",
    "print('Test accuracy:', score[1])"
   ]
  },
  {
   "cell_type": "code",
   "execution_count": null,
   "id": "stuck-transportation",
   "metadata": {},
   "outputs": [],
   "source": []
  }
 ],
 "metadata": {
  "kernelspec": {
   "display_name": "Python 3",
   "language": "python",
   "name": "python3"
  },
  "language_info": {
   "codemirror_mode": {
    "name": "ipython",
    "version": 3
   },
   "file_extension": ".py",
   "mimetype": "text/x-python",
   "name": "python",
   "nbconvert_exporter": "python",
   "pygments_lexer": "ipython3",
   "version": "3.8.10"
  }
 },
 "nbformat": 4,
 "nbformat_minor": 5
}
